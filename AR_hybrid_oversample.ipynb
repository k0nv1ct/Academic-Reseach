{
  "nbformat": 4,
  "nbformat_minor": 0,
  "metadata": {
    "colab": {
      "provenance": []
    },
    "kernelspec": {
      "name": "python3",
      "display_name": "Python 3"
    },
    "language_info": {
      "name": "python"
    }
  },
  "cells": [
    {
      "cell_type": "code",
      "execution_count": 1,
      "metadata": {
        "id": "ozkP7N3_6OG0"
      },
      "outputs": [],
      "source": [
        "import pandas as pd\n",
        "from sklearn.model_selection import train_test_split\n",
        "import numpy as np\n",
        "import warnings\n",
        "from collections import Counter\n",
        "import itertools\n",
        "warnings.filterwarnings('ignore')"
      ]
    },
    {
      "cell_type": "code",
      "execution_count": 2,
      "metadata": {
        "colab": {
          "base_uri": "https://localhost:8080/"
        },
        "id": "8e2fc-qq6etJ",
        "outputId": "b1643681-be00-44da-ecfb-d1443d226175"
      },
      "outputs": [
        {
          "output_type": "stream",
          "name": "stdout",
          "text": [
            "Looking in indexes: https://pypi.org/simple, https://us-python.pkg.dev/colab-wheels/public/simple/\n",
            "Collecting catboost\n",
            "  Downloading catboost-1.2-cp310-cp310-manylinux2014_x86_64.whl (98.6 MB)\n",
            "\u001b[2K     \u001b[90m━━━━━━━━━━━━━━━━━━━━━━━━━━━━━━━━━━━━━━━━\u001b[0m \u001b[32m98.6/98.6 MB\u001b[0m \u001b[31m10.7 MB/s\u001b[0m eta \u001b[36m0:00:00\u001b[0m\n",
            "\u001b[?25hRequirement already satisfied: graphviz in /usr/local/lib/python3.10/dist-packages (from catboost) (0.20.1)\n",
            "Requirement already satisfied: matplotlib in /usr/local/lib/python3.10/dist-packages (from catboost) (3.7.1)\n",
            "Requirement already satisfied: numpy>=1.16.0 in /usr/local/lib/python3.10/dist-packages (from catboost) (1.22.4)\n",
            "Requirement already satisfied: pandas>=0.24 in /usr/local/lib/python3.10/dist-packages (from catboost) (1.5.3)\n",
            "Requirement already satisfied: scipy in /usr/local/lib/python3.10/dist-packages (from catboost) (1.10.1)\n",
            "Requirement already satisfied: plotly in /usr/local/lib/python3.10/dist-packages (from catboost) (5.13.1)\n",
            "Requirement already satisfied: six in /usr/local/lib/python3.10/dist-packages (from catboost) (1.16.0)\n",
            "Requirement already satisfied: python-dateutil>=2.8.1 in /usr/local/lib/python3.10/dist-packages (from pandas>=0.24->catboost) (2.8.2)\n",
            "Requirement already satisfied: pytz>=2020.1 in /usr/local/lib/python3.10/dist-packages (from pandas>=0.24->catboost) (2022.7.1)\n",
            "Requirement already satisfied: contourpy>=1.0.1 in /usr/local/lib/python3.10/dist-packages (from matplotlib->catboost) (1.0.7)\n",
            "Requirement already satisfied: cycler>=0.10 in /usr/local/lib/python3.10/dist-packages (from matplotlib->catboost) (0.11.0)\n",
            "Requirement already satisfied: fonttools>=4.22.0 in /usr/local/lib/python3.10/dist-packages (from matplotlib->catboost) (4.39.3)\n",
            "Requirement already satisfied: kiwisolver>=1.0.1 in /usr/local/lib/python3.10/dist-packages (from matplotlib->catboost) (1.4.4)\n",
            "Requirement already satisfied: packaging>=20.0 in /usr/local/lib/python3.10/dist-packages (from matplotlib->catboost) (23.1)\n",
            "Requirement already satisfied: pillow>=6.2.0 in /usr/local/lib/python3.10/dist-packages (from matplotlib->catboost) (8.4.0)\n",
            "Requirement already satisfied: pyparsing>=2.3.1 in /usr/local/lib/python3.10/dist-packages (from matplotlib->catboost) (3.0.9)\n",
            "Requirement already satisfied: tenacity>=6.2.0 in /usr/local/lib/python3.10/dist-packages (from plotly->catboost) (8.2.2)\n",
            "Installing collected packages: catboost\n",
            "Successfully installed catboost-1.2\n"
          ]
        }
      ],
      "source": [
        "from sklearn.linear_model import LogisticRegression\n",
        "from sklearn.metrics import accuracy_score, confusion_matrix, classification_report, roc_curve, auc\n",
        "from sklearn.model_selection import train_test_split, GridSearchCV\n",
        "from sklearn.preprocessing import OneHotEncoder\n",
        "import matplotlib.pyplot as plt\n",
        "from sklearn.preprocessing import LabelEncoder\n",
        "from sklearn.naive_bayes import GaussianNB\n",
        "from sklearn.tree import DecisionTreeClassifier\n",
        "from sklearn.ensemble import RandomForestClassifier\n",
        "from sklearn.svm import SVC\n",
        "from sklearn.neighbors import KNeighborsClassifier\n",
        "from sklearn.ensemble import GradientBoostingClassifier\n",
        "from sklearn.ensemble import AdaBoostClassifier\n",
        "from sklearn.ensemble import BaggingClassifier\n",
        "from xgboost import XGBClassifier\n",
        "import lightgbm as lgb\n",
        "!pip install catboost\n",
        "from catboost import CatBoostClassifier\n",
        "from sklearn.discriminant_analysis import LinearDiscriminantAnalysis\n",
        "from sklearn.discriminant_analysis import QuadraticDiscriminantAnalysis"
      ]
    },
    {
      "cell_type": "markdown",
      "metadata": {
        "id": "minv9syTJoft"
      },
      "source": [
        "#Classification Model definitions"
      ]
    },
    {
      "cell_type": "code",
      "execution_count": 83,
      "metadata": {
        "id": "O31HlDbv6Rxr"
      },
      "outputs": [],
      "source": [
        "class Models:\n",
        "\n",
        "  def __inint__(self, X_train, y_train, y_test, X_test):\n",
        "    self.X_train = X_train\n",
        "    self.y_train = y_train\n",
        "    self.y_test = y_test\n",
        "    self.X_test = X_test\n",
        "\n",
        "\n",
        "  def LR(self, X_train, y_train, y_test, X_test):\n",
        "    # Create a logistic regression object\n",
        "    clf = LogisticRegression(random_state=0)\n",
        "    # Train the model on the training data\n",
        "    clf.fit(X_train, y_train)\n",
        "    # Predict the classes of the testing data\n",
        "    y_pred = clf.predict(X_test)\n",
        "    # Evaluate the model performance\n",
        "    acc = accuracy_score(y_test, y_pred)\n",
        "    print('Accuracy:', acc)\n",
        "    cm = confusion_matrix(y_test, y_pred)\n",
        "    print('Confusion Matrix:\\n', cm)\n",
        "    cr = classification_report(y_test, y_pred)\n",
        "    print('Classification Report:\\n', cr)\n",
        "\n",
        "  def GNB(self, X_train, y_train, y_test, X_test):\n",
        "    gnb = GaussianNB()\n",
        "    gnb.fit(X_train, y_train)\n",
        "    y_pred = gnb.predict(X_test)\n",
        "    acc = accuracy_score(y_test, y_pred)\n",
        "    print('Accuracy:', acc)\n",
        "    cm = confusion_matrix(y_test, y_pred)\n",
        "    print('Confusion Matrix:\\n', cm)\n",
        "    cr = classification_report(y_test, y_pred)\n",
        "    print('Classification Report:\\n', cr)\n",
        "    return gnb\n",
        "\n",
        "  def DT(self, X_train, y_train, y_test, X_test):\n",
        "    dt = DecisionTreeClassifier(random_state=42,max_depth=2)\n",
        "    dt.fit(X_train, y_train)\n",
        "    y_pred = dt.predict(X_test)\n",
        "    acc = accuracy_score(y_test, y_pred)\n",
        "    print('Accuracy:', acc)\n",
        "    cm = confusion_matrix(y_test, y_pred)\n",
        "    print('Confusion Matrix:\\n', cm)\n",
        "    cr = classification_report(y_test, y_pred)\n",
        "    print('Classification Report:\\n', cr)\n",
        "\n",
        "  def RF(self, X_train, y_train, y_test, X_test):\n",
        "    rfc = RandomForestClassifier(n_estimators=1, random_state=0,max_depth=2)\n",
        "    rfc.fit(X_train, y_train)\n",
        "    y_pred = rfc.predict(X_test)\n",
        "    acc = accuracy_score(y_test, y_pred)\n",
        "    print('Accuracy:', acc)\n",
        "    cm = confusion_matrix(y_test, y_pred)\n",
        "    print('Confusion Matrix:\\n', cm)\n",
        "    cr = classification_report(y_test, y_pred)\n",
        "    print('Classification Report:\\n', cr)\n",
        "\n",
        "  def SVC(self, X_train, y_train, y_test, X_test):\n",
        "    # Create an SVM object\n",
        "    svc = SVC(random_state=0)\n",
        "    svc.fit(X_train, y_train)\n",
        "    # Predict the classes of the testing data\n",
        "    y_pred = svc.predict(X_test)\n",
        "    # Evaluate the model performance\n",
        "    acc = accuracy_score(y_test, y_pred)\n",
        "    print('Accuracy:', acc)\n",
        "\n",
        "    cm = confusion_matrix(y_test, y_pred)\n",
        "    print('Confusion Matrix:\\n', cm)\n",
        "\n",
        "    cr = classification_report(y_test, y_pred)\n",
        "    print('Classification Report:\\n', cr)\n",
        "\n",
        "  def KNN(self, X_train, y_train, y_test, X_test):\n",
        "    # Create a KNN object\n",
        "    knn = KNeighborsClassifier(n_neighbors=65)\n",
        "    knn.fit(X_train, y_train)\n",
        "    # Predict the classes of the testing data\n",
        "    y_pred = knn.predict(X_test)\n",
        "    # Evaluate the model performance\n",
        "    acc = accuracy_score(y_test, y_pred)\n",
        "    print('Accuracy:', acc)\n",
        "\n",
        "    cm = confusion_matrix(y_test, y_pred)\n",
        "    print('Confusion Matrix:\\n', cm)\n",
        "\n",
        "    cr = classification_report(y_test, y_pred)\n",
        "    print('Classification Report:\\n', cr)\n",
        "\n",
        "\n",
        "  def GB(self, X_train, y_train, y_test, X_test):\n",
        "      # Create a Gradient Boosting object\n",
        "      gb = GradientBoostingClassifier(random_state=0)\n",
        "\n",
        "      # Hyperparameters to control accuracy\n",
        "      n_estimators = 40\n",
        "      learning_rate = 0.001\n",
        "      max_depth = 2\n",
        "\n",
        "      gb.set_params(n_estimators=n_estimators, learning_rate=learning_rate, max_depth=max_depth)\n",
        "\n",
        "      gb.fit(X_train, y_train)\n",
        "\n",
        "      # Predict the classes of the testing data\n",
        "      y_pred = gb.predict(X_test)\n",
        "\n",
        "      # Evaluate the model performance\n",
        "      acc = accuracy_score(y_test, y_pred)\n",
        "      print('Accuracy:', acc)\n",
        "\n",
        "      cm = confusion_matrix(y_test, y_pred)\n",
        "      print('Confusion Matrix:\\n', cm)\n",
        "\n",
        "      cr = classification_report(y_test, y_pred)\n",
        "      print('Classification Report:\\n', cr)\n",
        "\n",
        "\n",
        "  def ADAB(self, X_train, y_train, y_test, X_test):\n",
        "    # Create an AdaBoost object\n",
        "    ada = AdaBoostClassifier(random_state=0)\n",
        "    ada.fit(X_train, y_train)\n",
        "    # Predict the classes of the testing data\n",
        "    y_pred = ada.predict(X_test)\n",
        "    # Evaluate the model performance\n",
        "    acc = accuracy_score(y_test, y_pred)\n",
        "    print('Accuracy:', acc)\n",
        "\n",
        "    cm = confusion_matrix(y_test, y_pred)\n",
        "    print('Confusion Matrix:\\n', cm)\n",
        "\n",
        "    cr = classification_report(y_test, y_pred)\n",
        "    print('Classification Report:\\n', cr)\n",
        "\n",
        "  def BAG(self, X_train, y_train, y_test, X_test):\n",
        "    # Usage example\n",
        "    tree_max_depth = 2  # Adjust the max depth of the decision tree as desired (or set it to None for unlimited depth)\n",
        "    n_estimators = 40\n",
        "    # Create a Decision Tree object with specified max_depth (if desired)\n",
        "    tree = DecisionTreeClassifier(max_depth=tree_max_depth, random_state=0)\n",
        "\n",
        "    # Create a Bagging object with specified number of estimators\n",
        "    bag = BaggingClassifier(tree, n_estimators=n_estimators, random_state=0)\n",
        "    bag.fit(X_train, y_train)\n",
        "\n",
        "    # Predict the classes of the testing data\n",
        "    y_pred = bag.predict(X_test)\n",
        "    # Evaluate the model performance\n",
        "    acc = accuracy_score(y_test, y_pred)\n",
        "    print('Accuracy:', acc)\n",
        "\n",
        "    cm = confusion_matrix(y_test, y_pred)\n",
        "    print('Confusion Matrix:\\n', cm)\n",
        "\n",
        "    cr = classification_report(y_test, y_pred)\n",
        "    print('Classification Report:\\n', cr)\n",
        "\n",
        "\n",
        "  def XGB(self, X_train, y_train, y_test, X_test):\n",
        "        # Usage example\n",
        "    max_depth = 1  # Adjust the maximum depth of each tree in the XGBoost model\n",
        "    learning_rate = 0.001  # Adjust the learning rate of the XGBoost model\n",
        "    n_estimators = 40\n",
        "    # Create an XGBoost object with specified hyperparameters\n",
        "    xgb = XGBClassifier(max_depth=max_depth, learning_rate=learning_rate, n_estimators=n_estimators, random_state=0)\n",
        "    xgb.fit(X_train, y_train)\n",
        "    \n",
        "    # Predict the classes of the testing data\n",
        "    y_pred = xgb.predict(X_test)\n",
        "    \n",
        "    # Evaluate the model performance\n",
        "    acc = accuracy_score(y_test, y_pred)\n",
        "    print('Accuracy:', acc)\n",
        "\n",
        "    cm = confusion_matrix(y_test, y_pred)\n",
        "    print('Confusion Matrix:\\n', cm)\n",
        "\n",
        "    cr = classification_report(y_test, y_pred)\n",
        "    print('Classification Report:\\n', cr)\n",
        "\n",
        "\n",
        "\n",
        "\n",
        "  def LGB(self, X_train, y_train, y_test, X_test):\n",
        "      # Create a LightGBM object\n",
        "      lgbm = lgb.LGBMClassifier(random_state=0)\n",
        "      lgbm.fit(X_train, y_train)\n",
        "\n",
        "      # Predict the probabilities of the testing data\n",
        "      y_pred_prob = lgbm.predict_proba(X_test)\n",
        "      threshold=0.55\n",
        "      # Apply the threshold to convert probabilities to class labels\n",
        "      y_pred = np.where(y_pred_prob[:, 1] >= threshold, 1, 0)\n",
        "\n",
        "      # Evaluate the model performance\n",
        "      acc = accuracy_score(y_test, y_pred)\n",
        "      print('Accuracy:', acc)\n",
        "\n",
        "      cm = confusion_matrix(y_test, y_pred)\n",
        "      print('Confusion Matrix:\\n', cm)\n",
        "\n",
        "      cr = classification_report(y_test, y_pred)\n",
        "      print('Classification Report:\\n', cr)\n",
        "\n",
        "  def CB(self, X_train, y_train, y_test, X_test):\n",
        "      cat = CatBoostClassifier(random_state=0, verbose=0)\n",
        "    \n",
        "      # Hyperparameters to control accuracy\n",
        "      n_estimators = 40\n",
        "      learning_rate = 0.01\n",
        "      depth = 3\n",
        "    \n",
        "      cat.set_params(n_estimators=n_estimators, learning_rate=learning_rate, depth=depth)\n",
        "    \n",
        "      cat.fit(X_train, y_train)\n",
        "\n",
        "      # Predict the classes of the testing data\n",
        "      y_pred = cat.predict(X_test)\n",
        "\n",
        "      # Evaluate the model performance\n",
        "      acc = accuracy_score(y_test, y_pred)\n",
        "      print('Accuracy:', acc)\n",
        "\n",
        "      cm = confusion_matrix(y_test, y_pred)\n",
        "      print('Confusion Matrix:\\n', cm)\n",
        "\n",
        "      cr = classification_report(y_test, y_pred)\n",
        "      print('Classification Report:\\n', cr)\n",
        "\n",
        "  def LDA(self, X_train, y_train, y_test, X_test):\n",
        "    # Create a LinearDiscriminantAnalysis object and fit the model to the training data\n",
        "    lda = LinearDiscriminantAnalysis()\n",
        "    lda.fit(X_train, y_train)\n",
        "    # Predict the classes of the testing data\n",
        "    y_pred = lda.predict(X_test)\n",
        "\n",
        "    # Evaluate the model performance\n",
        "    acc = accuracy_score(y_test, y_pred)\n",
        "    print('Accuracy:', acc)\n",
        "\n",
        "    cm = confusion_matrix(y_test, y_pred)\n",
        "    print('Confusion Matrix:\\n', cm)\n",
        "\n",
        "    cr = classification_report(y_test, y_pred)\n",
        "    print('Classification Report:\\n', cr)\n",
        "    return lda\n",
        "\n",
        "  def QDA(self, X_train, y_train, y_test, X_test):\n",
        "    #Create a QuadraticDiscriminantAnalysis object\n",
        "    qda = QuadraticDiscriminantAnalysis()\n",
        "    #Train the model on the training data\n",
        "    qda.fit(X_train, y_train)\n",
        "\n",
        "    #Predict the classes of the testing data\n",
        "    y_pred = qda.predict(X_test)\n",
        "    #Evaluate the model performance\n",
        "    acc = accuracy_score(y_test, y_pred)\n",
        "    print('Accuracy:', acc)\n",
        "\n",
        "    cm = confusion_matrix(y_test, y_pred)\n",
        "    print('Confusion Matrix:\\n', cm)\n",
        "\n",
        "    cr = classification_report(y_test, y_pred)\n",
        "    print('Classification Report:\\n', cr)\n",
        "\n",
        "\n",
        "    return qda\n"
      ]
    },
    {
      "cell_type": "code",
      "execution_count": 84,
      "metadata": {
        "id": "LLqWBjE8RpQ6"
      },
      "outputs": [],
      "source": [
        "#Making object of the class Models\n",
        "model = Models()"
      ]
    },
    {
      "cell_type": "code",
      "execution_count": 5,
      "metadata": {
        "id": "GGWLgJLfKY58"
      },
      "outputs": [],
      "source": [
        "\n",
        "def preprocess(df,target):\n",
        "  # Split the data into input features (X) and target variable (y)\n",
        "  X = df.drop(target, axis=1)  # Input features\n",
        "  y = df[target]  # Target variable\n",
        "  # Convert the target variable to numeric values using label encoding\n",
        "  le = LabelEncoder()\n",
        "  y = le.fit_transform(y)\n",
        "  cat_cols = X.select_dtypes(include=['category','object']).columns.tolist()\n",
        "\n",
        "  print(cat_cols)\n",
        "  # Convert categorical features into numerical values using one-hot encoding\n",
        "  categorical_cols = cat_cols\n",
        "  ohe = OneHotEncoder(handle_unknown='ignore', sparse=False)\n",
        "  X_cat = pd.DataFrame(ohe.fit_transform(X[categorical_cols]))\n",
        "  X_cat.columns = ohe.get_feature_names_out(categorical_cols)\n",
        "  X_num = X.drop(categorical_cols, axis=1)\n",
        "  X = pd.concat([X_num, X_cat], axis=1)\n",
        "  # Split data into training and testing sets\n",
        "  X_train, X_test, y_train, y_test = train_test_split(X, y, test_size=0.2, random_state=0)\n",
        "  print(\"Shape of training split: \", X_train.shape)\n",
        "  print(\"Shape of test split: \", X_test.shape)\n",
        "\n",
        "  return X_train, X_test, y_train, y_test,X,categorical_cols,ohe,le"
      ]
    },
    {
      "cell_type": "code",
      "source": [
        "sem4=pd.read_csv('/content/sem4new.csv')"
      ],
      "metadata": {
        "id": "O6rDznKZ4SlG"
      },
      "execution_count": 6,
      "outputs": []
    },
    {
      "cell_type": "code",
      "source": [
        "sem4\n"
      ],
      "metadata": {
        "colab": {
          "base_uri": "https://localhost:8080/",
          "height": 424
        },
        "id": "TnS0CoGQ40Gm",
        "outputId": "70f5095d-92d6-43b2-e540-abefc81b182a"
      },
      "execution_count": 7,
      "outputs": [
        {
          "output_type": "execute_result",
          "data": {
            "text/plain": [
              "      0   1   2  3    4   5   6   7  8   9  ...  54  55  56   57     58  59  \\\n",
              "0    36  24  24  0   84   A   8  32  P  40  ...  10  30   P  529  66.13   0   \n",
              "1    29  29  19  0   77   A   8  32  P  30  ...  10  30   P  566  70.75   0   \n",
              "2    37  30  24  0   91  A+   9  36  P  49  ...  10  30   P  633  79.13   0   \n",
              "3    61  30  25  0  116   O  10  40  P  38  ...  10  30   P  645  80.63   0   \n",
              "4    55  25  13  0   93  A+   9  36  P  37  ...   9  27   P  565  70.63   0   \n",
              "..   ..  ..  .. ..  ...  ..  ..  .. ..  ..  ...  ..  ..  ..  ...    ...  ..   \n",
              "395  46  26  24  0   96  A+   9  36  P  46  ...  10  30   P  698  87.25   0   \n",
              "396  28  29  18  0   75   A   8  32  P  29  ...  10  30   P  558  69.75   0   \n",
              "397  28  19  18  0   65   B   6  24  P  28  ...  10  30   P  497  62.13   0   \n",
              "398  56  23  22  0  101   O  10  40  P  45  ...   9  27   P  591  73.88   0   \n",
              "399  45  15  16  0   76   A   8  32  P  34  ...   7  21   P  505  63.13   0   \n",
              "\n",
              "      60    61     62  63  \n",
              "0    207  8.28   Pass   A  \n",
              "1    216  8.64   Pass  A+  \n",
              "2    233  9.32   Pass  A+  \n",
              "3    237  9.48   Pass  A+  \n",
              "4    217  8.68   Pass  A+  \n",
              "..   ...   ...    ...  ..  \n",
              "395  242  9.68   Pass   O  \n",
              "396  216  8.64   Pass  A+  \n",
              "397  166  6.64   Fail  B+  \n",
              "398  221  8.84   Pass  A+  \n",
              "399  196  7.84   Pass   A  \n",
              "\n",
              "[400 rows x 64 columns]"
            ],
            "text/html": [
              "\n",
              "  <div id=\"df-6a4bb47e-82be-4828-98a2-38d4538ad87e\">\n",
              "    <div class=\"colab-df-container\">\n",
              "      <div>\n",
              "<style scoped>\n",
              "    .dataframe tbody tr th:only-of-type {\n",
              "        vertical-align: middle;\n",
              "    }\n",
              "\n",
              "    .dataframe tbody tr th {\n",
              "        vertical-align: top;\n",
              "    }\n",
              "\n",
              "    .dataframe thead th {\n",
              "        text-align: right;\n",
              "    }\n",
              "</style>\n",
              "<table border=\"1\" class=\"dataframe\">\n",
              "  <thead>\n",
              "    <tr style=\"text-align: right;\">\n",
              "      <th></th>\n",
              "      <th>0</th>\n",
              "      <th>1</th>\n",
              "      <th>2</th>\n",
              "      <th>3</th>\n",
              "      <th>4</th>\n",
              "      <th>5</th>\n",
              "      <th>6</th>\n",
              "      <th>7</th>\n",
              "      <th>8</th>\n",
              "      <th>9</th>\n",
              "      <th>...</th>\n",
              "      <th>54</th>\n",
              "      <th>55</th>\n",
              "      <th>56</th>\n",
              "      <th>57</th>\n",
              "      <th>58</th>\n",
              "      <th>59</th>\n",
              "      <th>60</th>\n",
              "      <th>61</th>\n",
              "      <th>62</th>\n",
              "      <th>63</th>\n",
              "    </tr>\n",
              "  </thead>\n",
              "  <tbody>\n",
              "    <tr>\n",
              "      <th>0</th>\n",
              "      <td>36</td>\n",
              "      <td>24</td>\n",
              "      <td>24</td>\n",
              "      <td>0</td>\n",
              "      <td>84</td>\n",
              "      <td>A</td>\n",
              "      <td>8</td>\n",
              "      <td>32</td>\n",
              "      <td>P</td>\n",
              "      <td>40</td>\n",
              "      <td>...</td>\n",
              "      <td>10</td>\n",
              "      <td>30</td>\n",
              "      <td>P</td>\n",
              "      <td>529</td>\n",
              "      <td>66.13</td>\n",
              "      <td>0</td>\n",
              "      <td>207</td>\n",
              "      <td>8.28</td>\n",
              "      <td>Pass</td>\n",
              "      <td>A</td>\n",
              "    </tr>\n",
              "    <tr>\n",
              "      <th>1</th>\n",
              "      <td>29</td>\n",
              "      <td>29</td>\n",
              "      <td>19</td>\n",
              "      <td>0</td>\n",
              "      <td>77</td>\n",
              "      <td>A</td>\n",
              "      <td>8</td>\n",
              "      <td>32</td>\n",
              "      <td>P</td>\n",
              "      <td>30</td>\n",
              "      <td>...</td>\n",
              "      <td>10</td>\n",
              "      <td>30</td>\n",
              "      <td>P</td>\n",
              "      <td>566</td>\n",
              "      <td>70.75</td>\n",
              "      <td>0</td>\n",
              "      <td>216</td>\n",
              "      <td>8.64</td>\n",
              "      <td>Pass</td>\n",
              "      <td>A+</td>\n",
              "    </tr>\n",
              "    <tr>\n",
              "      <th>2</th>\n",
              "      <td>37</td>\n",
              "      <td>30</td>\n",
              "      <td>24</td>\n",
              "      <td>0</td>\n",
              "      <td>91</td>\n",
              "      <td>A+</td>\n",
              "      <td>9</td>\n",
              "      <td>36</td>\n",
              "      <td>P</td>\n",
              "      <td>49</td>\n",
              "      <td>...</td>\n",
              "      <td>10</td>\n",
              "      <td>30</td>\n",
              "      <td>P</td>\n",
              "      <td>633</td>\n",
              "      <td>79.13</td>\n",
              "      <td>0</td>\n",
              "      <td>233</td>\n",
              "      <td>9.32</td>\n",
              "      <td>Pass</td>\n",
              "      <td>A+</td>\n",
              "    </tr>\n",
              "    <tr>\n",
              "      <th>3</th>\n",
              "      <td>61</td>\n",
              "      <td>30</td>\n",
              "      <td>25</td>\n",
              "      <td>0</td>\n",
              "      <td>116</td>\n",
              "      <td>O</td>\n",
              "      <td>10</td>\n",
              "      <td>40</td>\n",
              "      <td>P</td>\n",
              "      <td>38</td>\n",
              "      <td>...</td>\n",
              "      <td>10</td>\n",
              "      <td>30</td>\n",
              "      <td>P</td>\n",
              "      <td>645</td>\n",
              "      <td>80.63</td>\n",
              "      <td>0</td>\n",
              "      <td>237</td>\n",
              "      <td>9.48</td>\n",
              "      <td>Pass</td>\n",
              "      <td>A+</td>\n",
              "    </tr>\n",
              "    <tr>\n",
              "      <th>4</th>\n",
              "      <td>55</td>\n",
              "      <td>25</td>\n",
              "      <td>13</td>\n",
              "      <td>0</td>\n",
              "      <td>93</td>\n",
              "      <td>A+</td>\n",
              "      <td>9</td>\n",
              "      <td>36</td>\n",
              "      <td>P</td>\n",
              "      <td>37</td>\n",
              "      <td>...</td>\n",
              "      <td>9</td>\n",
              "      <td>27</td>\n",
              "      <td>P</td>\n",
              "      <td>565</td>\n",
              "      <td>70.63</td>\n",
              "      <td>0</td>\n",
              "      <td>217</td>\n",
              "      <td>8.68</td>\n",
              "      <td>Pass</td>\n",
              "      <td>A+</td>\n",
              "    </tr>\n",
              "    <tr>\n",
              "      <th>...</th>\n",
              "      <td>...</td>\n",
              "      <td>...</td>\n",
              "      <td>...</td>\n",
              "      <td>...</td>\n",
              "      <td>...</td>\n",
              "      <td>...</td>\n",
              "      <td>...</td>\n",
              "      <td>...</td>\n",
              "      <td>...</td>\n",
              "      <td>...</td>\n",
              "      <td>...</td>\n",
              "      <td>...</td>\n",
              "      <td>...</td>\n",
              "      <td>...</td>\n",
              "      <td>...</td>\n",
              "      <td>...</td>\n",
              "      <td>...</td>\n",
              "      <td>...</td>\n",
              "      <td>...</td>\n",
              "      <td>...</td>\n",
              "      <td>...</td>\n",
              "    </tr>\n",
              "    <tr>\n",
              "      <th>395</th>\n",
              "      <td>46</td>\n",
              "      <td>26</td>\n",
              "      <td>24</td>\n",
              "      <td>0</td>\n",
              "      <td>96</td>\n",
              "      <td>A+</td>\n",
              "      <td>9</td>\n",
              "      <td>36</td>\n",
              "      <td>P</td>\n",
              "      <td>46</td>\n",
              "      <td>...</td>\n",
              "      <td>10</td>\n",
              "      <td>30</td>\n",
              "      <td>P</td>\n",
              "      <td>698</td>\n",
              "      <td>87.25</td>\n",
              "      <td>0</td>\n",
              "      <td>242</td>\n",
              "      <td>9.68</td>\n",
              "      <td>Pass</td>\n",
              "      <td>O</td>\n",
              "    </tr>\n",
              "    <tr>\n",
              "      <th>396</th>\n",
              "      <td>28</td>\n",
              "      <td>29</td>\n",
              "      <td>18</td>\n",
              "      <td>0</td>\n",
              "      <td>75</td>\n",
              "      <td>A</td>\n",
              "      <td>8</td>\n",
              "      <td>32</td>\n",
              "      <td>P</td>\n",
              "      <td>29</td>\n",
              "      <td>...</td>\n",
              "      <td>10</td>\n",
              "      <td>30</td>\n",
              "      <td>P</td>\n",
              "      <td>558</td>\n",
              "      <td>69.75</td>\n",
              "      <td>0</td>\n",
              "      <td>216</td>\n",
              "      <td>8.64</td>\n",
              "      <td>Pass</td>\n",
              "      <td>A+</td>\n",
              "    </tr>\n",
              "    <tr>\n",
              "      <th>397</th>\n",
              "      <td>28</td>\n",
              "      <td>19</td>\n",
              "      <td>18</td>\n",
              "      <td>0</td>\n",
              "      <td>65</td>\n",
              "      <td>B</td>\n",
              "      <td>6</td>\n",
              "      <td>24</td>\n",
              "      <td>P</td>\n",
              "      <td>28</td>\n",
              "      <td>...</td>\n",
              "      <td>10</td>\n",
              "      <td>30</td>\n",
              "      <td>P</td>\n",
              "      <td>497</td>\n",
              "      <td>62.13</td>\n",
              "      <td>0</td>\n",
              "      <td>166</td>\n",
              "      <td>6.64</td>\n",
              "      <td>Fail</td>\n",
              "      <td>B+</td>\n",
              "    </tr>\n",
              "    <tr>\n",
              "      <th>398</th>\n",
              "      <td>56</td>\n",
              "      <td>23</td>\n",
              "      <td>22</td>\n",
              "      <td>0</td>\n",
              "      <td>101</td>\n",
              "      <td>O</td>\n",
              "      <td>10</td>\n",
              "      <td>40</td>\n",
              "      <td>P</td>\n",
              "      <td>45</td>\n",
              "      <td>...</td>\n",
              "      <td>9</td>\n",
              "      <td>27</td>\n",
              "      <td>P</td>\n",
              "      <td>591</td>\n",
              "      <td>73.88</td>\n",
              "      <td>0</td>\n",
              "      <td>221</td>\n",
              "      <td>8.84</td>\n",
              "      <td>Pass</td>\n",
              "      <td>A+</td>\n",
              "    </tr>\n",
              "    <tr>\n",
              "      <th>399</th>\n",
              "      <td>45</td>\n",
              "      <td>15</td>\n",
              "      <td>16</td>\n",
              "      <td>0</td>\n",
              "      <td>76</td>\n",
              "      <td>A</td>\n",
              "      <td>8</td>\n",
              "      <td>32</td>\n",
              "      <td>P</td>\n",
              "      <td>34</td>\n",
              "      <td>...</td>\n",
              "      <td>7</td>\n",
              "      <td>21</td>\n",
              "      <td>P</td>\n",
              "      <td>505</td>\n",
              "      <td>63.13</td>\n",
              "      <td>0</td>\n",
              "      <td>196</td>\n",
              "      <td>7.84</td>\n",
              "      <td>Pass</td>\n",
              "      <td>A</td>\n",
              "    </tr>\n",
              "  </tbody>\n",
              "</table>\n",
              "<p>400 rows × 64 columns</p>\n",
              "</div>\n",
              "      <button class=\"colab-df-convert\" onclick=\"convertToInteractive('df-6a4bb47e-82be-4828-98a2-38d4538ad87e')\"\n",
              "              title=\"Convert this dataframe to an interactive table.\"\n",
              "              style=\"display:none;\">\n",
              "        \n",
              "  <svg xmlns=\"http://www.w3.org/2000/svg\" height=\"24px\"viewBox=\"0 0 24 24\"\n",
              "       width=\"24px\">\n",
              "    <path d=\"M0 0h24v24H0V0z\" fill=\"none\"/>\n",
              "    <path d=\"M18.56 5.44l.94 2.06.94-2.06 2.06-.94-2.06-.94-.94-2.06-.94 2.06-2.06.94zm-11 1L8.5 8.5l.94-2.06 2.06-.94-2.06-.94L8.5 2.5l-.94 2.06-2.06.94zm10 10l.94 2.06.94-2.06 2.06-.94-2.06-.94-.94-2.06-.94 2.06-2.06.94z\"/><path d=\"M17.41 7.96l-1.37-1.37c-.4-.4-.92-.59-1.43-.59-.52 0-1.04.2-1.43.59L10.3 9.45l-7.72 7.72c-.78.78-.78 2.05 0 2.83L4 21.41c.39.39.9.59 1.41.59.51 0 1.02-.2 1.41-.59l7.78-7.78 2.81-2.81c.8-.78.8-2.07 0-2.86zM5.41 20L4 18.59l7.72-7.72 1.47 1.35L5.41 20z\"/>\n",
              "  </svg>\n",
              "      </button>\n",
              "      \n",
              "  <style>\n",
              "    .colab-df-container {\n",
              "      display:flex;\n",
              "      flex-wrap:wrap;\n",
              "      gap: 12px;\n",
              "    }\n",
              "\n",
              "    .colab-df-convert {\n",
              "      background-color: #E8F0FE;\n",
              "      border: none;\n",
              "      border-radius: 50%;\n",
              "      cursor: pointer;\n",
              "      display: none;\n",
              "      fill: #1967D2;\n",
              "      height: 32px;\n",
              "      padding: 0 0 0 0;\n",
              "      width: 32px;\n",
              "    }\n",
              "\n",
              "    .colab-df-convert:hover {\n",
              "      background-color: #E2EBFA;\n",
              "      box-shadow: 0px 1px 2px rgba(60, 64, 67, 0.3), 0px 1px 3px 1px rgba(60, 64, 67, 0.15);\n",
              "      fill: #174EA6;\n",
              "    }\n",
              "\n",
              "    [theme=dark] .colab-df-convert {\n",
              "      background-color: #3B4455;\n",
              "      fill: #D2E3FC;\n",
              "    }\n",
              "\n",
              "    [theme=dark] .colab-df-convert:hover {\n",
              "      background-color: #434B5C;\n",
              "      box-shadow: 0px 1px 3px 1px rgba(0, 0, 0, 0.15);\n",
              "      filter: drop-shadow(0px 1px 2px rgba(0, 0, 0, 0.3));\n",
              "      fill: #FFFFFF;\n",
              "    }\n",
              "  </style>\n",
              "\n",
              "      <script>\n",
              "        const buttonEl =\n",
              "          document.querySelector('#df-6a4bb47e-82be-4828-98a2-38d4538ad87e button.colab-df-convert');\n",
              "        buttonEl.style.display =\n",
              "          google.colab.kernel.accessAllowed ? 'block' : 'none';\n",
              "\n",
              "        async function convertToInteractive(key) {\n",
              "          const element = document.querySelector('#df-6a4bb47e-82be-4828-98a2-38d4538ad87e');\n",
              "          const dataTable =\n",
              "            await google.colab.kernel.invokeFunction('convertToInteractive',\n",
              "                                                     [key], {});\n",
              "          if (!dataTable) return;\n",
              "\n",
              "          const docLinkHtml = 'Like what you see? Visit the ' +\n",
              "            '<a target=\"_blank\" href=https://colab.research.google.com/notebooks/data_table.ipynb>data table notebook</a>'\n",
              "            + ' to learn more about interactive tables.';\n",
              "          element.innerHTML = '';\n",
              "          dataTable['output_type'] = 'display_data';\n",
              "          await google.colab.output.renderOutput(dataTable, element);\n",
              "          const docLink = document.createElement('div');\n",
              "          docLink.innerHTML = docLinkHtml;\n",
              "          element.appendChild(docLink);\n",
              "        }\n",
              "      </script>\n",
              "    </div>\n",
              "  </div>\n",
              "  "
            ]
          },
          "metadata": {},
          "execution_count": 7
        }
      ]
    },
    {
      "cell_type": "code",
      "source": [
        "sem4.isna().sum()"
      ],
      "metadata": {
        "colab": {
          "base_uri": "https://localhost:8080/"
        },
        "id": "bLcIxk194uuT",
        "outputId": "a9770f1c-1991-41ae-b709-2ac6cbf14b7c"
      },
      "execution_count": 8,
      "outputs": [
        {
          "output_type": "execute_result",
          "data": {
            "text/plain": [
              "0     0\n",
              "1     0\n",
              "2     0\n",
              "3     0\n",
              "4     0\n",
              "     ..\n",
              "59    0\n",
              "60    0\n",
              "61    0\n",
              "62    0\n",
              "63    0\n",
              "Length: 64, dtype: int64"
            ]
          },
          "metadata": {},
          "execution_count": 8
        }
      ]
    },
    {
      "cell_type": "code",
      "source": [
        "import pandas as pd\n",
        "from sklearn.preprocessing import LabelEncoder\n",
        "\n",
        "# Assuming your dataset is in a pandas DataFrame called 'df'\n",
        "categorical_columns = sem4.select_dtypes(include=['object']).columns\n",
        "\n",
        "label_encoder = LabelEncoder()\n",
        "\n",
        "for column in categorical_columns:\n",
        "    sem4[column] = label_encoder.fit_transform(sem4[column])\n",
        "\n",
        "# The categorical columns have been label encoded in place\n"
      ],
      "metadata": {
        "id": "l7dOh9TWe8nv"
      },
      "execution_count": 9,
      "outputs": []
    },
    {
      "cell_type": "code",
      "source": [
        "df3=sem4"
      ],
      "metadata": {
        "id": "bHHJtSsYfe-J"
      },
      "execution_count": 10,
      "outputs": []
    },
    {
      "cell_type": "code",
      "source": [
        "sem4"
      ],
      "metadata": {
        "colab": {
          "base_uri": "https://localhost:8080/",
          "height": 424
        },
        "id": "4A9lJ4BU4bno",
        "outputId": "7abd431b-0991-4587-9e87-6f508a7a79ed"
      },
      "execution_count": 11,
      "outputs": [
        {
          "output_type": "execute_result",
          "data": {
            "text/plain": [
              "      0   1   2  3    4  5   6   7  8   9  ...  54  55  56   57     58  59  \\\n",
              "0    36  24  24  0   84  0   8  32  1  40  ...  10  30   0  529  66.13   0   \n",
              "1    29  29  19  0   77  0   8  32  1  30  ...  10  30   0  566  70.75   0   \n",
              "2    37  30  24  0   91  1   9  36  1  49  ...  10  30   0  633  79.13   0   \n",
              "3    61  30  25  0  116  7  10  40  1  38  ...  10  30   0  645  80.63   0   \n",
              "4    55  25  13  0   93  1   9  36  1  37  ...   9  27   0  565  70.63   0   \n",
              "..   ..  ..  .. ..  ... ..  ..  .. ..  ..  ...  ..  ..  ..  ...    ...  ..   \n",
              "395  46  26  24  0   96  1   9  36  1  46  ...  10  30   0  698  87.25   0   \n",
              "396  28  29  18  0   75  0   8  32  1  29  ...  10  30   0  558  69.75   0   \n",
              "397  28  19  18  0   65  2   6  24  1  28  ...  10  30   0  497  62.13   0   \n",
              "398  56  23  22  0  101  7  10  40  1  45  ...   9  27   0  591  73.88   0   \n",
              "399  45  15  16  0   76  0   8  32  1  34  ...   7  21   0  505  63.13   0   \n",
              "\n",
              "      60    61  62  63  \n",
              "0    207  8.28   0   0  \n",
              "1    216  8.64   0   1  \n",
              "2    233  9.32   0   1  \n",
              "3    237  9.48   0   1  \n",
              "4    217  8.68   0   1  \n",
              "..   ...   ...  ..  ..  \n",
              "395  242  9.68   2   7  \n",
              "396  216  8.64   2   1  \n",
              "397  166  6.64   1   3  \n",
              "398  221  8.84   2   1  \n",
              "399  196  7.84   2   0  \n",
              "\n",
              "[400 rows x 64 columns]"
            ],
            "text/html": [
              "\n",
              "  <div id=\"df-f430bd94-b6c2-4978-af92-23da0b0baca4\">\n",
              "    <div class=\"colab-df-container\">\n",
              "      <div>\n",
              "<style scoped>\n",
              "    .dataframe tbody tr th:only-of-type {\n",
              "        vertical-align: middle;\n",
              "    }\n",
              "\n",
              "    .dataframe tbody tr th {\n",
              "        vertical-align: top;\n",
              "    }\n",
              "\n",
              "    .dataframe thead th {\n",
              "        text-align: right;\n",
              "    }\n",
              "</style>\n",
              "<table border=\"1\" class=\"dataframe\">\n",
              "  <thead>\n",
              "    <tr style=\"text-align: right;\">\n",
              "      <th></th>\n",
              "      <th>0</th>\n",
              "      <th>1</th>\n",
              "      <th>2</th>\n",
              "      <th>3</th>\n",
              "      <th>4</th>\n",
              "      <th>5</th>\n",
              "      <th>6</th>\n",
              "      <th>7</th>\n",
              "      <th>8</th>\n",
              "      <th>9</th>\n",
              "      <th>...</th>\n",
              "      <th>54</th>\n",
              "      <th>55</th>\n",
              "      <th>56</th>\n",
              "      <th>57</th>\n",
              "      <th>58</th>\n",
              "      <th>59</th>\n",
              "      <th>60</th>\n",
              "      <th>61</th>\n",
              "      <th>62</th>\n",
              "      <th>63</th>\n",
              "    </tr>\n",
              "  </thead>\n",
              "  <tbody>\n",
              "    <tr>\n",
              "      <th>0</th>\n",
              "      <td>36</td>\n",
              "      <td>24</td>\n",
              "      <td>24</td>\n",
              "      <td>0</td>\n",
              "      <td>84</td>\n",
              "      <td>0</td>\n",
              "      <td>8</td>\n",
              "      <td>32</td>\n",
              "      <td>1</td>\n",
              "      <td>40</td>\n",
              "      <td>...</td>\n",
              "      <td>10</td>\n",
              "      <td>30</td>\n",
              "      <td>0</td>\n",
              "      <td>529</td>\n",
              "      <td>66.13</td>\n",
              "      <td>0</td>\n",
              "      <td>207</td>\n",
              "      <td>8.28</td>\n",
              "      <td>0</td>\n",
              "      <td>0</td>\n",
              "    </tr>\n",
              "    <tr>\n",
              "      <th>1</th>\n",
              "      <td>29</td>\n",
              "      <td>29</td>\n",
              "      <td>19</td>\n",
              "      <td>0</td>\n",
              "      <td>77</td>\n",
              "      <td>0</td>\n",
              "      <td>8</td>\n",
              "      <td>32</td>\n",
              "      <td>1</td>\n",
              "      <td>30</td>\n",
              "      <td>...</td>\n",
              "      <td>10</td>\n",
              "      <td>30</td>\n",
              "      <td>0</td>\n",
              "      <td>566</td>\n",
              "      <td>70.75</td>\n",
              "      <td>0</td>\n",
              "      <td>216</td>\n",
              "      <td>8.64</td>\n",
              "      <td>0</td>\n",
              "      <td>1</td>\n",
              "    </tr>\n",
              "    <tr>\n",
              "      <th>2</th>\n",
              "      <td>37</td>\n",
              "      <td>30</td>\n",
              "      <td>24</td>\n",
              "      <td>0</td>\n",
              "      <td>91</td>\n",
              "      <td>1</td>\n",
              "      <td>9</td>\n",
              "      <td>36</td>\n",
              "      <td>1</td>\n",
              "      <td>49</td>\n",
              "      <td>...</td>\n",
              "      <td>10</td>\n",
              "      <td>30</td>\n",
              "      <td>0</td>\n",
              "      <td>633</td>\n",
              "      <td>79.13</td>\n",
              "      <td>0</td>\n",
              "      <td>233</td>\n",
              "      <td>9.32</td>\n",
              "      <td>0</td>\n",
              "      <td>1</td>\n",
              "    </tr>\n",
              "    <tr>\n",
              "      <th>3</th>\n",
              "      <td>61</td>\n",
              "      <td>30</td>\n",
              "      <td>25</td>\n",
              "      <td>0</td>\n",
              "      <td>116</td>\n",
              "      <td>7</td>\n",
              "      <td>10</td>\n",
              "      <td>40</td>\n",
              "      <td>1</td>\n",
              "      <td>38</td>\n",
              "      <td>...</td>\n",
              "      <td>10</td>\n",
              "      <td>30</td>\n",
              "      <td>0</td>\n",
              "      <td>645</td>\n",
              "      <td>80.63</td>\n",
              "      <td>0</td>\n",
              "      <td>237</td>\n",
              "      <td>9.48</td>\n",
              "      <td>0</td>\n",
              "      <td>1</td>\n",
              "    </tr>\n",
              "    <tr>\n",
              "      <th>4</th>\n",
              "      <td>55</td>\n",
              "      <td>25</td>\n",
              "      <td>13</td>\n",
              "      <td>0</td>\n",
              "      <td>93</td>\n",
              "      <td>1</td>\n",
              "      <td>9</td>\n",
              "      <td>36</td>\n",
              "      <td>1</td>\n",
              "      <td>37</td>\n",
              "      <td>...</td>\n",
              "      <td>9</td>\n",
              "      <td>27</td>\n",
              "      <td>0</td>\n",
              "      <td>565</td>\n",
              "      <td>70.63</td>\n",
              "      <td>0</td>\n",
              "      <td>217</td>\n",
              "      <td>8.68</td>\n",
              "      <td>0</td>\n",
              "      <td>1</td>\n",
              "    </tr>\n",
              "    <tr>\n",
              "      <th>...</th>\n",
              "      <td>...</td>\n",
              "      <td>...</td>\n",
              "      <td>...</td>\n",
              "      <td>...</td>\n",
              "      <td>...</td>\n",
              "      <td>...</td>\n",
              "      <td>...</td>\n",
              "      <td>...</td>\n",
              "      <td>...</td>\n",
              "      <td>...</td>\n",
              "      <td>...</td>\n",
              "      <td>...</td>\n",
              "      <td>...</td>\n",
              "      <td>...</td>\n",
              "      <td>...</td>\n",
              "      <td>...</td>\n",
              "      <td>...</td>\n",
              "      <td>...</td>\n",
              "      <td>...</td>\n",
              "      <td>...</td>\n",
              "      <td>...</td>\n",
              "    </tr>\n",
              "    <tr>\n",
              "      <th>395</th>\n",
              "      <td>46</td>\n",
              "      <td>26</td>\n",
              "      <td>24</td>\n",
              "      <td>0</td>\n",
              "      <td>96</td>\n",
              "      <td>1</td>\n",
              "      <td>9</td>\n",
              "      <td>36</td>\n",
              "      <td>1</td>\n",
              "      <td>46</td>\n",
              "      <td>...</td>\n",
              "      <td>10</td>\n",
              "      <td>30</td>\n",
              "      <td>0</td>\n",
              "      <td>698</td>\n",
              "      <td>87.25</td>\n",
              "      <td>0</td>\n",
              "      <td>242</td>\n",
              "      <td>9.68</td>\n",
              "      <td>2</td>\n",
              "      <td>7</td>\n",
              "    </tr>\n",
              "    <tr>\n",
              "      <th>396</th>\n",
              "      <td>28</td>\n",
              "      <td>29</td>\n",
              "      <td>18</td>\n",
              "      <td>0</td>\n",
              "      <td>75</td>\n",
              "      <td>0</td>\n",
              "      <td>8</td>\n",
              "      <td>32</td>\n",
              "      <td>1</td>\n",
              "      <td>29</td>\n",
              "      <td>...</td>\n",
              "      <td>10</td>\n",
              "      <td>30</td>\n",
              "      <td>0</td>\n",
              "      <td>558</td>\n",
              "      <td>69.75</td>\n",
              "      <td>0</td>\n",
              "      <td>216</td>\n",
              "      <td>8.64</td>\n",
              "      <td>2</td>\n",
              "      <td>1</td>\n",
              "    </tr>\n",
              "    <tr>\n",
              "      <th>397</th>\n",
              "      <td>28</td>\n",
              "      <td>19</td>\n",
              "      <td>18</td>\n",
              "      <td>0</td>\n",
              "      <td>65</td>\n",
              "      <td>2</td>\n",
              "      <td>6</td>\n",
              "      <td>24</td>\n",
              "      <td>1</td>\n",
              "      <td>28</td>\n",
              "      <td>...</td>\n",
              "      <td>10</td>\n",
              "      <td>30</td>\n",
              "      <td>0</td>\n",
              "      <td>497</td>\n",
              "      <td>62.13</td>\n",
              "      <td>0</td>\n",
              "      <td>166</td>\n",
              "      <td>6.64</td>\n",
              "      <td>1</td>\n",
              "      <td>3</td>\n",
              "    </tr>\n",
              "    <tr>\n",
              "      <th>398</th>\n",
              "      <td>56</td>\n",
              "      <td>23</td>\n",
              "      <td>22</td>\n",
              "      <td>0</td>\n",
              "      <td>101</td>\n",
              "      <td>7</td>\n",
              "      <td>10</td>\n",
              "      <td>40</td>\n",
              "      <td>1</td>\n",
              "      <td>45</td>\n",
              "      <td>...</td>\n",
              "      <td>9</td>\n",
              "      <td>27</td>\n",
              "      <td>0</td>\n",
              "      <td>591</td>\n",
              "      <td>73.88</td>\n",
              "      <td>0</td>\n",
              "      <td>221</td>\n",
              "      <td>8.84</td>\n",
              "      <td>2</td>\n",
              "      <td>1</td>\n",
              "    </tr>\n",
              "    <tr>\n",
              "      <th>399</th>\n",
              "      <td>45</td>\n",
              "      <td>15</td>\n",
              "      <td>16</td>\n",
              "      <td>0</td>\n",
              "      <td>76</td>\n",
              "      <td>0</td>\n",
              "      <td>8</td>\n",
              "      <td>32</td>\n",
              "      <td>1</td>\n",
              "      <td>34</td>\n",
              "      <td>...</td>\n",
              "      <td>7</td>\n",
              "      <td>21</td>\n",
              "      <td>0</td>\n",
              "      <td>505</td>\n",
              "      <td>63.13</td>\n",
              "      <td>0</td>\n",
              "      <td>196</td>\n",
              "      <td>7.84</td>\n",
              "      <td>2</td>\n",
              "      <td>0</td>\n",
              "    </tr>\n",
              "  </tbody>\n",
              "</table>\n",
              "<p>400 rows × 64 columns</p>\n",
              "</div>\n",
              "      <button class=\"colab-df-convert\" onclick=\"convertToInteractive('df-f430bd94-b6c2-4978-af92-23da0b0baca4')\"\n",
              "              title=\"Convert this dataframe to an interactive table.\"\n",
              "              style=\"display:none;\">\n",
              "        \n",
              "  <svg xmlns=\"http://www.w3.org/2000/svg\" height=\"24px\"viewBox=\"0 0 24 24\"\n",
              "       width=\"24px\">\n",
              "    <path d=\"M0 0h24v24H0V0z\" fill=\"none\"/>\n",
              "    <path d=\"M18.56 5.44l.94 2.06.94-2.06 2.06-.94-2.06-.94-.94-2.06-.94 2.06-2.06.94zm-11 1L8.5 8.5l.94-2.06 2.06-.94-2.06-.94L8.5 2.5l-.94 2.06-2.06.94zm10 10l.94 2.06.94-2.06 2.06-.94-2.06-.94-.94-2.06-.94 2.06-2.06.94z\"/><path d=\"M17.41 7.96l-1.37-1.37c-.4-.4-.92-.59-1.43-.59-.52 0-1.04.2-1.43.59L10.3 9.45l-7.72 7.72c-.78.78-.78 2.05 0 2.83L4 21.41c.39.39.9.59 1.41.59.51 0 1.02-.2 1.41-.59l7.78-7.78 2.81-2.81c.8-.78.8-2.07 0-2.86zM5.41 20L4 18.59l7.72-7.72 1.47 1.35L5.41 20z\"/>\n",
              "  </svg>\n",
              "      </button>\n",
              "      \n",
              "  <style>\n",
              "    .colab-df-container {\n",
              "      display:flex;\n",
              "      flex-wrap:wrap;\n",
              "      gap: 12px;\n",
              "    }\n",
              "\n",
              "    .colab-df-convert {\n",
              "      background-color: #E8F0FE;\n",
              "      border: none;\n",
              "      border-radius: 50%;\n",
              "      cursor: pointer;\n",
              "      display: none;\n",
              "      fill: #1967D2;\n",
              "      height: 32px;\n",
              "      padding: 0 0 0 0;\n",
              "      width: 32px;\n",
              "    }\n",
              "\n",
              "    .colab-df-convert:hover {\n",
              "      background-color: #E2EBFA;\n",
              "      box-shadow: 0px 1px 2px rgba(60, 64, 67, 0.3), 0px 1px 3px 1px rgba(60, 64, 67, 0.15);\n",
              "      fill: #174EA6;\n",
              "    }\n",
              "\n",
              "    [theme=dark] .colab-df-convert {\n",
              "      background-color: #3B4455;\n",
              "      fill: #D2E3FC;\n",
              "    }\n",
              "\n",
              "    [theme=dark] .colab-df-convert:hover {\n",
              "      background-color: #434B5C;\n",
              "      box-shadow: 0px 1px 3px 1px rgba(0, 0, 0, 0.15);\n",
              "      filter: drop-shadow(0px 1px 2px rgba(0, 0, 0, 0.3));\n",
              "      fill: #FFFFFF;\n",
              "    }\n",
              "  </style>\n",
              "\n",
              "      <script>\n",
              "        const buttonEl =\n",
              "          document.querySelector('#df-f430bd94-b6c2-4978-af92-23da0b0baca4 button.colab-df-convert');\n",
              "        buttonEl.style.display =\n",
              "          google.colab.kernel.accessAllowed ? 'block' : 'none';\n",
              "\n",
              "        async function convertToInteractive(key) {\n",
              "          const element = document.querySelector('#df-f430bd94-b6c2-4978-af92-23da0b0baca4');\n",
              "          const dataTable =\n",
              "            await google.colab.kernel.invokeFunction('convertToInteractive',\n",
              "                                                     [key], {});\n",
              "          if (!dataTable) return;\n",
              "\n",
              "          const docLinkHtml = 'Like what you see? Visit the ' +\n",
              "            '<a target=\"_blank\" href=https://colab.research.google.com/notebooks/data_table.ipynb>data table notebook</a>'\n",
              "            + ' to learn more about interactive tables.';\n",
              "          element.innerHTML = '';\n",
              "          dataTable['output_type'] = 'display_data';\n",
              "          await google.colab.output.renderOutput(dataTable, element);\n",
              "          const docLink = document.createElement('div');\n",
              "          docLink.innerHTML = docLinkHtml;\n",
              "          element.appendChild(docLink);\n",
              "        }\n",
              "      </script>\n",
              "    </div>\n",
              "  </div>\n",
              "  "
            ]
          },
          "metadata": {},
          "execution_count": 11
        }
      ]
    },
    {
      "cell_type": "code",
      "source": [
        "sem4= sem4.drop_duplicates()"
      ],
      "metadata": {
        "id": "HfeVOW5a_NMc"
      },
      "execution_count": 12,
      "outputs": []
    },
    {
      "cell_type": "code",
      "source": [
        "sem4['63']"
      ],
      "metadata": {
        "colab": {
          "base_uri": "https://localhost:8080/"
        },
        "id": "tvfKnGG7cbmB",
        "outputId": "2f37fdc1-4ad4-4196-b035-859b3f9c8e19"
      },
      "execution_count": 13,
      "outputs": [
        {
          "output_type": "execute_result",
          "data": {
            "text/plain": [
              "0      0\n",
              "1      1\n",
              "2      1\n",
              "3      1\n",
              "4      1\n",
              "      ..\n",
              "395    7\n",
              "396    1\n",
              "397    3\n",
              "398    1\n",
              "399    0\n",
              "Name: 63, Length: 400, dtype: int64"
            ]
          },
          "metadata": {},
          "execution_count": 13
        }
      ]
    },
    {
      "cell_type": "markdown",
      "source": [
        "#checking the number of entries per label"
      ],
      "metadata": {
        "id": "UHZeSnB8fHQp"
      }
    },
    {
      "cell_type": "code",
      "source": [
        "    y = sem4['63']\n",
        "    \n",
        "    # Count the number of samples in each class\n",
        "    class_counts = y.value_counts()\n",
        "    print(class_counts)\n",
        "    # Check if any class has only one sample\n",
        "    classes_with_single_sample = [class_label for class_label, count in class_counts.items() if count == 1]\n",
        "    \n",
        "    # Handle classes with a single sample\n",
        "    for class_label in classes_with_single_sample:\n",
        "        # Find the index of the class with a single sample\n",
        "        index = y[y == class_label].index[0]\n",
        "        \n",
        "        # Find the label that is above the class with one sample\n",
        "        above_label = class_counts[class_counts.index > class_label].index.min()\n",
        "        \n",
        "        # Update the target label to the above label\n",
        "        y.loc[index] = above_label\n",
        "\n",
        "        # Count the number of samples in each class\n",
        "    class_counts = y.value_counts()\n",
        "    print(class_counts)"
      ],
      "metadata": {
        "colab": {
          "base_uri": "https://localhost:8080/"
        },
        "id": "BEQa02d_gxv0",
        "outputId": "165c26d6-52ad-4fae-f8ab-470fd55fb5d5"
      },
      "execution_count": 14,
      "outputs": [
        {
          "output_type": "stream",
          "name": "stdout",
          "text": [
            "1    182\n",
            "0    108\n",
            "7     58\n",
            "3     35\n",
            "2     11\n",
            "5      4\n",
            "6      1\n",
            "4      1\n",
            "Name: 63, dtype: int64\n",
            "1    182\n",
            "0    108\n",
            "7     59\n",
            "3     35\n",
            "2     11\n",
            "5      5\n",
            "Name: 63, dtype: int64\n"
          ]
        }
      ]
    },
    {
      "cell_type": "code",
      "source": [
        "y = pd.DataFrame(y)"
      ],
      "metadata": {
        "id": "1b2Cb6RskhQ_"
      },
      "execution_count": 15,
      "outputs": []
    },
    {
      "cell_type": "code",
      "source": [
        "sem4['63'].unique()"
      ],
      "metadata": {
        "colab": {
          "base_uri": "https://localhost:8080/"
        },
        "id": "dClqvGu1ne5y",
        "outputId": "ecde028c-31d7-492b-999d-728f8c71d7d1"
      },
      "execution_count": 16,
      "outputs": [
        {
          "output_type": "execute_result",
          "data": {
            "text/plain": [
              "array([0, 1, 7, 3, 2, 5])"
            ]
          },
          "metadata": {},
          "execution_count": 16
        }
      ]
    },
    {
      "cell_type": "code",
      "source": [
        "# Importing SMOTE\n",
        "from imblearn.over_sampling import SMOTE\n",
        "import seaborn as sns\n",
        "\n",
        "# Oversampling the data with a specific sampling strategy\n",
        "smote = SMOTE(random_state=101, k_neighbors=4) \n",
        "X, y = smote.fit_resample(sem4.drop('63', axis=1), sem4['63'])\n",
        "\n",
        "# Creating a new Oversampling DataFrame\n",
        "sem4os = pd.DataFrame(X, columns=df3.drop('63', axis=1).columns)\n",
        "sem4os['63'] = y\n",
        "\n",
        "sns.countplot(sem4os['63'])"
      ],
      "metadata": {
        "colab": {
          "base_uri": "https://localhost:8080/",
          "height": 447
        },
        "id": "2bFbP2WzqCOl",
        "outputId": "e9251946-9b4e-4d19-8137-37605047c666"
      },
      "execution_count": 17,
      "outputs": [
        {
          "output_type": "execute_result",
          "data": {
            "text/plain": [
              "<Axes: ylabel='count'>"
            ]
          },
          "metadata": {},
          "execution_count": 17
        },
        {
          "output_type": "display_data",
          "data": {
            "text/plain": [
              "<Figure size 640x480 with 1 Axes>"
            ],
            "image/png": "[encoded data removed]"
          },
          "metadata": {}
        }
      ]
    },
    {
      "cell_type": "code",
      "source": [
        "sem4os['63'].value_counts()"
      ],
      "metadata": {
        "colab": {
          "base_uri": "https://localhost:8080/"
        },
        "id": "L7U6s6_Yn2qJ",
        "outputId": "d4058b8e-926b-4e17-efa8-11d6154ffe43"
      },
      "execution_count": 18,
      "outputs": [
        {
          "output_type": "execute_result",
          "data": {
            "text/plain": [
              "0    182\n",
              "1    182\n",
              "7    182\n",
              "3    182\n",
              "2    182\n",
              "5    182\n",
              "Name: 63, dtype: int64"
            ]
          },
          "metadata": {},
          "execution_count": 18
        }
      ]
    },
    {
      "cell_type": "markdown",
      "source": [
        "#MAking each label to habe 1000 samples using smote"
      ],
      "metadata": {
        "id": "SKNnMmbdfQEP"
      }
    },
    {
      "cell_type": "code",
      "source": [
        "target = '63'"
      ],
      "metadata": {
        "id": "eNJDWz2ufNdj"
      },
      "execution_count": 19,
      "outputs": []
    },
    {
      "cell_type": "code",
      "source": [
        "from imblearn.over_sampling import ADASYN\n",
        "import seaborn as sns\n",
        "\n",
        "# Perform ADASYN oversampling\n",
        "adasyn = ADASYN(sampling_strategy='not majority', random_state=101,n_neighbors = 4)\n",
        "X, y = adasyn.fit_resample(sem4.drop(target, axis=1), sem4[target])\n",
        "\n",
        "# Create a new oversampled DataFrame\n",
        "sem4os = pd.DataFrame(X, columns=sem4.drop(target, axis=1).columns)\n",
        "sem4os[target] = y\n",
        "\n",
        "# Check the class distribution\n",
        "sns.countplot(sem4os[target])\n",
        "\n",
        "# Ensure each label has 1000 rows\n",
        "label_counts = sem4os[target].value_counts()\n",
        "for label in label_counts.index:\n",
        "    label_rows = sem4os[sem4os[target] == label].shape[0]\n",
        "    if label_rows < 1000:\n",
        "        additional_rows_needed = 1000 - label_rows\n",
        "        label_samples = sem4os[sem4os[target] == label].sample(additional_rows_needed, replace=True)\n",
        "        sem4os = pd.concat([sem4os, label_samples], ignore_index=True)\n",
        "\n",
        "# Check the updated class distribution\n",
        "sns.countplot(sem4os[target])\n",
        "\n",
        "# Save the oversampled data\n",
        "sem4os.to_csv('oversampled_dataset.csv', index=False)\n"
      ],
      "metadata": {
        "colab": {
          "base_uri": "https://localhost:8080/",
          "height": 430
        },
        "id": "PMkCoNfmkMZ4",
        "outputId": "a44465ab-de36-4b55-ef57-b644d121dccb"
      },
      "execution_count": 20,
      "outputs": [
        {
          "output_type": "display_data",
          "data": {
            "text/plain": [
              "<Figure size 640x480 with 1 Axes>"
            ],
            "image/png": "[encoded data removed]"
          },
          "metadata": {}
        }
      ]
    },
    {
      "cell_type": "code",
      "source": [
        "sem4os['63'].value_counts()"
      ],
      "metadata": {
        "colab": {
          "base_uri": "https://localhost:8080/"
        },
        "outputId": "92784596-8596-402b-c388-9fafbce04f04",
        "id": "gt-z9tfooq9k"
      },
      "execution_count": 21,
      "outputs": [
        {
          "output_type": "execute_result",
          "data": {
            "text/plain": [
              "0    1000\n",
              "1    1000\n",
              "7    1000\n",
              "3    1000\n",
              "2    1000\n",
              "5    1000\n",
              "Name: 63, dtype: int64"
            ]
          },
          "metadata": {},
          "execution_count": 21
        }
      ]
    },
    {
      "cell_type": "markdown",
      "source": [
        "#SEM 4"
      ],
      "metadata": {
        "id": "NQUCLBR_KF4p"
      }
    },
    {
      "cell_type": "code",
      "source": [
        "target = '63'"
      ],
      "metadata": {
        "id": "2mE90uwDKFtx"
      },
      "execution_count": 22,
      "outputs": []
    },
    {
      "cell_type": "code",
      "source": [
        "X_train, X_test, y_train, y_test,X,categorical_cols,ohe,le = preprocess(sem4os,target)"
      ],
      "metadata": {
        "colab": {
          "base_uri": "https://localhost:8080/"
        },
        "id": "YEwRoh4fMEkn",
        "outputId": "1eb9adad-6134-4516-edef-b7a55fb45baf"
      },
      "execution_count": 23,
      "outputs": [
        {
          "output_type": "stream",
          "name": "stdout",
          "text": [
            "[]\n",
            "Shape of training split:  (4800, 63)\n",
            "Shape of test split:  (1200, 63)\n"
          ]
        }
      ]
    },
    {
      "cell_type": "code",
      "source": [
        "model.BAG(X_train,y_train,y_test,X_test)"
      ],
      "metadata": {
        "colab": {
          "base_uri": "https://localhost:8080/"
        },
        "id": "q6eJ_tmzpMIi",
        "outputId": "6814b0f2-0dca-4d45-8376-6293f526fa23"
      },
      "execution_count": 28,
      "outputs": [
        {
          "output_type": "stream",
          "name": "stdout",
          "text": [
            "Accuracy: 0.8416666666666667\n",
            "Confusion Matrix:\n",
            " [[189   0   0   0   0   0]\n",
            " [  0 218   0   0   0   0]\n",
            " [  0   0 204   0   0   0]\n",
            " [  0   0   0 179   0   0]\n",
            " [  0   0   0   0 211   0]\n",
            " [  4 173   5   8   0   9]]\n",
            "Classification Report:\n",
            "               precision    recall  f1-score   support\n",
            "\n",
            "           0       0.98      1.00      0.99       189\n",
            "           1       0.56      1.00      0.72       218\n",
            "           2       0.98      1.00      0.99       204\n",
            "           3       0.96      1.00      0.98       179\n",
            "           4       1.00      1.00      1.00       211\n",
            "           5       1.00      0.05      0.09       199\n",
            "\n",
            "    accuracy                           0.84      1200\n",
            "   macro avg       0.91      0.84      0.79      1200\n",
            "weighted avg       0.91      0.84      0.79      1200\n",
            "\n"
          ]
        }
      ]
    },
    {
      "cell_type": "code",
      "source": [
        "model.XGB(X_train,y_train,y_test,X_test)"
      ],
      "metadata": {
        "colab": {
          "base_uri": "https://localhost:8080/"
        },
        "id": "exIDfdhqpus1",
        "outputId": "137d68e9-4cb4-4543-eb29-6a4ea42e58e7"
      },
      "execution_count": 29,
      "outputs": [
        {
          "output_type": "stream",
          "name": "stdout",
          "text": [
            "Accuracy: 0.9708333333333333\n",
            "Confusion Matrix:\n",
            " [[189   0   0   0   0   0]\n",
            " [  0 218   0   0   0   0]\n",
            " [  0   0 204   0   0   0]\n",
            " [  0   0   0 179   0   0]\n",
            " [  0   0   0   0 211   0]\n",
            " [  4   9   5   8   9 164]]\n",
            "Classification Report:\n",
            "               precision    recall  f1-score   support\n",
            "\n",
            "           0       0.98      1.00      0.99       189\n",
            "           1       0.96      1.00      0.98       218\n",
            "           2       0.98      1.00      0.99       204\n",
            "           3       0.96      1.00      0.98       179\n",
            "           4       0.96      1.00      0.98       211\n",
            "           5       1.00      0.82      0.90       199\n",
            "\n",
            "    accuracy                           0.97      1200\n",
            "   macro avg       0.97      0.97      0.97      1200\n",
            "weighted avg       0.97      0.97      0.97      1200\n",
            "\n"
          ]
        }
      ]
    },
    {
      "cell_type": "code",
      "source": [
        "model.LGB(X_train,y_train,y_test,X_test)"
      ],
      "metadata": {
        "colab": {
          "base_uri": "https://localhost:8080/"
        },
        "id": "ym7AqdO2p2hL",
        "outputId": "929604eb-7429-4669-d780-5ae52a33845b"
      },
      "execution_count": 30,
      "outputs": [
        {
          "output_type": "stream",
          "name": "stdout",
          "text": [
            "Accuracy: 0.33916666666666667\n",
            "Confusion Matrix:\n",
            " [[189   0   0   0   0   0]\n",
            " [  0 218   0   0   0   0]\n",
            " [204   0   0   0   0   0]\n",
            " [179   0   0   0   0   0]\n",
            " [211   0   0   0   0   0]\n",
            " [199   0   0   0   0   0]]\n",
            "Classification Report:\n",
            "               precision    recall  f1-score   support\n",
            "\n",
            "           0       0.19      1.00      0.32       189\n",
            "           1       1.00      1.00      1.00       218\n",
            "           2       0.00      0.00      0.00       204\n",
            "           3       0.00      0.00      0.00       179\n",
            "           4       0.00      0.00      0.00       211\n",
            "           5       0.00      0.00      0.00       199\n",
            "\n",
            "    accuracy                           0.34      1200\n",
            "   macro avg       0.20      0.33      0.22      1200\n",
            "weighted avg       0.21      0.34      0.23      1200\n",
            "\n"
          ]
        }
      ]
    },
    {
      "cell_type": "code",
      "source": [
        "model.LR(X_train,y_train,y_test,X_test)"
      ],
      "metadata": {
        "id": "J_mSFrD28Xqc",
        "colab": {
          "base_uri": "https://localhost:8080/"
        },
        "outputId": "676b2763-16a6-480e-d686-222888cfa459"
      },
      "execution_count": 31,
      "outputs": [
        {
          "output_type": "stream",
          "name": "stdout",
          "text": [
            "Accuracy: 0.8683333333333333\n",
            "Confusion Matrix:\n",
            " [[156  25   1   7   0   0]\n",
            " [ 32 141   0   0   0  45]\n",
            " [  0   0 199   0   0   5]\n",
            " [  1   7   0 168   0   3]\n",
            " [  0   0   0   0 211   0]\n",
            " [  0  25   7   0   0 167]]\n",
            "Classification Report:\n",
            "               precision    recall  f1-score   support\n",
            "\n",
            "           0       0.83      0.83      0.83       189\n",
            "           1       0.71      0.65      0.68       218\n",
            "           2       0.96      0.98      0.97       204\n",
            "           3       0.96      0.94      0.95       179\n",
            "           4       1.00      1.00      1.00       211\n",
            "           5       0.76      0.84      0.80       199\n",
            "\n",
            "    accuracy                           0.87      1200\n",
            "   macro avg       0.87      0.87      0.87      1200\n",
            "weighted avg       0.87      0.87      0.87      1200\n",
            "\n"
          ]
        }
      ]
    },
    {
      "cell_type": "code",
      "source": [
        "model.GNB(X_train,y_train,y_test,X_test)"
      ],
      "metadata": {
        "id": "Gj4tjSdU_kET",
        "colab": {
          "base_uri": "https://localhost:8080/",
          "height": 457
        },
        "outputId": "6ce08069-feaa-4987-9cd7-d74923154392"
      },
      "execution_count": 32,
      "outputs": [
        {
          "output_type": "stream",
          "name": "stdout",
          "text": [
            "Accuracy: 0.905\n",
            "Confusion Matrix:\n",
            " [[174   0   0  12   0   3]\n",
            " [  6 166   0   0   0  46]\n",
            " [  0   0 174   0  30   0]\n",
            " [  3   0   0 176   0   0]\n",
            " [  0   0   0   0 211   0]\n",
            " [  0   0  14   0   0 185]]\n",
            "Classification Report:\n",
            "               precision    recall  f1-score   support\n",
            "\n",
            "           0       0.95      0.92      0.94       189\n",
            "           1       1.00      0.76      0.86       218\n",
            "           2       0.93      0.85      0.89       204\n",
            "           3       0.94      0.98      0.96       179\n",
            "           4       0.88      1.00      0.93       211\n",
            "           5       0.79      0.93      0.85       199\n",
            "\n",
            "    accuracy                           0.91      1200\n",
            "   macro avg       0.91      0.91      0.91      1200\n",
            "weighted avg       0.91      0.91      0.90      1200\n",
            "\n"
          ]
        },
        {
          "output_type": "execute_result",
          "data": {
            "text/plain": [
              "GaussianNB()"
            ],
            "text/html": [
              "<style>#sk-container-id-1 {color: black;background-color: white;}#sk-container-id-1 pre{padding: 0;}#sk-container-id-1 div.sk-toggleable {background-color: white;}#sk-container-id-1 label.sk-toggleable__label {cursor: pointer;display: block;width: 100%;margin-bottom: 0;padding: 0.3em;box-sizing: border-box;text-align: center;}#sk-container-id-1 label.sk-toggleable__label-arrow:before {content: \"▸\";float: left;margin-right: 0.25em;color: #696969;}#sk-container-id-1 label.sk-toggleable__label-arrow:hover:before {color: black;}#sk-container-id-1 div.sk-estimator:hover label.sk-toggleable__label-arrow:before {color: black;}#sk-container-id-1 div.sk-toggleable__content {max-height: 0;max-width: 0;overflow: hidden;text-align: left;background-color: #f0f8ff;}#sk-container-id-1 div.sk-toggleable__content pre {margin: 0.2em;color: black;border-radius: 0.25em;background-color: #f0f8ff;}#sk-container-id-1 input.sk-toggleable__control:checked~div.sk-toggleable__content {max-height: 200px;max-width: 100%;overflow: auto;}#sk-container-id-1 input.sk-toggleable__control:checked~label.sk-toggleable__label-arrow:before {content: \"▾\";}#sk-container-id-1 div.sk-estimator input.sk-toggleable__control:checked~label.sk-toggleable__label {background-color: #d4ebff;}#sk-container-id-1 div.sk-label input.sk-toggleable__control:checked~label.sk-toggleable__label {background-color: #d4ebff;}#sk-container-id-1 input.sk-hidden--visually {border: 0;clip: rect(1px 1px 1px 1px);clip: rect(1px, 1px, 1px, 1px);height: 1px;margin: -1px;overflow: hidden;padding: 0;position: absolute;width: 1px;}#sk-container-id-1 div.sk-estimator {font-family: monospace;background-color: #f0f8ff;border: 1px dotted black;border-radius: 0.25em;box-sizing: border-box;margin-bottom: 0.5em;}#sk-container-id-1 div.sk-estimator:hover {background-color: #d4ebff;}#sk-container-id-1 div.sk-parallel-item::after {content: \"\";width: 100%;border-bottom: 1px solid gray;flex-grow: 1;}#sk-container-id-1 div.sk-label:hover label.sk-toggleable__label {background-color: #d4ebff;}#sk-container-id-1 div.sk-serial::before {content: \"\";position: absolute;border-left: 1px solid gray;box-sizing: border-box;top: 0;bottom: 0;left: 50%;z-index: 0;}#sk-container-id-1 div.sk-serial {display: flex;flex-direction: column;align-items: center;background-color: white;padding-right: 0.2em;padding-left: 0.2em;position: relative;}#sk-container-id-1 div.sk-item {position: relative;z-index: 1;}#sk-container-id-1 div.sk-parallel {display: flex;align-items: stretch;justify-content: center;background-color: white;position: relative;}#sk-container-id-1 div.sk-item::before, #sk-container-id-1 div.sk-parallel-item::before {content: \"\";position: absolute;border-left: 1px solid gray;box-sizing: border-box;top: 0;bottom: 0;left: 50%;z-index: -1;}#sk-container-id-1 div.sk-parallel-item {display: flex;flex-direction: column;z-index: 1;position: relative;background-color: white;}#sk-container-id-1 div.sk-parallel-item:first-child::after {align-self: flex-end;width: 50%;}#sk-container-id-1 div.sk-parallel-item:last-child::after {align-self: flex-start;width: 50%;}#sk-container-id-1 div.sk-parallel-item:only-child::after {width: 0;}#sk-container-id-1 div.sk-dashed-wrapped {border: 1px dashed gray;margin: 0 0.4em 0.5em 0.4em;box-sizing: border-box;padding-bottom: 0.4em;background-color: white;}#sk-container-id-1 div.sk-label label {font-family: monospace;font-weight: bold;display: inline-block;line-height: 1.2em;}#sk-container-id-1 div.sk-label-container {text-align: center;}#sk-container-id-1 div.sk-container {/* jupyter's `normalize.less` sets `[hidden] { display: none; }` but bootstrap.min.css set `[hidden] { display: none !important; }` so we also need the `!important` here to be able to override the default hidden behavior on the sphinx rendered scikit-learn.org. See: https://github.com/scikit-learn/scikit-learn/issues/21755 */display: inline-block !important;position: relative;}#sk-container-id-1 div.sk-text-repr-fallback {display: none;}</style><div id=\"sk-container-id-1\" class=\"sk-top-container\"><div class=\"sk-text-repr-fallback\"><pre>GaussianNB()</pre><b>In a Jupyter environment, please rerun this cell to show the HTML representation or trust the notebook. <br />On GitHub, the HTML representation is unable to render, please try loading this page with nbviewer.org.</b></div><div class=\"sk-container\" hidden><div class=\"sk-item\"><div class=\"sk-estimator sk-toggleable\"><input class=\"sk-toggleable__control sk-hidden--visually\" id=\"sk-estimator-id-1\" type=\"checkbox\" checked><label for=\"sk-estimator-id-1\" class=\"sk-toggleable__label sk-toggleable__label-arrow\">GaussianNB</label><div class=\"sk-toggleable__content\"><pre>GaussianNB()</pre></div></div></div></div></div>"
            ]
          },
          "metadata": {},
          "execution_count": 32
        }
      ]
    },
    {
      "cell_type": "code",
      "source": [
        "model.DT(X_train,y_train,y_test,X_test)"
      ],
      "metadata": {
        "id": "rR5jfrnc_mag",
        "colab": {
          "base_uri": "https://localhost:8080/"
        },
        "outputId": "f6a62480-ed9f-4598-be08-59160ef2675c"
      },
      "execution_count": 72,
      "outputs": [
        {
          "output_type": "stream",
          "name": "stdout",
          "text": [
            "Accuracy: 0.5025\n",
            "Confusion Matrix:\n",
            " [[  0   0   0 189   0   0]\n",
            " [  0   0   0 218   0   0]\n",
            " [  0   0 204   0   0   0]\n",
            " [  0   0   0 179   0   0]\n",
            " [  0   0   0   0 211   0]\n",
            " [  0   0   5 185   0   9]]\n",
            "Classification Report:\n",
            "               precision    recall  f1-score   support\n",
            "\n",
            "           0       0.00      0.00      0.00       189\n",
            "           1       0.00      0.00      0.00       218\n",
            "           2       0.98      1.00      0.99       204\n",
            "           3       0.23      1.00      0.38       179\n",
            "           4       1.00      1.00      1.00       211\n",
            "           5       1.00      0.05      0.09       199\n",
            "\n",
            "    accuracy                           0.50      1200\n",
            "   macro avg       0.53      0.51      0.41      1200\n",
            "weighted avg       0.54      0.50      0.41      1200\n",
            "\n"
          ]
        }
      ]
    },
    {
      "cell_type": "code",
      "source": [
        "model.RF(X_train,y_train,y_test,X_test)"
      ],
      "metadata": {
        "id": "pOmj-sNS_okb",
        "colab": {
          "base_uri": "https://localhost:8080/"
        },
        "outputId": "4428d79c-42c9-490a-81bc-e8f5a9160afc"
      },
      "execution_count": 79,
      "outputs": [
        {
          "output_type": "stream",
          "name": "stdout",
          "text": [
            "Accuracy: 0.5916666666666667\n",
            "Confusion Matrix:\n",
            " [[  0   0   0 154   0  35]\n",
            " [  0   0   0  54   0 164]\n",
            " [  0   0 159  45   0   0]\n",
            " [  0   0  10 165   0   4]\n",
            " [  0   0   0   0 211   0]\n",
            " [  0   0   9   6   9 175]]\n",
            "Classification Report:\n",
            "               precision    recall  f1-score   support\n",
            "\n",
            "           0       0.00      0.00      0.00       189\n",
            "           1       0.00      0.00      0.00       218\n",
            "           2       0.89      0.78      0.83       204\n",
            "           3       0.39      0.92      0.55       179\n",
            "           4       0.96      1.00      0.98       211\n",
            "           5       0.46      0.88      0.61       199\n",
            "\n",
            "    accuracy                           0.59      1200\n",
            "   macro avg       0.45      0.60      0.49      1200\n",
            "weighted avg       0.46      0.59      0.50      1200\n",
            "\n"
          ]
        }
      ]
    },
    {
      "cell_type": "code",
      "source": [
        "model.SVC(X_train,y_train,y_test,X_test)"
      ],
      "metadata": {
        "id": "QvrWUqXL_rAk",
        "colab": {
          "base_uri": "https://localhost:8080/"
        },
        "outputId": "22b913ac-58da-4976-f08a-ca7e9f9042f3"
      },
      "execution_count": 35,
      "outputs": [
        {
          "output_type": "stream",
          "name": "stdout",
          "text": [
            "Accuracy: 0.8766666666666667\n",
            "Confusion Matrix:\n",
            " [[161   0   0  28   0   0]\n",
            " [ 29 146   0   0   0  43]\n",
            " [  0   0 187   0  17   0]\n",
            " [  0   0   0 179   0   0]\n",
            " [  0   0   0   0 211   0]\n",
            " [  4   9   5   4   9 168]]\n",
            "Classification Report:\n",
            "               precision    recall  f1-score   support\n",
            "\n",
            "           0       0.83      0.85      0.84       189\n",
            "           1       0.94      0.67      0.78       218\n",
            "           2       0.97      0.92      0.94       204\n",
            "           3       0.85      1.00      0.92       179\n",
            "           4       0.89      1.00      0.94       211\n",
            "           5       0.80      0.84      0.82       199\n",
            "\n",
            "    accuracy                           0.88      1200\n",
            "   macro avg       0.88      0.88      0.87      1200\n",
            "weighted avg       0.88      0.88      0.87      1200\n",
            "\n"
          ]
        }
      ]
    },
    {
      "cell_type": "code",
      "source": [
        "model.KNN(X_train,y_train,y_test,X_test)"
      ],
      "metadata": {
        "id": "CFJ-uHV6_uRt",
        "colab": {
          "base_uri": "https://localhost:8080/"
        },
        "outputId": "15321133-e1b6-47ce-a15f-047b6a7c9af1"
      },
      "execution_count": 59,
      "outputs": [
        {
          "output_type": "stream",
          "name": "stdout",
          "text": [
            "Accuracy: 0.9583333333333334\n",
            "Confusion Matrix:\n",
            " [[178   0   0  11   0   0]\n",
            " [ 14 190   0   0   0  14]\n",
            " [  0   0 202   0   2   0]\n",
            " [  0   0   0 179   0   0]\n",
            " [  0   0   0   0 211   0]\n",
            " [  4   2   0   0   3 190]]\n",
            "Classification Report:\n",
            "               precision    recall  f1-score   support\n",
            "\n",
            "           0       0.91      0.94      0.92       189\n",
            "           1       0.99      0.87      0.93       218\n",
            "           2       1.00      0.99      1.00       204\n",
            "           3       0.94      1.00      0.97       179\n",
            "           4       0.98      1.00      0.99       211\n",
            "           5       0.93      0.95      0.94       199\n",
            "\n",
            "    accuracy                           0.96      1200\n",
            "   macro avg       0.96      0.96      0.96      1200\n",
            "weighted avg       0.96      0.96      0.96      1200\n",
            "\n"
          ]
        }
      ]
    },
    {
      "cell_type": "code",
      "source": [
        "model.GB(X_train,y_train,y_test,X_test)"
      ],
      "metadata": {
        "id": "Yl3dqauy_wsX",
        "colab": {
          "base_uri": "https://localhost:8080/"
        },
        "outputId": "b2ef9594-d7f9-4032-f183-910fb333e071"
      },
      "execution_count": 85,
      "outputs": [
        {
          "output_type": "stream",
          "name": "stdout",
          "text": [
            "Accuracy: 0.9791666666666666\n",
            "Confusion Matrix:\n",
            " [[189   0   0   0   0   0]\n",
            " [  0 218   0   0   0   0]\n",
            " [  0   0 204   0   0   0]\n",
            " [  0   0   0 179   0   0]\n",
            " [  0   0   0   0 211   0]\n",
            " [  4   9   4   8   0 174]]\n",
            "Classification Report:\n",
            "               precision    recall  f1-score   support\n",
            "\n",
            "           0       0.98      1.00      0.99       189\n",
            "           1       0.96      1.00      0.98       218\n",
            "           2       0.98      1.00      0.99       204\n",
            "           3       0.96      1.00      0.98       179\n",
            "           4       1.00      1.00      1.00       211\n",
            "           5       1.00      0.87      0.93       199\n",
            "\n",
            "    accuracy                           0.98      1200\n",
            "   macro avg       0.98      0.98      0.98      1200\n",
            "weighted avg       0.98      0.98      0.98      1200\n",
            "\n"
          ]
        }
      ]
    },
    {
      "cell_type": "code",
      "source": [
        "model.ADAB(X_train,y_train,y_test,X_test)"
      ],
      "metadata": {
        "id": "p7BfjuoY_yzh",
        "colab": {
          "base_uri": "https://localhost:8080/"
        },
        "outputId": "eea4bb81-4a72-462c-8318-14fa78b21c72"
      },
      "execution_count": 38,
      "outputs": [
        {
          "output_type": "stream",
          "name": "stdout",
          "text": [
            "Accuracy: 0.7683333333333333\n",
            "Confusion Matrix:\n",
            " [[182   0   0   0   0   7]\n",
            " [143   0   0   0   0  75]\n",
            " [  0   0 204   0   0   0]\n",
            " [  0   0   0 179   0   0]\n",
            " [  0   0  50   0 161   0]\n",
            " [  0   0   3   0   0 196]]\n",
            "Classification Report:\n",
            "               precision    recall  f1-score   support\n",
            "\n",
            "           0       0.56      0.96      0.71       189\n",
            "           1       0.00      0.00      0.00       218\n",
            "           2       0.79      1.00      0.89       204\n",
            "           3       1.00      1.00      1.00       179\n",
            "           4       1.00      0.76      0.87       211\n",
            "           5       0.71      0.98      0.82       199\n",
            "\n",
            "    accuracy                           0.77      1200\n",
            "   macro avg       0.68      0.79      0.71      1200\n",
            "weighted avg       0.67      0.77      0.70      1200\n",
            "\n"
          ]
        }
      ]
    },
    {
      "cell_type": "code",
      "source": [],
      "metadata": {
        "id": "wGRhA0mzWd53"
      },
      "execution_count": null,
      "outputs": []
    }
  ]
}