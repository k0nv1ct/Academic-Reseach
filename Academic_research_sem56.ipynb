{
  "cells": [
    {
      "cell_type": "code",
      "execution_count": null,
      "metadata": {
        "colab": {
          "base_uri": "https://localhost:8080/"
        },
        "id": "nZyU7V6x0bTF",
        "outputId": "21972d00-9814-4439-e13b-a53862f61351"
      },
      "outputs": [
        {
          "name": "stdout",
          "output_type": "stream",
          "text": [
            "Mounted at /content/drive\n"
          ]
        }
      ],
      "source": [
        "from google.colab import drive\n",
        "drive.mount('/content/drive')"
      ]
    },
    {
      "cell_type": "code",
      "execution_count": null,
      "metadata": {
        "id": "6zrqAUKgB3bi"
      },
      "outputs": [],
      "source": [
        "import pandas as pd\n",
        "from sklearn.model_selection import train_test_split\n",
        "import numpy as np\n",
        "import warnings\n",
        "from collections import Counter\n",
        "import itertools\n",
        "warnings.filterwarnings('ignore')"
      ]
    },
    {
      "cell_type": "code",
      "execution_count": null,
      "metadata": {
        "colab": {
          "base_uri": "https://localhost:8080/"
        },
        "id": "t_ie7vg8B3bi",
        "outputId": "c2bed24e-ec96-4b87-b52d-41a6ea701eb4"
      },
      "outputs": [
        {
          "name": "stdout",
          "output_type": "stream",
          "text": [
            "Looking in indexes: https://pypi.org/simple, https://us-python.pkg.dev/colab-wheels/public/simple/\n",
            "Collecting catboost\n",
            "  Downloading catboost-1.2-cp310-cp310-manylinux2014_x86_64.whl (98.6 MB)\n",
            "\u001b[2K     \u001b[90m━━━━━━━━━━━━━━━━━━━━━━━━━━━━━━━━━━━━━━━━\u001b[0m \u001b[32m98.6/98.6 MB\u001b[0m \u001b[31m9.1 MB/s\u001b[0m eta \u001b[36m0:00:00\u001b[0m\n",
            "\u001b[?25hRequirement already satisfied: graphviz in /usr/local/lib/python3.10/dist-packages (from catboost) (0.20.1)\n",
            "Requirement already satisfied: scipy in /usr/local/lib/python3.10/dist-packages (from catboost) (1.10.1)\n",
            "Requirement already satisfied: pandas>=0.24 in /usr/local/lib/python3.10/dist-packages (from catboost) (1.5.3)\n",
            "Requirement already satisfied: six in /usr/local/lib/python3.10/dist-packages (from catboost) (1.16.0)\n",
            "Requirement already satisfied: plotly in /usr/local/lib/python3.10/dist-packages (from catboost) (5.13.1)\n",
            "Requirement already satisfied: numpy>=1.16.0 in /usr/local/lib/python3.10/dist-packages (from catboost) (1.22.4)\n",
            "Requirement already satisfied: matplotlib in /usr/local/lib/python3.10/dist-packages (from catboost) (3.7.1)\n",
            "Requirement already satisfied: python-dateutil>=2.8.1 in /usr/local/lib/python3.10/dist-packages (from pandas>=0.24->catboost) (2.8.2)\n",
            "Requirement already satisfied: pytz>=2020.1 in /usr/local/lib/python3.10/dist-packages (from pandas>=0.24->catboost) (2022.7.1)\n",
            "Requirement already satisfied: contourpy>=1.0.1 in /usr/local/lib/python3.10/dist-packages (from matplotlib->catboost) (1.0.7)\n",
            "Requirement already satisfied: fonttools>=4.22.0 in /usr/local/lib/python3.10/dist-packages (from matplotlib->catboost) (4.39.3)\n",
            "Requirement already satisfied: cycler>=0.10 in /usr/local/lib/python3.10/dist-packages (from matplotlib->catboost) (0.11.0)\n",
            "Requirement already satisfied: kiwisolver>=1.0.1 in /usr/local/lib/python3.10/dist-packages (from matplotlib->catboost) (1.4.4)\n",
            "Requirement already satisfied: packaging>=20.0 in /usr/local/lib/python3.10/dist-packages (from matplotlib->catboost) (23.1)\n",
            "Requirement already satisfied: pillow>=6.2.0 in /usr/local/lib/python3.10/dist-packages (from matplotlib->catboost) (8.4.0)\n",
            "Requirement already satisfied: pyparsing>=2.3.1 in /usr/local/lib/python3.10/dist-packages (from matplotlib->catboost) (3.0.9)\n",
            "Requirement already satisfied: tenacity>=6.2.0 in /usr/local/lib/python3.10/dist-packages (from plotly->catboost) (8.2.2)\n",
            "Installing collected packages: catboost\n",
            "Successfully installed catboost-1.2\n"
          ]
        }
      ],
      "source": [
        "from sklearn.linear_model import LogisticRegression\n",
        "from sklearn.metrics import accuracy_score, confusion_matrix, classification_report, roc_curve, auc\n",
        "from sklearn.model_selection import train_test_split, GridSearchCV\n",
        "from sklearn.preprocessing import OneHotEncoder\n",
        "import matplotlib.pyplot as plt\n",
        "from sklearn.preprocessing import LabelEncoder\n",
        "from sklearn.naive_bayes import GaussianNB\n",
        "from sklearn.tree import DecisionTreeClassifier\n",
        "from sklearn.ensemble import RandomForestClassifier\n",
        "from sklearn.svm import SVC\n",
        "from sklearn.neighbors import KNeighborsClassifier\n",
        "from sklearn.ensemble import GradientBoostingClassifier\n",
        "from sklearn.ensemble import AdaBoostClassifier\n",
        "from sklearn.ensemble import BaggingClassifier\n",
        "from xgboost import XGBClassifier\n",
        "import lightgbm as lgb\n",
        "!pip install catboost\n",
        "from catboost import CatBoostClassifier\n",
        "from sklearn.discriminant_analysis import LinearDiscriminantAnalysis\n",
        "from sklearn.discriminant_analysis import QuadraticDiscriminantAnalysis"
      ]
    },
    {
      "cell_type": "markdown",
      "metadata": {
        "id": "dec4Wd-PE4CC"
      },
      "source": [
        "#Model Definition"
      ]
    },
    {
      "cell_type": "code",
      "execution_count": null,
      "metadata": {
        "id": "evXlkU_3EpT2"
      },
      "outputs": [],
      "source": [
        "class Models:\n",
        "\n",
        "  def __inint__(self, X_train, y_train, y_test, X_test):\n",
        "    self.X_train = X_train\n",
        "    self.y_train = y_train\n",
        "    self.y_test = y_test\n",
        "    self.X_test = X_test\n",
        "\n",
        "\n",
        "  def LR(self, X_train, y_train, y_test, X_test):\n",
        "    # Create a logistic regression object\n",
        "    clf = LogisticRegression(random_state=0)\n",
        "    # Train the model on the training data\n",
        "    clf.fit(X_train, y_train)\n",
        "    # Predict the classes of the testing data\n",
        "    y_pred = clf.predict(X_test)\n",
        "    # Evaluate the model performance\n",
        "    acc = accuracy_score(y_test, y_pred)\n",
        "    print('Accuracy:', acc)\n",
        "    cm = confusion_matrix(y_test, y_pred)\n",
        "    print('Confusion Matrix:\\n', cm)\n",
        "    cr = classification_report(y_test, y_pred)\n",
        "    print('Classification Report:\\n', cr)\n",
        "\n",
        "  def GNB(self, X_train, y_train, y_test, X_test):\n",
        "    gnb = GaussianNB()\n",
        "    gnb.fit(X_train, y_train)\n",
        "    y_pred = gnb.predict(X_test)\n",
        "    acc = accuracy_score(y_test, y_pred)\n",
        "    print('Accuracy:', acc)\n",
        "    cm = confusion_matrix(y_test, y_pred)\n",
        "    print('Confusion Matrix:\\n', cm)\n",
        "    cr = classification_report(y_test, y_pred)\n",
        "    print('Classification Report:\\n', cr)\n",
        "    return gnb\n",
        "\n",
        "  def DT(self, X_train, y_train, y_test, X_test):\n",
        "    dt = DecisionTreeClassifier(random_state=0)\n",
        "    dt.fit(X_train, y_train)\n",
        "    y_pred = dt.predict(X_test)\n",
        "    acc = accuracy_score(y_test, y_pred)\n",
        "    print('Accuracy:', acc)\n",
        "    cm = confusion_matrix(y_test, y_pred)\n",
        "    print('Confusion Matrix:\\n', cm)\n",
        "    cr = classification_report(y_test, y_pred)\n",
        "    print('Classification Report:\\n', cr)\n",
        "\n",
        "  def RF(self, X_train, y_train, y_test, X_test):\n",
        "    rfc = RandomForestClassifier(n_estimators=100, random_state=0)\n",
        "    rfc.fit(X_train, y_train)\n",
        "    y_pred = rfc.predict(X_test)\n",
        "    acc = accuracy_score(y_test, y_pred)\n",
        "    print('Accuracy:', acc)\n",
        "    cm = confusion_matrix(y_test, y_pred)\n",
        "    print('Confusion Matrix:\\n', cm)\n",
        "    cr = classification_report(y_test, y_pred)\n",
        "    print('Classification Report:\\n', cr)\n",
        "\n",
        "  def SVC(self, X_train, y_train, y_test, X_test):\n",
        "    # Create an SVM object\n",
        "    svc = SVC(random_state=0)\n",
        "    svc.fit(X_train, y_train)\n",
        "    # Predict the classes of the testing data\n",
        "    y_pred = svc.predict(X_test)\n",
        "    # Evaluate the model performance\n",
        "    acc = accuracy_score(y_test, y_pred)\n",
        "    print('Accuracy:', acc)\n",
        "\n",
        "    cm = confusion_matrix(y_test, y_pred)\n",
        "    print('Confusion Matrix:\\n', cm)\n",
        "\n",
        "    cr = classification_report(y_test, y_pred)\n",
        "    print('Classification Report:\\n', cr)\n",
        "\n",
        "  def KNN(self, X_train, y_train, y_test, X_test):\n",
        "    # Create a KNN object\n",
        "    knn = KNeighborsClassifier()\n",
        "    knn.fit(X_train, y_train)\n",
        "    # Predict the classes of the testing data\n",
        "    y_pred = knn.predict(X_test)\n",
        "    # Evaluate the model performance\n",
        "    acc = accuracy_score(y_test, y_pred)\n",
        "    print('Accuracy:', acc)\n",
        "\n",
        "    cm = confusion_matrix(y_test, y_pred)\n",
        "    print('Confusion Matrix:\\n', cm)\n",
        "\n",
        "    cr = classification_report(y_test, y_pred)\n",
        "    print('Classification Report:\\n', cr)\n",
        "\n",
        "\n",
        "  def GB(self, X_train, y_train, y_test, X_test):\n",
        "    # Create a Gradient Boosting object\n",
        "    gb = GradientBoostingClassifier(random_state=0)\n",
        "    gb.fit(X_train, y_train)\n",
        "    # Predict the classes of the testing data\n",
        "    y_pred = gb.predict(X_test)\n",
        "    # Evaluate the model performance\n",
        "    acc = accuracy_score(y_test, y_pred)\n",
        "    print('Accuracy:', acc)\n",
        "\n",
        "    cm = confusion_matrix(y_test, y_pred)\n",
        "    print('Confusion Matrix:\\n', cm)\n",
        "\n",
        "    cr = classification_report(y_test, y_pred)\n",
        "    print('Classification Report:\\n', cr)\n",
        "\n",
        "  def ADAB(self, X_train, y_train, y_test, X_test):\n",
        "    # Create an AdaBoost object\n",
        "    ada = AdaBoostClassifier(random_state=0)\n",
        "    ada.fit(X_train, y_train)\n",
        "    # Predict the classes of the testing data\n",
        "    y_pred = ada.predict(X_test)\n",
        "    # Evaluate the model performance\n",
        "    acc = accuracy_score(y_test, y_pred)\n",
        "    print('Accuracy:', acc)\n",
        "\n",
        "    cm = confusion_matrix(y_test, y_pred)\n",
        "    print('Confusion Matrix:\\n', cm)\n",
        "\n",
        "    cr = classification_report(y_test, y_pred)\n",
        "    print('Classification Report:\\n', cr)\n",
        "\n",
        "  def BAG(self, X_train, y_train, y_test, X_test):\n",
        "    # Create a Bagging object\n",
        "    tree = DecisionTreeClassifier(random_state=0)\n",
        "    bag = BaggingClassifier(tree, random_state=0)\n",
        "    bag.fit(X_train, y_train)\n",
        "\n",
        "    # Predict the classes of the testing data\n",
        "    y_pred = bag.predict(X_test)\n",
        "    # Evaluate the model performance\n",
        "    acc = accuracy_score(y_test, y_pred)\n",
        "    print('Accuracy:', acc)\n",
        "\n",
        "    cm = confusion_matrix(y_test, y_pred)\n",
        "    print('Confusion Matrix:\\n', cm)\n",
        "\n",
        "    cr = classification_report(y_test, y_pred)\n",
        "    print('Classification Report:\\n', cr)\n",
        "\n",
        "  def XGB(self, X_train, y_train, y_test, X_test):\n",
        "    xgb = XGBClassifier(random_state=0)\n",
        "    xgb.fit(X_train, y_train)\n",
        "    y_pred = xgb.predict(X_test)\n",
        "    acc = accuracy_score(y_test, y_pred)\n",
        "    print('Accuracy:', acc)\n",
        "\n",
        "    cm = confusion_matrix(y_test, y_pred)\n",
        "    print('Confusion Matrix:\\n', cm)\n",
        "\n",
        "    cr = classification_report(y_test, y_pred)\n",
        "    print('Classification Report:\\n', cr)\n",
        "\n",
        "  def LGB(self, X_train, y_train, y_test, X_test):\n",
        "    # Create a LightGBM object\n",
        "    lgbm = lgb.LGBMClassifier(random_state=0)\n",
        "    lgbm.fit(X_train, y_train)\n",
        "\n",
        "    # Predict the classes of the testing data\n",
        "    y_pred = lgbm.predict(X_test)\n",
        "    # Evaluate the model performance\n",
        "    acc = accuracy_score(y_test, y_pred)\n",
        "    print('Accuracy:', acc)\n",
        "\n",
        "    cm = confusion_matrix(y_test, y_pred)\n",
        "    print('Confusion Matrix:\\n', cm)\n",
        "\n",
        "    cr = classification_report(y_test, y_pred)\n",
        "    print('Classification Report:\\n', cr)\n",
        "\n",
        "  def CB(self, X_train, y_train, y_test, X_test):\n",
        "    cat = CatBoostClassifier(random_state=0, verbose=0)\n",
        "    cat.fit(X_train, y_train)\n",
        "\n",
        "    #Predict the classes of the testing data\n",
        "    y_pred = cat.predict(X_test)\n",
        "    #Evaluate the model performance\n",
        "    acc = accuracy_score(y_test, y_pred)\n",
        "    print('Accuracy:', acc)\n",
        "\n",
        "    cm = confusion_matrix(y_test, y_pred)\n",
        "    print('Confusion Matrix:\\n', cm)\n",
        "\n",
        "    cr = classification_report(y_test, y_pred)\n",
        "    print('Classification Report:\\n', cr)\n",
        "\n",
        "  def LDA(self, X_train, y_train, y_test, X_test):\n",
        "    # Create a LinearDiscriminantAnalysis object and fit the model to the training data\n",
        "    lda = LinearDiscriminantAnalysis()\n",
        "    lda.fit(X_train, y_train)\n",
        "    # Predict the classes of the testing data\n",
        "    y_pred = lda.predict(X_test)\n",
        "\n",
        "    # Evaluate the model performance\n",
        "    acc = accuracy_score(y_test, y_pred)\n",
        "    print('Accuracy:', acc)\n",
        "\n",
        "    cm = confusion_matrix(y_test, y_pred)\n",
        "    print('Confusion Matrix:\\n', cm)\n",
        "\n",
        "    cr = classification_report(y_test, y_pred)\n",
        "    print('Classification Report:\\n', cr)\n",
        "    return lda\n",
        "\n",
        "  def QDA(self, X_train, y_train, y_test, X_test):\n",
        "    #Create a QuadraticDiscriminantAnalysis object\n",
        "    qda = QuadraticDiscriminantAnalysis()\n",
        "    #Train the model on the training data\n",
        "    qda.fit(X_train, y_train)\n",
        "\n",
        "    #Predict the classes of the testing data\n",
        "    y_pred = qda.predict(X_test)\n",
        "    #Evaluate the model performance\n",
        "    acc = accuracy_score(y_test, y_pred)\n",
        "    print('Accuracy:', acc)\n",
        "\n",
        "    cm = confusion_matrix(y_test, y_pred)\n",
        "    print('Confusion Matrix:\\n', cm)\n",
        "\n",
        "    cr = classification_report(y_test, y_pred)\n",
        "    print('Classification Report:\\n', cr)\n",
        "\n",
        "\n",
        "    return qda\n"
      ]
    },
    {
      "cell_type": "code",
      "execution_count": null,
      "metadata": {
        "id": "WoJElBsvEqun"
      },
      "outputs": [],
      "source": [
        "#Making object of the class Models\n",
        "model = Models()"
      ]
    },
    {
      "cell_type": "markdown",
      "metadata": {
        "id": "VmurMXbJE12M"
      },
      "source": [
        "#Tuning"
      ]
    },
    {
      "cell_type": "code",
      "execution_count": null,
      "metadata": {
        "id": "ezsQDFHoEstT"
      },
      "outputs": [],
      "source": [
        "class Model_tuning:\n",
        "\n",
        "  def __inint__(self, X_train, y_train, y_test, X_test):\n",
        "    self.X_train = X_train\n",
        "    self.y_train = y_train\n",
        "    self.y_test = y_test\n",
        "    self.X_test = X_test\n",
        "\n",
        "  def LR_t(self, X_train, y_train, y_test, X_test):\n",
        "    param_grid = {'C': [0.01, 0.1, 1.0, 10.0, 100.0], 'penalty': ['l1', 'l2']}\n",
        "    LR_t = LogisticRegression(random_state=0)\n",
        "    #Perform GridSearchCV to find the best hyperparameters\n",
        "    grid_search = GridSearchCV(LR_t, param_grid, scoring='accuracy', cv=5, n_jobs=-1)\n",
        "    grid_search.fit(X_train, y_train)  \n",
        "    #Get the best hyperparameters and train the model on the training data\n",
        "    best_params = grid_search.best_params_\n",
        "    LR_t = LogisticRegression(**best_params, random_state=0)\n",
        "    LR_t.fit(X_train, y_train)\n",
        "    #Predict the classes of the testing data\n",
        "    y_pred = LR_t.predict(X_test)\n",
        "\n",
        "    #Evaluate the model performance\n",
        "    acc = accuracy_score(y_test, y_pred)\n",
        "    print('Accuracy:', acc)\n",
        "    print(\"#######################################################################\")\n",
        "    cm = confusion_matrix(y_test, y_pred)\n",
        "    print('Confusion Matrix:\\n', cm)\n",
        "    print(\"#######################################################################\")\n",
        "    cr = classification_report(y_test, y_pred)\n",
        "    print('Classification Report:\\n', cr)\n",
        "\n",
        "    return LR_t\n",
        "\n",
        "  def GNB_t(self, X_train, y_train, y_test, X_test):\n",
        "    # Create a Gaussian Naive Bayes object\n",
        "    gnb = GaussianNB()\n",
        "\n",
        "    # Define the hyperparameter grid to search over\n",
        "    param_grid = {'var_smoothing': np.logspace(0,-9, num=100)}\n",
        "\n",
        "    # Create a GridSearchCV object and fit it to the training data\n",
        "    gnb = GridSearchCV(gnb, param_grid, cv=10, scoring='accuracy')\n",
        "    gnb.fit(X_train, y_train)\n",
        "\n",
        "    #  Predict the classes of the testing data using the best estimator found by GridSearchCV\n",
        "    y_pred = gnb.best_estimator_.predict(X_test)\n",
        "\n",
        "    # Evaluate the model performance\n",
        "    acc = accuracy_score(y_test, y_pred)\n",
        "    print('Accuracy:', acc)\n",
        "\n",
        "    cm = confusion_matrix(y_test, y_pred)\n",
        "    print('Confusion Matrix:\\n', cm)\n",
        "\n",
        "    cr = classification_report(y_test, y_pred)\n",
        "    print('Classification Report:\\n', cr)\n",
        "\n",
        "    return gnb\n",
        "\n",
        "  def DT_t(self, X_train, y_train, y_test, X_test):\n",
        "    # Define the parameter grid\n",
        "    param_grid = {'max_depth': [3, 5, 7, None], \n",
        "                  'min_samples_split': [2, 5, 10],\n",
        "                  'min_samples_leaf': [1, 2, 4]}\n",
        "\n",
        "    # Create a decision tree object\n",
        "    dt = DecisionTreeClassifier(random_state=0)\n",
        "    # Create a GridSearchCV object with 5-fold cross-validation\n",
        "    dt_cv = GridSearchCV(dt, param_grid, cv=5)\n",
        "\n",
        "    # Train the model on the training data\n",
        "    dt_cv.fit(X_train, y_train)\n",
        "    # Print the best parameters and best score\n",
        "    print('Best Parameters:', dt_cv.best_params_)\n",
        "    print('Best Score:', dt_cv.best_score_)\n",
        "    # Predict the classes of the testing data using the best model\n",
        "    y_pred = dt_cv.predict(X_test)\n",
        "\n",
        "    # Evaluate the model performance\n",
        "    acc = accuracy_score(y_test, y_pred)\n",
        "    print('Accuracy:', acc)\n",
        "\n",
        "    cm = confusion_matrix(y_test, y_pred)\n",
        "    print('Confusion Matrix:\\n', cm)\n",
        "\n",
        "    cr = classification_report(y_test, y_pred)\n",
        "    print('Classification Report:\\n', cr)\n",
        "\n",
        "    return dt_cv\n",
        "\n",
        "  def RF_t(self, X_train, y_train, y_test, X_test):\n",
        "    # Set the parameter grid for hyperparameter tuning\n",
        "    param_grid = {\n",
        "        'n_estimators': [100, 200, 300],\n",
        "        'max_depth': [None, 5, 10],\n",
        "        'min_samples_split': [2, 5, 10],\n",
        "        'min_samples_leaf': [1, 2, 4],\n",
        "        'max_features': ['auto', 'sqrt']\n",
        "    }\n",
        "    # Create a random forest classifier object\n",
        "    rfc = RandomForestClassifier(random_state=0)\n",
        "    # Create a GridSearchCV object\n",
        "    grid_search = GridSearchCV(estimator=rfc, param_grid=param_grid, cv=5)\n",
        "    # Train the GridSearchCV object on the training data\n",
        "    grid_search.fit(X_train, y_train)\n",
        "    # Print the best parameters and best score\n",
        "    print(\"Best Parameters: \", grid_search.best_params_)\n",
        "    print(\"Best Score: \", grid_search.best_score_)\n",
        "    # Predict the classes of the testing data using the best estimator from the GridSearchCV\n",
        "    y_pred = grid_search.best_estimator_.predict(X_test)\n",
        "    # Evaluate the model performance\n",
        "    acc = accuracy_score(y_test, y_pred)\n",
        "    print('Accuracy:', acc)\n",
        "    print(\"=======================================================================\")\n",
        "    cm = confusion_matrix(y_test, y_pred)\n",
        "    print('Confusion Matrix:\\n', cm)\n",
        "    print(\"=======================================================================\")\n",
        "    cr = classification_report(y_test, y_pred)\n",
        "    print('Classification Report:\\n', cr)\n",
        "\n",
        "    return grid_search\n",
        "\n",
        "  def SVC_t(self, X_train, y_train, y_test, X_test):\n",
        "    # Define the parameter grid for GridSearchCV\n",
        "    param_grid = {'C': [0.1, 1, 10, 100], 'kernel': ['linear', 'rbf', 'poly', 'sigmoid'], 'gamma': ['scale', 'auto']}\n",
        "    # Create an SVM object\n",
        "    svc = SVC(random_state=0)\n",
        "    # Perform GridSearchCV to find the best hyperparameters\n",
        "    grid_search = GridSearchCV(svc, param_grid, scoring='accuracy', cv=5, n_jobs=-1)\n",
        "    grid_search.fit(X_train, y_train)\n",
        "    # Get the best hyperparameters and train the model on the training data\n",
        "    best_params = grid_search.best_params_\n",
        "    svc = SVC(**best_params, probability=True, random_state=0)\n",
        "    svc.fit(X_train, y_train)\n",
        "    # Predict the classes of the testing data\n",
        "    y_pred = svc.predict(X_test)\n",
        "    # Evaluate the model performance\n",
        "    acc = accuracy_score(y_test, y_pred)\n",
        "    print('Accuracy:', acc)\n",
        "    print(\"=======================================================================\")\n",
        "    cm = confusion_matrix(y_test, y_pred)\n",
        "    print('Confusion Matrix:\\n', cm)\n",
        "    print(\"=======================================================================\")\n",
        "    cr = classification_report(y_test, y_pred)\n",
        "    print('Classification Report:\\n', cr)\n",
        "\n",
        "    return svc\n",
        "\n",
        "  def KNN_t(self, X_train, y_train, y_test, X_test):\n",
        "    # Define the parameter grid for GridSearchCV\n",
        "    param_grid = {'n_neighbors': [3, 5, 7, 9, 11], 'weights': ['uniform', 'distance']}\n",
        "\n",
        "    # Create a KNN object\n",
        "    knn = KNeighborsClassifier()\n",
        "\n",
        "    # Perform GridSearchCV to find the best hyperparameters\n",
        "    grid_search = GridSearchCV(knn, param_grid, scoring='accuracy', cv=5, n_jobs=-1)\n",
        "    grid_search.fit(X_train, y_train)\n",
        "\n",
        "    # Get the best hyperparameters and train the model on the training data\n",
        "    best_params = grid_search.best_params_\n",
        "    knn = KNeighborsClassifier(**best_params)\n",
        "    knn.fit(X_train, y_train)\n",
        "    # Predict the classes of the testing data\n",
        "    y_pred = knn.predict(X_test)\n",
        "    # Evaluate the model performance\n",
        "    acc = accuracy_score(y_test, y_pred)\n",
        "    print('Accuracy:', acc)\n",
        "    print(\"=======================================================================\")\n",
        "    cm = confusion_matrix(y_test, y_pred)\n",
        "    print('Confusion Matrix:\\n', cm)\n",
        "    print(\"=======================================================================\")\n",
        "    cr = classification_report(y_test, y_pred)\n",
        "    print('Classification Report:\\n', cr)\n",
        "\n",
        "    return knn\n",
        "\n",
        "\n",
        "  def GB_t(self, X_train, y_train, y_test, X_test):\n",
        "    # Define the parameter grid for GridSearchCV\n",
        "    param_grid = {'n_estimators': [50, 100, 150], 'max_depth': [3, 5, 7], 'learning_rate': [0.01, 0.1, 1.0]}\n",
        "    # Create a Gradient Boosting object\n",
        "    gb = GradientBoostingClassifier(random_state=0)\n",
        "    # Perform GridSearchCV to find the best hyperparameters\n",
        "    grid_search = GridSearchCV(gb, param_grid, scoring='accuracy', cv=5, n_jobs=-1)\n",
        "    grid_search.fit(X_train, y_train)\n",
        "    # Get the best hyperparameters and train the model on the training data\n",
        "    best_params = grid_search.best_params_\n",
        "    gb = GradientBoostingClassifier(**best_params, random_state=0)\n",
        "    gb.fit(X_train, y_train)\n",
        "    # Predict the classes of the testing data\n",
        "    y_pred = gb.predict(X_test)\n",
        "    # Evaluate the model performance\n",
        "    acc = accuracy_score(y_test, y_pred)\n",
        "    print('Accuracy:', acc)\n",
        "    print(\"=======================================================================\")\n",
        "    cm = confusion_matrix(y_test, y_pred)\n",
        "    print('Confusion Matrix:\\n', cm)\n",
        "    print(\"=======================================================================\")\n",
        "    cr = classification_report(y_test, y_pred)\n",
        "    print('Classification Report:\\n', cr)\n",
        "\n",
        "    return gb\n",
        "\n",
        "  def ADAB_t(self, X_train, y_train, y_test, X_test):\n",
        "    # Define the parameter grid for GridSearchCV\n",
        "    param_grid = {'n_estimators': [50, 100, 150], 'learning_rate': [0.01, 0.1, 1.0]}\n",
        "    # Create an AdaBoost object\n",
        "    ada = AdaBoostClassifier(random_state=0)\n",
        "\n",
        "    # Perform GridSearchCV to find the best hyperparameters\n",
        "    grid_search = GridSearchCV(ada, param_grid, scoring='accuracy', cv=5, n_jobs=-1)\n",
        "    grid_search.fit(X_train, y_train)\n",
        "    # Get the best hyperparameters and train the model on the training data\n",
        "    best_params = grid_search.best_params_\n",
        "    ada = AdaBoostClassifier(**best_params, random_state=0)\n",
        "    ada.fit(X_train, y_train)\n",
        "\n",
        "    # Predict the classes of the testing data\n",
        "    y_pred = ada.predict(X_test)\n",
        "    # Evaluate the model performance\n",
        "    acc = accuracy_score(y_test, y_pred)\n",
        "    print('Accuracy:', acc)\n",
        "\n",
        "    cm = confusion_matrix(y_test, y_pred)\n",
        "    print('Confusion Matrix:\\n', cm)\n",
        "\n",
        "    cr = classification_report(y_test, y_pred)\n",
        "    print('Classification Report:\\n', cr)\n",
        "\n",
        "    return ada\n",
        "\n",
        "  def BAG_t(self, X_train, y_train, y_test, X_test):\n",
        "    # Define the parameter grid for GridSearchCV\n",
        "    param_grid = {'n_estimators': [50, 100, 150], 'max_samples': [0.5, 0.7, 1.0], 'max_features': [0.5, 0.7, 1.0]}\n",
        "    # Create a Bagging object\n",
        "    tree = DecisionTreeClassifier(random_state=0)\n",
        "    bag = BaggingClassifier(tree, random_state=0)\n",
        "    # Perform GridSearchCV to find the best hyperparameters\n",
        "    grid_search = GridSearchCV(bag, param_grid, scoring='accuracy', cv=5, n_jobs=-1)\n",
        "    grid_search.fit(X_train, y_train)\n",
        "    # Get the best hyperparameters and train the model on the training data\n",
        "    best_params = grid_search.best_params_\n",
        "    bag = BaggingClassifier(tree, **best_params, random_state=0)\n",
        "    bag.fit(X_train, y_train)\n",
        "\n",
        "    # Predict the classes of the testing data\n",
        "    y_pred = bag.predict(X_test)\n",
        "    # Evaluate the model performance\n",
        "    acc = accuracy_score(y_test, y_pred)\n",
        "    print('Accuracy:', acc)\n",
        "\n",
        "    cm = confusion_matrix(y_test, y_pred)\n",
        "    print('Confusion Matrix:\\n', cm)\n",
        "\n",
        "    cr = classification_report(y_test, y_pred)\n",
        "    print('Classification Report:\\n', cr)\n",
        "\n",
        "    return bag\n",
        "\n",
        "  def XGB_t(self, X_train, y_train, y_test, X_test):\n",
        "    param_grid = {'n_estimators': [50, 100, 150], 'learning_rate': [0.01, 0.1, 1.0], 'max_depth': [3, 5, 7]}\n",
        "    xgb = XGBClassifier(random_state=0)\n",
        "    grid_search = GridSearchCV(xgb, param_grid, scoring='accuracy', cv=5, n_jobs=-1)\n",
        "    grid_search.fit(X_train, y_train)\n",
        "    best_params = grid_search.best_params_\n",
        "    xgb = XGBClassifier(**best_params, random_state=0)\n",
        "    xgb.fit(X_train, y_train)\n",
        "    y_pred = xgb.predict(X_test)\n",
        "    acc = accuracy_score(y_test, y_pred)\n",
        "    print('Accuracy:', acc)\n",
        "\n",
        "    cm = confusion_matrix(y_test, y_pred)\n",
        "    print('Confusion Matrix:\\n', cm)\n",
        "\n",
        "    cr = classification_report(y_test, y_pred)\n",
        "    print('Classification Report:\\n', cr)\n",
        "\n",
        "    return xgb\n",
        "\n",
        "  def LGB_t(self, X_train, y_train, y_test, X_test):\n",
        "    # Define the parameter grid for GridSearchCV\n",
        "    param_grid = {'num_leaves': [31, 63, 127], 'learning_rate': [0.1, 0.05, 0.01], 'n_estimators': [50, 100, 150]}\n",
        "\n",
        "    # Create a LightGBM object\n",
        "    lgbm = lgb.LGBMClassifier(random_state=0)\n",
        "\n",
        "    # Perform GridSearchCV to find the best hyperparameters\n",
        "    grid_search = GridSearchCV(lgbm, param_grid, scoring='accuracy', cv=5, n_jobs=-1)\n",
        "    grid_search.fit(X_train, y_train)\n",
        "    # Get the best hyperparameters and train the model on the training data\n",
        "    best_params = grid_search.best_params_\n",
        "    lgbm = lgb.LGBMClassifier(**best_params, random_state=0)\n",
        "    lgbm.fit(X_train, y_train)\n",
        "\n",
        "    # Predict the classes of the testing data\n",
        "    y_pred = lgbm.predict(X_test)\n",
        "    # Evaluate the model performance\n",
        "    acc = accuracy_score(y_test, y_pred)\n",
        "    print('Accuracy:', acc)\n",
        "\n",
        "    cm = confusion_matrix(y_test, y_pred)\n",
        "    print('Confusion Matrix:\\n', cm)\n",
        "\n",
        "    cr = classification_report(y_test, y_pred)\n",
        "    print('Classification Report:\\n', cr)\n",
        "\n",
        "    return lgbm\n",
        "\n",
        "  def CB_t(self, X_train, y_train, y_test, X_test):\n",
        "    #Define the parameter grid for GridSearchCV\n",
        "    param_grid = {'learning_rate': [0.1, 0.05, 0.01], 'n_estimators': [50, 100, 150], 'depth': [4, 6, 8]}\n",
        "\n",
        "    #Create a CatBoost object\n",
        "    cat = CatBoostClassifier(random_state=0, verbose=0)\n",
        "    #Perform GridSearchCV to find the best hyperparameters\n",
        "    grid_search = GridSearchCV(cat, param_grid, scoring='accuracy', cv=5, n_jobs=-1)\n",
        "    grid_search.fit(X_train, y_train)\n",
        "\n",
        "    #Get the best hyperparameters and train the model on the training data\n",
        "    best_params = grid_search.best_params_\n",
        "    cat = CatBoostClassifier(**best_params, random_state=0, verbose=0)\n",
        "    cat.fit(X_train, y_train)\n",
        "    #Predict the classes of the testing data\n",
        "    y_pred = cat.predict(X_test)\n",
        "\n",
        "    #Evaluate the model performance\n",
        "    acc = accuracy_score(y_test, y_pred)\n",
        "    print('Accuracy:', acc)\n",
        "\n",
        "    cm = confusion_matrix(y_test, y_pred)\n",
        "    print('Confusion Matrix:\\n', cm)\n",
        "\n",
        "    cr = classification_report(y_test, y_pred)\n",
        "    print('Classification Report:\\n', cr)\n",
        "\n",
        "    return cat\n",
        "\n",
        "  def LDA_t():\n",
        "    print(\"LDA has no Parameter Tuning\")\n",
        "\n",
        "  def QDA_t():\n",
        "    print(\"QDA has no parameter tuning\")\n"
      ]
    },
    {
      "cell_type": "code",
      "execution_count": null,
      "metadata": {
        "id": "pWamPOUTEusG"
      },
      "outputs": [],
      "source": [
        "modelt = Model_tuning()"
      ]
    },
    {
      "cell_type": "markdown",
      "metadata": {
        "id": "D2nZPLCuJvAp"
      },
      "source": [
        "#importing CSV "
      ]
    },
    {
      "cell_type": "code",
      "execution_count": null,
      "metadata": {
        "id": "pgFj01BK6PqU"
      },
      "outputs": [],
      "source": [
        "df = pd.read_excel('/content/drive/MyDrive/Dashborad_academics/prediction_dataset1.xlsx')"
      ]
    },
    {
      "cell_type": "code",
      "execution_count": null,
      "metadata": {
        "colab": {
          "base_uri": "https://localhost:8080/",
          "height": 366
        },
        "id": "-Laceu2OB-2O",
        "outputId": "3ab4f683-1dad-41c4-a450-6182360bd201"
      },
      "outputs": [
        {
          "data": {
            "text/html": [
              "\n",
              "  <div id=\"df-9a22e487-a613-445a-b233-443376f00c5e\">\n",
              "    <div class=\"colab-df-container\">\n",
              "      <div>\n",
              "<style scoped>\n",
              "    .dataframe tbody tr th:only-of-type {\n",
              "        vertical-align: middle;\n",
              "    }\n",
              "\n",
              "    .dataframe tbody tr th {\n",
              "        vertical-align: top;\n",
              "    }\n",
              "\n",
              "    .dataframe thead th {\n",
              "        text-align: right;\n",
              "    }\n",
              "</style>\n",
              "<table border=\"1\" class=\"dataframe\">\n",
              "  <thead>\n",
              "    <tr style=\"text-align: right;\">\n",
              "      <th></th>\n",
              "      <th>Sr. No.</th>\n",
              "      <th>AM-I(70442101)Attempts</th>\n",
              "      <th>AM-I(70442101) ESE (70) Final</th>\n",
              "      <th>AM-I(70442101) ISE (30) Final</th>\n",
              "      <th>AM-I(70442101) ICA (25) Final</th>\n",
              "      <th>AM-I(70442101) Condol/ Grace Final</th>\n",
              "      <th>AM-I(70442101) Total (125) Final</th>\n",
              "      <th>AM-I(70442101)Grade Final</th>\n",
              "      <th>AM-I(70442101) GP Final</th>\n",
              "      <th>AM-I(70442101) EGP (Credits = 4) Final</th>\n",
              "      <th>...</th>\n",
              "      <th>Sem VII &amp; VIII BE SGPA Final</th>\n",
              "      <th>Sem VII &amp; VIII BE Status Final</th>\n",
              "      <th>Sem VII &amp; VIII BE Grade Final</th>\n",
              "      <th>Grand Total (5000)</th>\n",
              "      <th>%</th>\n",
              "      <th>EGP</th>\n",
              "      <th>CGPA (Credits = 153)</th>\n",
              "      <th>Status</th>\n",
              "      <th>Grade</th>\n",
              "      <th>Number of extra years required</th>\n",
              "    </tr>\n",
              "  </thead>\n",
              "  <tbody>\n",
              "    <tr>\n",
              "      <th>0</th>\n",
              "      <td>1</td>\n",
              "      <td>1</td>\n",
              "      <td>32</td>\n",
              "      <td>28</td>\n",
              "      <td>23</td>\n",
              "      <td>0</td>\n",
              "      <td>83</td>\n",
              "      <td>A</td>\n",
              "      <td>8</td>\n",
              "      <td>32</td>\n",
              "      <td>...</td>\n",
              "      <td>8.142857</td>\n",
              "      <td>Pass</td>\n",
              "      <td>A</td>\n",
              "      <td>3309</td>\n",
              "      <td>66.18</td>\n",
              "      <td>1212</td>\n",
              "      <td>7.92</td>\n",
              "      <td>Pass</td>\n",
              "      <td>A</td>\n",
              "      <td>0</td>\n",
              "    </tr>\n",
              "    <tr>\n",
              "      <th>1</th>\n",
              "      <td>2</td>\n",
              "      <td>1</td>\n",
              "      <td>29</td>\n",
              "      <td>25</td>\n",
              "      <td>19</td>\n",
              "      <td>0</td>\n",
              "      <td>73</td>\n",
              "      <td>B+</td>\n",
              "      <td>7</td>\n",
              "      <td>28</td>\n",
              "      <td>...</td>\n",
              "      <td>8.244898</td>\n",
              "      <td>Pass</td>\n",
              "      <td>A</td>\n",
              "      <td>3426</td>\n",
              "      <td>68.52</td>\n",
              "      <td>1228</td>\n",
              "      <td>8.03</td>\n",
              "      <td>Pass</td>\n",
              "      <td>A</td>\n",
              "      <td>0</td>\n",
              "    </tr>\n",
              "    <tr>\n",
              "      <th>2</th>\n",
              "      <td>3</td>\n",
              "      <td>1</td>\n",
              "      <td>64</td>\n",
              "      <td>30</td>\n",
              "      <td>24</td>\n",
              "      <td>0</td>\n",
              "      <td>118</td>\n",
              "      <td>O</td>\n",
              "      <td>10</td>\n",
              "      <td>40</td>\n",
              "      <td>...</td>\n",
              "      <td>9.142857</td>\n",
              "      <td>Pass</td>\n",
              "      <td>A+</td>\n",
              "      <td>3909</td>\n",
              "      <td>78.18</td>\n",
              "      <td>1380</td>\n",
              "      <td>9.02</td>\n",
              "      <td>Pass</td>\n",
              "      <td>A+</td>\n",
              "      <td>0</td>\n",
              "    </tr>\n",
              "    <tr>\n",
              "      <th>3</th>\n",
              "      <td>4</td>\n",
              "      <td>1</td>\n",
              "      <td>53</td>\n",
              "      <td>25</td>\n",
              "      <td>22</td>\n",
              "      <td>0</td>\n",
              "      <td>100</td>\n",
              "      <td>O</td>\n",
              "      <td>10</td>\n",
              "      <td>40</td>\n",
              "      <td>...</td>\n",
              "      <td>9.224490</td>\n",
              "      <td>Pass</td>\n",
              "      <td>A+</td>\n",
              "      <td>4003</td>\n",
              "      <td>80.06</td>\n",
              "      <td>1430</td>\n",
              "      <td>9.35</td>\n",
              "      <td>Pass</td>\n",
              "      <td>A+</td>\n",
              "      <td>0</td>\n",
              "    </tr>\n",
              "    <tr>\n",
              "      <th>4</th>\n",
              "      <td>5</td>\n",
              "      <td>1</td>\n",
              "      <td>31</td>\n",
              "      <td>25</td>\n",
              "      <td>24</td>\n",
              "      <td>0</td>\n",
              "      <td>80</td>\n",
              "      <td>A</td>\n",
              "      <td>8</td>\n",
              "      <td>32</td>\n",
              "      <td>...</td>\n",
              "      <td>9.265306</td>\n",
              "      <td>Pass</td>\n",
              "      <td>A+</td>\n",
              "      <td>4011</td>\n",
              "      <td>80.22</td>\n",
              "      <td>1424</td>\n",
              "      <td>9.31</td>\n",
              "      <td>Pass</td>\n",
              "      <td>A+</td>\n",
              "      <td>0</td>\n",
              "    </tr>\n",
              "  </tbody>\n",
              "</table>\n",
              "<p>5 rows × 509 columns</p>\n",
              "</div>\n",
              "      <button class=\"colab-df-convert\" onclick=\"convertToInteractive('df-9a22e487-a613-445a-b233-443376f00c5e')\"\n",
              "              title=\"Convert this dataframe to an interactive table.\"\n",
              "              style=\"display:none;\">\n",
              "        \n",
              "  <svg xmlns=\"http://www.w3.org/2000/svg\" height=\"24px\"viewBox=\"0 0 24 24\"\n",
              "       width=\"24px\">\n",
              "    <path d=\"M0 0h24v24H0V0z\" fill=\"none\"/>\n",
              "    <path d=\"M18.56 5.44l.94 2.06.94-2.06 2.06-.94-2.06-.94-.94-2.06-.94 2.06-2.06.94zm-11 1L8.5 8.5l.94-2.06 2.06-.94-2.06-.94L8.5 2.5l-.94 2.06-2.06.94zm10 10l.94 2.06.94-2.06 2.06-.94-2.06-.94-.94-2.06-.94 2.06-2.06.94z\"/><path d=\"M17.41 7.96l-1.37-1.37c-.4-.4-.92-.59-1.43-.59-.52 0-1.04.2-1.43.59L10.3 9.45l-7.72 7.72c-.78.78-.78 2.05 0 2.83L4 21.41c.39.39.9.59 1.41.59.51 0 1.02-.2 1.41-.59l7.78-7.78 2.81-2.81c.8-.78.8-2.07 0-2.86zM5.41 20L4 18.59l7.72-7.72 1.47 1.35L5.41 20z\"/>\n",
              "  </svg>\n",
              "      </button>\n",
              "      \n",
              "  <style>\n",
              "    .colab-df-container {\n",
              "      display:flex;\n",
              "      flex-wrap:wrap;\n",
              "      gap: 12px;\n",
              "    }\n",
              "\n",
              "    .colab-df-convert {\n",
              "      background-color: #E8F0FE;\n",
              "      border: none;\n",
              "      border-radius: 50%;\n",
              "      cursor: pointer;\n",
              "      display: none;\n",
              "      fill: #1967D2;\n",
              "      height: 32px;\n",
              "      padding: 0 0 0 0;\n",
              "      width: 32px;\n",
              "    }\n",
              "\n",
              "    .colab-df-convert:hover {\n",
              "      background-color: #E2EBFA;\n",
              "      box-shadow: 0px 1px 2px rgba(60, 64, 67, 0.3), 0px 1px 3px 1px rgba(60, 64, 67, 0.15);\n",
              "      fill: #174EA6;\n",
              "    }\n",
              "\n",
              "    [theme=dark] .colab-df-convert {\n",
              "      background-color: #3B4455;\n",
              "      fill: #D2E3FC;\n",
              "    }\n",
              "\n",
              "    [theme=dark] .colab-df-convert:hover {\n",
              "      background-color: #434B5C;\n",
              "      box-shadow: 0px 1px 3px 1px rgba(0, 0, 0, 0.15);\n",
              "      filter: drop-shadow(0px 1px 2px rgba(0, 0, 0, 0.3));\n",
              "      fill: #FFFFFF;\n",
              "    }\n",
              "  </style>\n",
              "\n",
              "      <script>\n",
              "        const buttonEl =\n",
              "          document.querySelector('#df-9a22e487-a613-445a-b233-443376f00c5e button.colab-df-convert');\n",
              "        buttonEl.style.display =\n",
              "          google.colab.kernel.accessAllowed ? 'block' : 'none';\n",
              "\n",
              "        async function convertToInteractive(key) {\n",
              "          const element = document.querySelector('#df-9a22e487-a613-445a-b233-443376f00c5e');\n",
              "          const dataTable =\n",
              "            await google.colab.kernel.invokeFunction('convertToInteractive',\n",
              "                                                     [key], {});\n",
              "          if (!dataTable) return;\n",
              "\n",
              "          const docLinkHtml = 'Like what you see? Visit the ' +\n",
              "            '<a target=\"_blank\" href=https://colab.research.google.com/notebooks/data_table.ipynb>data table notebook</a>'\n",
              "            + ' to learn more about interactive tables.';\n",
              "          element.innerHTML = '';\n",
              "          dataTable['output_type'] = 'display_data';\n",
              "          await google.colab.output.renderOutput(dataTable, element);\n",
              "          const docLink = document.createElement('div');\n",
              "          docLink.innerHTML = docLinkHtml;\n",
              "          element.appendChild(docLink);\n",
              "        }\n",
              "      </script>\n",
              "    </div>\n",
              "  </div>\n",
              "  "
            ],
            "text/plain": [
              "   Sr. No.  AM-I(70442101)Attempts  AM-I(70442101) ESE (70) Final  \\\n",
              "0        1                       1                             32   \n",
              "1        2                       1                             29   \n",
              "2        3                       1                             64   \n",
              "3        4                       1                             53   \n",
              "4        5                       1                             31   \n",
              "\n",
              "   AM-I(70442101) ISE (30) Final  AM-I(70442101) ICA (25) Final  \\\n",
              "0                             28                             23   \n",
              "1                             25                             19   \n",
              "2                             30                             24   \n",
              "3                             25                             22   \n",
              "4                             25                             24   \n",
              "\n",
              "   AM-I(70442101) Condol/ Grace Final  AM-I(70442101) Total (125) Final  \\\n",
              "0                                   0                                83   \n",
              "1                                   0                                73   \n",
              "2                                   0                               118   \n",
              "3                                   0                               100   \n",
              "4                                   0                                80   \n",
              "\n",
              "  AM-I(70442101)Grade Final  AM-I(70442101) GP Final  \\\n",
              "0                         A                        8   \n",
              "1                        B+                        7   \n",
              "2                         O                       10   \n",
              "3                         O                       10   \n",
              "4                         A                        8   \n",
              "\n",
              "   AM-I(70442101) EGP (Credits = 4) Final  ... Sem VII & VIII BE SGPA Final    \\\n",
              "0                                      32  ...                       8.142857   \n",
              "1                                      28  ...                       8.244898   \n",
              "2                                      40  ...                       9.142857   \n",
              "3                                      40  ...                       9.224490   \n",
              "4                                      32  ...                       9.265306   \n",
              "\n",
              "   Sem VII & VIII BE Status Final   Sem VII & VIII BE Grade Final  \\\n",
              "0                             Pass                              A   \n",
              "1                             Pass                              A   \n",
              "2                             Pass                             A+   \n",
              "3                             Pass                             A+   \n",
              "4                             Pass                             A+   \n",
              "\n",
              "   Grand Total (5000)      %   EGP  CGPA (Credits = 153) Status  Grade  \\\n",
              "0                3309  66.18  1212                  7.92   Pass      A   \n",
              "1                3426  68.52  1228                  8.03   Pass      A   \n",
              "2                3909  78.18  1380                  9.02   Pass     A+   \n",
              "3                4003  80.06  1430                  9.35   Pass     A+   \n",
              "4                4011  80.22  1424                  9.31   Pass     A+   \n",
              "\n",
              "   Number of extra years required  \n",
              "0                               0  \n",
              "1                               0  \n",
              "2                               0  \n",
              "3                               0  \n",
              "4                               0  \n",
              "\n",
              "[5 rows x 509 columns]"
            ]
          },
          "execution_count": 9,
          "metadata": {},
          "output_type": "execute_result"
        }
      ],
      "source": [
        "df.head()"
      ]
    },
    {
      "cell_type": "markdown",
      "metadata": {
        "id": "ty9cuL7kJ7u9"
      },
      "source": [
        "#Distrubuting data semester wise to get predictions and suggestions semester wise"
      ]
    },
    {
      "cell_type": "code",
      "execution_count": null,
      "metadata": {
        "id": "XaXPhEV4KCSC"
      },
      "outputs": [],
      "source": [
        "\n",
        "#semester wise distribution\n",
        "sem3 = df.iloc[:,1:75]\n",
        "sem4 = df.iloc[:,75:149]\n",
        "sem34 = df.iloc[:,149:157]\n",
        "sem5 = df.iloc[:,157:239]\n",
        "sem6 = df.iloc[:,239:327]\n",
        "sem56 = df.iloc[:,327:335]\n",
        "sem7 = df.iloc[:,335:418]\n",
        "sem8 = df.iloc[:,418:494]\n",
        "sem78 = df.iloc[:,494:502]\n",
        "grandtotal = df.iloc[:,502:508]"
      ]
    },
    {
      "cell_type": "markdown",
      "metadata": {
        "id": "mV4f5pDbKDph"
      },
      "source": [
        "#Distributing data subject wise to get predictions and suggestions subject wise"
      ]
    },
    {
      "cell_type": "code",
      "execution_count": null,
      "metadata": {
        "id": "ghwI6N6BKFlL"
      },
      "outputs": [],
      "source": [
        "#subject wise distribution\n",
        "am1 = df.iloc[:,1:11]\n",
        "dms = df.iloc[:,11:21]\n",
        "acc = df.iloc[:,21:34]\n",
        "dt = df.iloc[:,34:47]\n",
        "cg = df.iloc[:,47:57]\n",
        "vb = df.iloc[:,57:66]\n",
        "sem_3 = df.iloc[:,66:75]\n",
        "am2 = df.iloc[:,75:85]\n",
        "toc = df.iloc[:,85:95]\n",
        "mp = df.iloc[:,95:108]\n",
        "dc = df.iloc[:,108:118]\n",
        "ds = df.iloc[:,118:131]\n",
        "oodp = df.iloc[:,131:140]\n",
        "sem_4 = df.iloc[:,140:157]\n",
        "osc = df.iloc[:,157:170]\n",
        "cn = df.iloc[:,170:183]\n",
        "sp = df.iloc[:,183:193]\n",
        "daa = df.iloc[:,193:203]\n",
        "co = df.iloc[:,203:213]\n",
        "jp = df.iloc[:,213:222]\n",
        "sl1 = df.iloc[:,222:230]\n",
        "sem_5 = df.iloc[:,230:239]\n",
        "dbe = df.iloc[:,239:252]\n",
        "cc = df.iloc[:,252:262]\n",
        "uos = df.iloc[:,262:272]\n",
        "mc = df.iloc[:,272:282]\n",
        "se = df.iloc[:,282:292]\n",
        "c = df.iloc[:,292:301]\n",
        "mpj = df.iloc[:,301:310]\n",
        "sl2 = df.iloc[:310:318]\n",
        "sem_6 = df.iloc[:,318:335]\n",
        "aca = df.iloc[:,335:345]\n",
        "dsys = df.iloc[:,345:355]\n",
        "mds = df.iloc[:,355:368]\n",
        "pp1 = df.iloc[:,368:377]\n",
        "py = df.iloc[:,377:383]\n",
        "vt = df.iloc[:,383:389]\n",
        "el1 = df.iloc[:,389:399]\n",
        "el2 = df.iloc[:,399:409]\n",
        "sem_7 = df.iloc[:,409:418]\n",
        "mis = df.iloc[:,418:428]\n",
        "ics = df.iloc[:,428:441]\n",
        "wt = df.iloc[:,441:450]\n",
        "pp2 = df.iloc[:,450:459]\n",
        "ost = df.iloc[:,459:465]\n",
        "el3 = df.iloc[:,465:475]\n",
        "el4 = df.iloc[:,475:485]\n",
        "sem_8 = df.iloc[:,485:502]"
      ]
    },
    {
      "cell_type": "code",
      "execution_count": null,
      "metadata": {
        "id": "38AgtCmLDaES"
      },
      "outputs": [],
      "source": [
        "def preprocess(df,target):\n",
        "  # Split the data into input features (X) and target variable (y)\n",
        "  X = df.drop(target, axis=1)  # Input features\n",
        "  y = df[target]  # Target variable\n",
        "  # Convert the target variable to numeric values using label encoding\n",
        "  le = LabelEncoder()\n",
        "  y = le.fit_transform(y)\n",
        "  cat_cols = X.select_dtypes(include=['category','object']).columns.tolist()\n",
        "\n",
        "  print(cat_cols)\n",
        "  # Convert categorical features into numerical values using one-hot encoding\n",
        "  categorical_cols = cat_cols\n",
        "  ohe = OneHotEncoder(handle_unknown='ignore', sparse=False)\n",
        "  X_cat = pd.DataFrame(ohe.fit_transform(X[categorical_cols]))\n",
        "  X_cat.columns = ohe.get_feature_names_out(categorical_cols)\n",
        "  X_num = X.drop(categorical_cols, axis=1)\n",
        "  X = pd.concat([X_num, X_cat], axis=1)\n",
        "  # Split data into training and testing sets\n",
        "  X_train, X_test, y_train, y_test = train_test_split(X, y, test_size=0.2, random_state=0)\n",
        "  print(\"Shape of training split: \", X_train.shape)\n",
        "  print(\"Shape of test split: \", X_test.shape)\n",
        "\n",
        "  return X_train, X_test, y_train, y_test"
      ]
    },
    {
      "cell_type": "markdown",
      "metadata": {
        "id": "3PYSWPh8Z4ZG"
      },
      "source": [
        "#Sem - 5\n"
      ]
    },
    {
      "cell_type": "code",
      "execution_count": null,
      "metadata": {
        "colab": {
          "base_uri": "https://localhost:8080/",
          "height": 369
        },
        "id": "Gd7UYkFFbcnJ",
        "outputId": "769b93c7-d5d7-4040-8b56-0da8bd0dcba7"
      },
      "outputs": [
        {
          "data": {
            "text/html": [
              "\n",
              "  <div id=\"df-55d14006-a711-4dbd-9cd6-468495dfa41e\">\n",
              "    <div class=\"colab-df-container\">\n",
              "      <div>\n",
              "<style scoped>\n",
              "    .dataframe tbody tr th:only-of-type {\n",
              "        vertical-align: middle;\n",
              "    }\n",
              "\n",
              "    .dataframe tbody tr th {\n",
              "        vertical-align: top;\n",
              "    }\n",
              "\n",
              "    .dataframe thead th {\n",
              "        text-align: right;\n",
              "    }\n",
              "</style>\n",
              "<table border=\"1\" class=\"dataframe\">\n",
              "  <thead>\n",
              "    <tr style=\"text-align: right;\">\n",
              "      <th></th>\n",
              "      <th>OSC(70443101) Theory Attempts</th>\n",
              "      <th>OSC(70443101) Practical Attempts</th>\n",
              "      <th>OSC(70443101) ESE (70) Final</th>\n",
              "      <th>OSC(70443101) ISE (30) Final</th>\n",
              "      <th>OSC(70443101) Theory Condol/ Grace Final</th>\n",
              "      <th>OSC(70443101) ICA (25) Final</th>\n",
              "      <th>OSC(70443101) POE (50) Final</th>\n",
              "      <th>OSC(70443101) Practical Condol/ Grace Final</th>\n",
              "      <th>OSC(70443101) Total (175) Final</th>\n",
              "      <th>OSC(70443101) Grade Final</th>\n",
              "      <th>...</th>\n",
              "      <th>SL-I Status Final</th>\n",
              "      <th>Sem V Fail in subjects (7)</th>\n",
              "      <th>Sem V Pass in subjects (7)</th>\n",
              "      <th>Sem V Total (850) Final</th>\n",
              "      <th>Sem V % Final</th>\n",
              "      <th>Sem V Condol/ Grace Final</th>\n",
              "      <th>Sem V EGP Final</th>\n",
              "      <th>Sem V SGPA (Credits = 27) Final</th>\n",
              "      <th>Sem V Status Final</th>\n",
              "      <th>Sem V Grade Final</th>\n",
              "    </tr>\n",
              "  </thead>\n",
              "  <tbody>\n",
              "    <tr>\n",
              "      <th>0</th>\n",
              "      <td>1</td>\n",
              "      <td>1</td>\n",
              "      <td>38</td>\n",
              "      <td>15</td>\n",
              "      <td>0</td>\n",
              "      <td>22</td>\n",
              "      <td>21</td>\n",
              "      <td>0</td>\n",
              "      <td>96</td>\n",
              "      <td>B</td>\n",
              "      <td>...</td>\n",
              "      <td>P</td>\n",
              "      <td>0</td>\n",
              "      <td>7</td>\n",
              "      <td>478</td>\n",
              "      <td>56.24</td>\n",
              "      <td>0</td>\n",
              "      <td>184</td>\n",
              "      <td>6.814815</td>\n",
              "      <td>Pass</td>\n",
              "      <td>B+</td>\n",
              "    </tr>\n",
              "    <tr>\n",
              "      <th>1</th>\n",
              "      <td>1</td>\n",
              "      <td>1</td>\n",
              "      <td>31</td>\n",
              "      <td>18</td>\n",
              "      <td>0</td>\n",
              "      <td>15</td>\n",
              "      <td>40</td>\n",
              "      <td>0</td>\n",
              "      <td>104</td>\n",
              "      <td>B+</td>\n",
              "      <td>...</td>\n",
              "      <td>P</td>\n",
              "      <td>0</td>\n",
              "      <td>7</td>\n",
              "      <td>499</td>\n",
              "      <td>58.71</td>\n",
              "      <td>0</td>\n",
              "      <td>191</td>\n",
              "      <td>7.074074</td>\n",
              "      <td>Pass</td>\n",
              "      <td>B+</td>\n",
              "    </tr>\n",
              "    <tr>\n",
              "      <th>2</th>\n",
              "      <td>1</td>\n",
              "      <td>1</td>\n",
              "      <td>50</td>\n",
              "      <td>18</td>\n",
              "      <td>0</td>\n",
              "      <td>16</td>\n",
              "      <td>44</td>\n",
              "      <td>0</td>\n",
              "      <td>128</td>\n",
              "      <td>A+</td>\n",
              "      <td>...</td>\n",
              "      <td>P</td>\n",
              "      <td>0</td>\n",
              "      <td>7</td>\n",
              "      <td>598</td>\n",
              "      <td>70.35</td>\n",
              "      <td>0</td>\n",
              "      <td>230</td>\n",
              "      <td>8.518519</td>\n",
              "      <td>Pass</td>\n",
              "      <td>A+</td>\n",
              "    </tr>\n",
              "    <tr>\n",
              "      <th>3</th>\n",
              "      <td>1</td>\n",
              "      <td>1</td>\n",
              "      <td>61</td>\n",
              "      <td>26</td>\n",
              "      <td>0</td>\n",
              "      <td>23</td>\n",
              "      <td>42</td>\n",
              "      <td>0</td>\n",
              "      <td>152</td>\n",
              "      <td>O</td>\n",
              "      <td>...</td>\n",
              "      <td>P</td>\n",
              "      <td>0</td>\n",
              "      <td>7</td>\n",
              "      <td>689</td>\n",
              "      <td>81.06</td>\n",
              "      <td>0</td>\n",
              "      <td>259</td>\n",
              "      <td>9.592593</td>\n",
              "      <td>Pass</td>\n",
              "      <td>O</td>\n",
              "    </tr>\n",
              "    <tr>\n",
              "      <th>4</th>\n",
              "      <td>1</td>\n",
              "      <td>1</td>\n",
              "      <td>54</td>\n",
              "      <td>26</td>\n",
              "      <td>0</td>\n",
              "      <td>24</td>\n",
              "      <td>45</td>\n",
              "      <td>0</td>\n",
              "      <td>149</td>\n",
              "      <td>O</td>\n",
              "      <td>...</td>\n",
              "      <td>P</td>\n",
              "      <td>0</td>\n",
              "      <td>7</td>\n",
              "      <td>695</td>\n",
              "      <td>81.76</td>\n",
              "      <td>0</td>\n",
              "      <td>257</td>\n",
              "      <td>9.518519</td>\n",
              "      <td>Pass</td>\n",
              "      <td>O</td>\n",
              "    </tr>\n",
              "  </tbody>\n",
              "</table>\n",
              "<p>5 rows × 82 columns</p>\n",
              "</div>\n",
              "      <button class=\"colab-df-convert\" onclick=\"convertToInteractive('df-55d14006-a711-4dbd-9cd6-468495dfa41e')\"\n",
              "              title=\"Convert this dataframe to an interactive table.\"\n",
              "              style=\"display:none;\">\n",
              "        \n",
              "  <svg xmlns=\"http://www.w3.org/2000/svg\" height=\"24px\"viewBox=\"0 0 24 24\"\n",
              "       width=\"24px\">\n",
              "    <path d=\"M0 0h24v24H0V0z\" fill=\"none\"/>\n",
              "    <path d=\"M18.56 5.44l.94 2.06.94-2.06 2.06-.94-2.06-.94-.94-2.06-.94 2.06-2.06.94zm-11 1L8.5 8.5l.94-2.06 2.06-.94-2.06-.94L8.5 2.5l-.94 2.06-2.06.94zm10 10l.94 2.06.94-2.06 2.06-.94-2.06-.94-.94-2.06-.94 2.06-2.06.94z\"/><path d=\"M17.41 7.96l-1.37-1.37c-.4-.4-.92-.59-1.43-.59-.52 0-1.04.2-1.43.59L10.3 9.45l-7.72 7.72c-.78.78-.78 2.05 0 2.83L4 21.41c.39.39.9.59 1.41.59.51 0 1.02-.2 1.41-.59l7.78-7.78 2.81-2.81c.8-.78.8-2.07 0-2.86zM5.41 20L4 18.59l7.72-7.72 1.47 1.35L5.41 20z\"/>\n",
              "  </svg>\n",
              "      </button>\n",
              "      \n",
              "  <style>\n",
              "    .colab-df-container {\n",
              "      display:flex;\n",
              "      flex-wrap:wrap;\n",
              "      gap: 12px;\n",
              "    }\n",
              "\n",
              "    .colab-df-convert {\n",
              "      background-color: #E8F0FE;\n",
              "      border: none;\n",
              "      border-radius: 50%;\n",
              "      cursor: pointer;\n",
              "      display: none;\n",
              "      fill: #1967D2;\n",
              "      height: 32px;\n",
              "      padding: 0 0 0 0;\n",
              "      width: 32px;\n",
              "    }\n",
              "\n",
              "    .colab-df-convert:hover {\n",
              "      background-color: #E2EBFA;\n",
              "      box-shadow: 0px 1px 2px rgba(60, 64, 67, 0.3), 0px 1px 3px 1px rgba(60, 64, 67, 0.15);\n",
              "      fill: #174EA6;\n",
              "    }\n",
              "\n",
              "    [theme=dark] .colab-df-convert {\n",
              "      background-color: #3B4455;\n",
              "      fill: #D2E3FC;\n",
              "    }\n",
              "\n",
              "    [theme=dark] .colab-df-convert:hover {\n",
              "      background-color: #434B5C;\n",
              "      box-shadow: 0px 1px 3px 1px rgba(0, 0, 0, 0.15);\n",
              "      filter: drop-shadow(0px 1px 2px rgba(0, 0, 0, 0.3));\n",
              "      fill: #FFFFFF;\n",
              "    }\n",
              "  </style>\n",
              "\n",
              "      <script>\n",
              "        const buttonEl =\n",
              "          document.querySelector('#df-55d14006-a711-4dbd-9cd6-468495dfa41e button.colab-df-convert');\n",
              "        buttonEl.style.display =\n",
              "          google.colab.kernel.accessAllowed ? 'block' : 'none';\n",
              "\n",
              "        async function convertToInteractive(key) {\n",
              "          const element = document.querySelector('#df-55d14006-a711-4dbd-9cd6-468495dfa41e');\n",
              "          const dataTable =\n",
              "            await google.colab.kernel.invokeFunction('convertToInteractive',\n",
              "                                                     [key], {});\n",
              "          if (!dataTable) return;\n",
              "\n",
              "          const docLinkHtml = 'Like what you see? Visit the ' +\n",
              "            '<a target=\"_blank\" href=https://colab.research.google.com/notebooks/data_table.ipynb>data table notebook</a>'\n",
              "            + ' to learn more about interactive tables.';\n",
              "          element.innerHTML = '';\n",
              "          dataTable['output_type'] = 'display_data';\n",
              "          await google.colab.output.renderOutput(dataTable, element);\n",
              "          const docLink = document.createElement('div');\n",
              "          docLink.innerHTML = docLinkHtml;\n",
              "          element.appendChild(docLink);\n",
              "        }\n",
              "      </script>\n",
              "    </div>\n",
              "  </div>\n",
              "  "
            ],
            "text/plain": [
              "   OSC(70443101) Theory Attempts  OSC(70443101) Practical Attempts  \\\n",
              "0                              1                                 1   \n",
              "1                              1                                 1   \n",
              "2                              1                                 1   \n",
              "3                              1                                 1   \n",
              "4                              1                                 1   \n",
              "\n",
              "   OSC(70443101) ESE (70) Final  OSC(70443101) ISE (30) Final  \\\n",
              "0                            38                            15   \n",
              "1                            31                            18   \n",
              "2                            50                            18   \n",
              "3                            61                            26   \n",
              "4                            54                            26   \n",
              "\n",
              "   OSC(70443101) Theory Condol/ Grace Final  OSC(70443101) ICA (25) Final  \\\n",
              "0                                         0                            22   \n",
              "1                                         0                            15   \n",
              "2                                         0                            16   \n",
              "3                                         0                            23   \n",
              "4                                         0                            24   \n",
              "\n",
              "   OSC(70443101) POE (50) Final  OSC(70443101) Practical Condol/ Grace Final  \\\n",
              "0                            21                                            0   \n",
              "1                            40                                            0   \n",
              "2                            44                                            0   \n",
              "3                            42                                            0   \n",
              "4                            45                                            0   \n",
              "\n",
              "   OSC(70443101) Total (175) Final OSC(70443101) Grade Final  ...  \\\n",
              "0                               96                         B  ...   \n",
              "1                              104                        B+  ...   \n",
              "2                              128                        A+  ...   \n",
              "3                              152                         O  ...   \n",
              "4                              149                         O  ...   \n",
              "\n",
              "   SL-I Status Final  Sem V Fail in subjects (7) Sem V Pass in subjects (7)  \\\n",
              "0                  P                           0                          7   \n",
              "1                  P                           0                          7   \n",
              "2                  P                           0                          7   \n",
              "3                  P                           0                          7   \n",
              "4                  P                           0                          7   \n",
              "\n",
              "   Sem V Total (850) Final  Sem V % Final  Sem V Condol/ Grace Final  \\\n",
              "0                      478          56.24                          0   \n",
              "1                      499          58.71                          0   \n",
              "2                      598          70.35                          0   \n",
              "3                      689          81.06                          0   \n",
              "4                      695          81.76                          0   \n",
              "\n",
              "   Sem V EGP Final   Sem V SGPA (Credits = 27) Final   Sem V Status Final   \\\n",
              "0               184                          6.814815                 Pass   \n",
              "1               191                          7.074074                 Pass   \n",
              "2               230                          8.518519                 Pass   \n",
              "3               259                          9.592593                 Pass   \n",
              "4               257                          9.518519                 Pass   \n",
              "\n",
              "   Sem V Grade Final  \n",
              "0                 B+  \n",
              "1                 B+  \n",
              "2                 A+  \n",
              "3                  O  \n",
              "4                  O  \n",
              "\n",
              "[5 rows x 82 columns]"
            ]
          },
          "execution_count": 10,
          "metadata": {},
          "output_type": "execute_result"
        }
      ],
      "source": [
        "sem5.head()"
      ]
    },
    {
      "cell_type": "code",
      "execution_count": null,
      "metadata": {
        "colab": {
          "base_uri": "https://localhost:8080/"
        },
        "id": "2V8CMgpuaCt_",
        "outputId": "aa257f56-a6b0-426f-b127-ab12565da9da"
      },
      "outputs": [
        {
          "data": {
            "text/plain": [
              "(200, 82)"
            ]
          },
          "execution_count": 11,
          "metadata": {},
          "output_type": "execute_result"
        }
      ],
      "source": [
        "sem5.shape"
      ]
    },
    {
      "cell_type": "code",
      "execution_count": null,
      "metadata": {
        "id": "iUVGkRKPaEiP"
      },
      "outputs": [],
      "source": [
        "target = 'Sem V Grade Final'"
      ]
    },
    {
      "cell_type": "code",
      "execution_count": null,
      "metadata": {
        "colab": {
          "base_uri": "https://localhost:8080/"
        },
        "id": "Em0BZjw4aGtJ",
        "outputId": "f4059d8c-3908-4def-c1d4-eebbf41766cc"
      },
      "outputs": [
        {
          "name": "stdout",
          "output_type": "stream",
          "text": [
            "['OSC(70443101) Grade Final', 'OSC(70443101) Status Final', 'CN(70443102) Grade Final', 'CN(70443102) Status Final', 'SP(70443103) Grade Final', 'SP(70443103) Status Final', 'DAA(70443104) Grade Final', 'DAA(70443104) Status Final', 'CO(70443105) Grade Final', 'CO(70443105) Status Final', 'JP(70443106) Grade Final', 'JP(70443106) Status Final', 'SL-I Grade Final', 'SL-I Status Final', 'Sem V Status Final ']\n",
            "Shape of training split:  (160, 119)\n",
            "Shape of test split:  (40, 119)\n"
          ]
        }
      ],
      "source": [
        "X_train, X_test, y_train, y_test = preprocess(sem5,target)"
      ]
    },
    {
      "cell_type": "markdown",
      "metadata": {
        "id": "E0puGfKqbSH2"
      },
      "source": [
        "#Logistic Regression"
      ]
    },
    {
      "cell_type": "code",
      "execution_count": null,
      "metadata": {
        "colab": {
          "base_uri": "https://localhost:8080/"
        },
        "id": "IOs8MusvbRO4",
        "outputId": "9c3bc41c-36b9-4121-e502-e1f68140a37d"
      },
      "outputs": [
        {
          "name": "stdout",
          "output_type": "stream",
          "text": [
            "Accuracy: 0.7\n",
            "Confusion Matrix:\n",
            " [[ 6  6  0  1]\n",
            " [ 0 18  0  1]\n",
            " [ 1  1  0  0]\n",
            " [ 0  2  0  4]]\n",
            "Classification Report:\n",
            "               precision    recall  f1-score   support\n",
            "\n",
            "           0       0.86      0.46      0.60        13\n",
            "           1       0.67      0.95      0.78        19\n",
            "           3       0.00      0.00      0.00         2\n",
            "           4       0.67      0.67      0.67         6\n",
            "\n",
            "    accuracy                           0.70        40\n",
            "   macro avg       0.55      0.52      0.51        40\n",
            "weighted avg       0.70      0.70      0.67        40\n",
            "\n"
          ]
        }
      ],
      "source": [
        "model.LR(X_train,y_train,y_test,X_test)"
      ]
    },
    {
      "cell_type": "markdown",
      "metadata": {
        "id": "S6NAJ1uCbZNO"
      },
      "source": [
        "Tuning and fitting"
      ]
    },
    {
      "cell_type": "code",
      "execution_count": null,
      "metadata": {
        "colab": {
          "base_uri": "https://localhost:8080/",
          "height": 422
        },
        "id": "22vNJJN-banl",
        "outputId": "11330c37-901a-4a7f-9933-bd86b1edee89"
      },
      "outputs": [
        {
          "name": "stdout",
          "output_type": "stream",
          "text": [
            "Accuracy: 0.7\n",
            "#######################################################################\n",
            "Confusion Matrix:\n",
            " [[ 6  6  0  1]\n",
            " [ 0 18  0  1]\n",
            " [ 1  1  0  0]\n",
            " [ 0  2  0  4]]\n",
            "#######################################################################\n",
            "Classification Report:\n",
            "               precision    recall  f1-score   support\n",
            "\n",
            "           0       0.86      0.46      0.60        13\n",
            "           1       0.67      0.95      0.78        19\n",
            "           3       0.00      0.00      0.00         2\n",
            "           4       0.67      0.67      0.67         6\n",
            "\n",
            "    accuracy                           0.70        40\n",
            "   macro avg       0.55      0.52      0.51        40\n",
            "weighted avg       0.70      0.70      0.67        40\n",
            "\n"
          ]
        },
        {
          "data": {
            "text/html": [
              "<style>#sk-container-id-1 {color: black;background-color: white;}#sk-container-id-1 pre{padding: 0;}#sk-container-id-1 div.sk-toggleable {background-color: white;}#sk-container-id-1 label.sk-toggleable__label {cursor: pointer;display: block;width: 100%;margin-bottom: 0;padding: 0.3em;box-sizing: border-box;text-align: center;}#sk-container-id-1 label.sk-toggleable__label-arrow:before {content: \"▸\";float: left;margin-right: 0.25em;color: #696969;}#sk-container-id-1 label.sk-toggleable__label-arrow:hover:before {color: black;}#sk-container-id-1 div.sk-estimator:hover label.sk-toggleable__label-arrow:before {color: black;}#sk-container-id-1 div.sk-toggleable__content {max-height: 0;max-width: 0;overflow: hidden;text-align: left;background-color: #f0f8ff;}#sk-container-id-1 div.sk-toggleable__content pre {margin: 0.2em;color: black;border-radius: 0.25em;background-color: #f0f8ff;}#sk-container-id-1 input.sk-toggleable__control:checked~div.sk-toggleable__content {max-height: 200px;max-width: 100%;overflow: auto;}#sk-container-id-1 input.sk-toggleable__control:checked~label.sk-toggleable__label-arrow:before {content: \"▾\";}#sk-container-id-1 div.sk-estimator input.sk-toggleable__control:checked~label.sk-toggleable__label {background-color: #d4ebff;}#sk-container-id-1 div.sk-label input.sk-toggleable__control:checked~label.sk-toggleable__label {background-color: #d4ebff;}#sk-container-id-1 input.sk-hidden--visually {border: 0;clip: rect(1px 1px 1px 1px);clip: rect(1px, 1px, 1px, 1px);height: 1px;margin: -1px;overflow: hidden;padding: 0;position: absolute;width: 1px;}#sk-container-id-1 div.sk-estimator {font-family: monospace;background-color: #f0f8ff;border: 1px dotted black;border-radius: 0.25em;box-sizing: border-box;margin-bottom: 0.5em;}#sk-container-id-1 div.sk-estimator:hover {background-color: #d4ebff;}#sk-container-id-1 div.sk-parallel-item::after {content: \"\";width: 100%;border-bottom: 1px solid gray;flex-grow: 1;}#sk-container-id-1 div.sk-label:hover label.sk-toggleable__label {background-color: #d4ebff;}#sk-container-id-1 div.sk-serial::before {content: \"\";position: absolute;border-left: 1px solid gray;box-sizing: border-box;top: 0;bottom: 0;left: 50%;z-index: 0;}#sk-container-id-1 div.sk-serial {display: flex;flex-direction: column;align-items: center;background-color: white;padding-right: 0.2em;padding-left: 0.2em;position: relative;}#sk-container-id-1 div.sk-item {position: relative;z-index: 1;}#sk-container-id-1 div.sk-parallel {display: flex;align-items: stretch;justify-content: center;background-color: white;position: relative;}#sk-container-id-1 div.sk-item::before, #sk-container-id-1 div.sk-parallel-item::before {content: \"\";position: absolute;border-left: 1px solid gray;box-sizing: border-box;top: 0;bottom: 0;left: 50%;z-index: -1;}#sk-container-id-1 div.sk-parallel-item {display: flex;flex-direction: column;z-index: 1;position: relative;background-color: white;}#sk-container-id-1 div.sk-parallel-item:first-child::after {align-self: flex-end;width: 50%;}#sk-container-id-1 div.sk-parallel-item:last-child::after {align-self: flex-start;width: 50%;}#sk-container-id-1 div.sk-parallel-item:only-child::after {width: 0;}#sk-container-id-1 div.sk-dashed-wrapped {border: 1px dashed gray;margin: 0 0.4em 0.5em 0.4em;box-sizing: border-box;padding-bottom: 0.4em;background-color: white;}#sk-container-id-1 div.sk-label label {font-family: monospace;font-weight: bold;display: inline-block;line-height: 1.2em;}#sk-container-id-1 div.sk-label-container {text-align: center;}#sk-container-id-1 div.sk-container {/* jupyter's `normalize.less` sets `[hidden] { display: none; }` but bootstrap.min.css set `[hidden] { display: none !important; }` so we also need the `!important` here to be able to override the default hidden behavior on the sphinx rendered scikit-learn.org. See: https://github.com/scikit-learn/scikit-learn/issues/21755 */display: inline-block !important;position: relative;}#sk-container-id-1 div.sk-text-repr-fallback {display: none;}</style><div id=\"sk-container-id-1\" class=\"sk-top-container\"><div class=\"sk-text-repr-fallback\"><pre>LogisticRegression(random_state=0)</pre><b>In a Jupyter environment, please rerun this cell to show the HTML representation or trust the notebook. <br />On GitHub, the HTML representation is unable to render, please try loading this page with nbviewer.org.</b></div><div class=\"sk-container\" hidden><div class=\"sk-item\"><div class=\"sk-estimator sk-toggleable\"><input class=\"sk-toggleable__control sk-hidden--visually\" id=\"sk-estimator-id-1\" type=\"checkbox\" checked><label for=\"sk-estimator-id-1\" class=\"sk-toggleable__label sk-toggleable__label-arrow\">LogisticRegression</label><div class=\"sk-toggleable__content\"><pre>LogisticRegression(random_state=0)</pre></div></div></div></div></div>"
            ],
            "text/plain": [
              "LogisticRegression(random_state=0)"
            ]
          },
          "execution_count": 31,
          "metadata": {},
          "output_type": "execute_result"
        }
      ],
      "source": [
        "modelt.LR_t(X_train,y_train,y_test,X_test)"
      ]
    },
    {
      "cell_type": "markdown",
      "metadata": {
        "id": "qnk4mNcobbIT"
      },
      "source": [
        "#Gaussian Naive Bayes"
      ]
    },
    {
      "cell_type": "code",
      "execution_count": null,
      "metadata": {
        "colab": {
          "base_uri": "https://localhost:8080/",
          "height": 387
        },
        "id": "22OWElKYbgTB",
        "outputId": "329357ba-3610-4315-a441-5b364dc00ec0"
      },
      "outputs": [
        {
          "name": "stdout",
          "output_type": "stream",
          "text": [
            "Accuracy: 0.775\n",
            "Confusion Matrix:\n",
            " [[ 6  5  2  0]\n",
            " [ 0 17  0  2]\n",
            " [ 0  0  2  0]\n",
            " [ 0  0  0  6]]\n",
            "Classification Report:\n",
            "               precision    recall  f1-score   support\n",
            "\n",
            "           0       1.00      0.46      0.63        13\n",
            "           1       0.77      0.89      0.83        19\n",
            "           3       0.50      1.00      0.67         2\n",
            "           4       0.75      1.00      0.86         6\n",
            "\n",
            "    accuracy                           0.78        40\n",
            "   macro avg       0.76      0.84      0.75        40\n",
            "weighted avg       0.83      0.78      0.76        40\n",
            "\n"
          ]
        },
        {
          "data": {
            "text/html": [
              "<style>#sk-container-id-2 {color: black;background-color: white;}#sk-container-id-2 pre{padding: 0;}#sk-container-id-2 div.sk-toggleable {background-color: white;}#sk-container-id-2 label.sk-toggleable__label {cursor: pointer;display: block;width: 100%;margin-bottom: 0;padding: 0.3em;box-sizing: border-box;text-align: center;}#sk-container-id-2 label.sk-toggleable__label-arrow:before {content: \"▸\";float: left;margin-right: 0.25em;color: #696969;}#sk-container-id-2 label.sk-toggleable__label-arrow:hover:before {color: black;}#sk-container-id-2 div.sk-estimator:hover label.sk-toggleable__label-arrow:before {color: black;}#sk-container-id-2 div.sk-toggleable__content {max-height: 0;max-width: 0;overflow: hidden;text-align: left;background-color: #f0f8ff;}#sk-container-id-2 div.sk-toggleable__content pre {margin: 0.2em;color: black;border-radius: 0.25em;background-color: #f0f8ff;}#sk-container-id-2 input.sk-toggleable__control:checked~div.sk-toggleable__content {max-height: 200px;max-width: 100%;overflow: auto;}#sk-container-id-2 input.sk-toggleable__control:checked~label.sk-toggleable__label-arrow:before {content: \"▾\";}#sk-container-id-2 div.sk-estimator input.sk-toggleable__control:checked~label.sk-toggleable__label {background-color: #d4ebff;}#sk-container-id-2 div.sk-label input.sk-toggleable__control:checked~label.sk-toggleable__label {background-color: #d4ebff;}#sk-container-id-2 input.sk-hidden--visually {border: 0;clip: rect(1px 1px 1px 1px);clip: rect(1px, 1px, 1px, 1px);height: 1px;margin: -1px;overflow: hidden;padding: 0;position: absolute;width: 1px;}#sk-container-id-2 div.sk-estimator {font-family: monospace;background-color: #f0f8ff;border: 1px dotted black;border-radius: 0.25em;box-sizing: border-box;margin-bottom: 0.5em;}#sk-container-id-2 div.sk-estimator:hover {background-color: #d4ebff;}#sk-container-id-2 div.sk-parallel-item::after {content: \"\";width: 100%;border-bottom: 1px solid gray;flex-grow: 1;}#sk-container-id-2 div.sk-label:hover label.sk-toggleable__label {background-color: #d4ebff;}#sk-container-id-2 div.sk-serial::before {content: \"\";position: absolute;border-left: 1px solid gray;box-sizing: border-box;top: 0;bottom: 0;left: 50%;z-index: 0;}#sk-container-id-2 div.sk-serial {display: flex;flex-direction: column;align-items: center;background-color: white;padding-right: 0.2em;padding-left: 0.2em;position: relative;}#sk-container-id-2 div.sk-item {position: relative;z-index: 1;}#sk-container-id-2 div.sk-parallel {display: flex;align-items: stretch;justify-content: center;background-color: white;position: relative;}#sk-container-id-2 div.sk-item::before, #sk-container-id-2 div.sk-parallel-item::before {content: \"\";position: absolute;border-left: 1px solid gray;box-sizing: border-box;top: 0;bottom: 0;left: 50%;z-index: -1;}#sk-container-id-2 div.sk-parallel-item {display: flex;flex-direction: column;z-index: 1;position: relative;background-color: white;}#sk-container-id-2 div.sk-parallel-item:first-child::after {align-self: flex-end;width: 50%;}#sk-container-id-2 div.sk-parallel-item:last-child::after {align-self: flex-start;width: 50%;}#sk-container-id-2 div.sk-parallel-item:only-child::after {width: 0;}#sk-container-id-2 div.sk-dashed-wrapped {border: 1px dashed gray;margin: 0 0.4em 0.5em 0.4em;box-sizing: border-box;padding-bottom: 0.4em;background-color: white;}#sk-container-id-2 div.sk-label label {font-family: monospace;font-weight: bold;display: inline-block;line-height: 1.2em;}#sk-container-id-2 div.sk-label-container {text-align: center;}#sk-container-id-2 div.sk-container {/* jupyter's `normalize.less` sets `[hidden] { display: none; }` but bootstrap.min.css set `[hidden] { display: none !important; }` so we also need the `!important` here to be able to override the default hidden behavior on the sphinx rendered scikit-learn.org. See: https://github.com/scikit-learn/scikit-learn/issues/21755 */display: inline-block !important;position: relative;}#sk-container-id-2 div.sk-text-repr-fallback {display: none;}</style><div id=\"sk-container-id-2\" class=\"sk-top-container\"><div class=\"sk-text-repr-fallback\"><pre>GaussianNB()</pre><b>In a Jupyter environment, please rerun this cell to show the HTML representation or trust the notebook. <br />On GitHub, the HTML representation is unable to render, please try loading this page with nbviewer.org.</b></div><div class=\"sk-container\" hidden><div class=\"sk-item\"><div class=\"sk-estimator sk-toggleable\"><input class=\"sk-toggleable__control sk-hidden--visually\" id=\"sk-estimator-id-2\" type=\"checkbox\" checked><label for=\"sk-estimator-id-2\" class=\"sk-toggleable__label sk-toggleable__label-arrow\">GaussianNB</label><div class=\"sk-toggleable__content\"><pre>GaussianNB()</pre></div></div></div></div></div>"
            ],
            "text/plain": [
              "GaussianNB()"
            ]
          },
          "execution_count": 32,
          "metadata": {},
          "output_type": "execute_result"
        }
      ],
      "source": [
        "model.GNB(X_train,y_train,y_test,X_test)"
      ]
    },
    {
      "cell_type": "markdown",
      "metadata": {
        "id": "gzyvHC-SbiLq"
      },
      "source": [
        "Tuning and fitting"
      ]
    },
    {
      "cell_type": "code",
      "execution_count": null,
      "metadata": {
        "colab": {
          "base_uri": "https://localhost:8080/",
          "height": 430
        },
        "id": "pIADDNDUbj1d",
        "outputId": "adae49f7-4caf-4a40-ee0a-01bece8ff2f0"
      },
      "outputs": [
        {
          "name": "stdout",
          "output_type": "stream",
          "text": [
            "Accuracy: 0.875\n",
            "Confusion Matrix:\n",
            " [[11  1  1  0]\n",
            " [ 0 16  0  3]\n",
            " [ 0  0  2  0]\n",
            " [ 0  0  0  6]]\n",
            "Classification Report:\n",
            "               precision    recall  f1-score   support\n",
            "\n",
            "           0       1.00      0.85      0.92        13\n",
            "           1       0.94      0.84      0.89        19\n",
            "           3       0.67      1.00      0.80         2\n",
            "           4       0.67      1.00      0.80         6\n",
            "\n",
            "    accuracy                           0.88        40\n",
            "   macro avg       0.82      0.92      0.85        40\n",
            "weighted avg       0.91      0.88      0.88        40\n",
            "\n"
          ]
        },
        {
          "data": {
            "text/html": [
              "<style>#sk-container-id-3 {color: black;background-color: white;}#sk-container-id-3 pre{padding: 0;}#sk-container-id-3 div.sk-toggleable {background-color: white;}#sk-container-id-3 label.sk-toggleable__label {cursor: pointer;display: block;width: 100%;margin-bottom: 0;padding: 0.3em;box-sizing: border-box;text-align: center;}#sk-container-id-3 label.sk-toggleable__label-arrow:before {content: \"▸\";float: left;margin-right: 0.25em;color: #696969;}#sk-container-id-3 label.sk-toggleable__label-arrow:hover:before {color: black;}#sk-container-id-3 div.sk-estimator:hover label.sk-toggleable__label-arrow:before {color: black;}#sk-container-id-3 div.sk-toggleable__content {max-height: 0;max-width: 0;overflow: hidden;text-align: left;background-color: #f0f8ff;}#sk-container-id-3 div.sk-toggleable__content pre {margin: 0.2em;color: black;border-radius: 0.25em;background-color: #f0f8ff;}#sk-container-id-3 input.sk-toggleable__control:checked~div.sk-toggleable__content {max-height: 200px;max-width: 100%;overflow: auto;}#sk-container-id-3 input.sk-toggleable__control:checked~label.sk-toggleable__label-arrow:before {content: \"▾\";}#sk-container-id-3 div.sk-estimator input.sk-toggleable__control:checked~label.sk-toggleable__label {background-color: #d4ebff;}#sk-container-id-3 div.sk-label input.sk-toggleable__control:checked~label.sk-toggleable__label {background-color: #d4ebff;}#sk-container-id-3 input.sk-hidden--visually {border: 0;clip: rect(1px 1px 1px 1px);clip: rect(1px, 1px, 1px, 1px);height: 1px;margin: -1px;overflow: hidden;padding: 0;position: absolute;width: 1px;}#sk-container-id-3 div.sk-estimator {font-family: monospace;background-color: #f0f8ff;border: 1px dotted black;border-radius: 0.25em;box-sizing: border-box;margin-bottom: 0.5em;}#sk-container-id-3 div.sk-estimator:hover {background-color: #d4ebff;}#sk-container-id-3 div.sk-parallel-item::after {content: \"\";width: 100%;border-bottom: 1px solid gray;flex-grow: 1;}#sk-container-id-3 div.sk-label:hover label.sk-toggleable__label {background-color: #d4ebff;}#sk-container-id-3 div.sk-serial::before {content: \"\";position: absolute;border-left: 1px solid gray;box-sizing: border-box;top: 0;bottom: 0;left: 50%;z-index: 0;}#sk-container-id-3 div.sk-serial {display: flex;flex-direction: column;align-items: center;background-color: white;padding-right: 0.2em;padding-left: 0.2em;position: relative;}#sk-container-id-3 div.sk-item {position: relative;z-index: 1;}#sk-container-id-3 div.sk-parallel {display: flex;align-items: stretch;justify-content: center;background-color: white;position: relative;}#sk-container-id-3 div.sk-item::before, #sk-container-id-3 div.sk-parallel-item::before {content: \"\";position: absolute;border-left: 1px solid gray;box-sizing: border-box;top: 0;bottom: 0;left: 50%;z-index: -1;}#sk-container-id-3 div.sk-parallel-item {display: flex;flex-direction: column;z-index: 1;position: relative;background-color: white;}#sk-container-id-3 div.sk-parallel-item:first-child::after {align-self: flex-end;width: 50%;}#sk-container-id-3 div.sk-parallel-item:last-child::after {align-self: flex-start;width: 50%;}#sk-container-id-3 div.sk-parallel-item:only-child::after {width: 0;}#sk-container-id-3 div.sk-dashed-wrapped {border: 1px dashed gray;margin: 0 0.4em 0.5em 0.4em;box-sizing: border-box;padding-bottom: 0.4em;background-color: white;}#sk-container-id-3 div.sk-label label {font-family: monospace;font-weight: bold;display: inline-block;line-height: 1.2em;}#sk-container-id-3 div.sk-label-container {text-align: center;}#sk-container-id-3 div.sk-container {/* jupyter's `normalize.less` sets `[hidden] { display: none; }` but bootstrap.min.css set `[hidden] { display: none !important; }` so we also need the `!important` here to be able to override the default hidden behavior on the sphinx rendered scikit-learn.org. See: https://github.com/scikit-learn/scikit-learn/issues/21755 */display: inline-block !important;position: relative;}#sk-container-id-3 div.sk-text-repr-fallback {display: none;}</style><div id=\"sk-container-id-3\" class=\"sk-top-container\"><div class=\"sk-text-repr-fallback\"><pre>GridSearchCV(cv=10, estimator=GaussianNB(),\n",
              "             param_grid={&#x27;var_smoothing&#x27;: array([1.00000000e+00, 8.11130831e-01, 6.57933225e-01, 5.33669923e-01,\n",
              "       4.32876128e-01, 3.51119173e-01, 2.84803587e-01, 2.31012970e-01,\n",
              "       1.87381742e-01, 1.51991108e-01, 1.23284674e-01, 1.00000000e-01,\n",
              "       8.11130831e-02, 6.57933225e-02, 5.33669923e-02, 4.32876128e-02,\n",
              "       3.51119173e-02, 2.84803587e-02, 2.3...\n",
              "       1.23284674e-07, 1.00000000e-07, 8.11130831e-08, 6.57933225e-08,\n",
              "       5.33669923e-08, 4.32876128e-08, 3.51119173e-08, 2.84803587e-08,\n",
              "       2.31012970e-08, 1.87381742e-08, 1.51991108e-08, 1.23284674e-08,\n",
              "       1.00000000e-08, 8.11130831e-09, 6.57933225e-09, 5.33669923e-09,\n",
              "       4.32876128e-09, 3.51119173e-09, 2.84803587e-09, 2.31012970e-09,\n",
              "       1.87381742e-09, 1.51991108e-09, 1.23284674e-09, 1.00000000e-09])},\n",
              "             scoring=&#x27;accuracy&#x27;)</pre><b>In a Jupyter environment, please rerun this cell to show the HTML representation or trust the notebook. <br />On GitHub, the HTML representation is unable to render, please try loading this page with nbviewer.org.</b></div><div class=\"sk-container\" hidden><div class=\"sk-item sk-dashed-wrapped\"><div class=\"sk-label-container\"><div class=\"sk-label sk-toggleable\"><input class=\"sk-toggleable__control sk-hidden--visually\" id=\"sk-estimator-id-3\" type=\"checkbox\" ><label for=\"sk-estimator-id-3\" class=\"sk-toggleable__label sk-toggleable__label-arrow\">GridSearchCV</label><div class=\"sk-toggleable__content\"><pre>GridSearchCV(cv=10, estimator=GaussianNB(),\n",
              "             param_grid={&#x27;var_smoothing&#x27;: array([1.00000000e+00, 8.11130831e-01, 6.57933225e-01, 5.33669923e-01,\n",
              "       4.32876128e-01, 3.51119173e-01, 2.84803587e-01, 2.31012970e-01,\n",
              "       1.87381742e-01, 1.51991108e-01, 1.23284674e-01, 1.00000000e-01,\n",
              "       8.11130831e-02, 6.57933225e-02, 5.33669923e-02, 4.32876128e-02,\n",
              "       3.51119173e-02, 2.84803587e-02, 2.3...\n",
              "       1.23284674e-07, 1.00000000e-07, 8.11130831e-08, 6.57933225e-08,\n",
              "       5.33669923e-08, 4.32876128e-08, 3.51119173e-08, 2.84803587e-08,\n",
              "       2.31012970e-08, 1.87381742e-08, 1.51991108e-08, 1.23284674e-08,\n",
              "       1.00000000e-08, 8.11130831e-09, 6.57933225e-09, 5.33669923e-09,\n",
              "       4.32876128e-09, 3.51119173e-09, 2.84803587e-09, 2.31012970e-09,\n",
              "       1.87381742e-09, 1.51991108e-09, 1.23284674e-09, 1.00000000e-09])},\n",
              "             scoring=&#x27;accuracy&#x27;)</pre></div></div></div><div class=\"sk-parallel\"><div class=\"sk-parallel-item\"><div class=\"sk-item\"><div class=\"sk-label-container\"><div class=\"sk-label sk-toggleable\"><input class=\"sk-toggleable__control sk-hidden--visually\" id=\"sk-estimator-id-4\" type=\"checkbox\" ><label for=\"sk-estimator-id-4\" class=\"sk-toggleable__label sk-toggleable__label-arrow\">estimator: GaussianNB</label><div class=\"sk-toggleable__content\"><pre>GaussianNB()</pre></div></div></div><div class=\"sk-serial\"><div class=\"sk-item\"><div class=\"sk-estimator sk-toggleable\"><input class=\"sk-toggleable__control sk-hidden--visually\" id=\"sk-estimator-id-5\" type=\"checkbox\" ><label for=\"sk-estimator-id-5\" class=\"sk-toggleable__label sk-toggleable__label-arrow\">GaussianNB</label><div class=\"sk-toggleable__content\"><pre>GaussianNB()</pre></div></div></div></div></div></div></div></div></div></div>"
            ],
            "text/plain": [
              "GridSearchCV(cv=10, estimator=GaussianNB(),\n",
              "             param_grid={'var_smoothing': array([1.00000000e+00, 8.11130831e-01, 6.57933225e-01, 5.33669923e-01,\n",
              "       4.32876128e-01, 3.51119173e-01, 2.84803587e-01, 2.31012970e-01,\n",
              "       1.87381742e-01, 1.51991108e-01, 1.23284674e-01, 1.00000000e-01,\n",
              "       8.11130831e-02, 6.57933225e-02, 5.33669923e-02, 4.32876128e-02,\n",
              "       3.51119173e-02, 2.84803587e-02, 2.3...\n",
              "       1.23284674e-07, 1.00000000e-07, 8.11130831e-08, 6.57933225e-08,\n",
              "       5.33669923e-08, 4.32876128e-08, 3.51119173e-08, 2.84803587e-08,\n",
              "       2.31012970e-08, 1.87381742e-08, 1.51991108e-08, 1.23284674e-08,\n",
              "       1.00000000e-08, 8.11130831e-09, 6.57933225e-09, 5.33669923e-09,\n",
              "       4.32876128e-09, 3.51119173e-09, 2.84803587e-09, 2.31012970e-09,\n",
              "       1.87381742e-09, 1.51991108e-09, 1.23284674e-09, 1.00000000e-09])},\n",
              "             scoring='accuracy')"
            ]
          },
          "execution_count": 37,
          "metadata": {},
          "output_type": "execute_result"
        }
      ],
      "source": [
        "modelt.GNB_t(X_train,y_train,y_test,X_test)"
      ]
    },
    {
      "cell_type": "markdown",
      "metadata": {
        "id": "dCNYwB4Wblsz"
      },
      "source": [
        "#Decision Tree"
      ]
    },
    {
      "cell_type": "code",
      "execution_count": null,
      "metadata": {
        "colab": {
          "base_uri": "https://localhost:8080/"
        },
        "id": "pa9lbeLZbnwa",
        "outputId": "b873d9e3-265c-4779-d01f-6381ffe5b9e0"
      },
      "outputs": [
        {
          "name": "stdout",
          "output_type": "stream",
          "text": [
            "Accuracy: 1.0\n",
            "Confusion Matrix:\n",
            " [[13  0  0  0]\n",
            " [ 0 19  0  0]\n",
            " [ 0  0  2  0]\n",
            " [ 0  0  0  6]]\n",
            "Classification Report:\n",
            "               precision    recall  f1-score   support\n",
            "\n",
            "           0       1.00      1.00      1.00        13\n",
            "           1       1.00      1.00      1.00        19\n",
            "           3       1.00      1.00      1.00         2\n",
            "           4       1.00      1.00      1.00         6\n",
            "\n",
            "    accuracy                           1.00        40\n",
            "   macro avg       1.00      1.00      1.00        40\n",
            "weighted avg       1.00      1.00      1.00        40\n",
            "\n"
          ]
        }
      ],
      "source": [
        "model.DT(X_train,y_train,y_test,X_test)"
      ]
    },
    {
      "cell_type": "markdown",
      "metadata": {
        "id": "vFdKEbqBbo95"
      },
      "source": [
        "tuning and fitting"
      ]
    },
    {
      "cell_type": "code",
      "execution_count": null,
      "metadata": {
        "colab": {
          "base_uri": "https://localhost:8080/",
          "height": 465
        },
        "id": "Jx3FYXXobqRX",
        "outputId": "9d6963c9-68ae-4396-ba2a-47ee7e462a2a"
      },
      "outputs": [
        {
          "name": "stdout",
          "output_type": "stream",
          "text": [
            "Best Parameters: {'max_depth': 3, 'min_samples_leaf': 1, 'min_samples_split': 2}\n",
            "Best Score: 0.9875\n",
            "Accuracy: 1.0\n",
            "Confusion Matrix:\n",
            " [[13  0  0  0]\n",
            " [ 0 19  0  0]\n",
            " [ 0  0  2  0]\n",
            " [ 0  0  0  6]]\n",
            "Classification Report:\n",
            "               precision    recall  f1-score   support\n",
            "\n",
            "           0       1.00      1.00      1.00        13\n",
            "           1       1.00      1.00      1.00        19\n",
            "           3       1.00      1.00      1.00         2\n",
            "           4       1.00      1.00      1.00         6\n",
            "\n",
            "    accuracy                           1.00        40\n",
            "   macro avg       1.00      1.00      1.00        40\n",
            "weighted avg       1.00      1.00      1.00        40\n",
            "\n"
          ]
        },
        {
          "data": {
            "text/html": [
              "<style>#sk-container-id-4 {color: black;background-color: white;}#sk-container-id-4 pre{padding: 0;}#sk-container-id-4 div.sk-toggleable {background-color: white;}#sk-container-id-4 label.sk-toggleable__label {cursor: pointer;display: block;width: 100%;margin-bottom: 0;padding: 0.3em;box-sizing: border-box;text-align: center;}#sk-container-id-4 label.sk-toggleable__label-arrow:before {content: \"▸\";float: left;margin-right: 0.25em;color: #696969;}#sk-container-id-4 label.sk-toggleable__label-arrow:hover:before {color: black;}#sk-container-id-4 div.sk-estimator:hover label.sk-toggleable__label-arrow:before {color: black;}#sk-container-id-4 div.sk-toggleable__content {max-height: 0;max-width: 0;overflow: hidden;text-align: left;background-color: #f0f8ff;}#sk-container-id-4 div.sk-toggleable__content pre {margin: 0.2em;color: black;border-radius: 0.25em;background-color: #f0f8ff;}#sk-container-id-4 input.sk-toggleable__control:checked~div.sk-toggleable__content {max-height: 200px;max-width: 100%;overflow: auto;}#sk-container-id-4 input.sk-toggleable__control:checked~label.sk-toggleable__label-arrow:before {content: \"▾\";}#sk-container-id-4 div.sk-estimator input.sk-toggleable__control:checked~label.sk-toggleable__label {background-color: #d4ebff;}#sk-container-id-4 div.sk-label input.sk-toggleable__control:checked~label.sk-toggleable__label {background-color: #d4ebff;}#sk-container-id-4 input.sk-hidden--visually {border: 0;clip: rect(1px 1px 1px 1px);clip: rect(1px, 1px, 1px, 1px);height: 1px;margin: -1px;overflow: hidden;padding: 0;position: absolute;width: 1px;}#sk-container-id-4 div.sk-estimator {font-family: monospace;background-color: #f0f8ff;border: 1px dotted black;border-radius: 0.25em;box-sizing: border-box;margin-bottom: 0.5em;}#sk-container-id-4 div.sk-estimator:hover {background-color: #d4ebff;}#sk-container-id-4 div.sk-parallel-item::after {content: \"\";width: 100%;border-bottom: 1px solid gray;flex-grow: 1;}#sk-container-id-4 div.sk-label:hover label.sk-toggleable__label {background-color: #d4ebff;}#sk-container-id-4 div.sk-serial::before {content: \"\";position: absolute;border-left: 1px solid gray;box-sizing: border-box;top: 0;bottom: 0;left: 50%;z-index: 0;}#sk-container-id-4 div.sk-serial {display: flex;flex-direction: column;align-items: center;background-color: white;padding-right: 0.2em;padding-left: 0.2em;position: relative;}#sk-container-id-4 div.sk-item {position: relative;z-index: 1;}#sk-container-id-4 div.sk-parallel {display: flex;align-items: stretch;justify-content: center;background-color: white;position: relative;}#sk-container-id-4 div.sk-item::before, #sk-container-id-4 div.sk-parallel-item::before {content: \"\";position: absolute;border-left: 1px solid gray;box-sizing: border-box;top: 0;bottom: 0;left: 50%;z-index: -1;}#sk-container-id-4 div.sk-parallel-item {display: flex;flex-direction: column;z-index: 1;position: relative;background-color: white;}#sk-container-id-4 div.sk-parallel-item:first-child::after {align-self: flex-end;width: 50%;}#sk-container-id-4 div.sk-parallel-item:last-child::after {align-self: flex-start;width: 50%;}#sk-container-id-4 div.sk-parallel-item:only-child::after {width: 0;}#sk-container-id-4 div.sk-dashed-wrapped {border: 1px dashed gray;margin: 0 0.4em 0.5em 0.4em;box-sizing: border-box;padding-bottom: 0.4em;background-color: white;}#sk-container-id-4 div.sk-label label {font-family: monospace;font-weight: bold;display: inline-block;line-height: 1.2em;}#sk-container-id-4 div.sk-label-container {text-align: center;}#sk-container-id-4 div.sk-container {/* jupyter's `normalize.less` sets `[hidden] { display: none; }` but bootstrap.min.css set `[hidden] { display: none !important; }` so we also need the `!important` here to be able to override the default hidden behavior on the sphinx rendered scikit-learn.org. See: https://github.com/scikit-learn/scikit-learn/issues/21755 */display: inline-block !important;position: relative;}#sk-container-id-4 div.sk-text-repr-fallback {display: none;}</style><div id=\"sk-container-id-4\" class=\"sk-top-container\"><div class=\"sk-text-repr-fallback\"><pre>GridSearchCV(cv=5, estimator=DecisionTreeClassifier(random_state=0),\n",
              "             param_grid={&#x27;max_depth&#x27;: [3, 5, 7, None],\n",
              "                         &#x27;min_samples_leaf&#x27;: [1, 2, 4],\n",
              "                         &#x27;min_samples_split&#x27;: [2, 5, 10]})</pre><b>In a Jupyter environment, please rerun this cell to show the HTML representation or trust the notebook. <br />On GitHub, the HTML representation is unable to render, please try loading this page with nbviewer.org.</b></div><div class=\"sk-container\" hidden><div class=\"sk-item sk-dashed-wrapped\"><div class=\"sk-label-container\"><div class=\"sk-label sk-toggleable\"><input class=\"sk-toggleable__control sk-hidden--visually\" id=\"sk-estimator-id-6\" type=\"checkbox\" ><label for=\"sk-estimator-id-6\" class=\"sk-toggleable__label sk-toggleable__label-arrow\">GridSearchCV</label><div class=\"sk-toggleable__content\"><pre>GridSearchCV(cv=5, estimator=DecisionTreeClassifier(random_state=0),\n",
              "             param_grid={&#x27;max_depth&#x27;: [3, 5, 7, None],\n",
              "                         &#x27;min_samples_leaf&#x27;: [1, 2, 4],\n",
              "                         &#x27;min_samples_split&#x27;: [2, 5, 10]})</pre></div></div></div><div class=\"sk-parallel\"><div class=\"sk-parallel-item\"><div class=\"sk-item\"><div class=\"sk-label-container\"><div class=\"sk-label sk-toggleable\"><input class=\"sk-toggleable__control sk-hidden--visually\" id=\"sk-estimator-id-7\" type=\"checkbox\" ><label for=\"sk-estimator-id-7\" class=\"sk-toggleable__label sk-toggleable__label-arrow\">estimator: DecisionTreeClassifier</label><div class=\"sk-toggleable__content\"><pre>DecisionTreeClassifier(random_state=0)</pre></div></div></div><div class=\"sk-serial\"><div class=\"sk-item\"><div class=\"sk-estimator sk-toggleable\"><input class=\"sk-toggleable__control sk-hidden--visually\" id=\"sk-estimator-id-8\" type=\"checkbox\" ><label for=\"sk-estimator-id-8\" class=\"sk-toggleable__label sk-toggleable__label-arrow\">DecisionTreeClassifier</label><div class=\"sk-toggleable__content\"><pre>DecisionTreeClassifier(random_state=0)</pre></div></div></div></div></div></div></div></div></div></div>"
            ],
            "text/plain": [
              "GridSearchCV(cv=5, estimator=DecisionTreeClassifier(random_state=0),\n",
              "             param_grid={'max_depth': [3, 5, 7, None],\n",
              "                         'min_samples_leaf': [1, 2, 4],\n",
              "                         'min_samples_split': [2, 5, 10]})"
            ]
          },
          "execution_count": 39,
          "metadata": {},
          "output_type": "execute_result"
        }
      ],
      "source": [
        "modelt.DT_t(X_train,y_train,y_test,X_test)"
      ]
    },
    {
      "cell_type": "markdown",
      "metadata": {
        "id": "DtFNDL7GbsYW"
      },
      "source": [
        "#Random Forest"
      ]
    },
    {
      "cell_type": "code",
      "execution_count": null,
      "metadata": {
        "colab": {
          "base_uri": "https://localhost:8080/"
        },
        "id": "uKG771wgbyk7",
        "outputId": "b08da020-a708-478d-8cdc-c271c8e7383d"
      },
      "outputs": [
        {
          "name": "stdout",
          "output_type": "stream",
          "text": [
            "Accuracy: 1.0\n",
            "Confusion Matrix:\n",
            " [[13  0  0  0]\n",
            " [ 0 19  0  0]\n",
            " [ 0  0  2  0]\n",
            " [ 0  0  0  6]]\n",
            "Classification Report:\n",
            "               precision    recall  f1-score   support\n",
            "\n",
            "           0       1.00      1.00      1.00        13\n",
            "           1       1.00      1.00      1.00        19\n",
            "           3       1.00      1.00      1.00         2\n",
            "           4       1.00      1.00      1.00         6\n",
            "\n",
            "    accuracy                           1.00        40\n",
            "   macro avg       1.00      1.00      1.00        40\n",
            "weighted avg       1.00      1.00      1.00        40\n",
            "\n"
          ]
        }
      ],
      "source": [
        "model.RF(X_train,y_train,y_test,X_test)"
      ]
    },
    {
      "cell_type": "markdown",
      "metadata": {
        "id": "HGSB8gtabzsY"
      },
      "source": [
        "Tuning and Fitting"
      ]
    },
    {
      "cell_type": "code",
      "execution_count": null,
      "metadata": {
        "colab": {
          "base_uri": "https://localhost:8080/",
          "height": 500
        },
        "id": "cMYyCwQAb1Vw",
        "outputId": "85ece44b-a2ac-4bca-c424-c26f51009a6d"
      },
      "outputs": [
        {
          "name": "stdout",
          "output_type": "stream",
          "text": [
            "Best Parameters:  {'max_depth': 5, 'max_features': 'auto', 'min_samples_leaf': 1, 'min_samples_split': 10, 'n_estimators': 100}\n",
            "Best Score:  0.95\n",
            "Accuracy: 1.0\n",
            "=======================================================================\n",
            "Confusion Matrix:\n",
            " [[13  0  0  0]\n",
            " [ 0 19  0  0]\n",
            " [ 0  0  2  0]\n",
            " [ 0  0  0  6]]\n",
            "=======================================================================\n",
            "Classification Report:\n",
            "               precision    recall  f1-score   support\n",
            "\n",
            "           0       1.00      1.00      1.00        13\n",
            "           1       1.00      1.00      1.00        19\n",
            "           3       1.00      1.00      1.00         2\n",
            "           4       1.00      1.00      1.00         6\n",
            "\n",
            "    accuracy                           1.00        40\n",
            "   macro avg       1.00      1.00      1.00        40\n",
            "weighted avg       1.00      1.00      1.00        40\n",
            "\n"
          ]
        },
        {
          "data": {
            "text/html": [
              "<style>#sk-container-id-5 {color: black;background-color: white;}#sk-container-id-5 pre{padding: 0;}#sk-container-id-5 div.sk-toggleable {background-color: white;}#sk-container-id-5 label.sk-toggleable__label {cursor: pointer;display: block;width: 100%;margin-bottom: 0;padding: 0.3em;box-sizing: border-box;text-align: center;}#sk-container-id-5 label.sk-toggleable__label-arrow:before {content: \"▸\";float: left;margin-right: 0.25em;color: #696969;}#sk-container-id-5 label.sk-toggleable__label-arrow:hover:before {color: black;}#sk-container-id-5 div.sk-estimator:hover label.sk-toggleable__label-arrow:before {color: black;}#sk-container-id-5 div.sk-toggleable__content {max-height: 0;max-width: 0;overflow: hidden;text-align: left;background-color: #f0f8ff;}#sk-container-id-5 div.sk-toggleable__content pre {margin: 0.2em;color: black;border-radius: 0.25em;background-color: #f0f8ff;}#sk-container-id-5 input.sk-toggleable__control:checked~div.sk-toggleable__content {max-height: 200px;max-width: 100%;overflow: auto;}#sk-container-id-5 input.sk-toggleable__control:checked~label.sk-toggleable__label-arrow:before {content: \"▾\";}#sk-container-id-5 div.sk-estimator input.sk-toggleable__control:checked~label.sk-toggleable__label {background-color: #d4ebff;}#sk-container-id-5 div.sk-label input.sk-toggleable__control:checked~label.sk-toggleable__label {background-color: #d4ebff;}#sk-container-id-5 input.sk-hidden--visually {border: 0;clip: rect(1px 1px 1px 1px);clip: rect(1px, 1px, 1px, 1px);height: 1px;margin: -1px;overflow: hidden;padding: 0;position: absolute;width: 1px;}#sk-container-id-5 div.sk-estimator {font-family: monospace;background-color: #f0f8ff;border: 1px dotted black;border-radius: 0.25em;box-sizing: border-box;margin-bottom: 0.5em;}#sk-container-id-5 div.sk-estimator:hover {background-color: #d4ebff;}#sk-container-id-5 div.sk-parallel-item::after {content: \"\";width: 100%;border-bottom: 1px solid gray;flex-grow: 1;}#sk-container-id-5 div.sk-label:hover label.sk-toggleable__label {background-color: #d4ebff;}#sk-container-id-5 div.sk-serial::before {content: \"\";position: absolute;border-left: 1px solid gray;box-sizing: border-box;top: 0;bottom: 0;left: 50%;z-index: 0;}#sk-container-id-5 div.sk-serial {display: flex;flex-direction: column;align-items: center;background-color: white;padding-right: 0.2em;padding-left: 0.2em;position: relative;}#sk-container-id-5 div.sk-item {position: relative;z-index: 1;}#sk-container-id-5 div.sk-parallel {display: flex;align-items: stretch;justify-content: center;background-color: white;position: relative;}#sk-container-id-5 div.sk-item::before, #sk-container-id-5 div.sk-parallel-item::before {content: \"\";position: absolute;border-left: 1px solid gray;box-sizing: border-box;top: 0;bottom: 0;left: 50%;z-index: -1;}#sk-container-id-5 div.sk-parallel-item {display: flex;flex-direction: column;z-index: 1;position: relative;background-color: white;}#sk-container-id-5 div.sk-parallel-item:first-child::after {align-self: flex-end;width: 50%;}#sk-container-id-5 div.sk-parallel-item:last-child::after {align-self: flex-start;width: 50%;}#sk-container-id-5 div.sk-parallel-item:only-child::after {width: 0;}#sk-container-id-5 div.sk-dashed-wrapped {border: 1px dashed gray;margin: 0 0.4em 0.5em 0.4em;box-sizing: border-box;padding-bottom: 0.4em;background-color: white;}#sk-container-id-5 div.sk-label label {font-family: monospace;font-weight: bold;display: inline-block;line-height: 1.2em;}#sk-container-id-5 div.sk-label-container {text-align: center;}#sk-container-id-5 div.sk-container {/* jupyter's `normalize.less` sets `[hidden] { display: none; }` but bootstrap.min.css set `[hidden] { display: none !important; }` so we also need the `!important` here to be able to override the default hidden behavior on the sphinx rendered scikit-learn.org. See: https://github.com/scikit-learn/scikit-learn/issues/21755 */display: inline-block !important;position: relative;}#sk-container-id-5 div.sk-text-repr-fallback {display: none;}</style><div id=\"sk-container-id-5\" class=\"sk-top-container\"><div class=\"sk-text-repr-fallback\"><pre>GridSearchCV(cv=5, estimator=RandomForestClassifier(random_state=0),\n",
              "             param_grid={&#x27;max_depth&#x27;: [None, 5, 10],\n",
              "                         &#x27;max_features&#x27;: [&#x27;auto&#x27;, &#x27;sqrt&#x27;],\n",
              "                         &#x27;min_samples_leaf&#x27;: [1, 2, 4],\n",
              "                         &#x27;min_samples_split&#x27;: [2, 5, 10],\n",
              "                         &#x27;n_estimators&#x27;: [100, 200, 300]})</pre><b>In a Jupyter environment, please rerun this cell to show the HTML representation or trust the notebook. <br />On GitHub, the HTML representation is unable to render, please try loading this page with nbviewer.org.</b></div><div class=\"sk-container\" hidden><div class=\"sk-item sk-dashed-wrapped\"><div class=\"sk-label-container\"><div class=\"sk-label sk-toggleable\"><input class=\"sk-toggleable__control sk-hidden--visually\" id=\"sk-estimator-id-9\" type=\"checkbox\" ><label for=\"sk-estimator-id-9\" class=\"sk-toggleable__label sk-toggleable__label-arrow\">GridSearchCV</label><div class=\"sk-toggleable__content\"><pre>GridSearchCV(cv=5, estimator=RandomForestClassifier(random_state=0),\n",
              "             param_grid={&#x27;max_depth&#x27;: [None, 5, 10],\n",
              "                         &#x27;max_features&#x27;: [&#x27;auto&#x27;, &#x27;sqrt&#x27;],\n",
              "                         &#x27;min_samples_leaf&#x27;: [1, 2, 4],\n",
              "                         &#x27;min_samples_split&#x27;: [2, 5, 10],\n",
              "                         &#x27;n_estimators&#x27;: [100, 200, 300]})</pre></div></div></div><div class=\"sk-parallel\"><div class=\"sk-parallel-item\"><div class=\"sk-item\"><div class=\"sk-label-container\"><div class=\"sk-label sk-toggleable\"><input class=\"sk-toggleable__control sk-hidden--visually\" id=\"sk-estimator-id-10\" type=\"checkbox\" ><label for=\"sk-estimator-id-10\" class=\"sk-toggleable__label sk-toggleable__label-arrow\">estimator: RandomForestClassifier</label><div class=\"sk-toggleable__content\"><pre>RandomForestClassifier(random_state=0)</pre></div></div></div><div class=\"sk-serial\"><div class=\"sk-item\"><div class=\"sk-estimator sk-toggleable\"><input class=\"sk-toggleable__control sk-hidden--visually\" id=\"sk-estimator-id-11\" type=\"checkbox\" ><label for=\"sk-estimator-id-11\" class=\"sk-toggleable__label sk-toggleable__label-arrow\">RandomForestClassifier</label><div class=\"sk-toggleable__content\"><pre>RandomForestClassifier(random_state=0)</pre></div></div></div></div></div></div></div></div></div></div>"
            ],
            "text/plain": [
              "GridSearchCV(cv=5, estimator=RandomForestClassifier(random_state=0),\n",
              "             param_grid={'max_depth': [None, 5, 10],\n",
              "                         'max_features': ['auto', 'sqrt'],\n",
              "                         'min_samples_leaf': [1, 2, 4],\n",
              "                         'min_samples_split': [2, 5, 10],\n",
              "                         'n_estimators': [100, 200, 300]})"
            ]
          },
          "execution_count": 41,
          "metadata": {},
          "output_type": "execute_result"
        }
      ],
      "source": [
        "modelt.RF_t(X_train,y_train,y_test,X_test)"
      ]
    },
    {
      "cell_type": "markdown",
      "metadata": {
        "id": "AzkaFZNRb2xS"
      },
      "source": [
        "#Support Vector Classifier"
      ]
    },
    {
      "cell_type": "code",
      "execution_count": null,
      "metadata": {
        "colab": {
          "base_uri": "https://localhost:8080/"
        },
        "id": "NYi6C0JNcDY1",
        "outputId": "4929f245-4868-4ea7-9bb0-4a734441d725"
      },
      "outputs": [
        {
          "name": "stdout",
          "output_type": "stream",
          "text": [
            "Accuracy: 0.675\n",
            "Confusion Matrix:\n",
            " [[ 8  5  0  0]\n",
            " [ 0 19  0  0]\n",
            " [ 2  0  0  0]\n",
            " [ 0  6  0  0]]\n",
            "Classification Report:\n",
            "               precision    recall  f1-score   support\n",
            "\n",
            "           0       0.80      0.62      0.70        13\n",
            "           1       0.63      1.00      0.78        19\n",
            "           3       0.00      0.00      0.00         2\n",
            "           4       0.00      0.00      0.00         6\n",
            "\n",
            "    accuracy                           0.68        40\n",
            "   macro avg       0.36      0.40      0.37        40\n",
            "weighted avg       0.56      0.68      0.59        40\n",
            "\n"
          ]
        }
      ],
      "source": [
        "model.SVC(X_train,y_train,y_test,X_test)"
      ]
    },
    {
      "cell_type": "markdown",
      "metadata": {
        "id": "NNWNjsyWcGuK"
      },
      "source": [
        "Tuning and fitting"
      ]
    },
    {
      "cell_type": "code",
      "execution_count": null,
      "metadata": {
        "colab": {
          "base_uri": "https://localhost:8080/",
          "height": 422
        },
        "id": "q3zqUIHEcIpp",
        "outputId": "233bd525-abc6-4f11-caef-3e60b1f46e9d"
      },
      "outputs": [
        {
          "name": "stdout",
          "output_type": "stream",
          "text": [
            "Accuracy: 0.875\n",
            "=======================================================================\n",
            "Confusion Matrix:\n",
            " [[11  1  1  0]\n",
            " [ 0 18  0  1]\n",
            " [ 0  0  2  0]\n",
            " [ 0  2  0  4]]\n",
            "=======================================================================\n",
            "Classification Report:\n",
            "               precision    recall  f1-score   support\n",
            "\n",
            "           0       1.00      0.85      0.92        13\n",
            "           1       0.86      0.95      0.90        19\n",
            "           3       0.67      1.00      0.80         2\n",
            "           4       0.80      0.67      0.73         6\n",
            "\n",
            "    accuracy                           0.88        40\n",
            "   macro avg       0.83      0.87      0.84        40\n",
            "weighted avg       0.89      0.88      0.87        40\n",
            "\n"
          ]
        },
        {
          "data": {
            "text/html": [
              "<style>#sk-container-id-6 {color: black;background-color: white;}#sk-container-id-6 pre{padding: 0;}#sk-container-id-6 div.sk-toggleable {background-color: white;}#sk-container-id-6 label.sk-toggleable__label {cursor: pointer;display: block;width: 100%;margin-bottom: 0;padding: 0.3em;box-sizing: border-box;text-align: center;}#sk-container-id-6 label.sk-toggleable__label-arrow:before {content: \"▸\";float: left;margin-right: 0.25em;color: #696969;}#sk-container-id-6 label.sk-toggleable__label-arrow:hover:before {color: black;}#sk-container-id-6 div.sk-estimator:hover label.sk-toggleable__label-arrow:before {color: black;}#sk-container-id-6 div.sk-toggleable__content {max-height: 0;max-width: 0;overflow: hidden;text-align: left;background-color: #f0f8ff;}#sk-container-id-6 div.sk-toggleable__content pre {margin: 0.2em;color: black;border-radius: 0.25em;background-color: #f0f8ff;}#sk-container-id-6 input.sk-toggleable__control:checked~div.sk-toggleable__content {max-height: 200px;max-width: 100%;overflow: auto;}#sk-container-id-6 input.sk-toggleable__control:checked~label.sk-toggleable__label-arrow:before {content: \"▾\";}#sk-container-id-6 div.sk-estimator input.sk-toggleable__control:checked~label.sk-toggleable__label {background-color: #d4ebff;}#sk-container-id-6 div.sk-label input.sk-toggleable__control:checked~label.sk-toggleable__label {background-color: #d4ebff;}#sk-container-id-6 input.sk-hidden--visually {border: 0;clip: rect(1px 1px 1px 1px);clip: rect(1px, 1px, 1px, 1px);height: 1px;margin: -1px;overflow: hidden;padding: 0;position: absolute;width: 1px;}#sk-container-id-6 div.sk-estimator {font-family: monospace;background-color: #f0f8ff;border: 1px dotted black;border-radius: 0.25em;box-sizing: border-box;margin-bottom: 0.5em;}#sk-container-id-6 div.sk-estimator:hover {background-color: #d4ebff;}#sk-container-id-6 div.sk-parallel-item::after {content: \"\";width: 100%;border-bottom: 1px solid gray;flex-grow: 1;}#sk-container-id-6 div.sk-label:hover label.sk-toggleable__label {background-color: #d4ebff;}#sk-container-id-6 div.sk-serial::before {content: \"\";position: absolute;border-left: 1px solid gray;box-sizing: border-box;top: 0;bottom: 0;left: 50%;z-index: 0;}#sk-container-id-6 div.sk-serial {display: flex;flex-direction: column;align-items: center;background-color: white;padding-right: 0.2em;padding-left: 0.2em;position: relative;}#sk-container-id-6 div.sk-item {position: relative;z-index: 1;}#sk-container-id-6 div.sk-parallel {display: flex;align-items: stretch;justify-content: center;background-color: white;position: relative;}#sk-container-id-6 div.sk-item::before, #sk-container-id-6 div.sk-parallel-item::before {content: \"\";position: absolute;border-left: 1px solid gray;box-sizing: border-box;top: 0;bottom: 0;left: 50%;z-index: -1;}#sk-container-id-6 div.sk-parallel-item {display: flex;flex-direction: column;z-index: 1;position: relative;background-color: white;}#sk-container-id-6 div.sk-parallel-item:first-child::after {align-self: flex-end;width: 50%;}#sk-container-id-6 div.sk-parallel-item:last-child::after {align-self: flex-start;width: 50%;}#sk-container-id-6 div.sk-parallel-item:only-child::after {width: 0;}#sk-container-id-6 div.sk-dashed-wrapped {border: 1px dashed gray;margin: 0 0.4em 0.5em 0.4em;box-sizing: border-box;padding-bottom: 0.4em;background-color: white;}#sk-container-id-6 div.sk-label label {font-family: monospace;font-weight: bold;display: inline-block;line-height: 1.2em;}#sk-container-id-6 div.sk-label-container {text-align: center;}#sk-container-id-6 div.sk-container {/* jupyter's `normalize.less` sets `[hidden] { display: none; }` but bootstrap.min.css set `[hidden] { display: none !important; }` so we also need the `!important` here to be able to override the default hidden behavior on the sphinx rendered scikit-learn.org. See: https://github.com/scikit-learn/scikit-learn/issues/21755 */display: inline-block !important;position: relative;}#sk-container-id-6 div.sk-text-repr-fallback {display: none;}</style><div id=\"sk-container-id-6\" class=\"sk-top-container\"><div class=\"sk-text-repr-fallback\"><pre>SVC(C=0.1, gamma=&#x27;auto&#x27;, kernel=&#x27;poly&#x27;, probability=True, random_state=0)</pre><b>In a Jupyter environment, please rerun this cell to show the HTML representation or trust the notebook. <br />On GitHub, the HTML representation is unable to render, please try loading this page with nbviewer.org.</b></div><div class=\"sk-container\" hidden><div class=\"sk-item\"><div class=\"sk-estimator sk-toggleable\"><input class=\"sk-toggleable__control sk-hidden--visually\" id=\"sk-estimator-id-12\" type=\"checkbox\" checked><label for=\"sk-estimator-id-12\" class=\"sk-toggleable__label sk-toggleable__label-arrow\">SVC</label><div class=\"sk-toggleable__content\"><pre>SVC(C=0.1, gamma=&#x27;auto&#x27;, kernel=&#x27;poly&#x27;, probability=True, random_state=0)</pre></div></div></div></div></div>"
            ],
            "text/plain": [
              "SVC(C=0.1, gamma='auto', kernel='poly', probability=True, random_state=0)"
            ]
          },
          "execution_count": 43,
          "metadata": {},
          "output_type": "execute_result"
        }
      ],
      "source": [
        "modelt.SVC_t(X_train,y_train,y_test,X_test)"
      ]
    },
    {
      "cell_type": "markdown",
      "metadata": {
        "id": "iMKqvxaTcOoa"
      },
      "source": [
        "#K - Nearrest Neighbours"
      ]
    },
    {
      "cell_type": "code",
      "execution_count": null,
      "metadata": {
        "colab": {
          "base_uri": "https://localhost:8080/"
        },
        "id": "jX7TnNUJcTk1",
        "outputId": "b860e521-8284-4d17-ac93-9a3727e233be"
      },
      "outputs": [
        {
          "name": "stdout",
          "output_type": "stream",
          "text": [
            "Accuracy: 0.9\n",
            "Confusion Matrix:\n",
            " [[10  2  1  0]\n",
            " [ 0 18  0  1]\n",
            " [ 0  0  2  0]\n",
            " [ 0  0  0  6]]\n",
            "Classification Report:\n",
            "               precision    recall  f1-score   support\n",
            "\n",
            "           0       1.00      0.77      0.87        13\n",
            "           1       0.90      0.95      0.92        19\n",
            "           3       0.67      1.00      0.80         2\n",
            "           4       0.86      1.00      0.92         6\n",
            "\n",
            "    accuracy                           0.90        40\n",
            "   macro avg       0.86      0.93      0.88        40\n",
            "weighted avg       0.91      0.90      0.90        40\n",
            "\n"
          ]
        }
      ],
      "source": [
        "model.KNN(X_train,y_train,y_test,X_test)"
      ]
    },
    {
      "cell_type": "markdown",
      "metadata": {
        "id": "4F9u65zXcUxy"
      },
      "source": [
        "Tuning and fitting"
      ]
    },
    {
      "cell_type": "code",
      "execution_count": null,
      "metadata": {
        "colab": {
          "base_uri": "https://localhost:8080/",
          "height": 422
        },
        "id": "DlDsVW8McWrA",
        "outputId": "0b64990f-2123-406b-ff8a-19c375683dac"
      },
      "outputs": [
        {
          "name": "stdout",
          "output_type": "stream",
          "text": [
            "Accuracy: 0.875\n",
            "=======================================================================\n",
            "Confusion Matrix:\n",
            " [[ 9  2  2  0]\n",
            " [ 0 18  0  1]\n",
            " [ 0  0  2  0]\n",
            " [ 0  0  0  6]]\n",
            "=======================================================================\n",
            "Classification Report:\n",
            "               precision    recall  f1-score   support\n",
            "\n",
            "           0       1.00      0.69      0.82        13\n",
            "           1       0.90      0.95      0.92        19\n",
            "           3       0.50      1.00      0.67         2\n",
            "           4       0.86      1.00      0.92         6\n",
            "\n",
            "    accuracy                           0.88        40\n",
            "   macro avg       0.81      0.91      0.83        40\n",
            "weighted avg       0.91      0.88      0.88        40\n",
            "\n"
          ]
        },
        {
          "data": {
            "text/html": [
              "<style>#sk-container-id-7 {color: black;background-color: white;}#sk-container-id-7 pre{padding: 0;}#sk-container-id-7 div.sk-toggleable {background-color: white;}#sk-container-id-7 label.sk-toggleable__label {cursor: pointer;display: block;width: 100%;margin-bottom: 0;padding: 0.3em;box-sizing: border-box;text-align: center;}#sk-container-id-7 label.sk-toggleable__label-arrow:before {content: \"▸\";float: left;margin-right: 0.25em;color: #696969;}#sk-container-id-7 label.sk-toggleable__label-arrow:hover:before {color: black;}#sk-container-id-7 div.sk-estimator:hover label.sk-toggleable__label-arrow:before {color: black;}#sk-container-id-7 div.sk-toggleable__content {max-height: 0;max-width: 0;overflow: hidden;text-align: left;background-color: #f0f8ff;}#sk-container-id-7 div.sk-toggleable__content pre {margin: 0.2em;color: black;border-radius: 0.25em;background-color: #f0f8ff;}#sk-container-id-7 input.sk-toggleable__control:checked~div.sk-toggleable__content {max-height: 200px;max-width: 100%;overflow: auto;}#sk-container-id-7 input.sk-toggleable__control:checked~label.sk-toggleable__label-arrow:before {content: \"▾\";}#sk-container-id-7 div.sk-estimator input.sk-toggleable__control:checked~label.sk-toggleable__label {background-color: #d4ebff;}#sk-container-id-7 div.sk-label input.sk-toggleable__control:checked~label.sk-toggleable__label {background-color: #d4ebff;}#sk-container-id-7 input.sk-hidden--visually {border: 0;clip: rect(1px 1px 1px 1px);clip: rect(1px, 1px, 1px, 1px);height: 1px;margin: -1px;overflow: hidden;padding: 0;position: absolute;width: 1px;}#sk-container-id-7 div.sk-estimator {font-family: monospace;background-color: #f0f8ff;border: 1px dotted black;border-radius: 0.25em;box-sizing: border-box;margin-bottom: 0.5em;}#sk-container-id-7 div.sk-estimator:hover {background-color: #d4ebff;}#sk-container-id-7 div.sk-parallel-item::after {content: \"\";width: 100%;border-bottom: 1px solid gray;flex-grow: 1;}#sk-container-id-7 div.sk-label:hover label.sk-toggleable__label {background-color: #d4ebff;}#sk-container-id-7 div.sk-serial::before {content: \"\";position: absolute;border-left: 1px solid gray;box-sizing: border-box;top: 0;bottom: 0;left: 50%;z-index: 0;}#sk-container-id-7 div.sk-serial {display: flex;flex-direction: column;align-items: center;background-color: white;padding-right: 0.2em;padding-left: 0.2em;position: relative;}#sk-container-id-7 div.sk-item {position: relative;z-index: 1;}#sk-container-id-7 div.sk-parallel {display: flex;align-items: stretch;justify-content: center;background-color: white;position: relative;}#sk-container-id-7 div.sk-item::before, #sk-container-id-7 div.sk-parallel-item::before {content: \"\";position: absolute;border-left: 1px solid gray;box-sizing: border-box;top: 0;bottom: 0;left: 50%;z-index: -1;}#sk-container-id-7 div.sk-parallel-item {display: flex;flex-direction: column;z-index: 1;position: relative;background-color: white;}#sk-container-id-7 div.sk-parallel-item:first-child::after {align-self: flex-end;width: 50%;}#sk-container-id-7 div.sk-parallel-item:last-child::after {align-self: flex-start;width: 50%;}#sk-container-id-7 div.sk-parallel-item:only-child::after {width: 0;}#sk-container-id-7 div.sk-dashed-wrapped {border: 1px dashed gray;margin: 0 0.4em 0.5em 0.4em;box-sizing: border-box;padding-bottom: 0.4em;background-color: white;}#sk-container-id-7 div.sk-label label {font-family: monospace;font-weight: bold;display: inline-block;line-height: 1.2em;}#sk-container-id-7 div.sk-label-container {text-align: center;}#sk-container-id-7 div.sk-container {/* jupyter's `normalize.less` sets `[hidden] { display: none; }` but bootstrap.min.css set `[hidden] { display: none !important; }` so we also need the `!important` here to be able to override the default hidden behavior on the sphinx rendered scikit-learn.org. See: https://github.com/scikit-learn/scikit-learn/issues/21755 */display: inline-block !important;position: relative;}#sk-container-id-7 div.sk-text-repr-fallback {display: none;}</style><div id=\"sk-container-id-7\" class=\"sk-top-container\"><div class=\"sk-text-repr-fallback\"><pre>KNeighborsClassifier(n_neighbors=9)</pre><b>In a Jupyter environment, please rerun this cell to show the HTML representation or trust the notebook. <br />On GitHub, the HTML representation is unable to render, please try loading this page with nbviewer.org.</b></div><div class=\"sk-container\" hidden><div class=\"sk-item\"><div class=\"sk-estimator sk-toggleable\"><input class=\"sk-toggleable__control sk-hidden--visually\" id=\"sk-estimator-id-13\" type=\"checkbox\" checked><label for=\"sk-estimator-id-13\" class=\"sk-toggleable__label sk-toggleable__label-arrow\">KNeighborsClassifier</label><div class=\"sk-toggleable__content\"><pre>KNeighborsClassifier(n_neighbors=9)</pre></div></div></div></div></div>"
            ],
            "text/plain": [
              "KNeighborsClassifier(n_neighbors=9)"
            ]
          },
          "execution_count": 45,
          "metadata": {},
          "output_type": "execute_result"
        }
      ],
      "source": [
        "modelt.KNN_t(X_train,y_train,y_test,X_test)"
      ]
    },
    {
      "cell_type": "markdown",
      "metadata": {
        "id": "S0Z3IzRZcaqg"
      },
      "source": [
        "#Gradient Boosting"
      ]
    },
    {
      "cell_type": "code",
      "execution_count": null,
      "metadata": {
        "colab": {
          "base_uri": "https://localhost:8080/"
        },
        "id": "pL_zxG2rcfEi",
        "outputId": "a4f3a26f-7a8f-48d3-f26c-879b0a8e7aed"
      },
      "outputs": [
        {
          "name": "stdout",
          "output_type": "stream",
          "text": [
            "Accuracy: 1.0\n",
            "Confusion Matrix:\n",
            " [[13  0  0  0]\n",
            " [ 0 19  0  0]\n",
            " [ 0  0  2  0]\n",
            " [ 0  0  0  6]]\n",
            "Classification Report:\n",
            "               precision    recall  f1-score   support\n",
            "\n",
            "           0       1.00      1.00      1.00        13\n",
            "           1       1.00      1.00      1.00        19\n",
            "           3       1.00      1.00      1.00         2\n",
            "           4       1.00      1.00      1.00         6\n",
            "\n",
            "    accuracy                           1.00        40\n",
            "   macro avg       1.00      1.00      1.00        40\n",
            "weighted avg       1.00      1.00      1.00        40\n",
            "\n"
          ]
        }
      ],
      "source": [
        "model.GB(X_train,y_train,y_test,X_test)"
      ]
    },
    {
      "cell_type": "markdown",
      "metadata": {
        "id": "Df7cbxOqcgaZ"
      },
      "source": [
        "tuning and fitting"
      ]
    },
    {
      "cell_type": "code",
      "execution_count": null,
      "metadata": {
        "colab": {
          "base_uri": "https://localhost:8080/",
          "height": 422
        },
        "id": "WGFjPUIlch-4",
        "outputId": "7a218031-8f4a-4f2e-a764-82b9be798365"
      },
      "outputs": [
        {
          "name": "stdout",
          "output_type": "stream",
          "text": [
            "Accuracy: 1.0\n",
            "=======================================================================\n",
            "Confusion Matrix:\n",
            " [[13  0  0  0]\n",
            " [ 0 19  0  0]\n",
            " [ 0  0  2  0]\n",
            " [ 0  0  0  6]]\n",
            "=======================================================================\n",
            "Classification Report:\n",
            "               precision    recall  f1-score   support\n",
            "\n",
            "           0       1.00      1.00      1.00        13\n",
            "           1       1.00      1.00      1.00        19\n",
            "           3       1.00      1.00      1.00         2\n",
            "           4       1.00      1.00      1.00         6\n",
            "\n",
            "    accuracy                           1.00        40\n",
            "   macro avg       1.00      1.00      1.00        40\n",
            "weighted avg       1.00      1.00      1.00        40\n",
            "\n"
          ]
        },
        {
          "data": {
            "text/html": [
              "<style>#sk-container-id-8 {color: black;background-color: white;}#sk-container-id-8 pre{padding: 0;}#sk-container-id-8 div.sk-toggleable {background-color: white;}#sk-container-id-8 label.sk-toggleable__label {cursor: pointer;display: block;width: 100%;margin-bottom: 0;padding: 0.3em;box-sizing: border-box;text-align: center;}#sk-container-id-8 label.sk-toggleable__label-arrow:before {content: \"▸\";float: left;margin-right: 0.25em;color: #696969;}#sk-container-id-8 label.sk-toggleable__label-arrow:hover:before {color: black;}#sk-container-id-8 div.sk-estimator:hover label.sk-toggleable__label-arrow:before {color: black;}#sk-container-id-8 div.sk-toggleable__content {max-height: 0;max-width: 0;overflow: hidden;text-align: left;background-color: #f0f8ff;}#sk-container-id-8 div.sk-toggleable__content pre {margin: 0.2em;color: black;border-radius: 0.25em;background-color: #f0f8ff;}#sk-container-id-8 input.sk-toggleable__control:checked~div.sk-toggleable__content {max-height: 200px;max-width: 100%;overflow: auto;}#sk-container-id-8 input.sk-toggleable__control:checked~label.sk-toggleable__label-arrow:before {content: \"▾\";}#sk-container-id-8 div.sk-estimator input.sk-toggleable__control:checked~label.sk-toggleable__label {background-color: #d4ebff;}#sk-container-id-8 div.sk-label input.sk-toggleable__control:checked~label.sk-toggleable__label {background-color: #d4ebff;}#sk-container-id-8 input.sk-hidden--visually {border: 0;clip: rect(1px 1px 1px 1px);clip: rect(1px, 1px, 1px, 1px);height: 1px;margin: -1px;overflow: hidden;padding: 0;position: absolute;width: 1px;}#sk-container-id-8 div.sk-estimator {font-family: monospace;background-color: #f0f8ff;border: 1px dotted black;border-radius: 0.25em;box-sizing: border-box;margin-bottom: 0.5em;}#sk-container-id-8 div.sk-estimator:hover {background-color: #d4ebff;}#sk-container-id-8 div.sk-parallel-item::after {content: \"\";width: 100%;border-bottom: 1px solid gray;flex-grow: 1;}#sk-container-id-8 div.sk-label:hover label.sk-toggleable__label {background-color: #d4ebff;}#sk-container-id-8 div.sk-serial::before {content: \"\";position: absolute;border-left: 1px solid gray;box-sizing: border-box;top: 0;bottom: 0;left: 50%;z-index: 0;}#sk-container-id-8 div.sk-serial {display: flex;flex-direction: column;align-items: center;background-color: white;padding-right: 0.2em;padding-left: 0.2em;position: relative;}#sk-container-id-8 div.sk-item {position: relative;z-index: 1;}#sk-container-id-8 div.sk-parallel {display: flex;align-items: stretch;justify-content: center;background-color: white;position: relative;}#sk-container-id-8 div.sk-item::before, #sk-container-id-8 div.sk-parallel-item::before {content: \"\";position: absolute;border-left: 1px solid gray;box-sizing: border-box;top: 0;bottom: 0;left: 50%;z-index: -1;}#sk-container-id-8 div.sk-parallel-item {display: flex;flex-direction: column;z-index: 1;position: relative;background-color: white;}#sk-container-id-8 div.sk-parallel-item:first-child::after {align-self: flex-end;width: 50%;}#sk-container-id-8 div.sk-parallel-item:last-child::after {align-self: flex-start;width: 50%;}#sk-container-id-8 div.sk-parallel-item:only-child::after {width: 0;}#sk-container-id-8 div.sk-dashed-wrapped {border: 1px dashed gray;margin: 0 0.4em 0.5em 0.4em;box-sizing: border-box;padding-bottom: 0.4em;background-color: white;}#sk-container-id-8 div.sk-label label {font-family: monospace;font-weight: bold;display: inline-block;line-height: 1.2em;}#sk-container-id-8 div.sk-label-container {text-align: center;}#sk-container-id-8 div.sk-container {/* jupyter's `normalize.less` sets `[hidden] { display: none; }` but bootstrap.min.css set `[hidden] { display: none !important; }` so we also need the `!important` here to be able to override the default hidden behavior on the sphinx rendered scikit-learn.org. See: https://github.com/scikit-learn/scikit-learn/issues/21755 */display: inline-block !important;position: relative;}#sk-container-id-8 div.sk-text-repr-fallback {display: none;}</style><div id=\"sk-container-id-8\" class=\"sk-top-container\"><div class=\"sk-text-repr-fallback\"><pre>GradientBoostingClassifier(learning_rate=0.01, n_estimators=50, random_state=0)</pre><b>In a Jupyter environment, please rerun this cell to show the HTML representation or trust the notebook. <br />On GitHub, the HTML representation is unable to render, please try loading this page with nbviewer.org.</b></div><div class=\"sk-container\" hidden><div class=\"sk-item\"><div class=\"sk-estimator sk-toggleable\"><input class=\"sk-toggleable__control sk-hidden--visually\" id=\"sk-estimator-id-14\" type=\"checkbox\" checked><label for=\"sk-estimator-id-14\" class=\"sk-toggleable__label sk-toggleable__label-arrow\">GradientBoostingClassifier</label><div class=\"sk-toggleable__content\"><pre>GradientBoostingClassifier(learning_rate=0.01, n_estimators=50, random_state=0)</pre></div></div></div></div></div>"
            ],
            "text/plain": [
              "GradientBoostingClassifier(learning_rate=0.01, n_estimators=50, random_state=0)"
            ]
          },
          "execution_count": 47,
          "metadata": {},
          "output_type": "execute_result"
        }
      ],
      "source": [
        "modelt.GB_t(X_train,y_train,y_test,X_test)"
      ]
    },
    {
      "cell_type": "markdown",
      "metadata": {
        "id": "9pwsWY0wckEB"
      },
      "source": [
        "#AdaBoost"
      ]
    },
    {
      "cell_type": "code",
      "execution_count": null,
      "metadata": {
        "colab": {
          "base_uri": "https://localhost:8080/"
        },
        "id": "D8uvg1gxcoCA",
        "outputId": "63ee3f8c-07b5-49e2-a459-414be62595e7"
      },
      "outputs": [
        {
          "name": "stdout",
          "output_type": "stream",
          "text": [
            "Accuracy: 0.95\n",
            "Confusion Matrix:\n",
            " [[13  0  0  0]\n",
            " [ 0 19  0  0]\n",
            " [ 2  0  0  0]\n",
            " [ 0  0  0  6]]\n",
            "Classification Report:\n",
            "               precision    recall  f1-score   support\n",
            "\n",
            "           0       0.87      1.00      0.93        13\n",
            "           1       1.00      1.00      1.00        19\n",
            "           3       0.00      0.00      0.00         2\n",
            "           4       1.00      1.00      1.00         6\n",
            "\n",
            "    accuracy                           0.95        40\n",
            "   macro avg       0.72      0.75      0.73        40\n",
            "weighted avg       0.91      0.95      0.93        40\n",
            "\n"
          ]
        }
      ],
      "source": [
        "model.ADAB(X_train,y_train,y_test,X_test)"
      ]
    },
    {
      "cell_type": "markdown",
      "metadata": {
        "id": "Y7sgO9tfcpa2"
      },
      "source": [
        "tuning and fitting"
      ]
    },
    {
      "cell_type": "code",
      "execution_count": null,
      "metadata": {
        "colab": {
          "base_uri": "https://localhost:8080/",
          "height": 387
        },
        "id": "ojW6hxHocru3",
        "outputId": "49de911a-193c-454f-8ae0-2705f1dfcaf2"
      },
      "outputs": [
        {
          "name": "stdout",
          "output_type": "stream",
          "text": [
            "Accuracy: 0.85\n",
            "Confusion Matrix:\n",
            " [[13  0  0  0]\n",
            " [ 0 19  0  0]\n",
            " [ 0  0  2  0]\n",
            " [ 0  6  0  0]]\n",
            "Classification Report:\n",
            "               precision    recall  f1-score   support\n",
            "\n",
            "           0       1.00      1.00      1.00        13\n",
            "           1       0.76      1.00      0.86        19\n",
            "           3       1.00      1.00      1.00         2\n",
            "           4       0.00      0.00      0.00         6\n",
            "\n",
            "    accuracy                           0.85        40\n",
            "   macro avg       0.69      0.75      0.72        40\n",
            "weighted avg       0.74      0.85      0.79        40\n",
            "\n"
          ]
        },
        {
          "data": {
            "text/html": [
              "<style>#sk-container-id-9 {color: black;background-color: white;}#sk-container-id-9 pre{padding: 0;}#sk-container-id-9 div.sk-toggleable {background-color: white;}#sk-container-id-9 label.sk-toggleable__label {cursor: pointer;display: block;width: 100%;margin-bottom: 0;padding: 0.3em;box-sizing: border-box;text-align: center;}#sk-container-id-9 label.sk-toggleable__label-arrow:before {content: \"▸\";float: left;margin-right: 0.25em;color: #696969;}#sk-container-id-9 label.sk-toggleable__label-arrow:hover:before {color: black;}#sk-container-id-9 div.sk-estimator:hover label.sk-toggleable__label-arrow:before {color: black;}#sk-container-id-9 div.sk-toggleable__content {max-height: 0;max-width: 0;overflow: hidden;text-align: left;background-color: #f0f8ff;}#sk-container-id-9 div.sk-toggleable__content pre {margin: 0.2em;color: black;border-radius: 0.25em;background-color: #f0f8ff;}#sk-container-id-9 input.sk-toggleable__control:checked~div.sk-toggleable__content {max-height: 200px;max-width: 100%;overflow: auto;}#sk-container-id-9 input.sk-toggleable__control:checked~label.sk-toggleable__label-arrow:before {content: \"▾\";}#sk-container-id-9 div.sk-estimator input.sk-toggleable__control:checked~label.sk-toggleable__label {background-color: #d4ebff;}#sk-container-id-9 div.sk-label input.sk-toggleable__control:checked~label.sk-toggleable__label {background-color: #d4ebff;}#sk-container-id-9 input.sk-hidden--visually {border: 0;clip: rect(1px 1px 1px 1px);clip: rect(1px, 1px, 1px, 1px);height: 1px;margin: -1px;overflow: hidden;padding: 0;position: absolute;width: 1px;}#sk-container-id-9 div.sk-estimator {font-family: monospace;background-color: #f0f8ff;border: 1px dotted black;border-radius: 0.25em;box-sizing: border-box;margin-bottom: 0.5em;}#sk-container-id-9 div.sk-estimator:hover {background-color: #d4ebff;}#sk-container-id-9 div.sk-parallel-item::after {content: \"\";width: 100%;border-bottom: 1px solid gray;flex-grow: 1;}#sk-container-id-9 div.sk-label:hover label.sk-toggleable__label {background-color: #d4ebff;}#sk-container-id-9 div.sk-serial::before {content: \"\";position: absolute;border-left: 1px solid gray;box-sizing: border-box;top: 0;bottom: 0;left: 50%;z-index: 0;}#sk-container-id-9 div.sk-serial {display: flex;flex-direction: column;align-items: center;background-color: white;padding-right: 0.2em;padding-left: 0.2em;position: relative;}#sk-container-id-9 div.sk-item {position: relative;z-index: 1;}#sk-container-id-9 div.sk-parallel {display: flex;align-items: stretch;justify-content: center;background-color: white;position: relative;}#sk-container-id-9 div.sk-item::before, #sk-container-id-9 div.sk-parallel-item::before {content: \"\";position: absolute;border-left: 1px solid gray;box-sizing: border-box;top: 0;bottom: 0;left: 50%;z-index: -1;}#sk-container-id-9 div.sk-parallel-item {display: flex;flex-direction: column;z-index: 1;position: relative;background-color: white;}#sk-container-id-9 div.sk-parallel-item:first-child::after {align-self: flex-end;width: 50%;}#sk-container-id-9 div.sk-parallel-item:last-child::after {align-self: flex-start;width: 50%;}#sk-container-id-9 div.sk-parallel-item:only-child::after {width: 0;}#sk-container-id-9 div.sk-dashed-wrapped {border: 1px dashed gray;margin: 0 0.4em 0.5em 0.4em;box-sizing: border-box;padding-bottom: 0.4em;background-color: white;}#sk-container-id-9 div.sk-label label {font-family: monospace;font-weight: bold;display: inline-block;line-height: 1.2em;}#sk-container-id-9 div.sk-label-container {text-align: center;}#sk-container-id-9 div.sk-container {/* jupyter's `normalize.less` sets `[hidden] { display: none; }` but bootstrap.min.css set `[hidden] { display: none !important; }` so we also need the `!important` here to be able to override the default hidden behavior on the sphinx rendered scikit-learn.org. See: https://github.com/scikit-learn/scikit-learn/issues/21755 */display: inline-block !important;position: relative;}#sk-container-id-9 div.sk-text-repr-fallback {display: none;}</style><div id=\"sk-container-id-9\" class=\"sk-top-container\"><div class=\"sk-text-repr-fallback\"><pre>AdaBoostClassifier(learning_rate=0.1, random_state=0)</pre><b>In a Jupyter environment, please rerun this cell to show the HTML representation or trust the notebook. <br />On GitHub, the HTML representation is unable to render, please try loading this page with nbviewer.org.</b></div><div class=\"sk-container\" hidden><div class=\"sk-item\"><div class=\"sk-estimator sk-toggleable\"><input class=\"sk-toggleable__control sk-hidden--visually\" id=\"sk-estimator-id-15\" type=\"checkbox\" checked><label for=\"sk-estimator-id-15\" class=\"sk-toggleable__label sk-toggleable__label-arrow\">AdaBoostClassifier</label><div class=\"sk-toggleable__content\"><pre>AdaBoostClassifier(learning_rate=0.1, random_state=0)</pre></div></div></div></div></div>"
            ],
            "text/plain": [
              "AdaBoostClassifier(learning_rate=0.1, random_state=0)"
            ]
          },
          "execution_count": 49,
          "metadata": {},
          "output_type": "execute_result"
        }
      ],
      "source": [
        "modelt.ADAB_t(X_train,y_train,y_test,X_test)"
      ]
    },
    {
      "cell_type": "markdown",
      "metadata": {
        "id": "ent2Op_uctZB"
      },
      "source": [
        "#Bagging"
      ]
    },
    {
      "cell_type": "code",
      "execution_count": null,
      "metadata": {
        "colab": {
          "base_uri": "https://localhost:8080/"
        },
        "id": "Y4RenfEZcvfB",
        "outputId": "c31fd3a2-4e1c-4b41-8b92-484d209475eb"
      },
      "outputs": [
        {
          "name": "stdout",
          "output_type": "stream",
          "text": [
            "Accuracy: 1.0\n",
            "Confusion Matrix:\n",
            " [[13  0  0  0]\n",
            " [ 0 19  0  0]\n",
            " [ 0  0  2  0]\n",
            " [ 0  0  0  6]]\n",
            "Classification Report:\n",
            "               precision    recall  f1-score   support\n",
            "\n",
            "           0       1.00      1.00      1.00        13\n",
            "           1       1.00      1.00      1.00        19\n",
            "           3       1.00      1.00      1.00         2\n",
            "           4       1.00      1.00      1.00         6\n",
            "\n",
            "    accuracy                           1.00        40\n",
            "   macro avg       1.00      1.00      1.00        40\n",
            "weighted avg       1.00      1.00      1.00        40\n",
            "\n"
          ]
        }
      ],
      "source": [
        "model.BAG(X_train,y_train,y_test,X_test)"
      ]
    },
    {
      "cell_type": "markdown",
      "metadata": {
        "id": "OoFU3HAPcwyW"
      },
      "source": [
        "tuning and fitting"
      ]
    },
    {
      "cell_type": "code",
      "execution_count": null,
      "metadata": {
        "colab": {
          "base_uri": "https://localhost:8080/",
          "height": 430
        },
        "id": "Jke0ZL8Qcy6y",
        "outputId": "72c26a21-156c-43d6-a4a6-4cab6feaffcd"
      },
      "outputs": [
        {
          "name": "stdout",
          "output_type": "stream",
          "text": [
            "Accuracy: 1.0\n",
            "Confusion Matrix:\n",
            " [[13  0  0  0]\n",
            " [ 0 19  0  0]\n",
            " [ 0  0  2  0]\n",
            " [ 0  0  0  6]]\n",
            "Classification Report:\n",
            "               precision    recall  f1-score   support\n",
            "\n",
            "           0       1.00      1.00      1.00        13\n",
            "           1       1.00      1.00      1.00        19\n",
            "           3       1.00      1.00      1.00         2\n",
            "           4       1.00      1.00      1.00         6\n",
            "\n",
            "    accuracy                           1.00        40\n",
            "   macro avg       1.00      1.00      1.00        40\n",
            "weighted avg       1.00      1.00      1.00        40\n",
            "\n"
          ]
        },
        {
          "data": {
            "text/html": [
              "<style>#sk-container-id-10 {color: black;background-color: white;}#sk-container-id-10 pre{padding: 0;}#sk-container-id-10 div.sk-toggleable {background-color: white;}#sk-container-id-10 label.sk-toggleable__label {cursor: pointer;display: block;width: 100%;margin-bottom: 0;padding: 0.3em;box-sizing: border-box;text-align: center;}#sk-container-id-10 label.sk-toggleable__label-arrow:before {content: \"▸\";float: left;margin-right: 0.25em;color: #696969;}#sk-container-id-10 label.sk-toggleable__label-arrow:hover:before {color: black;}#sk-container-id-10 div.sk-estimator:hover label.sk-toggleable__label-arrow:before {color: black;}#sk-container-id-10 div.sk-toggleable__content {max-height: 0;max-width: 0;overflow: hidden;text-align: left;background-color: #f0f8ff;}#sk-container-id-10 div.sk-toggleable__content pre {margin: 0.2em;color: black;border-radius: 0.25em;background-color: #f0f8ff;}#sk-container-id-10 input.sk-toggleable__control:checked~div.sk-toggleable__content {max-height: 200px;max-width: 100%;overflow: auto;}#sk-container-id-10 input.sk-toggleable__control:checked~label.sk-toggleable__label-arrow:before {content: \"▾\";}#sk-container-id-10 div.sk-estimator input.sk-toggleable__control:checked~label.sk-toggleable__label {background-color: #d4ebff;}#sk-container-id-10 div.sk-label input.sk-toggleable__control:checked~label.sk-toggleable__label {background-color: #d4ebff;}#sk-container-id-10 input.sk-hidden--visually {border: 0;clip: rect(1px 1px 1px 1px);clip: rect(1px, 1px, 1px, 1px);height: 1px;margin: -1px;overflow: hidden;padding: 0;position: absolute;width: 1px;}#sk-container-id-10 div.sk-estimator {font-family: monospace;background-color: #f0f8ff;border: 1px dotted black;border-radius: 0.25em;box-sizing: border-box;margin-bottom: 0.5em;}#sk-container-id-10 div.sk-estimator:hover {background-color: #d4ebff;}#sk-container-id-10 div.sk-parallel-item::after {content: \"\";width: 100%;border-bottom: 1px solid gray;flex-grow: 1;}#sk-container-id-10 div.sk-label:hover label.sk-toggleable__label {background-color: #d4ebff;}#sk-container-id-10 div.sk-serial::before {content: \"\";position: absolute;border-left: 1px solid gray;box-sizing: border-box;top: 0;bottom: 0;left: 50%;z-index: 0;}#sk-container-id-10 div.sk-serial {display: flex;flex-direction: column;align-items: center;background-color: white;padding-right: 0.2em;padding-left: 0.2em;position: relative;}#sk-container-id-10 div.sk-item {position: relative;z-index: 1;}#sk-container-id-10 div.sk-parallel {display: flex;align-items: stretch;justify-content: center;background-color: white;position: relative;}#sk-container-id-10 div.sk-item::before, #sk-container-id-10 div.sk-parallel-item::before {content: \"\";position: absolute;border-left: 1px solid gray;box-sizing: border-box;top: 0;bottom: 0;left: 50%;z-index: -1;}#sk-container-id-10 div.sk-parallel-item {display: flex;flex-direction: column;z-index: 1;position: relative;background-color: white;}#sk-container-id-10 div.sk-parallel-item:first-child::after {align-self: flex-end;width: 50%;}#sk-container-id-10 div.sk-parallel-item:last-child::after {align-self: flex-start;width: 50%;}#sk-container-id-10 div.sk-parallel-item:only-child::after {width: 0;}#sk-container-id-10 div.sk-dashed-wrapped {border: 1px dashed gray;margin: 0 0.4em 0.5em 0.4em;box-sizing: border-box;padding-bottom: 0.4em;background-color: white;}#sk-container-id-10 div.sk-label label {font-family: monospace;font-weight: bold;display: inline-block;line-height: 1.2em;}#sk-container-id-10 div.sk-label-container {text-align: center;}#sk-container-id-10 div.sk-container {/* jupyter's `normalize.less` sets `[hidden] { display: none; }` but bootstrap.min.css set `[hidden] { display: none !important; }` so we also need the `!important` here to be able to override the default hidden behavior on the sphinx rendered scikit-learn.org. See: https://github.com/scikit-learn/scikit-learn/issues/21755 */display: inline-block !important;position: relative;}#sk-container-id-10 div.sk-text-repr-fallback {display: none;}</style><div id=\"sk-container-id-10\" class=\"sk-top-container\"><div class=\"sk-text-repr-fallback\"><pre>BaggingClassifier(estimator=DecisionTreeClassifier(random_state=0),\n",
              "                  max_features=0.5, max_samples=0.5, n_estimators=150,\n",
              "                  random_state=0)</pre><b>In a Jupyter environment, please rerun this cell to show the HTML representation or trust the notebook. <br />On GitHub, the HTML representation is unable to render, please try loading this page with nbviewer.org.</b></div><div class=\"sk-container\" hidden><div class=\"sk-item sk-dashed-wrapped\"><div class=\"sk-label-container\"><div class=\"sk-label sk-toggleable\"><input class=\"sk-toggleable__control sk-hidden--visually\" id=\"sk-estimator-id-16\" type=\"checkbox\" ><label for=\"sk-estimator-id-16\" class=\"sk-toggleable__label sk-toggleable__label-arrow\">BaggingClassifier</label><div class=\"sk-toggleable__content\"><pre>BaggingClassifier(estimator=DecisionTreeClassifier(random_state=0),\n",
              "                  max_features=0.5, max_samples=0.5, n_estimators=150,\n",
              "                  random_state=0)</pre></div></div></div><div class=\"sk-parallel\"><div class=\"sk-parallel-item\"><div class=\"sk-item\"><div class=\"sk-label-container\"><div class=\"sk-label sk-toggleable\"><input class=\"sk-toggleable__control sk-hidden--visually\" id=\"sk-estimator-id-17\" type=\"checkbox\" ><label for=\"sk-estimator-id-17\" class=\"sk-toggleable__label sk-toggleable__label-arrow\">estimator: DecisionTreeClassifier</label><div class=\"sk-toggleable__content\"><pre>DecisionTreeClassifier(random_state=0)</pre></div></div></div><div class=\"sk-serial\"><div class=\"sk-item\"><div class=\"sk-estimator sk-toggleable\"><input class=\"sk-toggleable__control sk-hidden--visually\" id=\"sk-estimator-id-18\" type=\"checkbox\" ><label for=\"sk-estimator-id-18\" class=\"sk-toggleable__label sk-toggleable__label-arrow\">DecisionTreeClassifier</label><div class=\"sk-toggleable__content\"><pre>DecisionTreeClassifier(random_state=0)</pre></div></div></div></div></div></div></div></div></div></div>"
            ],
            "text/plain": [
              "BaggingClassifier(estimator=DecisionTreeClassifier(random_state=0),\n",
              "                  max_features=0.5, max_samples=0.5, n_estimators=150,\n",
              "                  random_state=0)"
            ]
          },
          "execution_count": 51,
          "metadata": {},
          "output_type": "execute_result"
        }
      ],
      "source": [
        "modelt.BAG_t(X_train,y_train,y_test,X_test)"
      ]
    },
    {
      "cell_type": "markdown",
      "metadata": {
        "id": "KCZJcFwlc0Xl"
      },
      "source": [
        "#XGBoost"
      ]
    },
    {
      "cell_type": "code",
      "execution_count": null,
      "metadata": {
        "colab": {
          "base_uri": "https://localhost:8080/"
        },
        "id": "fQcC0GZTc23s",
        "outputId": "c7e95e5a-95de-4e28-c8db-015cdc019b5a"
      },
      "outputs": [
        {
          "name": "stdout",
          "output_type": "stream",
          "text": [
            "Accuracy: 1.0\n",
            "Confusion Matrix:\n",
            " [[13  0  0  0]\n",
            " [ 0 19  0  0]\n",
            " [ 0  0  2  0]\n",
            " [ 0  0  0  6]]\n",
            "Classification Report:\n",
            "               precision    recall  f1-score   support\n",
            "\n",
            "           0       1.00      1.00      1.00        13\n",
            "           1       1.00      1.00      1.00        19\n",
            "           3       1.00      1.00      1.00         2\n",
            "           4       1.00      1.00      1.00         6\n",
            "\n",
            "    accuracy                           1.00        40\n",
            "   macro avg       1.00      1.00      1.00        40\n",
            "weighted avg       1.00      1.00      1.00        40\n",
            "\n"
          ]
        }
      ],
      "source": [
        "model.XGB(X_train,y_train,y_test,X_test)"
      ]
    },
    {
      "cell_type": "markdown",
      "metadata": {
        "id": "F4lmauXFc4LB"
      },
      "source": [
        "tuning and fitting"
      ]
    },
    {
      "cell_type": "code",
      "execution_count": null,
      "metadata": {
        "colab": {
          "base_uri": "https://localhost:8080/",
          "height": 561
        },
        "id": "-keV8FE_c6cA",
        "outputId": "b83e36a3-bf90-41c6-c022-c6014580d850"
      },
      "outputs": [
        {
          "name": "stdout",
          "output_type": "stream",
          "text": [
            "Accuracy: 1.0\n",
            "Confusion Matrix:\n",
            " [[13  0  0  0]\n",
            " [ 0 19  0  0]\n",
            " [ 0  0  2  0]\n",
            " [ 0  0  0  6]]\n",
            "Classification Report:\n",
            "               precision    recall  f1-score   support\n",
            "\n",
            "           0       1.00      1.00      1.00        13\n",
            "           1       1.00      1.00      1.00        19\n",
            "           3       1.00      1.00      1.00         2\n",
            "           4       1.00      1.00      1.00         6\n",
            "\n",
            "    accuracy                           1.00        40\n",
            "   macro avg       1.00      1.00      1.00        40\n",
            "weighted avg       1.00      1.00      1.00        40\n",
            "\n"
          ]
        },
        {
          "data": {
            "text/html": [
              "<style>#sk-container-id-11 {color: black;background-color: white;}#sk-container-id-11 pre{padding: 0;}#sk-container-id-11 div.sk-toggleable {background-color: white;}#sk-container-id-11 label.sk-toggleable__label {cursor: pointer;display: block;width: 100%;margin-bottom: 0;padding: 0.3em;box-sizing: border-box;text-align: center;}#sk-container-id-11 label.sk-toggleable__label-arrow:before {content: \"▸\";float: left;margin-right: 0.25em;color: #696969;}#sk-container-id-11 label.sk-toggleable__label-arrow:hover:before {color: black;}#sk-container-id-11 div.sk-estimator:hover label.sk-toggleable__label-arrow:before {color: black;}#sk-container-id-11 div.sk-toggleable__content {max-height: 0;max-width: 0;overflow: hidden;text-align: left;background-color: #f0f8ff;}#sk-container-id-11 div.sk-toggleable__content pre {margin: 0.2em;color: black;border-radius: 0.25em;background-color: #f0f8ff;}#sk-container-id-11 input.sk-toggleable__control:checked~div.sk-toggleable__content {max-height: 200px;max-width: 100%;overflow: auto;}#sk-container-id-11 input.sk-toggleable__control:checked~label.sk-toggleable__label-arrow:before {content: \"▾\";}#sk-container-id-11 div.sk-estimator input.sk-toggleable__control:checked~label.sk-toggleable__label {background-color: #d4ebff;}#sk-container-id-11 div.sk-label input.sk-toggleable__control:checked~label.sk-toggleable__label {background-color: #d4ebff;}#sk-container-id-11 input.sk-hidden--visually {border: 0;clip: rect(1px 1px 1px 1px);clip: rect(1px, 1px, 1px, 1px);height: 1px;margin: -1px;overflow: hidden;padding: 0;position: absolute;width: 1px;}#sk-container-id-11 div.sk-estimator {font-family: monospace;background-color: #f0f8ff;border: 1px dotted black;border-radius: 0.25em;box-sizing: border-box;margin-bottom: 0.5em;}#sk-container-id-11 div.sk-estimator:hover {background-color: #d4ebff;}#sk-container-id-11 div.sk-parallel-item::after {content: \"\";width: 100%;border-bottom: 1px solid gray;flex-grow: 1;}#sk-container-id-11 div.sk-label:hover label.sk-toggleable__label {background-color: #d4ebff;}#sk-container-id-11 div.sk-serial::before {content: \"\";position: absolute;border-left: 1px solid gray;box-sizing: border-box;top: 0;bottom: 0;left: 50%;z-index: 0;}#sk-container-id-11 div.sk-serial {display: flex;flex-direction: column;align-items: center;background-color: white;padding-right: 0.2em;padding-left: 0.2em;position: relative;}#sk-container-id-11 div.sk-item {position: relative;z-index: 1;}#sk-container-id-11 div.sk-parallel {display: flex;align-items: stretch;justify-content: center;background-color: white;position: relative;}#sk-container-id-11 div.sk-item::before, #sk-container-id-11 div.sk-parallel-item::before {content: \"\";position: absolute;border-left: 1px solid gray;box-sizing: border-box;top: 0;bottom: 0;left: 50%;z-index: -1;}#sk-container-id-11 div.sk-parallel-item {display: flex;flex-direction: column;z-index: 1;position: relative;background-color: white;}#sk-container-id-11 div.sk-parallel-item:first-child::after {align-self: flex-end;width: 50%;}#sk-container-id-11 div.sk-parallel-item:last-child::after {align-self: flex-start;width: 50%;}#sk-container-id-11 div.sk-parallel-item:only-child::after {width: 0;}#sk-container-id-11 div.sk-dashed-wrapped {border: 1px dashed gray;margin: 0 0.4em 0.5em 0.4em;box-sizing: border-box;padding-bottom: 0.4em;background-color: white;}#sk-container-id-11 div.sk-label label {font-family: monospace;font-weight: bold;display: inline-block;line-height: 1.2em;}#sk-container-id-11 div.sk-label-container {text-align: center;}#sk-container-id-11 div.sk-container {/* jupyter's `normalize.less` sets `[hidden] { display: none; }` but bootstrap.min.css set `[hidden] { display: none !important; }` so we also need the `!important` here to be able to override the default hidden behavior on the sphinx rendered scikit-learn.org. See: https://github.com/scikit-learn/scikit-learn/issues/21755 */display: inline-block !important;position: relative;}#sk-container-id-11 div.sk-text-repr-fallback {display: none;}</style><div id=\"sk-container-id-11\" class=\"sk-top-container\"><div class=\"sk-text-repr-fallback\"><pre>XGBClassifier(base_score=None, booster=None, callbacks=None,\n",
              "              colsample_bylevel=None, colsample_bynode=None,\n",
              "              colsample_bytree=None, early_stopping_rounds=None,\n",
              "              enable_categorical=False, eval_metric=None, feature_types=None,\n",
              "              gamma=None, gpu_id=None, grow_policy=None, importance_type=None,\n",
              "              interaction_constraints=None, learning_rate=0.01, max_bin=None,\n",
              "              max_cat_threshold=None, max_cat_to_onehot=None,\n",
              "              max_delta_step=None, max_depth=3, max_leaves=None,\n",
              "              min_child_weight=None, missing=nan, monotone_constraints=None,\n",
              "              n_estimators=50, n_jobs=None, num_parallel_tree=None,\n",
              "              objective=&#x27;multi:softprob&#x27;, predictor=None, ...)</pre><b>In a Jupyter environment, please rerun this cell to show the HTML representation or trust the notebook. <br />On GitHub, the HTML representation is unable to render, please try loading this page with nbviewer.org.</b></div><div class=\"sk-container\" hidden><div class=\"sk-item\"><div class=\"sk-estimator sk-toggleable\"><input class=\"sk-toggleable__control sk-hidden--visually\" id=\"sk-estimator-id-19\" type=\"checkbox\" checked><label for=\"sk-estimator-id-19\" class=\"sk-toggleable__label sk-toggleable__label-arrow\">XGBClassifier</label><div class=\"sk-toggleable__content\"><pre>XGBClassifier(base_score=None, booster=None, callbacks=None,\n",
              "              colsample_bylevel=None, colsample_bynode=None,\n",
              "              colsample_bytree=None, early_stopping_rounds=None,\n",
              "              enable_categorical=False, eval_metric=None, feature_types=None,\n",
              "              gamma=None, gpu_id=None, grow_policy=None, importance_type=None,\n",
              "              interaction_constraints=None, learning_rate=0.01, max_bin=None,\n",
              "              max_cat_threshold=None, max_cat_to_onehot=None,\n",
              "              max_delta_step=None, max_depth=3, max_leaves=None,\n",
              "              min_child_weight=None, missing=nan, monotone_constraints=None,\n",
              "              n_estimators=50, n_jobs=None, num_parallel_tree=None,\n",
              "              objective=&#x27;multi:softprob&#x27;, predictor=None, ...)</pre></div></div></div></div></div>"
            ],
            "text/plain": [
              "XGBClassifier(base_score=None, booster=None, callbacks=None,\n",
              "              colsample_bylevel=None, colsample_bynode=None,\n",
              "              colsample_bytree=None, early_stopping_rounds=None,\n",
              "              enable_categorical=False, eval_metric=None, feature_types=None,\n",
              "              gamma=None, gpu_id=None, grow_policy=None, importance_type=None,\n",
              "              interaction_constraints=None, learning_rate=0.01, max_bin=None,\n",
              "              max_cat_threshold=None, max_cat_to_onehot=None,\n",
              "              max_delta_step=None, max_depth=3, max_leaves=None,\n",
              "              min_child_weight=None, missing=nan, monotone_constraints=None,\n",
              "              n_estimators=50, n_jobs=None, num_parallel_tree=None,\n",
              "              objective='multi:softprob', predictor=None, ...)"
            ]
          },
          "execution_count": 53,
          "metadata": {},
          "output_type": "execute_result"
        }
      ],
      "source": [
        "modelt.XGB_t(X_train,y_train,y_test,X_test)"
      ]
    },
    {
      "cell_type": "markdown",
      "metadata": {
        "id": "V9CjdaRac8X3"
      },
      "source": [
        "#LightGBM"
      ]
    },
    {
      "cell_type": "code",
      "execution_count": null,
      "metadata": {
        "colab": {
          "base_uri": "https://localhost:8080/"
        },
        "id": "HA5fBNbAc-Cp",
        "outputId": "c342d4d9-492e-41e2-96ac-0b2553afffa8"
      },
      "outputs": [
        {
          "name": "stdout",
          "output_type": "stream",
          "text": [
            "Accuracy: 1.0\n",
            "Confusion Matrix:\n",
            " [[13  0  0  0]\n",
            " [ 0 19  0  0]\n",
            " [ 0  0  2  0]\n",
            " [ 0  0  0  6]]\n",
            "Classification Report:\n",
            "               precision    recall  f1-score   support\n",
            "\n",
            "           0       1.00      1.00      1.00        13\n",
            "           1       1.00      1.00      1.00        19\n",
            "           3       1.00      1.00      1.00         2\n",
            "           4       1.00      1.00      1.00         6\n",
            "\n",
            "    accuracy                           1.00        40\n",
            "   macro avg       1.00      1.00      1.00        40\n",
            "weighted avg       1.00      1.00      1.00        40\n",
            "\n"
          ]
        }
      ],
      "source": [
        "model.LGB(X_train,y_train,y_test,X_test)"
      ]
    },
    {
      "cell_type": "markdown",
      "metadata": {
        "id": "Ctq8FxCKc_Gc"
      },
      "source": [
        "tuning and fitting"
      ]
    },
    {
      "cell_type": "code",
      "execution_count": null,
      "metadata": {
        "colab": {
          "base_uri": "https://localhost:8080/",
          "height": 387
        },
        "id": "NUHip5kedBpq",
        "outputId": "5cd04a81-b6c3-4791-ed80-d0c7c1db0111"
      },
      "outputs": [
        {
          "name": "stdout",
          "output_type": "stream",
          "text": [
            "Accuracy: 1.0\n",
            "Confusion Matrix:\n",
            " [[13  0  0  0]\n",
            " [ 0 19  0  0]\n",
            " [ 0  0  2  0]\n",
            " [ 0  0  0  6]]\n",
            "Classification Report:\n",
            "               precision    recall  f1-score   support\n",
            "\n",
            "           0       1.00      1.00      1.00        13\n",
            "           1       1.00      1.00      1.00        19\n",
            "           3       1.00      1.00      1.00         2\n",
            "           4       1.00      1.00      1.00         6\n",
            "\n",
            "    accuracy                           1.00        40\n",
            "   macro avg       1.00      1.00      1.00        40\n",
            "weighted avg       1.00      1.00      1.00        40\n",
            "\n"
          ]
        },
        {
          "data": {
            "text/html": [
              "<style>#sk-container-id-12 {color: black;background-color: white;}#sk-container-id-12 pre{padding: 0;}#sk-container-id-12 div.sk-toggleable {background-color: white;}#sk-container-id-12 label.sk-toggleable__label {cursor: pointer;display: block;width: 100%;margin-bottom: 0;padding: 0.3em;box-sizing: border-box;text-align: center;}#sk-container-id-12 label.sk-toggleable__label-arrow:before {content: \"▸\";float: left;margin-right: 0.25em;color: #696969;}#sk-container-id-12 label.sk-toggleable__label-arrow:hover:before {color: black;}#sk-container-id-12 div.sk-estimator:hover label.sk-toggleable__label-arrow:before {color: black;}#sk-container-id-12 div.sk-toggleable__content {max-height: 0;max-width: 0;overflow: hidden;text-align: left;background-color: #f0f8ff;}#sk-container-id-12 div.sk-toggleable__content pre {margin: 0.2em;color: black;border-radius: 0.25em;background-color: #f0f8ff;}#sk-container-id-12 input.sk-toggleable__control:checked~div.sk-toggleable__content {max-height: 200px;max-width: 100%;overflow: auto;}#sk-container-id-12 input.sk-toggleable__control:checked~label.sk-toggleable__label-arrow:before {content: \"▾\";}#sk-container-id-12 div.sk-estimator input.sk-toggleable__control:checked~label.sk-toggleable__label {background-color: #d4ebff;}#sk-container-id-12 div.sk-label input.sk-toggleable__control:checked~label.sk-toggleable__label {background-color: #d4ebff;}#sk-container-id-12 input.sk-hidden--visually {border: 0;clip: rect(1px 1px 1px 1px);clip: rect(1px, 1px, 1px, 1px);height: 1px;margin: -1px;overflow: hidden;padding: 0;position: absolute;width: 1px;}#sk-container-id-12 div.sk-estimator {font-family: monospace;background-color: #f0f8ff;border: 1px dotted black;border-radius: 0.25em;box-sizing: border-box;margin-bottom: 0.5em;}#sk-container-id-12 div.sk-estimator:hover {background-color: #d4ebff;}#sk-container-id-12 div.sk-parallel-item::after {content: \"\";width: 100%;border-bottom: 1px solid gray;flex-grow: 1;}#sk-container-id-12 div.sk-label:hover label.sk-toggleable__label {background-color: #d4ebff;}#sk-container-id-12 div.sk-serial::before {content: \"\";position: absolute;border-left: 1px solid gray;box-sizing: border-box;top: 0;bottom: 0;left: 50%;z-index: 0;}#sk-container-id-12 div.sk-serial {display: flex;flex-direction: column;align-items: center;background-color: white;padding-right: 0.2em;padding-left: 0.2em;position: relative;}#sk-container-id-12 div.sk-item {position: relative;z-index: 1;}#sk-container-id-12 div.sk-parallel {display: flex;align-items: stretch;justify-content: center;background-color: white;position: relative;}#sk-container-id-12 div.sk-item::before, #sk-container-id-12 div.sk-parallel-item::before {content: \"\";position: absolute;border-left: 1px solid gray;box-sizing: border-box;top: 0;bottom: 0;left: 50%;z-index: -1;}#sk-container-id-12 div.sk-parallel-item {display: flex;flex-direction: column;z-index: 1;position: relative;background-color: white;}#sk-container-id-12 div.sk-parallel-item:first-child::after {align-self: flex-end;width: 50%;}#sk-container-id-12 div.sk-parallel-item:last-child::after {align-self: flex-start;width: 50%;}#sk-container-id-12 div.sk-parallel-item:only-child::after {width: 0;}#sk-container-id-12 div.sk-dashed-wrapped {border: 1px dashed gray;margin: 0 0.4em 0.5em 0.4em;box-sizing: border-box;padding-bottom: 0.4em;background-color: white;}#sk-container-id-12 div.sk-label label {font-family: monospace;font-weight: bold;display: inline-block;line-height: 1.2em;}#sk-container-id-12 div.sk-label-container {text-align: center;}#sk-container-id-12 div.sk-container {/* jupyter's `normalize.less` sets `[hidden] { display: none; }` but bootstrap.min.css set `[hidden] { display: none !important; }` so we also need the `!important` here to be able to override the default hidden behavior on the sphinx rendered scikit-learn.org. See: https://github.com/scikit-learn/scikit-learn/issues/21755 */display: inline-block !important;position: relative;}#sk-container-id-12 div.sk-text-repr-fallback {display: none;}</style><div id=\"sk-container-id-12\" class=\"sk-top-container\"><div class=\"sk-text-repr-fallback\"><pre>LGBMClassifier(n_estimators=50, random_state=0)</pre><b>In a Jupyter environment, please rerun this cell to show the HTML representation or trust the notebook. <br />On GitHub, the HTML representation is unable to render, please try loading this page with nbviewer.org.</b></div><div class=\"sk-container\" hidden><div class=\"sk-item\"><div class=\"sk-estimator sk-toggleable\"><input class=\"sk-toggleable__control sk-hidden--visually\" id=\"sk-estimator-id-20\" type=\"checkbox\" checked><label for=\"sk-estimator-id-20\" class=\"sk-toggleable__label sk-toggleable__label-arrow\">LGBMClassifier</label><div class=\"sk-toggleable__content\"><pre>LGBMClassifier(n_estimators=50, random_state=0)</pre></div></div></div></div></div>"
            ],
            "text/plain": [
              "LGBMClassifier(n_estimators=50, random_state=0)"
            ]
          },
          "execution_count": 55,
          "metadata": {},
          "output_type": "execute_result"
        }
      ],
      "source": [
        "modelt.LGB_t(X_train,y_train,y_test,X_test)"
      ]
    },
    {
      "cell_type": "markdown",
      "metadata": {
        "id": "5Vh0wnuedCGa"
      },
      "source": [
        "#CATBoost"
      ]
    },
    {
      "cell_type": "code",
      "execution_count": null,
      "metadata": {
        "colab": {
          "base_uri": "https://localhost:8080/"
        },
        "id": "kEZNUHQydEy6",
        "outputId": "de535260-52a7-40a4-9838-3eb59c1ac97c"
      },
      "outputs": [
        {
          "name": "stdout",
          "output_type": "stream",
          "text": [
            "Accuracy: 1.0\n",
            "Confusion Matrix:\n",
            " [[13  0  0  0]\n",
            " [ 0 19  0  0]\n",
            " [ 0  0  2  0]\n",
            " [ 0  0  0  6]]\n",
            "Classification Report:\n",
            "               precision    recall  f1-score   support\n",
            "\n",
            "           0       1.00      1.00      1.00        13\n",
            "           1       1.00      1.00      1.00        19\n",
            "           3       1.00      1.00      1.00         2\n",
            "           4       1.00      1.00      1.00         6\n",
            "\n",
            "    accuracy                           1.00        40\n",
            "   macro avg       1.00      1.00      1.00        40\n",
            "weighted avg       1.00      1.00      1.00        40\n",
            "\n"
          ]
        }
      ],
      "source": [
        "model.CB(X_train,y_train,y_test,X_test)"
      ]
    },
    {
      "cell_type": "markdown",
      "metadata": {
        "id": "B-KngZUedFWW"
      },
      "source": [
        "tuning and fitting"
      ]
    },
    {
      "cell_type": "code",
      "execution_count": null,
      "metadata": {
        "colab": {
          "base_uri": "https://localhost:8080/"
        },
        "id": "5kgyg7X9dHH9",
        "outputId": "48285a85-d7de-4f63-82cc-495bf4c625c8"
      },
      "outputs": [
        {
          "name": "stdout",
          "output_type": "stream",
          "text": [
            "Accuracy: 1.0\n",
            "Confusion Matrix:\n",
            " [[13  0  0  0]\n",
            " [ 0 19  0  0]\n",
            " [ 0  0  2  0]\n",
            " [ 0  0  0  6]]\n",
            "Classification Report:\n",
            "               precision    recall  f1-score   support\n",
            "\n",
            "           0       1.00      1.00      1.00        13\n",
            "           1       1.00      1.00      1.00        19\n",
            "           3       1.00      1.00      1.00         2\n",
            "           4       1.00      1.00      1.00         6\n",
            "\n",
            "    accuracy                           1.00        40\n",
            "   macro avg       1.00      1.00      1.00        40\n",
            "weighted avg       1.00      1.00      1.00        40\n",
            "\n"
          ]
        },
        {
          "data": {
            "text/plain": [
              "<catboost.core.CatBoostClassifier at 0x7f8cb4c7acb0>"
            ]
          },
          "execution_count": 57,
          "metadata": {},
          "output_type": "execute_result"
        }
      ],
      "source": [
        "modelt.CB_t(X_train,y_train,y_test,X_test)"
      ]
    },
    {
      "cell_type": "markdown",
      "metadata": {
        "id": "97FUnl_ddIrf"
      },
      "source": [
        "#Linear Discriminant Analysis"
      ]
    },
    {
      "cell_type": "code",
      "execution_count": null,
      "metadata": {
        "colab": {
          "base_uri": "https://localhost:8080/",
          "height": 387
        },
        "id": "K8AB8WHPdMpF",
        "outputId": "ffae678a-990b-4f6a-95b9-7c60792b3892"
      },
      "outputs": [
        {
          "name": "stdout",
          "output_type": "stream",
          "text": [
            "Accuracy: 0.75\n",
            "Confusion Matrix:\n",
            " [[ 7  3  3  0]\n",
            " [ 0 17  0  2]\n",
            " [ 0  0  2  0]\n",
            " [ 0  2  0  4]]\n",
            "Classification Report:\n",
            "               precision    recall  f1-score   support\n",
            "\n",
            "           0       1.00      0.54      0.70        13\n",
            "           1       0.77      0.89      0.83        19\n",
            "           3       0.40      1.00      0.57         2\n",
            "           4       0.67      0.67      0.67         6\n",
            "\n",
            "    accuracy                           0.75        40\n",
            "   macro avg       0.71      0.77      0.69        40\n",
            "weighted avg       0.81      0.75      0.75        40\n",
            "\n"
          ]
        },
        {
          "data": {
            "text/html": [
              "<style>#sk-container-id-13 {color: black;background-color: white;}#sk-container-id-13 pre{padding: 0;}#sk-container-id-13 div.sk-toggleable {background-color: white;}#sk-container-id-13 label.sk-toggleable__label {cursor: pointer;display: block;width: 100%;margin-bottom: 0;padding: 0.3em;box-sizing: border-box;text-align: center;}#sk-container-id-13 label.sk-toggleable__label-arrow:before {content: \"▸\";float: left;margin-right: 0.25em;color: #696969;}#sk-container-id-13 label.sk-toggleable__label-arrow:hover:before {color: black;}#sk-container-id-13 div.sk-estimator:hover label.sk-toggleable__label-arrow:before {color: black;}#sk-container-id-13 div.sk-toggleable__content {max-height: 0;max-width: 0;overflow: hidden;text-align: left;background-color: #f0f8ff;}#sk-container-id-13 div.sk-toggleable__content pre {margin: 0.2em;color: black;border-radius: 0.25em;background-color: #f0f8ff;}#sk-container-id-13 input.sk-toggleable__control:checked~div.sk-toggleable__content {max-height: 200px;max-width: 100%;overflow: auto;}#sk-container-id-13 input.sk-toggleable__control:checked~label.sk-toggleable__label-arrow:before {content: \"▾\";}#sk-container-id-13 div.sk-estimator input.sk-toggleable__control:checked~label.sk-toggleable__label {background-color: #d4ebff;}#sk-container-id-13 div.sk-label input.sk-toggleable__control:checked~label.sk-toggleable__label {background-color: #d4ebff;}#sk-container-id-13 input.sk-hidden--visually {border: 0;clip: rect(1px 1px 1px 1px);clip: rect(1px, 1px, 1px, 1px);height: 1px;margin: -1px;overflow: hidden;padding: 0;position: absolute;width: 1px;}#sk-container-id-13 div.sk-estimator {font-family: monospace;background-color: #f0f8ff;border: 1px dotted black;border-radius: 0.25em;box-sizing: border-box;margin-bottom: 0.5em;}#sk-container-id-13 div.sk-estimator:hover {background-color: #d4ebff;}#sk-container-id-13 div.sk-parallel-item::after {content: \"\";width: 100%;border-bottom: 1px solid gray;flex-grow: 1;}#sk-container-id-13 div.sk-label:hover label.sk-toggleable__label {background-color: #d4ebff;}#sk-container-id-13 div.sk-serial::before {content: \"\";position: absolute;border-left: 1px solid gray;box-sizing: border-box;top: 0;bottom: 0;left: 50%;z-index: 0;}#sk-container-id-13 div.sk-serial {display: flex;flex-direction: column;align-items: center;background-color: white;padding-right: 0.2em;padding-left: 0.2em;position: relative;}#sk-container-id-13 div.sk-item {position: relative;z-index: 1;}#sk-container-id-13 div.sk-parallel {display: flex;align-items: stretch;justify-content: center;background-color: white;position: relative;}#sk-container-id-13 div.sk-item::before, #sk-container-id-13 div.sk-parallel-item::before {content: \"\";position: absolute;border-left: 1px solid gray;box-sizing: border-box;top: 0;bottom: 0;left: 50%;z-index: -1;}#sk-container-id-13 div.sk-parallel-item {display: flex;flex-direction: column;z-index: 1;position: relative;background-color: white;}#sk-container-id-13 div.sk-parallel-item:first-child::after {align-self: flex-end;width: 50%;}#sk-container-id-13 div.sk-parallel-item:last-child::after {align-self: flex-start;width: 50%;}#sk-container-id-13 div.sk-parallel-item:only-child::after {width: 0;}#sk-container-id-13 div.sk-dashed-wrapped {border: 1px dashed gray;margin: 0 0.4em 0.5em 0.4em;box-sizing: border-box;padding-bottom: 0.4em;background-color: white;}#sk-container-id-13 div.sk-label label {font-family: monospace;font-weight: bold;display: inline-block;line-height: 1.2em;}#sk-container-id-13 div.sk-label-container {text-align: center;}#sk-container-id-13 div.sk-container {/* jupyter's `normalize.less` sets `[hidden] { display: none; }` but bootstrap.min.css set `[hidden] { display: none !important; }` so we also need the `!important` here to be able to override the default hidden behavior on the sphinx rendered scikit-learn.org. See: https://github.com/scikit-learn/scikit-learn/issues/21755 */display: inline-block !important;position: relative;}#sk-container-id-13 div.sk-text-repr-fallback {display: none;}</style><div id=\"sk-container-id-13\" class=\"sk-top-container\"><div class=\"sk-text-repr-fallback\"><pre>LinearDiscriminantAnalysis()</pre><b>In a Jupyter environment, please rerun this cell to show the HTML representation or trust the notebook. <br />On GitHub, the HTML representation is unable to render, please try loading this page with nbviewer.org.</b></div><div class=\"sk-container\" hidden><div class=\"sk-item\"><div class=\"sk-estimator sk-toggleable\"><input class=\"sk-toggleable__control sk-hidden--visually\" id=\"sk-estimator-id-21\" type=\"checkbox\" checked><label for=\"sk-estimator-id-21\" class=\"sk-toggleable__label sk-toggleable__label-arrow\">LinearDiscriminantAnalysis</label><div class=\"sk-toggleable__content\"><pre>LinearDiscriminantAnalysis()</pre></div></div></div></div></div>"
            ],
            "text/plain": [
              "LinearDiscriminantAnalysis()"
            ]
          },
          "execution_count": 58,
          "metadata": {},
          "output_type": "execute_result"
        }
      ],
      "source": [
        "model.LDA(X_train,y_train,y_test,X_test)"
      ]
    },
    {
      "cell_type": "markdown",
      "metadata": {
        "id": "RqJohmP0dNuy"
      },
      "source": [
        "#Quadratic discriminant Analysis"
      ]
    },
    {
      "cell_type": "code",
      "execution_count": null,
      "metadata": {
        "colab": {
          "base_uri": "https://localhost:8080/",
          "height": 313
        },
        "id": "hAU3sRKedSa6",
        "outputId": "4094dfa1-b425-4e9e-9c14-2909a0034d75"
      },
      "outputs": [
        {
          "ename": "ValueError",
          "evalue": "ignored",
          "output_type": "error",
          "traceback": [
            "\u001b[0;31m---------------------------------------------------------------------------\u001b[0m",
            "\u001b[0;31mValueError\u001b[0m                                Traceback (most recent call last)",
            "\u001b[0;32m<ipython-input-59-6435b399d342>\u001b[0m in \u001b[0;36m<cell line: 1>\u001b[0;34m()\u001b[0m\n\u001b[0;32m----> 1\u001b[0;31m \u001b[0mmodel\u001b[0m\u001b[0;34m.\u001b[0m\u001b[0mQDA\u001b[0m\u001b[0;34m(\u001b[0m\u001b[0mX_train\u001b[0m\u001b[0;34m,\u001b[0m\u001b[0my_train\u001b[0m\u001b[0;34m,\u001b[0m\u001b[0my_test\u001b[0m\u001b[0;34m,\u001b[0m\u001b[0mX_test\u001b[0m\u001b[0;34m)\u001b[0m\u001b[0;34m\u001b[0m\u001b[0;34m\u001b[0m\u001b[0m\n\u001b[0m",
            "\u001b[0;32m<ipython-input-25-3426f583ec24>\u001b[0m in \u001b[0;36mQDA\u001b[0;34m(self, X_train, y_train, y_test, X_test)\u001b[0m\n\u001b[1;32m    208\u001b[0m     \u001b[0mqda\u001b[0m \u001b[0;34m=\u001b[0m \u001b[0mQuadraticDiscriminantAnalysis\u001b[0m\u001b[0;34m(\u001b[0m\u001b[0;34m)\u001b[0m\u001b[0;34m\u001b[0m\u001b[0;34m\u001b[0m\u001b[0m\n\u001b[1;32m    209\u001b[0m     \u001b[0;31m#Train the model on the training data\u001b[0m\u001b[0;34m\u001b[0m\u001b[0;34m\u001b[0m\u001b[0m\n\u001b[0;32m--> 210\u001b[0;31m     \u001b[0mqda\u001b[0m\u001b[0;34m.\u001b[0m\u001b[0mfit\u001b[0m\u001b[0;34m(\u001b[0m\u001b[0mX_train\u001b[0m\u001b[0;34m,\u001b[0m \u001b[0my_train\u001b[0m\u001b[0;34m)\u001b[0m\u001b[0;34m\u001b[0m\u001b[0;34m\u001b[0m\u001b[0m\n\u001b[0m\u001b[1;32m    211\u001b[0m \u001b[0;34m\u001b[0m\u001b[0m\n\u001b[1;32m    212\u001b[0m     \u001b[0;31m#Predict the classes of the testing data\u001b[0m\u001b[0;34m\u001b[0m\u001b[0;34m\u001b[0m\u001b[0m\n",
            "\u001b[0;32m/usr/local/lib/python3.10/dist-packages/sklearn/discriminant_analysis.py\u001b[0m in \u001b[0;36mfit\u001b[0;34m(self, X, y)\u001b[0m\n\u001b[1;32m    915\u001b[0m             \u001b[0mmeans\u001b[0m\u001b[0;34m.\u001b[0m\u001b[0mappend\u001b[0m\u001b[0;34m(\u001b[0m\u001b[0mmeang\u001b[0m\u001b[0;34m)\u001b[0m\u001b[0;34m\u001b[0m\u001b[0;34m\u001b[0m\u001b[0m\n\u001b[1;32m    916\u001b[0m             \u001b[0;32mif\u001b[0m \u001b[0mlen\u001b[0m\u001b[0;34m(\u001b[0m\u001b[0mXg\u001b[0m\u001b[0;34m)\u001b[0m \u001b[0;34m==\u001b[0m \u001b[0;36m1\u001b[0m\u001b[0;34m:\u001b[0m\u001b[0;34m\u001b[0m\u001b[0;34m\u001b[0m\u001b[0m\n\u001b[0;32m--> 917\u001b[0;31m                 raise ValueError(\n\u001b[0m\u001b[1;32m    918\u001b[0m                     \u001b[0;34m\"y has only 1 sample in class %s, covariance is ill defined.\"\u001b[0m\u001b[0;34m\u001b[0m\u001b[0;34m\u001b[0m\u001b[0m\n\u001b[1;32m    919\u001b[0m                     \u001b[0;34m%\u001b[0m \u001b[0mstr\u001b[0m\u001b[0;34m(\u001b[0m\u001b[0mself\u001b[0m\u001b[0;34m.\u001b[0m\u001b[0mclasses_\u001b[0m\u001b[0;34m[\u001b[0m\u001b[0mind\u001b[0m\u001b[0;34m]\u001b[0m\u001b[0;34m)\u001b[0m\u001b[0;34m\u001b[0m\u001b[0;34m\u001b[0m\u001b[0m\n",
            "\u001b[0;31mValueError\u001b[0m: y has only 1 sample in class 2, covariance is ill defined."
          ]
        }
      ],
      "source": [
        "model.QDA(X_train,y_train,y_test,X_test)"
      ]
    },
    {
      "cell_type": "markdown",
      "metadata": {
        "id": "d8sczToCKLdL"
      },
      "source": [
        "#========================================================"
      ]
    },
    {
      "cell_type": "markdown",
      "metadata": {
        "id": "iIOYANNoIW7A"
      },
      "source": [
        "#Sem - 5 total\n"
      ]
    },
    {
      "cell_type": "code",
      "execution_count": 60,
      "metadata": {
        "colab": {
          "base_uri": "https://localhost:8080/",
          "height": 206
        },
        "id": "XOYm-okzIW7B",
        "outputId": "b084a10a-9e14-4afb-bc45-2cae7da184ce"
      },
      "outputs": [
        {
          "data": {
            "text/html": [
              "\n",
              "  <div id=\"df-c7a30c69-75b8-40f5-ab69-cc03d3cc1bd9\">\n",
              "    <div class=\"colab-df-container\">\n",
              "      <div>\n",
              "<style scoped>\n",
              "    .dataframe tbody tr th:only-of-type {\n",
              "        vertical-align: middle;\n",
              "    }\n",
              "\n",
              "    .dataframe tbody tr th {\n",
              "        vertical-align: top;\n",
              "    }\n",
              "\n",
              "    .dataframe thead th {\n",
              "        text-align: right;\n",
              "    }\n",
              "</style>\n",
              "<table border=\"1\" class=\"dataframe\">\n",
              "  <thead>\n",
              "    <tr style=\"text-align: right;\">\n",
              "      <th></th>\n",
              "      <th>Sem V Fail in subjects (7)</th>\n",
              "      <th>Sem V Pass in subjects (7)</th>\n",
              "      <th>Sem V Total (850) Final</th>\n",
              "      <th>Sem V % Final</th>\n",
              "      <th>Sem V Condol/ Grace Final</th>\n",
              "      <th>Sem V EGP Final</th>\n",
              "      <th>Sem V SGPA (Credits = 27) Final</th>\n",
              "      <th>Sem V Status Final</th>\n",
              "      <th>Sem V Grade Final</th>\n",
              "    </tr>\n",
              "  </thead>\n",
              "  <tbody>\n",
              "    <tr>\n",
              "      <th>0</th>\n",
              "      <td>0</td>\n",
              "      <td>7</td>\n",
              "      <td>478</td>\n",
              "      <td>56.24</td>\n",
              "      <td>0</td>\n",
              "      <td>184</td>\n",
              "      <td>6.814815</td>\n",
              "      <td>Pass</td>\n",
              "      <td>B+</td>\n",
              "    </tr>\n",
              "    <tr>\n",
              "      <th>1</th>\n",
              "      <td>0</td>\n",
              "      <td>7</td>\n",
              "      <td>499</td>\n",
              "      <td>58.71</td>\n",
              "      <td>0</td>\n",
              "      <td>191</td>\n",
              "      <td>7.074074</td>\n",
              "      <td>Pass</td>\n",
              "      <td>B+</td>\n",
              "    </tr>\n",
              "    <tr>\n",
              "      <th>2</th>\n",
              "      <td>0</td>\n",
              "      <td>7</td>\n",
              "      <td>598</td>\n",
              "      <td>70.35</td>\n",
              "      <td>0</td>\n",
              "      <td>230</td>\n",
              "      <td>8.518519</td>\n",
              "      <td>Pass</td>\n",
              "      <td>A+</td>\n",
              "    </tr>\n",
              "    <tr>\n",
              "      <th>3</th>\n",
              "      <td>0</td>\n",
              "      <td>7</td>\n",
              "      <td>689</td>\n",
              "      <td>81.06</td>\n",
              "      <td>0</td>\n",
              "      <td>259</td>\n",
              "      <td>9.592593</td>\n",
              "      <td>Pass</td>\n",
              "      <td>O</td>\n",
              "    </tr>\n",
              "    <tr>\n",
              "      <th>4</th>\n",
              "      <td>0</td>\n",
              "      <td>7</td>\n",
              "      <td>695</td>\n",
              "      <td>81.76</td>\n",
              "      <td>0</td>\n",
              "      <td>257</td>\n",
              "      <td>9.518519</td>\n",
              "      <td>Pass</td>\n",
              "      <td>O</td>\n",
              "    </tr>\n",
              "  </tbody>\n",
              "</table>\n",
              "</div>\n",
              "      <button class=\"colab-df-convert\" onclick=\"convertToInteractive('df-c7a30c69-75b8-40f5-ab69-cc03d3cc1bd9')\"\n",
              "              title=\"Convert this dataframe to an interactive table.\"\n",
              "              style=\"display:none;\">\n",
              "        \n",
              "  <svg xmlns=\"http://www.w3.org/2000/svg\" height=\"24px\"viewBox=\"0 0 24 24\"\n",
              "       width=\"24px\">\n",
              "    <path d=\"M0 0h24v24H0V0z\" fill=\"none\"/>\n",
              "    <path d=\"M18.56 5.44l.94 2.06.94-2.06 2.06-.94-2.06-.94-.94-2.06-.94 2.06-2.06.94zm-11 1L8.5 8.5l.94-2.06 2.06-.94-2.06-.94L8.5 2.5l-.94 2.06-2.06.94zm10 10l.94 2.06.94-2.06 2.06-.94-2.06-.94-.94-2.06-.94 2.06-2.06.94z\"/><path d=\"M17.41 7.96l-1.37-1.37c-.4-.4-.92-.59-1.43-.59-.52 0-1.04.2-1.43.59L10.3 9.45l-7.72 7.72c-.78.78-.78 2.05 0 2.83L4 21.41c.39.39.9.59 1.41.59.51 0 1.02-.2 1.41-.59l7.78-7.78 2.81-2.81c.8-.78.8-2.07 0-2.86zM5.41 20L4 18.59l7.72-7.72 1.47 1.35L5.41 20z\"/>\n",
              "  </svg>\n",
              "      </button>\n",
              "      \n",
              "  <style>\n",
              "    .colab-df-container {\n",
              "      display:flex;\n",
              "      flex-wrap:wrap;\n",
              "      gap: 12px;\n",
              "    }\n",
              "\n",
              "    .colab-df-convert {\n",
              "      background-color: #E8F0FE;\n",
              "      border: none;\n",
              "      border-radius: 50%;\n",
              "      cursor: pointer;\n",
              "      display: none;\n",
              "      fill: #1967D2;\n",
              "      height: 32px;\n",
              "      padding: 0 0 0 0;\n",
              "      width: 32px;\n",
              "    }\n",
              "\n",
              "    .colab-df-convert:hover {\n",
              "      background-color: #E2EBFA;\n",
              "      box-shadow: 0px 1px 2px rgba(60, 64, 67, 0.3), 0px 1px 3px 1px rgba(60, 64, 67, 0.15);\n",
              "      fill: #174EA6;\n",
              "    }\n",
              "\n",
              "    [theme=dark] .colab-df-convert {\n",
              "      background-color: #3B4455;\n",
              "      fill: #D2E3FC;\n",
              "    }\n",
              "\n",
              "    [theme=dark] .colab-df-convert:hover {\n",
              "      background-color: #434B5C;\n",
              "      box-shadow: 0px 1px 3px 1px rgba(0, 0, 0, 0.15);\n",
              "      filter: drop-shadow(0px 1px 2px rgba(0, 0, 0, 0.3));\n",
              "      fill: #FFFFFF;\n",
              "    }\n",
              "  </style>\n",
              "\n",
              "      <script>\n",
              "        const buttonEl =\n",
              "          document.querySelector('#df-c7a30c69-75b8-40f5-ab69-cc03d3cc1bd9 button.colab-df-convert');\n",
              "        buttonEl.style.display =\n",
              "          google.colab.kernel.accessAllowed ? 'block' : 'none';\n",
              "\n",
              "        async function convertToInteractive(key) {\n",
              "          const element = document.querySelector('#df-c7a30c69-75b8-40f5-ab69-cc03d3cc1bd9');\n",
              "          const dataTable =\n",
              "            await google.colab.kernel.invokeFunction('convertToInteractive',\n",
              "                                                     [key], {});\n",
              "          if (!dataTable) return;\n",
              "\n",
              "          const docLinkHtml = 'Like what you see? Visit the ' +\n",
              "            '<a target=\"_blank\" href=https://colab.research.google.com/notebooks/data_table.ipynb>data table notebook</a>'\n",
              "            + ' to learn more about interactive tables.';\n",
              "          element.innerHTML = '';\n",
              "          dataTable['output_type'] = 'display_data';\n",
              "          await google.colab.output.renderOutput(dataTable, element);\n",
              "          const docLink = document.createElement('div');\n",
              "          docLink.innerHTML = docLinkHtml;\n",
              "          element.appendChild(docLink);\n",
              "        }\n",
              "      </script>\n",
              "    </div>\n",
              "  </div>\n",
              "  "
            ],
            "text/plain": [
              "   Sem V Fail in subjects (7)  Sem V Pass in subjects (7)  \\\n",
              "0                           0                           7   \n",
              "1                           0                           7   \n",
              "2                           0                           7   \n",
              "3                           0                           7   \n",
              "4                           0                           7   \n",
              "\n",
              "   Sem V Total (850) Final  Sem V % Final  Sem V Condol/ Grace Final  \\\n",
              "0                      478          56.24                          0   \n",
              "1                      499          58.71                          0   \n",
              "2                      598          70.35                          0   \n",
              "3                      689          81.06                          0   \n",
              "4                      695          81.76                          0   \n",
              "\n",
              "   Sem V EGP Final   Sem V SGPA (Credits = 27) Final  Sem V Status Final   \\\n",
              "0               184                          6.814815                Pass   \n",
              "1               191                          7.074074                Pass   \n",
              "2               230                          8.518519                Pass   \n",
              "3               259                          9.592593                Pass   \n",
              "4               257                          9.518519                Pass   \n",
              "\n",
              "  Sem V Grade Final  \n",
              "0                B+  \n",
              "1                B+  \n",
              "2                A+  \n",
              "3                 O  \n",
              "4                 O  "
            ]
          },
          "execution_count": 60,
          "metadata": {},
          "output_type": "execute_result"
        }
      ],
      "source": [
        "sem_5.head()"
      ]
    },
    {
      "cell_type": "code",
      "execution_count": 61,
      "metadata": {
        "colab": {
          "base_uri": "https://localhost:8080/"
        },
        "id": "y1Tg2PIRIW7B",
        "outputId": "c669ab36-7d95-4e28-b254-0c337ed29028"
      },
      "outputs": [
        {
          "data": {
            "text/plain": [
              "(200, 9)"
            ]
          },
          "execution_count": 61,
          "metadata": {},
          "output_type": "execute_result"
        }
      ],
      "source": [
        "sem_5.shape"
      ]
    },
    {
      "cell_type": "code",
      "execution_count": 62,
      "metadata": {
        "id": "go7kZlOnIW7B"
      },
      "outputs": [],
      "source": [
        "target = 'Sem V Grade Final'"
      ]
    },
    {
      "cell_type": "code",
      "execution_count": 63,
      "metadata": {
        "colab": {
          "base_uri": "https://localhost:8080/"
        },
        "id": "gWKpIziBIW7C",
        "outputId": "8434b106-344c-4635-9bbf-d31aac71810b"
      },
      "outputs": [
        {
          "name": "stdout",
          "output_type": "stream",
          "text": [
            "['Sem V Status Final ']\n",
            "Shape of training split:  (160, 8)\n",
            "Shape of test split:  (40, 8)\n"
          ]
        }
      ],
      "source": [
        "X_train, X_test, y_train, y_test = preprocess(sem_5,target)"
      ]
    },
    {
      "cell_type": "markdown",
      "metadata": {
        "id": "JDA8f3rxIW7C"
      },
      "source": [
        "#Logistic Regression"
      ]
    },
    {
      "cell_type": "code",
      "execution_count": 64,
      "metadata": {
        "colab": {
          "base_uri": "https://localhost:8080/"
        },
        "id": "yQ1JrZcdIW7C",
        "outputId": "e895760d-2aea-4f40-fe03-0f1aa0e5d851"
      },
      "outputs": [
        {
          "name": "stdout",
          "output_type": "stream",
          "text": [
            "Accuracy: 0.7\n",
            "Confusion Matrix:\n",
            " [[ 6  7  0  0]\n",
            " [ 0 19  0  0]\n",
            " [ 1  1  0  0]\n",
            " [ 0  3  0  3]]\n",
            "Classification Report:\n",
            "               precision    recall  f1-score   support\n",
            "\n",
            "           0       0.86      0.46      0.60        13\n",
            "           1       0.63      1.00      0.78        19\n",
            "           3       0.00      0.00      0.00         2\n",
            "           4       1.00      0.50      0.67         6\n",
            "\n",
            "    accuracy                           0.70        40\n",
            "   macro avg       0.62      0.49      0.51        40\n",
            "weighted avg       0.73      0.70      0.66        40\n",
            "\n"
          ]
        }
      ],
      "source": [
        "model.LR(X_train,y_train,y_test,X_test)"
      ]
    },
    {
      "cell_type": "markdown",
      "metadata": {
        "id": "gh1jTSoIIW7C"
      },
      "source": [
        "Tuning and fitting"
      ]
    },
    {
      "cell_type": "code",
      "execution_count": 65,
      "metadata": {
        "colab": {
          "base_uri": "https://localhost:8080/",
          "height": 422
        },
        "id": "pUuU5lrYIW7C",
        "outputId": "15365c5b-f3d0-495c-a91c-11babb655477"
      },
      "outputs": [
        {
          "name": "stdout",
          "output_type": "stream",
          "text": [
            "Accuracy: 0.7\n",
            "#######################################################################\n",
            "Confusion Matrix:\n",
            " [[ 6  7  0  0]\n",
            " [ 0 19  0  0]\n",
            " [ 1  1  0  0]\n",
            " [ 0  3  0  3]]\n",
            "#######################################################################\n",
            "Classification Report:\n",
            "               precision    recall  f1-score   support\n",
            "\n",
            "           0       0.86      0.46      0.60        13\n",
            "           1       0.63      1.00      0.78        19\n",
            "           3       0.00      0.00      0.00         2\n",
            "           4       1.00      0.50      0.67         6\n",
            "\n",
            "    accuracy                           0.70        40\n",
            "   macro avg       0.62      0.49      0.51        40\n",
            "weighted avg       0.73      0.70      0.66        40\n",
            "\n"
          ]
        },
        {
          "data": {
            "text/html": [
              "<style>#sk-container-id-14 {color: black;background-color: white;}#sk-container-id-14 pre{padding: 0;}#sk-container-id-14 div.sk-toggleable {background-color: white;}#sk-container-id-14 label.sk-toggleable__label {cursor: pointer;display: block;width: 100%;margin-bottom: 0;padding: 0.3em;box-sizing: border-box;text-align: center;}#sk-container-id-14 label.sk-toggleable__label-arrow:before {content: \"▸\";float: left;margin-right: 0.25em;color: #696969;}#sk-container-id-14 label.sk-toggleable__label-arrow:hover:before {color: black;}#sk-container-id-14 div.sk-estimator:hover label.sk-toggleable__label-arrow:before {color: black;}#sk-container-id-14 div.sk-toggleable__content {max-height: 0;max-width: 0;overflow: hidden;text-align: left;background-color: #f0f8ff;}#sk-container-id-14 div.sk-toggleable__content pre {margin: 0.2em;color: black;border-radius: 0.25em;background-color: #f0f8ff;}#sk-container-id-14 input.sk-toggleable__control:checked~div.sk-toggleable__content {max-height: 200px;max-width: 100%;overflow: auto;}#sk-container-id-14 input.sk-toggleable__control:checked~label.sk-toggleable__label-arrow:before {content: \"▾\";}#sk-container-id-14 div.sk-estimator input.sk-toggleable__control:checked~label.sk-toggleable__label {background-color: #d4ebff;}#sk-container-id-14 div.sk-label input.sk-toggleable__control:checked~label.sk-toggleable__label {background-color: #d4ebff;}#sk-container-id-14 input.sk-hidden--visually {border: 0;clip: rect(1px 1px 1px 1px);clip: rect(1px, 1px, 1px, 1px);height: 1px;margin: -1px;overflow: hidden;padding: 0;position: absolute;width: 1px;}#sk-container-id-14 div.sk-estimator {font-family: monospace;background-color: #f0f8ff;border: 1px dotted black;border-radius: 0.25em;box-sizing: border-box;margin-bottom: 0.5em;}#sk-container-id-14 div.sk-estimator:hover {background-color: #d4ebff;}#sk-container-id-14 div.sk-parallel-item::after {content: \"\";width: 100%;border-bottom: 1px solid gray;flex-grow: 1;}#sk-container-id-14 div.sk-label:hover label.sk-toggleable__label {background-color: #d4ebff;}#sk-container-id-14 div.sk-serial::before {content: \"\";position: absolute;border-left: 1px solid gray;box-sizing: border-box;top: 0;bottom: 0;left: 50%;z-index: 0;}#sk-container-id-14 div.sk-serial {display: flex;flex-direction: column;align-items: center;background-color: white;padding-right: 0.2em;padding-left: 0.2em;position: relative;}#sk-container-id-14 div.sk-item {position: relative;z-index: 1;}#sk-container-id-14 div.sk-parallel {display: flex;align-items: stretch;justify-content: center;background-color: white;position: relative;}#sk-container-id-14 div.sk-item::before, #sk-container-id-14 div.sk-parallel-item::before {content: \"\";position: absolute;border-left: 1px solid gray;box-sizing: border-box;top: 0;bottom: 0;left: 50%;z-index: -1;}#sk-container-id-14 div.sk-parallel-item {display: flex;flex-direction: column;z-index: 1;position: relative;background-color: white;}#sk-container-id-14 div.sk-parallel-item:first-child::after {align-self: flex-end;width: 50%;}#sk-container-id-14 div.sk-parallel-item:last-child::after {align-self: flex-start;width: 50%;}#sk-container-id-14 div.sk-parallel-item:only-child::after {width: 0;}#sk-container-id-14 div.sk-dashed-wrapped {border: 1px dashed gray;margin: 0 0.4em 0.5em 0.4em;box-sizing: border-box;padding-bottom: 0.4em;background-color: white;}#sk-container-id-14 div.sk-label label {font-family: monospace;font-weight: bold;display: inline-block;line-height: 1.2em;}#sk-container-id-14 div.sk-label-container {text-align: center;}#sk-container-id-14 div.sk-container {/* jupyter's `normalize.less` sets `[hidden] { display: none; }` but bootstrap.min.css set `[hidden] { display: none !important; }` so we also need the `!important` here to be able to override the default hidden behavior on the sphinx rendered scikit-learn.org. See: https://github.com/scikit-learn/scikit-learn/issues/21755 */display: inline-block !important;position: relative;}#sk-container-id-14 div.sk-text-repr-fallback {display: none;}</style><div id=\"sk-container-id-14\" class=\"sk-top-container\"><div class=\"sk-text-repr-fallback\"><pre>LogisticRegression(C=100.0, random_state=0)</pre><b>In a Jupyter environment, please rerun this cell to show the HTML representation or trust the notebook. <br />On GitHub, the HTML representation is unable to render, please try loading this page with nbviewer.org.</b></div><div class=\"sk-container\" hidden><div class=\"sk-item\"><div class=\"sk-estimator sk-toggleable\"><input class=\"sk-toggleable__control sk-hidden--visually\" id=\"sk-estimator-id-22\" type=\"checkbox\" checked><label for=\"sk-estimator-id-22\" class=\"sk-toggleable__label sk-toggleable__label-arrow\">LogisticRegression</label><div class=\"sk-toggleable__content\"><pre>LogisticRegression(C=100.0, random_state=0)</pre></div></div></div></div></div>"
            ],
            "text/plain": [
              "LogisticRegression(C=100.0, random_state=0)"
            ]
          },
          "execution_count": 65,
          "metadata": {},
          "output_type": "execute_result"
        }
      ],
      "source": [
        "modelt.LR_t(X_train,y_train,y_test,X_test)"
      ]
    },
    {
      "cell_type": "markdown",
      "metadata": {
        "id": "fMcvLysIIW7C"
      },
      "source": [
        "#Gaussian Naive Bayes"
      ]
    },
    {
      "cell_type": "code",
      "execution_count": 66,
      "metadata": {
        "colab": {
          "base_uri": "https://localhost:8080/",
          "height": 387
        },
        "id": "VP10_KilIW7C",
        "outputId": "92f7ec48-f319-414b-f781-4965e004183a"
      },
      "outputs": [
        {
          "name": "stdout",
          "output_type": "stream",
          "text": [
            "Accuracy: 0.775\n",
            "Confusion Matrix:\n",
            " [[ 9  2  2  0]\n",
            " [ 0 14  0  5]\n",
            " [ 0  0  2  0]\n",
            " [ 0  0  0  6]]\n",
            "Classification Report:\n",
            "               precision    recall  f1-score   support\n",
            "\n",
            "           0       1.00      0.69      0.82        13\n",
            "           1       0.88      0.74      0.80        19\n",
            "           3       0.50      1.00      0.67         2\n",
            "           4       0.55      1.00      0.71         6\n",
            "\n",
            "    accuracy                           0.78        40\n",
            "   macro avg       0.73      0.86      0.75        40\n",
            "weighted avg       0.85      0.78      0.79        40\n",
            "\n"
          ]
        },
        {
          "data": {
            "text/html": [
              "<style>#sk-container-id-15 {color: black;background-color: white;}#sk-container-id-15 pre{padding: 0;}#sk-container-id-15 div.sk-toggleable {background-color: white;}#sk-container-id-15 label.sk-toggleable__label {cursor: pointer;display: block;width: 100%;margin-bottom: 0;padding: 0.3em;box-sizing: border-box;text-align: center;}#sk-container-id-15 label.sk-toggleable__label-arrow:before {content: \"▸\";float: left;margin-right: 0.25em;color: #696969;}#sk-container-id-15 label.sk-toggleable__label-arrow:hover:before {color: black;}#sk-container-id-15 div.sk-estimator:hover label.sk-toggleable__label-arrow:before {color: black;}#sk-container-id-15 div.sk-toggleable__content {max-height: 0;max-width: 0;overflow: hidden;text-align: left;background-color: #f0f8ff;}#sk-container-id-15 div.sk-toggleable__content pre {margin: 0.2em;color: black;border-radius: 0.25em;background-color: #f0f8ff;}#sk-container-id-15 input.sk-toggleable__control:checked~div.sk-toggleable__content {max-height: 200px;max-width: 100%;overflow: auto;}#sk-container-id-15 input.sk-toggleable__control:checked~label.sk-toggleable__label-arrow:before {content: \"▾\";}#sk-container-id-15 div.sk-estimator input.sk-toggleable__control:checked~label.sk-toggleable__label {background-color: #d4ebff;}#sk-container-id-15 div.sk-label input.sk-toggleable__control:checked~label.sk-toggleable__label {background-color: #d4ebff;}#sk-container-id-15 input.sk-hidden--visually {border: 0;clip: rect(1px 1px 1px 1px);clip: rect(1px, 1px, 1px, 1px);height: 1px;margin: -1px;overflow: hidden;padding: 0;position: absolute;width: 1px;}#sk-container-id-15 div.sk-estimator {font-family: monospace;background-color: #f0f8ff;border: 1px dotted black;border-radius: 0.25em;box-sizing: border-box;margin-bottom: 0.5em;}#sk-container-id-15 div.sk-estimator:hover {background-color: #d4ebff;}#sk-container-id-15 div.sk-parallel-item::after {content: \"\";width: 100%;border-bottom: 1px solid gray;flex-grow: 1;}#sk-container-id-15 div.sk-label:hover label.sk-toggleable__label {background-color: #d4ebff;}#sk-container-id-15 div.sk-serial::before {content: \"\";position: absolute;border-left: 1px solid gray;box-sizing: border-box;top: 0;bottom: 0;left: 50%;z-index: 0;}#sk-container-id-15 div.sk-serial {display: flex;flex-direction: column;align-items: center;background-color: white;padding-right: 0.2em;padding-left: 0.2em;position: relative;}#sk-container-id-15 div.sk-item {position: relative;z-index: 1;}#sk-container-id-15 div.sk-parallel {display: flex;align-items: stretch;justify-content: center;background-color: white;position: relative;}#sk-container-id-15 div.sk-item::before, #sk-container-id-15 div.sk-parallel-item::before {content: \"\";position: absolute;border-left: 1px solid gray;box-sizing: border-box;top: 0;bottom: 0;left: 50%;z-index: -1;}#sk-container-id-15 div.sk-parallel-item {display: flex;flex-direction: column;z-index: 1;position: relative;background-color: white;}#sk-container-id-15 div.sk-parallel-item:first-child::after {align-self: flex-end;width: 50%;}#sk-container-id-15 div.sk-parallel-item:last-child::after {align-self: flex-start;width: 50%;}#sk-container-id-15 div.sk-parallel-item:only-child::after {width: 0;}#sk-container-id-15 div.sk-dashed-wrapped {border: 1px dashed gray;margin: 0 0.4em 0.5em 0.4em;box-sizing: border-box;padding-bottom: 0.4em;background-color: white;}#sk-container-id-15 div.sk-label label {font-family: monospace;font-weight: bold;display: inline-block;line-height: 1.2em;}#sk-container-id-15 div.sk-label-container {text-align: center;}#sk-container-id-15 div.sk-container {/* jupyter's `normalize.less` sets `[hidden] { display: none; }` but bootstrap.min.css set `[hidden] { display: none !important; }` so we also need the `!important` here to be able to override the default hidden behavior on the sphinx rendered scikit-learn.org. See: https://github.com/scikit-learn/scikit-learn/issues/21755 */display: inline-block !important;position: relative;}#sk-container-id-15 div.sk-text-repr-fallback {display: none;}</style><div id=\"sk-container-id-15\" class=\"sk-top-container\"><div class=\"sk-text-repr-fallback\"><pre>GaussianNB()</pre><b>In a Jupyter environment, please rerun this cell to show the HTML representation or trust the notebook. <br />On GitHub, the HTML representation is unable to render, please try loading this page with nbviewer.org.</b></div><div class=\"sk-container\" hidden><div class=\"sk-item\"><div class=\"sk-estimator sk-toggleable\"><input class=\"sk-toggleable__control sk-hidden--visually\" id=\"sk-estimator-id-23\" type=\"checkbox\" checked><label for=\"sk-estimator-id-23\" class=\"sk-toggleable__label sk-toggleable__label-arrow\">GaussianNB</label><div class=\"sk-toggleable__content\"><pre>GaussianNB()</pre></div></div></div></div></div>"
            ],
            "text/plain": [
              "GaussianNB()"
            ]
          },
          "execution_count": 66,
          "metadata": {},
          "output_type": "execute_result"
        }
      ],
      "source": [
        "model.GNB(X_train,y_train,y_test,X_test)"
      ]
    },
    {
      "cell_type": "markdown",
      "metadata": {
        "id": "4EEP_9nfIW7C"
      },
      "source": [
        "Tuning and fitting"
      ]
    },
    {
      "cell_type": "code",
      "execution_count": 67,
      "metadata": {
        "colab": {
          "base_uri": "https://localhost:8080/",
          "height": 430
        },
        "id": "n8EBACY0IW7D",
        "outputId": "5db2e338-80a8-4c8a-f4c8-35e2e07e553d"
      },
      "outputs": [
        {
          "name": "stdout",
          "output_type": "stream",
          "text": [
            "Accuracy: 0.875\n",
            "Confusion Matrix:\n",
            " [[ 9  2  2  0]\n",
            " [ 0 18  0  1]\n",
            " [ 0  0  2  0]\n",
            " [ 0  0  0  6]]\n",
            "Classification Report:\n",
            "               precision    recall  f1-score   support\n",
            "\n",
            "           0       1.00      0.69      0.82        13\n",
            "           1       0.90      0.95      0.92        19\n",
            "           3       0.50      1.00      0.67         2\n",
            "           4       0.86      1.00      0.92         6\n",
            "\n",
            "    accuracy                           0.88        40\n",
            "   macro avg       0.81      0.91      0.83        40\n",
            "weighted avg       0.91      0.88      0.88        40\n",
            "\n"
          ]
        },
        {
          "data": {
            "text/html": [
              "<style>#sk-container-id-16 {color: black;background-color: white;}#sk-container-id-16 pre{padding: 0;}#sk-container-id-16 div.sk-toggleable {background-color: white;}#sk-container-id-16 label.sk-toggleable__label {cursor: pointer;display: block;width: 100%;margin-bottom: 0;padding: 0.3em;box-sizing: border-box;text-align: center;}#sk-container-id-16 label.sk-toggleable__label-arrow:before {content: \"▸\";float: left;margin-right: 0.25em;color: #696969;}#sk-container-id-16 label.sk-toggleable__label-arrow:hover:before {color: black;}#sk-container-id-16 div.sk-estimator:hover label.sk-toggleable__label-arrow:before {color: black;}#sk-container-id-16 div.sk-toggleable__content {max-height: 0;max-width: 0;overflow: hidden;text-align: left;background-color: #f0f8ff;}#sk-container-id-16 div.sk-toggleable__content pre {margin: 0.2em;color: black;border-radius: 0.25em;background-color: #f0f8ff;}#sk-container-id-16 input.sk-toggleable__control:checked~div.sk-toggleable__content {max-height: 200px;max-width: 100%;overflow: auto;}#sk-container-id-16 input.sk-toggleable__control:checked~label.sk-toggleable__label-arrow:before {content: \"▾\";}#sk-container-id-16 div.sk-estimator input.sk-toggleable__control:checked~label.sk-toggleable__label {background-color: #d4ebff;}#sk-container-id-16 div.sk-label input.sk-toggleable__control:checked~label.sk-toggleable__label {background-color: #d4ebff;}#sk-container-id-16 input.sk-hidden--visually {border: 0;clip: rect(1px 1px 1px 1px);clip: rect(1px, 1px, 1px, 1px);height: 1px;margin: -1px;overflow: hidden;padding: 0;position: absolute;width: 1px;}#sk-container-id-16 div.sk-estimator {font-family: monospace;background-color: #f0f8ff;border: 1px dotted black;border-radius: 0.25em;box-sizing: border-box;margin-bottom: 0.5em;}#sk-container-id-16 div.sk-estimator:hover {background-color: #d4ebff;}#sk-container-id-16 div.sk-parallel-item::after {content: \"\";width: 100%;border-bottom: 1px solid gray;flex-grow: 1;}#sk-container-id-16 div.sk-label:hover label.sk-toggleable__label {background-color: #d4ebff;}#sk-container-id-16 div.sk-serial::before {content: \"\";position: absolute;border-left: 1px solid gray;box-sizing: border-box;top: 0;bottom: 0;left: 50%;z-index: 0;}#sk-container-id-16 div.sk-serial {display: flex;flex-direction: column;align-items: center;background-color: white;padding-right: 0.2em;padding-left: 0.2em;position: relative;}#sk-container-id-16 div.sk-item {position: relative;z-index: 1;}#sk-container-id-16 div.sk-parallel {display: flex;align-items: stretch;justify-content: center;background-color: white;position: relative;}#sk-container-id-16 div.sk-item::before, #sk-container-id-16 div.sk-parallel-item::before {content: \"\";position: absolute;border-left: 1px solid gray;box-sizing: border-box;top: 0;bottom: 0;left: 50%;z-index: -1;}#sk-container-id-16 div.sk-parallel-item {display: flex;flex-direction: column;z-index: 1;position: relative;background-color: white;}#sk-container-id-16 div.sk-parallel-item:first-child::after {align-self: flex-end;width: 50%;}#sk-container-id-16 div.sk-parallel-item:last-child::after {align-self: flex-start;width: 50%;}#sk-container-id-16 div.sk-parallel-item:only-child::after {width: 0;}#sk-container-id-16 div.sk-dashed-wrapped {border: 1px dashed gray;margin: 0 0.4em 0.5em 0.4em;box-sizing: border-box;padding-bottom: 0.4em;background-color: white;}#sk-container-id-16 div.sk-label label {font-family: monospace;font-weight: bold;display: inline-block;line-height: 1.2em;}#sk-container-id-16 div.sk-label-container {text-align: center;}#sk-container-id-16 div.sk-container {/* jupyter's `normalize.less` sets `[hidden] { display: none; }` but bootstrap.min.css set `[hidden] { display: none !important; }` so we also need the `!important` here to be able to override the default hidden behavior on the sphinx rendered scikit-learn.org. See: https://github.com/scikit-learn/scikit-learn/issues/21755 */display: inline-block !important;position: relative;}#sk-container-id-16 div.sk-text-repr-fallback {display: none;}</style><div id=\"sk-container-id-16\" class=\"sk-top-container\"><div class=\"sk-text-repr-fallback\"><pre>GridSearchCV(cv=10, estimator=GaussianNB(),\n",
              "             param_grid={&#x27;var_smoothing&#x27;: array([1.00000000e+00, 8.11130831e-01, 6.57933225e-01, 5.33669923e-01,\n",
              "       4.32876128e-01, 3.51119173e-01, 2.84803587e-01, 2.31012970e-01,\n",
              "       1.87381742e-01, 1.51991108e-01, 1.23284674e-01, 1.00000000e-01,\n",
              "       8.11130831e-02, 6.57933225e-02, 5.33669923e-02, 4.32876128e-02,\n",
              "       3.51119173e-02, 2.84803587e-02, 2.3...\n",
              "       1.23284674e-07, 1.00000000e-07, 8.11130831e-08, 6.57933225e-08,\n",
              "       5.33669923e-08, 4.32876128e-08, 3.51119173e-08, 2.84803587e-08,\n",
              "       2.31012970e-08, 1.87381742e-08, 1.51991108e-08, 1.23284674e-08,\n",
              "       1.00000000e-08, 8.11130831e-09, 6.57933225e-09, 5.33669923e-09,\n",
              "       4.32876128e-09, 3.51119173e-09, 2.84803587e-09, 2.31012970e-09,\n",
              "       1.87381742e-09, 1.51991108e-09, 1.23284674e-09, 1.00000000e-09])},\n",
              "             scoring=&#x27;accuracy&#x27;)</pre><b>In a Jupyter environment, please rerun this cell to show the HTML representation or trust the notebook. <br />On GitHub, the HTML representation is unable to render, please try loading this page with nbviewer.org.</b></div><div class=\"sk-container\" hidden><div class=\"sk-item sk-dashed-wrapped\"><div class=\"sk-label-container\"><div class=\"sk-label sk-toggleable\"><input class=\"sk-toggleable__control sk-hidden--visually\" id=\"sk-estimator-id-24\" type=\"checkbox\" ><label for=\"sk-estimator-id-24\" class=\"sk-toggleable__label sk-toggleable__label-arrow\">GridSearchCV</label><div class=\"sk-toggleable__content\"><pre>GridSearchCV(cv=10, estimator=GaussianNB(),\n",
              "             param_grid={&#x27;var_smoothing&#x27;: array([1.00000000e+00, 8.11130831e-01, 6.57933225e-01, 5.33669923e-01,\n",
              "       4.32876128e-01, 3.51119173e-01, 2.84803587e-01, 2.31012970e-01,\n",
              "       1.87381742e-01, 1.51991108e-01, 1.23284674e-01, 1.00000000e-01,\n",
              "       8.11130831e-02, 6.57933225e-02, 5.33669923e-02, 4.32876128e-02,\n",
              "       3.51119173e-02, 2.84803587e-02, 2.3...\n",
              "       1.23284674e-07, 1.00000000e-07, 8.11130831e-08, 6.57933225e-08,\n",
              "       5.33669923e-08, 4.32876128e-08, 3.51119173e-08, 2.84803587e-08,\n",
              "       2.31012970e-08, 1.87381742e-08, 1.51991108e-08, 1.23284674e-08,\n",
              "       1.00000000e-08, 8.11130831e-09, 6.57933225e-09, 5.33669923e-09,\n",
              "       4.32876128e-09, 3.51119173e-09, 2.84803587e-09, 2.31012970e-09,\n",
              "       1.87381742e-09, 1.51991108e-09, 1.23284674e-09, 1.00000000e-09])},\n",
              "             scoring=&#x27;accuracy&#x27;)</pre></div></div></div><div class=\"sk-parallel\"><div class=\"sk-parallel-item\"><div class=\"sk-item\"><div class=\"sk-label-container\"><div class=\"sk-label sk-toggleable\"><input class=\"sk-toggleable__control sk-hidden--visually\" id=\"sk-estimator-id-25\" type=\"checkbox\" ><label for=\"sk-estimator-id-25\" class=\"sk-toggleable__label sk-toggleable__label-arrow\">estimator: GaussianNB</label><div class=\"sk-toggleable__content\"><pre>GaussianNB()</pre></div></div></div><div class=\"sk-serial\"><div class=\"sk-item\"><div class=\"sk-estimator sk-toggleable\"><input class=\"sk-toggleable__control sk-hidden--visually\" id=\"sk-estimator-id-26\" type=\"checkbox\" ><label for=\"sk-estimator-id-26\" class=\"sk-toggleable__label sk-toggleable__label-arrow\">GaussianNB</label><div class=\"sk-toggleable__content\"><pre>GaussianNB()</pre></div></div></div></div></div></div></div></div></div></div>"
            ],
            "text/plain": [
              "GridSearchCV(cv=10, estimator=GaussianNB(),\n",
              "             param_grid={'var_smoothing': array([1.00000000e+00, 8.11130831e-01, 6.57933225e-01, 5.33669923e-01,\n",
              "       4.32876128e-01, 3.51119173e-01, 2.84803587e-01, 2.31012970e-01,\n",
              "       1.87381742e-01, 1.51991108e-01, 1.23284674e-01, 1.00000000e-01,\n",
              "       8.11130831e-02, 6.57933225e-02, 5.33669923e-02, 4.32876128e-02,\n",
              "       3.51119173e-02, 2.84803587e-02, 2.3...\n",
              "       1.23284674e-07, 1.00000000e-07, 8.11130831e-08, 6.57933225e-08,\n",
              "       5.33669923e-08, 4.32876128e-08, 3.51119173e-08, 2.84803587e-08,\n",
              "       2.31012970e-08, 1.87381742e-08, 1.51991108e-08, 1.23284674e-08,\n",
              "       1.00000000e-08, 8.11130831e-09, 6.57933225e-09, 5.33669923e-09,\n",
              "       4.32876128e-09, 3.51119173e-09, 2.84803587e-09, 2.31012970e-09,\n",
              "       1.87381742e-09, 1.51991108e-09, 1.23284674e-09, 1.00000000e-09])},\n",
              "             scoring='accuracy')"
            ]
          },
          "execution_count": 67,
          "metadata": {},
          "output_type": "execute_result"
        }
      ],
      "source": [
        "modelt.GNB_t(X_train,y_train,y_test,X_test)"
      ]
    },
    {
      "cell_type": "markdown",
      "metadata": {
        "id": "33vKIkB1IW7D"
      },
      "source": [
        "#Decision Tree"
      ]
    },
    {
      "cell_type": "code",
      "execution_count": null,
      "metadata": {
        "colab": {
          "base_uri": "https://localhost:8080/"
        },
        "id": "kNxqTUhaIW7D",
        "outputId": "b873d9e3-265c-4779-d01f-6381ffe5b9e0"
      },
      "outputs": [
        {
          "name": "stdout",
          "output_type": "stream",
          "text": [
            "Accuracy: 1.0\n",
            "Confusion Matrix:\n",
            " [[13  0  0  0]\n",
            " [ 0 19  0  0]\n",
            " [ 0  0  2  0]\n",
            " [ 0  0  0  6]]\n",
            "Classification Report:\n",
            "               precision    recall  f1-score   support\n",
            "\n",
            "           0       1.00      1.00      1.00        13\n",
            "           1       1.00      1.00      1.00        19\n",
            "           3       1.00      1.00      1.00         2\n",
            "           4       1.00      1.00      1.00         6\n",
            "\n",
            "    accuracy                           1.00        40\n",
            "   macro avg       1.00      1.00      1.00        40\n",
            "weighted avg       1.00      1.00      1.00        40\n",
            "\n"
          ]
        }
      ],
      "source": [
        "model.DT(X_train,y_train,y_test,X_test)"
      ]
    },
    {
      "cell_type": "markdown",
      "metadata": {
        "id": "C0fWoyUSIW7D"
      },
      "source": [
        "tuning and fitting"
      ]
    },
    {
      "cell_type": "code",
      "execution_count": null,
      "metadata": {
        "colab": {
          "base_uri": "https://localhost:8080/",
          "height": 497
        },
        "id": "Co8nCWQLIW7D",
        "outputId": "9d6963c9-68ae-4396-ba2a-47ee7e462a2a"
      },
      "outputs": [
        {
          "name": "stdout",
          "output_type": "stream",
          "text": [
            "Best Parameters: {'max_depth': 3, 'min_samples_leaf': 1, 'min_samples_split': 2}\n",
            "Best Score: 0.9875\n",
            "Accuracy: 1.0\n",
            "Confusion Matrix:\n",
            " [[13  0  0  0]\n",
            " [ 0 19  0  0]\n",
            " [ 0  0  2  0]\n",
            " [ 0  0  0  6]]\n",
            "Classification Report:\n",
            "               precision    recall  f1-score   support\n",
            "\n",
            "           0       1.00      1.00      1.00        13\n",
            "           1       1.00      1.00      1.00        19\n",
            "           3       1.00      1.00      1.00         2\n",
            "           4       1.00      1.00      1.00         6\n",
            "\n",
            "    accuracy                           1.00        40\n",
            "   macro avg       1.00      1.00      1.00        40\n",
            "weighted avg       1.00      1.00      1.00        40\n",
            "\n"
          ]
        },
        {
          "data": {
            "text/html": [
              "<style>#sk-container-id-4 {color: black;background-color: white;}#sk-container-id-4 pre{padding: 0;}#sk-container-id-4 div.sk-toggleable {background-color: white;}#sk-container-id-4 label.sk-toggleable__label {cursor: pointer;display: block;width: 100%;margin-bottom: 0;padding: 0.3em;box-sizing: border-box;text-align: center;}#sk-container-id-4 label.sk-toggleable__label-arrow:before {content: \"▸\";float: left;margin-right: 0.25em;color: #696969;}#sk-container-id-4 label.sk-toggleable__label-arrow:hover:before {color: black;}#sk-container-id-4 div.sk-estimator:hover label.sk-toggleable__label-arrow:before {color: black;}#sk-container-id-4 div.sk-toggleable__content {max-height: 0;max-width: 0;overflow: hidden;text-align: left;background-color: #f0f8ff;}#sk-container-id-4 div.sk-toggleable__content pre {margin: 0.2em;color: black;border-radius: 0.25em;background-color: #f0f8ff;}#sk-container-id-4 input.sk-toggleable__control:checked~div.sk-toggleable__content {max-height: 200px;max-width: 100%;overflow: auto;}#sk-container-id-4 input.sk-toggleable__control:checked~label.sk-toggleable__label-arrow:before {content: \"▾\";}#sk-container-id-4 div.sk-estimator input.sk-toggleable__control:checked~label.sk-toggleable__label {background-color: #d4ebff;}#sk-container-id-4 div.sk-label input.sk-toggleable__control:checked~label.sk-toggleable__label {background-color: #d4ebff;}#sk-container-id-4 input.sk-hidden--visually {border: 0;clip: rect(1px 1px 1px 1px);clip: rect(1px, 1px, 1px, 1px);height: 1px;margin: -1px;overflow: hidden;padding: 0;position: absolute;width: 1px;}#sk-container-id-4 div.sk-estimator {font-family: monospace;background-color: #f0f8ff;border: 1px dotted black;border-radius: 0.25em;box-sizing: border-box;margin-bottom: 0.5em;}#sk-container-id-4 div.sk-estimator:hover {background-color: #d4ebff;}#sk-container-id-4 div.sk-parallel-item::after {content: \"\";width: 100%;border-bottom: 1px solid gray;flex-grow: 1;}#sk-container-id-4 div.sk-label:hover label.sk-toggleable__label {background-color: #d4ebff;}#sk-container-id-4 div.sk-serial::before {content: \"\";position: absolute;border-left: 1px solid gray;box-sizing: border-box;top: 0;bottom: 0;left: 50%;z-index: 0;}#sk-container-id-4 div.sk-serial {display: flex;flex-direction: column;align-items: center;background-color: white;padding-right: 0.2em;padding-left: 0.2em;position: relative;}#sk-container-id-4 div.sk-item {position: relative;z-index: 1;}#sk-container-id-4 div.sk-parallel {display: flex;align-items: stretch;justify-content: center;background-color: white;position: relative;}#sk-container-id-4 div.sk-item::before, #sk-container-id-4 div.sk-parallel-item::before {content: \"\";position: absolute;border-left: 1px solid gray;box-sizing: border-box;top: 0;bottom: 0;left: 50%;z-index: -1;}#sk-container-id-4 div.sk-parallel-item {display: flex;flex-direction: column;z-index: 1;position: relative;background-color: white;}#sk-container-id-4 div.sk-parallel-item:first-child::after {align-self: flex-end;width: 50%;}#sk-container-id-4 div.sk-parallel-item:last-child::after {align-self: flex-start;width: 50%;}#sk-container-id-4 div.sk-parallel-item:only-child::after {width: 0;}#sk-container-id-4 div.sk-dashed-wrapped {border: 1px dashed gray;margin: 0 0.4em 0.5em 0.4em;box-sizing: border-box;padding-bottom: 0.4em;background-color: white;}#sk-container-id-4 div.sk-label label {font-family: monospace;font-weight: bold;display: inline-block;line-height: 1.2em;}#sk-container-id-4 div.sk-label-container {text-align: center;}#sk-container-id-4 div.sk-container {/* jupyter's `normalize.less` sets `[hidden] { display: none; }` but bootstrap.min.css set `[hidden] { display: none !important; }` so we also need the `!important` here to be able to override the default hidden behavior on the sphinx rendered scikit-learn.org. See: https://github.com/scikit-learn/scikit-learn/issues/21755 */display: inline-block !important;position: relative;}#sk-container-id-4 div.sk-text-repr-fallback {display: none;}</style><div id=\"sk-container-id-4\" class=\"sk-top-container\"><div class=\"sk-text-repr-fallback\"><pre>GridSearchCV(cv=5, estimator=DecisionTreeClassifier(random_state=0),\n",
              "             param_grid={&#x27;max_depth&#x27;: [3, 5, 7, None],\n",
              "                         &#x27;min_samples_leaf&#x27;: [1, 2, 4],\n",
              "                         &#x27;min_samples_split&#x27;: [2, 5, 10]})</pre><b>In a Jupyter environment, please rerun this cell to show the HTML representation or trust the notebook. <br />On GitHub, the HTML representation is unable to render, please try loading this page with nbviewer.org.</b></div><div class=\"sk-container\" hidden><div class=\"sk-item sk-dashed-wrapped\"><div class=\"sk-label-container\"><div class=\"sk-label sk-toggleable\"><input class=\"sk-toggleable__control sk-hidden--visually\" id=\"sk-estimator-id-6\" type=\"checkbox\" ><label for=\"sk-estimator-id-6\" class=\"sk-toggleable__label sk-toggleable__label-arrow\">GridSearchCV</label><div class=\"sk-toggleable__content\"><pre>GridSearchCV(cv=5, estimator=DecisionTreeClassifier(random_state=0),\n",
              "             param_grid={&#x27;max_depth&#x27;: [3, 5, 7, None],\n",
              "                         &#x27;min_samples_leaf&#x27;: [1, 2, 4],\n",
              "                         &#x27;min_samples_split&#x27;: [2, 5, 10]})</pre></div></div></div><div class=\"sk-parallel\"><div class=\"sk-parallel-item\"><div class=\"sk-item\"><div class=\"sk-label-container\"><div class=\"sk-label sk-toggleable\"><input class=\"sk-toggleable__control sk-hidden--visually\" id=\"sk-estimator-id-7\" type=\"checkbox\" ><label for=\"sk-estimator-id-7\" class=\"sk-toggleable__label sk-toggleable__label-arrow\">estimator: DecisionTreeClassifier</label><div class=\"sk-toggleable__content\"><pre>DecisionTreeClassifier(random_state=0)</pre></div></div></div><div class=\"sk-serial\"><div class=\"sk-item\"><div class=\"sk-estimator sk-toggleable\"><input class=\"sk-toggleable__control sk-hidden--visually\" id=\"sk-estimator-id-8\" type=\"checkbox\" ><label for=\"sk-estimator-id-8\" class=\"sk-toggleable__label sk-toggleable__label-arrow\">DecisionTreeClassifier</label><div class=\"sk-toggleable__content\"><pre>DecisionTreeClassifier(random_state=0)</pre></div></div></div></div></div></div></div></div></div></div>"
            ],
            "text/plain": [
              "GridSearchCV(cv=5, estimator=DecisionTreeClassifier(random_state=0),\n",
              "             param_grid={'max_depth': [3, 5, 7, None],\n",
              "                         'min_samples_leaf': [1, 2, 4],\n",
              "                         'min_samples_split': [2, 5, 10]})"
            ]
          },
          "execution_count": 39,
          "metadata": {},
          "output_type": "execute_result"
        }
      ],
      "source": [
        "modelt.DT_t(X_train,y_train,y_test,X_test)"
      ]
    },
    {
      "cell_type": "markdown",
      "metadata": {
        "id": "sUs66KIWIW7D"
      },
      "source": [
        "#Random Forest"
      ]
    },
    {
      "cell_type": "code",
      "execution_count": null,
      "metadata": {
        "colab": {
          "base_uri": "https://localhost:8080/"
        },
        "id": "3eTC2vHbIW7E",
        "outputId": "b08da020-a708-478d-8cdc-c271c8e7383d"
      },
      "outputs": [
        {
          "name": "stdout",
          "output_type": "stream",
          "text": [
            "Accuracy: 1.0\n",
            "Confusion Matrix:\n",
            " [[13  0  0  0]\n",
            " [ 0 19  0  0]\n",
            " [ 0  0  2  0]\n",
            " [ 0  0  0  6]]\n",
            "Classification Report:\n",
            "               precision    recall  f1-score   support\n",
            "\n",
            "           0       1.00      1.00      1.00        13\n",
            "           1       1.00      1.00      1.00        19\n",
            "           3       1.00      1.00      1.00         2\n",
            "           4       1.00      1.00      1.00         6\n",
            "\n",
            "    accuracy                           1.00        40\n",
            "   macro avg       1.00      1.00      1.00        40\n",
            "weighted avg       1.00      1.00      1.00        40\n",
            "\n"
          ]
        }
      ],
      "source": [
        "model.RF(X_train,y_train,y_test,X_test)"
      ]
    },
    {
      "cell_type": "markdown",
      "metadata": {
        "id": "NguUjoa8IW7E"
      },
      "source": [
        "Tuning and Fitting"
      ]
    },
    {
      "cell_type": "code",
      "execution_count": null,
      "metadata": {
        "id": "JfKADb7uIW7E"
      },
      "outputs": [],
      "source": [
        "modelt.RF_t(X_train,y_train,y_test,X_test)"
      ]
    },
    {
      "cell_type": "markdown",
      "metadata": {
        "id": "_OnR4rSCIW7E"
      },
      "source": [
        "#Support Vector Classifier"
      ]
    },
    {
      "cell_type": "code",
      "execution_count": null,
      "metadata": {
        "id": "0MUZI1DSIW7E"
      },
      "outputs": [],
      "source": [
        "model.SVC(X_train,y_train,y_test,X_test)"
      ]
    },
    {
      "cell_type": "markdown",
      "metadata": {
        "id": "Ym5D8fTPIW7E"
      },
      "source": [
        "Tuning and fitting"
      ]
    },
    {
      "cell_type": "code",
      "execution_count": null,
      "metadata": {
        "id": "6xzftsmtIW7E"
      },
      "outputs": [],
      "source": [
        "modelt.SVC_t(X_train,y_train,y_test,X_test)"
      ]
    },
    {
      "cell_type": "markdown",
      "metadata": {
        "id": "FJKTn66MIW7E"
      },
      "source": [
        "#K - Nearrest Neighbours"
      ]
    },
    {
      "cell_type": "code",
      "execution_count": null,
      "metadata": {
        "id": "T-IO7IuFIW7F"
      },
      "outputs": [],
      "source": [
        "model.KNN(X_train,y_train,y_test,X_test)"
      ]
    },
    {
      "cell_type": "markdown",
      "metadata": {
        "id": "WoNf2ycXIW7F"
      },
      "source": [
        "Tuning and fitting"
      ]
    },
    {
      "cell_type": "code",
      "execution_count": null,
      "metadata": {
        "id": "dm4bhtzqIW7F"
      },
      "outputs": [],
      "source": [
        "modelt.KNN_t(X_train,y_train,y_test,X_test)"
      ]
    },
    {
      "cell_type": "markdown",
      "metadata": {
        "id": "Uppwdw1RIW7F"
      },
      "source": [
        "#Gradient Boosting"
      ]
    },
    {
      "cell_type": "code",
      "execution_count": null,
      "metadata": {
        "id": "b4HWH4FoIW7F"
      },
      "outputs": [],
      "source": [
        "model.GB(X_train,y_train,y_test,X_test)"
      ]
    },
    {
      "cell_type": "markdown",
      "metadata": {
        "id": "ywWiXEJkIW7F"
      },
      "source": [
        "tuning and fitting"
      ]
    },
    {
      "cell_type": "code",
      "execution_count": null,
      "metadata": {
        "id": "4YTYACAOIW7F"
      },
      "outputs": [],
      "source": [
        "modelt.GB_t(X_train,y_train,y_test,X_test)"
      ]
    },
    {
      "cell_type": "markdown",
      "metadata": {
        "id": "dIDFXicxIW7G"
      },
      "source": [
        "#AdaBoost"
      ]
    },
    {
      "cell_type": "code",
      "execution_count": null,
      "metadata": {
        "id": "NFRsyDm0IW7G"
      },
      "outputs": [],
      "source": [
        "model.ADAB(X_train,y_train,y_test,X_test)"
      ]
    },
    {
      "cell_type": "markdown",
      "metadata": {
        "id": "Fz2SZb-aIW7G"
      },
      "source": [
        "tuning and fitting"
      ]
    },
    {
      "cell_type": "code",
      "execution_count": null,
      "metadata": {
        "id": "9QfwlbnmIW7G"
      },
      "outputs": [],
      "source": [
        "modelt.ADAB_t(X_train,y_train,y_test,X_test)"
      ]
    },
    {
      "cell_type": "markdown",
      "metadata": {
        "id": "w2vS_YM6IW7G"
      },
      "source": [
        "#Bagging"
      ]
    },
    {
      "cell_type": "code",
      "execution_count": null,
      "metadata": {
        "id": "QUenIGWPIW7G"
      },
      "outputs": [],
      "source": [
        "model.BAG(X_train,y_train,y_test,X_test)"
      ]
    },
    {
      "cell_type": "markdown",
      "metadata": {
        "id": "oE5UXQJzIW7G"
      },
      "source": [
        "tuning and fitting"
      ]
    },
    {
      "cell_type": "code",
      "execution_count": null,
      "metadata": {
        "id": "FuOxd9KkIW7H"
      },
      "outputs": [],
      "source": [
        "modelt.BAG_t(X_train,y_train,y_test,X_test)"
      ]
    },
    {
      "cell_type": "markdown",
      "metadata": {
        "id": "rMs_NKL_IW7H"
      },
      "source": [
        "#XGBoost"
      ]
    },
    {
      "cell_type": "code",
      "execution_count": null,
      "metadata": {
        "id": "yaUQLXKgIW7H"
      },
      "outputs": [],
      "source": [
        "model.XGB(X_train,y_train,y_test,X_test)"
      ]
    },
    {
      "cell_type": "markdown",
      "metadata": {
        "id": "8q3h2bsKIW7H"
      },
      "source": [
        "tuning and fitting"
      ]
    },
    {
      "cell_type": "code",
      "execution_count": null,
      "metadata": {
        "id": "0bOtsfpcIW7H"
      },
      "outputs": [],
      "source": [
        "modelt.XGB_t(X_train,y_train,y_test,X_test)"
      ]
    },
    {
      "cell_type": "markdown",
      "metadata": {
        "id": "62WBwLpAIW7H"
      },
      "source": [
        "#LightGBM"
      ]
    },
    {
      "cell_type": "code",
      "execution_count": null,
      "metadata": {
        "id": "Rz7CxkoBIW7H"
      },
      "outputs": [],
      "source": [
        "model.LGB(X_train,y_train,y_test,X_test)"
      ]
    },
    {
      "cell_type": "markdown",
      "metadata": {
        "id": "x4C1W2CEIW7I"
      },
      "source": [
        "tuning and fitting"
      ]
    },
    {
      "cell_type": "code",
      "execution_count": null,
      "metadata": {
        "id": "M-ir93X0IW7I"
      },
      "outputs": [],
      "source": [
        "modelt.LGB_t(X_train,y_train,y_test,X_test)"
      ]
    },
    {
      "cell_type": "markdown",
      "metadata": {
        "id": "148WhFL9IW7I"
      },
      "source": [
        "#CATBoost"
      ]
    },
    {
      "cell_type": "code",
      "execution_count": null,
      "metadata": {
        "id": "sRzdCgi2IW7I"
      },
      "outputs": [],
      "source": [
        "model.CB(X_train,y_train,y_test,X_test)"
      ]
    },
    {
      "cell_type": "markdown",
      "metadata": {
        "id": "HfbHJRCPIW7I"
      },
      "source": [
        "tuning and fitting"
      ]
    },
    {
      "cell_type": "code",
      "execution_count": null,
      "metadata": {
        "id": "TSoKfH4nIW7I"
      },
      "outputs": [],
      "source": [
        "modelt.CB_t(X_train,y_train,y_test,X_test)"
      ]
    },
    {
      "cell_type": "markdown",
      "metadata": {
        "id": "xCvA--bGIW7I"
      },
      "source": [
        "#Linear Discriminant Analysis"
      ]
    },
    {
      "cell_type": "code",
      "execution_count": null,
      "metadata": {
        "id": "xd6Xdo5bIW7I"
      },
      "outputs": [],
      "source": [
        "model.LDA(X_train,y_train,y_test,X_test)"
      ]
    },
    {
      "cell_type": "markdown",
      "metadata": {
        "id": "XXgO83YqIW7I"
      },
      "source": [
        "#Quadratic discriminant Analysis"
      ]
    },
    {
      "cell_type": "code",
      "execution_count": null,
      "metadata": {
        "id": "f0HF5-KzIW7J"
      },
      "outputs": [],
      "source": [
        "model.QDA(X_train,y_train,y_test,X_test)"
      ]
    },
    {
      "cell_type": "markdown",
      "metadata": {
        "id": "CZYCBJ3kIW7J"
      },
      "source": [
        "#========================================================"
      ]
    },
    {
      "cell_type": "markdown",
      "metadata": {
        "id": "ysJIj046IHr2"
      },
      "source": [
        "#Sem - 6\n"
      ]
    },
    {
      "cell_type": "code",
      "execution_count": null,
      "metadata": {
        "colab": {
          "base_uri": "https://localhost:8080/",
          "height": 314
        },
        "id": "2g2YrrcKIHr-",
        "outputId": "769b93c7-d5d7-4040-8b56-0da8bd0dcba7"
      },
      "outputs": [
        {
          "data": {
            "text/html": [
              "\n",
              "  <div id=\"df-55d14006-a711-4dbd-9cd6-468495dfa41e\">\n",
              "    <div class=\"colab-df-container\">\n",
              "      <div>\n",
              "<style scoped>\n",
              "    .dataframe tbody tr th:only-of-type {\n",
              "        vertical-align: middle;\n",
              "    }\n",
              "\n",
              "    .dataframe tbody tr th {\n",
              "        vertical-align: top;\n",
              "    }\n",
              "\n",
              "    .dataframe thead th {\n",
              "        text-align: right;\n",
              "    }\n",
              "</style>\n",
              "<table border=\"1\" class=\"dataframe\">\n",
              "  <thead>\n",
              "    <tr style=\"text-align: right;\">\n",
              "      <th></th>\n",
              "      <th>OSC(70443101) Theory Attempts</th>\n",
              "      <th>OSC(70443101) Practical Attempts</th>\n",
              "      <th>OSC(70443101) ESE (70) Final</th>\n",
              "      <th>OSC(70443101) ISE (30) Final</th>\n",
              "      <th>OSC(70443101) Theory Condol/ Grace Final</th>\n",
              "      <th>OSC(70443101) ICA (25) Final</th>\n",
              "      <th>OSC(70443101) POE (50) Final</th>\n",
              "      <th>OSC(70443101) Practical Condol/ Grace Final</th>\n",
              "      <th>OSC(70443101) Total (175) Final</th>\n",
              "      <th>OSC(70443101) Grade Final</th>\n",
              "      <th>...</th>\n",
              "      <th>SL-I Status Final</th>\n",
              "      <th>Sem V Fail in subjects (7)</th>\n",
              "      <th>Sem V Pass in subjects (7)</th>\n",
              "      <th>Sem V Total (850) Final</th>\n",
              "      <th>Sem V % Final</th>\n",
              "      <th>Sem V Condol/ Grace Final</th>\n",
              "      <th>Sem V EGP Final</th>\n",
              "      <th>Sem V SGPA (Credits = 27) Final</th>\n",
              "      <th>Sem V Status Final</th>\n",
              "      <th>Sem V Grade Final</th>\n",
              "    </tr>\n",
              "  </thead>\n",
              "  <tbody>\n",
              "    <tr>\n",
              "      <th>0</th>\n",
              "      <td>1</td>\n",
              "      <td>1</td>\n",
              "      <td>38</td>\n",
              "      <td>15</td>\n",
              "      <td>0</td>\n",
              "      <td>22</td>\n",
              "      <td>21</td>\n",
              "      <td>0</td>\n",
              "      <td>96</td>\n",
              "      <td>B</td>\n",
              "      <td>...</td>\n",
              "      <td>P</td>\n",
              "      <td>0</td>\n",
              "      <td>7</td>\n",
              "      <td>478</td>\n",
              "      <td>56.24</td>\n",
              "      <td>0</td>\n",
              "      <td>184</td>\n",
              "      <td>6.814815</td>\n",
              "      <td>Pass</td>\n",
              "      <td>B+</td>\n",
              "    </tr>\n",
              "    <tr>\n",
              "      <th>1</th>\n",
              "      <td>1</td>\n",
              "      <td>1</td>\n",
              "      <td>31</td>\n",
              "      <td>18</td>\n",
              "      <td>0</td>\n",
              "      <td>15</td>\n",
              "      <td>40</td>\n",
              "      <td>0</td>\n",
              "      <td>104</td>\n",
              "      <td>B+</td>\n",
              "      <td>...</td>\n",
              "      <td>P</td>\n",
              "      <td>0</td>\n",
              "      <td>7</td>\n",
              "      <td>499</td>\n",
              "      <td>58.71</td>\n",
              "      <td>0</td>\n",
              "      <td>191</td>\n",
              "      <td>7.074074</td>\n",
              "      <td>Pass</td>\n",
              "      <td>B+</td>\n",
              "    </tr>\n",
              "    <tr>\n",
              "      <th>2</th>\n",
              "      <td>1</td>\n",
              "      <td>1</td>\n",
              "      <td>50</td>\n",
              "      <td>18</td>\n",
              "      <td>0</td>\n",
              "      <td>16</td>\n",
              "      <td>44</td>\n",
              "      <td>0</td>\n",
              "      <td>128</td>\n",
              "      <td>A+</td>\n",
              "      <td>...</td>\n",
              "      <td>P</td>\n",
              "      <td>0</td>\n",
              "      <td>7</td>\n",
              "      <td>598</td>\n",
              "      <td>70.35</td>\n",
              "      <td>0</td>\n",
              "      <td>230</td>\n",
              "      <td>8.518519</td>\n",
              "      <td>Pass</td>\n",
              "      <td>A+</td>\n",
              "    </tr>\n",
              "    <tr>\n",
              "      <th>3</th>\n",
              "      <td>1</td>\n",
              "      <td>1</td>\n",
              "      <td>61</td>\n",
              "      <td>26</td>\n",
              "      <td>0</td>\n",
              "      <td>23</td>\n",
              "      <td>42</td>\n",
              "      <td>0</td>\n",
              "      <td>152</td>\n",
              "      <td>O</td>\n",
              "      <td>...</td>\n",
              "      <td>P</td>\n",
              "      <td>0</td>\n",
              "      <td>7</td>\n",
              "      <td>689</td>\n",
              "      <td>81.06</td>\n",
              "      <td>0</td>\n",
              "      <td>259</td>\n",
              "      <td>9.592593</td>\n",
              "      <td>Pass</td>\n",
              "      <td>O</td>\n",
              "    </tr>\n",
              "    <tr>\n",
              "      <th>4</th>\n",
              "      <td>1</td>\n",
              "      <td>1</td>\n",
              "      <td>54</td>\n",
              "      <td>26</td>\n",
              "      <td>0</td>\n",
              "      <td>24</td>\n",
              "      <td>45</td>\n",
              "      <td>0</td>\n",
              "      <td>149</td>\n",
              "      <td>O</td>\n",
              "      <td>...</td>\n",
              "      <td>P</td>\n",
              "      <td>0</td>\n",
              "      <td>7</td>\n",
              "      <td>695</td>\n",
              "      <td>81.76</td>\n",
              "      <td>0</td>\n",
              "      <td>257</td>\n",
              "      <td>9.518519</td>\n",
              "      <td>Pass</td>\n",
              "      <td>O</td>\n",
              "    </tr>\n",
              "  </tbody>\n",
              "</table>\n",
              "<p>5 rows × 82 columns</p>\n",
              "</div>\n",
              "      <button class=\"colab-df-convert\" onclick=\"convertToInteractive('df-55d14006-a711-4dbd-9cd6-468495dfa41e')\"\n",
              "              title=\"Convert this dataframe to an interactive table.\"\n",
              "              style=\"display:none;\">\n",
              "        \n",
              "  <svg xmlns=\"http://www.w3.org/2000/svg\" height=\"24px\"viewBox=\"0 0 24 24\"\n",
              "       width=\"24px\">\n",
              "    <path d=\"M0 0h24v24H0V0z\" fill=\"none\"/>\n",
              "    <path d=\"M18.56 5.44l.94 2.06.94-2.06 2.06-.94-2.06-.94-.94-2.06-.94 2.06-2.06.94zm-11 1L8.5 8.5l.94-2.06 2.06-.94-2.06-.94L8.5 2.5l-.94 2.06-2.06.94zm10 10l.94 2.06.94-2.06 2.06-.94-2.06-.94-.94-2.06-.94 2.06-2.06.94z\"/><path d=\"M17.41 7.96l-1.37-1.37c-.4-.4-.92-.59-1.43-.59-.52 0-1.04.2-1.43.59L10.3 9.45l-7.72 7.72c-.78.78-.78 2.05 0 2.83L4 21.41c.39.39.9.59 1.41.59.51 0 1.02-.2 1.41-.59l7.78-7.78 2.81-2.81c.8-.78.8-2.07 0-2.86zM5.41 20L4 18.59l7.72-7.72 1.47 1.35L5.41 20z\"/>\n",
              "  </svg>\n",
              "      </button>\n",
              "      \n",
              "  <style>\n",
              "    .colab-df-container {\n",
              "      display:flex;\n",
              "      flex-wrap:wrap;\n",
              "      gap: 12px;\n",
              "    }\n",
              "\n",
              "    .colab-df-convert {\n",
              "      background-color: #E8F0FE;\n",
              "      border: none;\n",
              "      border-radius: 50%;\n",
              "      cursor: pointer;\n",
              "      display: none;\n",
              "      fill: #1967D2;\n",
              "      height: 32px;\n",
              "      padding: 0 0 0 0;\n",
              "      width: 32px;\n",
              "    }\n",
              "\n",
              "    .colab-df-convert:hover {\n",
              "      background-color: #E2EBFA;\n",
              "      box-shadow: 0px 1px 2px rgba(60, 64, 67, 0.3), 0px 1px 3px 1px rgba(60, 64, 67, 0.15);\n",
              "      fill: #174EA6;\n",
              "    }\n",
              "\n",
              "    [theme=dark] .colab-df-convert {\n",
              "      background-color: #3B4455;\n",
              "      fill: #D2E3FC;\n",
              "    }\n",
              "\n",
              "    [theme=dark] .colab-df-convert:hover {\n",
              "      background-color: #434B5C;\n",
              "      box-shadow: 0px 1px 3px 1px rgba(0, 0, 0, 0.15);\n",
              "      filter: drop-shadow(0px 1px 2px rgba(0, 0, 0, 0.3));\n",
              "      fill: #FFFFFF;\n",
              "    }\n",
              "  </style>\n",
              "\n",
              "      <script>\n",
              "        const buttonEl =\n",
              "          document.querySelector('#df-55d14006-a711-4dbd-9cd6-468495dfa41e button.colab-df-convert');\n",
              "        buttonEl.style.display =\n",
              "          google.colab.kernel.accessAllowed ? 'block' : 'none';\n",
              "\n",
              "        async function convertToInteractive(key) {\n",
              "          const element = document.querySelector('#df-55d14006-a711-4dbd-9cd6-468495dfa41e');\n",
              "          const dataTable =\n",
              "            await google.colab.kernel.invokeFunction('convertToInteractive',\n",
              "                                                     [key], {});\n",
              "          if (!dataTable) return;\n",
              "\n",
              "          const docLinkHtml = 'Like what you see? Visit the ' +\n",
              "            '<a target=\"_blank\" href=https://colab.research.google.com/notebooks/data_table.ipynb>data table notebook</a>'\n",
              "            + ' to learn more about interactive tables.';\n",
              "          element.innerHTML = '';\n",
              "          dataTable['output_type'] = 'display_data';\n",
              "          await google.colab.output.renderOutput(dataTable, element);\n",
              "          const docLink = document.createElement('div');\n",
              "          docLink.innerHTML = docLinkHtml;\n",
              "          element.appendChild(docLink);\n",
              "        }\n",
              "      </script>\n",
              "    </div>\n",
              "  </div>\n",
              "  "
            ],
            "text/plain": [
              "   OSC(70443101) Theory Attempts  OSC(70443101) Practical Attempts  \\\n",
              "0                              1                                 1   \n",
              "1                              1                                 1   \n",
              "2                              1                                 1   \n",
              "3                              1                                 1   \n",
              "4                              1                                 1   \n",
              "\n",
              "   OSC(70443101) ESE (70) Final  OSC(70443101) ISE (30) Final  \\\n",
              "0                            38                            15   \n",
              "1                            31                            18   \n",
              "2                            50                            18   \n",
              "3                            61                            26   \n",
              "4                            54                            26   \n",
              "\n",
              "   OSC(70443101) Theory Condol/ Grace Final  OSC(70443101) ICA (25) Final  \\\n",
              "0                                         0                            22   \n",
              "1                                         0                            15   \n",
              "2                                         0                            16   \n",
              "3                                         0                            23   \n",
              "4                                         0                            24   \n",
              "\n",
              "   OSC(70443101) POE (50) Final  OSC(70443101) Practical Condol/ Grace Final  \\\n",
              "0                            21                                            0   \n",
              "1                            40                                            0   \n",
              "2                            44                                            0   \n",
              "3                            42                                            0   \n",
              "4                            45                                            0   \n",
              "\n",
              "   OSC(70443101) Total (175) Final OSC(70443101) Grade Final  ...  \\\n",
              "0                               96                         B  ...   \n",
              "1                              104                        B+  ...   \n",
              "2                              128                        A+  ...   \n",
              "3                              152                         O  ...   \n",
              "4                              149                         O  ...   \n",
              "\n",
              "   SL-I Status Final  Sem V Fail in subjects (7) Sem V Pass in subjects (7)  \\\n",
              "0                  P                           0                          7   \n",
              "1                  P                           0                          7   \n",
              "2                  P                           0                          7   \n",
              "3                  P                           0                          7   \n",
              "4                  P                           0                          7   \n",
              "\n",
              "   Sem V Total (850) Final  Sem V % Final  Sem V Condol/ Grace Final  \\\n",
              "0                      478          56.24                          0   \n",
              "1                      499          58.71                          0   \n",
              "2                      598          70.35                          0   \n",
              "3                      689          81.06                          0   \n",
              "4                      695          81.76                          0   \n",
              "\n",
              "   Sem V EGP Final   Sem V SGPA (Credits = 27) Final   Sem V Status Final   \\\n",
              "0               184                          6.814815                 Pass   \n",
              "1               191                          7.074074                 Pass   \n",
              "2               230                          8.518519                 Pass   \n",
              "3               259                          9.592593                 Pass   \n",
              "4               257                          9.518519                 Pass   \n",
              "\n",
              "   Sem V Grade Final  \n",
              "0                 B+  \n",
              "1                 B+  \n",
              "2                 A+  \n",
              "3                  O  \n",
              "4                  O  \n",
              "\n",
              "[5 rows x 82 columns]"
            ]
          },
          "execution_count": 10,
          "metadata": {},
          "output_type": "execute_result"
        }
      ],
      "source": [
        "sem6.head()"
      ]
    },
    {
      "cell_type": "code",
      "execution_count": null,
      "metadata": {
        "colab": {
          "base_uri": "https://localhost:8080/"
        },
        "id": "gGnheSfeIHr_",
        "outputId": "aa257f56-a6b0-426f-b127-ab12565da9da"
      },
      "outputs": [
        {
          "data": {
            "text/plain": [
              "(200, 82)"
            ]
          },
          "execution_count": 11,
          "metadata": {},
          "output_type": "execute_result"
        }
      ],
      "source": [
        "sem6.shape"
      ]
    },
    {
      "cell_type": "code",
      "execution_count": null,
      "metadata": {
        "id": "6GViOQgmIHr_"
      },
      "outputs": [],
      "source": [
        "target = 'Sem VI Grade Final'"
      ]
    },
    {
      "cell_type": "code",
      "execution_count": null,
      "metadata": {
        "colab": {
          "base_uri": "https://localhost:8080/"
        },
        "id": "uPll8XvbIHr_",
        "outputId": "f4059d8c-3908-4def-c1d4-eebbf41766cc"
      },
      "outputs": [
        {
          "name": "stdout",
          "output_type": "stream",
          "text": [
            "['OSC(70443101) Grade Final', 'OSC(70443101) Status Final', 'CN(70443102) Grade Final', 'CN(70443102) Status Final', 'SP(70443103) Grade Final', 'SP(70443103) Status Final', 'DAA(70443104) Grade Final', 'DAA(70443104) Status Final', 'CO(70443105) Grade Final', 'CO(70443105) Status Final', 'JP(70443106) Grade Final', 'JP(70443106) Status Final', 'SL-I Grade Final', 'SL-I Status Final', 'Sem V Status Final ']\n",
            "Shape of training split:  (160, 119)\n",
            "Shape of test split:  (40, 119)\n"
          ]
        }
      ],
      "source": [
        "X_train, X_test, y_train, y_test = preprocess(sem6,target)"
      ]
    },
    {
      "cell_type": "markdown",
      "metadata": {
        "id": "zumIXGu1IHr_"
      },
      "source": [
        "#Logistic Regression"
      ]
    },
    {
      "cell_type": "code",
      "execution_count": null,
      "metadata": {
        "colab": {
          "base_uri": "https://localhost:8080/"
        },
        "id": "FLIg3L7rIHr_",
        "outputId": "9c3bc41c-36b9-4121-e502-e1f68140a37d"
      },
      "outputs": [
        {
          "name": "stdout",
          "output_type": "stream",
          "text": [
            "Accuracy: 0.7\n",
            "Confusion Matrix:\n",
            " [[ 6  6  0  1]\n",
            " [ 0 18  0  1]\n",
            " [ 1  1  0  0]\n",
            " [ 0  2  0  4]]\n",
            "Classification Report:\n",
            "               precision    recall  f1-score   support\n",
            "\n",
            "           0       0.86      0.46      0.60        13\n",
            "           1       0.67      0.95      0.78        19\n",
            "           3       0.00      0.00      0.00         2\n",
            "           4       0.67      0.67      0.67         6\n",
            "\n",
            "    accuracy                           0.70        40\n",
            "   macro avg       0.55      0.52      0.51        40\n",
            "weighted avg       0.70      0.70      0.67        40\n",
            "\n"
          ]
        }
      ],
      "source": [
        "model.LR(X_train,y_train,y_test,X_test)"
      ]
    },
    {
      "cell_type": "markdown",
      "metadata": {
        "id": "-wj9--K3IHr_"
      },
      "source": [
        "Tuning and fitting"
      ]
    },
    {
      "cell_type": "code",
      "execution_count": null,
      "metadata": {
        "colab": {
          "base_uri": "https://localhost:8080/",
          "height": 452
        },
        "id": "78wKltd7IHsA",
        "outputId": "11330c37-901a-4a7f-9933-bd86b1edee89"
      },
      "outputs": [
        {
          "name": "stdout",
          "output_type": "stream",
          "text": [
            "Accuracy: 0.7\n",
            "#######################################################################\n",
            "Confusion Matrix:\n",
            " [[ 6  6  0  1]\n",
            " [ 0 18  0  1]\n",
            " [ 1  1  0  0]\n",
            " [ 0  2  0  4]]\n",
            "#######################################################################\n",
            "Classification Report:\n",
            "               precision    recall  f1-score   support\n",
            "\n",
            "           0       0.86      0.46      0.60        13\n",
            "           1       0.67      0.95      0.78        19\n",
            "           3       0.00      0.00      0.00         2\n",
            "           4       0.67      0.67      0.67         6\n",
            "\n",
            "    accuracy                           0.70        40\n",
            "   macro avg       0.55      0.52      0.51        40\n",
            "weighted avg       0.70      0.70      0.67        40\n",
            "\n"
          ]
        },
        {
          "data": {
            "text/html": [
              "<style>#sk-container-id-1 {color: black;background-color: white;}#sk-container-id-1 pre{padding: 0;}#sk-container-id-1 div.sk-toggleable {background-color: white;}#sk-container-id-1 label.sk-toggleable__label {cursor: pointer;display: block;width: 100%;margin-bottom: 0;padding: 0.3em;box-sizing: border-box;text-align: center;}#sk-container-id-1 label.sk-toggleable__label-arrow:before {content: \"▸\";float: left;margin-right: 0.25em;color: #696969;}#sk-container-id-1 label.sk-toggleable__label-arrow:hover:before {color: black;}#sk-container-id-1 div.sk-estimator:hover label.sk-toggleable__label-arrow:before {color: black;}#sk-container-id-1 div.sk-toggleable__content {max-height: 0;max-width: 0;overflow: hidden;text-align: left;background-color: #f0f8ff;}#sk-container-id-1 div.sk-toggleable__content pre {margin: 0.2em;color: black;border-radius: 0.25em;background-color: #f0f8ff;}#sk-container-id-1 input.sk-toggleable__control:checked~div.sk-toggleable__content {max-height: 200px;max-width: 100%;overflow: auto;}#sk-container-id-1 input.sk-toggleable__control:checked~label.sk-toggleable__label-arrow:before {content: \"▾\";}#sk-container-id-1 div.sk-estimator input.sk-toggleable__control:checked~label.sk-toggleable__label {background-color: #d4ebff;}#sk-container-id-1 div.sk-label input.sk-toggleable__control:checked~label.sk-toggleable__label {background-color: #d4ebff;}#sk-container-id-1 input.sk-hidden--visually {border: 0;clip: rect(1px 1px 1px 1px);clip: rect(1px, 1px, 1px, 1px);height: 1px;margin: -1px;overflow: hidden;padding: 0;position: absolute;width: 1px;}#sk-container-id-1 div.sk-estimator {font-family: monospace;background-color: #f0f8ff;border: 1px dotted black;border-radius: 0.25em;box-sizing: border-box;margin-bottom: 0.5em;}#sk-container-id-1 div.sk-estimator:hover {background-color: #d4ebff;}#sk-container-id-1 div.sk-parallel-item::after {content: \"\";width: 100%;border-bottom: 1px solid gray;flex-grow: 1;}#sk-container-id-1 div.sk-label:hover label.sk-toggleable__label {background-color: #d4ebff;}#sk-container-id-1 div.sk-serial::before {content: \"\";position: absolute;border-left: 1px solid gray;box-sizing: border-box;top: 0;bottom: 0;left: 50%;z-index: 0;}#sk-container-id-1 div.sk-serial {display: flex;flex-direction: column;align-items: center;background-color: white;padding-right: 0.2em;padding-left: 0.2em;position: relative;}#sk-container-id-1 div.sk-item {position: relative;z-index: 1;}#sk-container-id-1 div.sk-parallel {display: flex;align-items: stretch;justify-content: center;background-color: white;position: relative;}#sk-container-id-1 div.sk-item::before, #sk-container-id-1 div.sk-parallel-item::before {content: \"\";position: absolute;border-left: 1px solid gray;box-sizing: border-box;top: 0;bottom: 0;left: 50%;z-index: -1;}#sk-container-id-1 div.sk-parallel-item {display: flex;flex-direction: column;z-index: 1;position: relative;background-color: white;}#sk-container-id-1 div.sk-parallel-item:first-child::after {align-self: flex-end;width: 50%;}#sk-container-id-1 div.sk-parallel-item:last-child::after {align-self: flex-start;width: 50%;}#sk-container-id-1 div.sk-parallel-item:only-child::after {width: 0;}#sk-container-id-1 div.sk-dashed-wrapped {border: 1px dashed gray;margin: 0 0.4em 0.5em 0.4em;box-sizing: border-box;padding-bottom: 0.4em;background-color: white;}#sk-container-id-1 div.sk-label label {font-family: monospace;font-weight: bold;display: inline-block;line-height: 1.2em;}#sk-container-id-1 div.sk-label-container {text-align: center;}#sk-container-id-1 div.sk-container {/* jupyter's `normalize.less` sets `[hidden] { display: none; }` but bootstrap.min.css set `[hidden] { display: none !important; }` so we also need the `!important` here to be able to override the default hidden behavior on the sphinx rendered scikit-learn.org. See: https://github.com/scikit-learn/scikit-learn/issues/21755 */display: inline-block !important;position: relative;}#sk-container-id-1 div.sk-text-repr-fallback {display: none;}</style><div id=\"sk-container-id-1\" class=\"sk-top-container\"><div class=\"sk-text-repr-fallback\"><pre>LogisticRegression(random_state=0)</pre><b>In a Jupyter environment, please rerun this cell to show the HTML representation or trust the notebook. <br />On GitHub, the HTML representation is unable to render, please try loading this page with nbviewer.org.</b></div><div class=\"sk-container\" hidden><div class=\"sk-item\"><div class=\"sk-estimator sk-toggleable\"><input class=\"sk-toggleable__control sk-hidden--visually\" id=\"sk-estimator-id-1\" type=\"checkbox\" checked><label for=\"sk-estimator-id-1\" class=\"sk-toggleable__label sk-toggleable__label-arrow\">LogisticRegression</label><div class=\"sk-toggleable__content\"><pre>LogisticRegression(random_state=0)</pre></div></div></div></div></div>"
            ],
            "text/plain": [
              "LogisticRegression(random_state=0)"
            ]
          },
          "execution_count": 31,
          "metadata": {},
          "output_type": "execute_result"
        }
      ],
      "source": [
        "modelt.LR_t(X_train,y_train,y_test,X_test)"
      ]
    },
    {
      "cell_type": "markdown",
      "metadata": {
        "id": "mgjiQRo8IHsA"
      },
      "source": [
        "#Gaussian Naive Bayes"
      ]
    },
    {
      "cell_type": "code",
      "execution_count": null,
      "metadata": {
        "colab": {
          "base_uri": "https://localhost:8080/",
          "height": 415
        },
        "id": "ZWB1FFmwIHsA",
        "outputId": "329357ba-3610-4315-a441-5b364dc00ec0"
      },
      "outputs": [
        {
          "name": "stdout",
          "output_type": "stream",
          "text": [
            "Accuracy: 0.775\n",
            "Confusion Matrix:\n",
            " [[ 6  5  2  0]\n",
            " [ 0 17  0  2]\n",
            " [ 0  0  2  0]\n",
            " [ 0  0  0  6]]\n",
            "Classification Report:\n",
            "               precision    recall  f1-score   support\n",
            "\n",
            "           0       1.00      0.46      0.63        13\n",
            "           1       0.77      0.89      0.83        19\n",
            "           3       0.50      1.00      0.67         2\n",
            "           4       0.75      1.00      0.86         6\n",
            "\n",
            "    accuracy                           0.78        40\n",
            "   macro avg       0.76      0.84      0.75        40\n",
            "weighted avg       0.83      0.78      0.76        40\n",
            "\n"
          ]
        },
        {
          "data": {
            "text/html": [
              "<style>#sk-container-id-2 {color: black;background-color: white;}#sk-container-id-2 pre{padding: 0;}#sk-container-id-2 div.sk-toggleable {background-color: white;}#sk-container-id-2 label.sk-toggleable__label {cursor: pointer;display: block;width: 100%;margin-bottom: 0;padding: 0.3em;box-sizing: border-box;text-align: center;}#sk-container-id-2 label.sk-toggleable__label-arrow:before {content: \"▸\";float: left;margin-right: 0.25em;color: #696969;}#sk-container-id-2 label.sk-toggleable__label-arrow:hover:before {color: black;}#sk-container-id-2 div.sk-estimator:hover label.sk-toggleable__label-arrow:before {color: black;}#sk-container-id-2 div.sk-toggleable__content {max-height: 0;max-width: 0;overflow: hidden;text-align: left;background-color: #f0f8ff;}#sk-container-id-2 div.sk-toggleable__content pre {margin: 0.2em;color: black;border-radius: 0.25em;background-color: #f0f8ff;}#sk-container-id-2 input.sk-toggleable__control:checked~div.sk-toggleable__content {max-height: 200px;max-width: 100%;overflow: auto;}#sk-container-id-2 input.sk-toggleable__control:checked~label.sk-toggleable__label-arrow:before {content: \"▾\";}#sk-container-id-2 div.sk-estimator input.sk-toggleable__control:checked~label.sk-toggleable__label {background-color: #d4ebff;}#sk-container-id-2 div.sk-label input.sk-toggleable__control:checked~label.sk-toggleable__label {background-color: #d4ebff;}#sk-container-id-2 input.sk-hidden--visually {border: 0;clip: rect(1px 1px 1px 1px);clip: rect(1px, 1px, 1px, 1px);height: 1px;margin: -1px;overflow: hidden;padding: 0;position: absolute;width: 1px;}#sk-container-id-2 div.sk-estimator {font-family: monospace;background-color: #f0f8ff;border: 1px dotted black;border-radius: 0.25em;box-sizing: border-box;margin-bottom: 0.5em;}#sk-container-id-2 div.sk-estimator:hover {background-color: #d4ebff;}#sk-container-id-2 div.sk-parallel-item::after {content: \"\";width: 100%;border-bottom: 1px solid gray;flex-grow: 1;}#sk-container-id-2 div.sk-label:hover label.sk-toggleable__label {background-color: #d4ebff;}#sk-container-id-2 div.sk-serial::before {content: \"\";position: absolute;border-left: 1px solid gray;box-sizing: border-box;top: 0;bottom: 0;left: 50%;z-index: 0;}#sk-container-id-2 div.sk-serial {display: flex;flex-direction: column;align-items: center;background-color: white;padding-right: 0.2em;padding-left: 0.2em;position: relative;}#sk-container-id-2 div.sk-item {position: relative;z-index: 1;}#sk-container-id-2 div.sk-parallel {display: flex;align-items: stretch;justify-content: center;background-color: white;position: relative;}#sk-container-id-2 div.sk-item::before, #sk-container-id-2 div.sk-parallel-item::before {content: \"\";position: absolute;border-left: 1px solid gray;box-sizing: border-box;top: 0;bottom: 0;left: 50%;z-index: -1;}#sk-container-id-2 div.sk-parallel-item {display: flex;flex-direction: column;z-index: 1;position: relative;background-color: white;}#sk-container-id-2 div.sk-parallel-item:first-child::after {align-self: flex-end;width: 50%;}#sk-container-id-2 div.sk-parallel-item:last-child::after {align-self: flex-start;width: 50%;}#sk-container-id-2 div.sk-parallel-item:only-child::after {width: 0;}#sk-container-id-2 div.sk-dashed-wrapped {border: 1px dashed gray;margin: 0 0.4em 0.5em 0.4em;box-sizing: border-box;padding-bottom: 0.4em;background-color: white;}#sk-container-id-2 div.sk-label label {font-family: monospace;font-weight: bold;display: inline-block;line-height: 1.2em;}#sk-container-id-2 div.sk-label-container {text-align: center;}#sk-container-id-2 div.sk-container {/* jupyter's `normalize.less` sets `[hidden] { display: none; }` but bootstrap.min.css set `[hidden] { display: none !important; }` so we also need the `!important` here to be able to override the default hidden behavior on the sphinx rendered scikit-learn.org. See: https://github.com/scikit-learn/scikit-learn/issues/21755 */display: inline-block !important;position: relative;}#sk-container-id-2 div.sk-text-repr-fallback {display: none;}</style><div id=\"sk-container-id-2\" class=\"sk-top-container\"><div class=\"sk-text-repr-fallback\"><pre>GaussianNB()</pre><b>In a Jupyter environment, please rerun this cell to show the HTML representation or trust the notebook. <br />On GitHub, the HTML representation is unable to render, please try loading this page with nbviewer.org.</b></div><div class=\"sk-container\" hidden><div class=\"sk-item\"><div class=\"sk-estimator sk-toggleable\"><input class=\"sk-toggleable__control sk-hidden--visually\" id=\"sk-estimator-id-2\" type=\"checkbox\" checked><label for=\"sk-estimator-id-2\" class=\"sk-toggleable__label sk-toggleable__label-arrow\">GaussianNB</label><div class=\"sk-toggleable__content\"><pre>GaussianNB()</pre></div></div></div></div></div>"
            ],
            "text/plain": [
              "GaussianNB()"
            ]
          },
          "execution_count": 32,
          "metadata": {},
          "output_type": "execute_result"
        }
      ],
      "source": [
        "model.GNB(X_train,y_train,y_test,X_test)"
      ]
    },
    {
      "cell_type": "markdown",
      "metadata": {
        "id": "wjfsT3JzIHsA"
      },
      "source": [
        "Tuning and fitting"
      ]
    },
    {
      "cell_type": "code",
      "execution_count": null,
      "metadata": {
        "colab": {
          "base_uri": "https://localhost:8080/",
          "height": 459
        },
        "id": "Ap3OC5IXIHsA",
        "outputId": "adae49f7-4caf-4a40-ee0a-01bece8ff2f0"
      },
      "outputs": [
        {
          "name": "stdout",
          "output_type": "stream",
          "text": [
            "Accuracy: 0.875\n",
            "Confusion Matrix:\n",
            " [[11  1  1  0]\n",
            " [ 0 16  0  3]\n",
            " [ 0  0  2  0]\n",
            " [ 0  0  0  6]]\n",
            "Classification Report:\n",
            "               precision    recall  f1-score   support\n",
            "\n",
            "           0       1.00      0.85      0.92        13\n",
            "           1       0.94      0.84      0.89        19\n",
            "           3       0.67      1.00      0.80         2\n",
            "           4       0.67      1.00      0.80         6\n",
            "\n",
            "    accuracy                           0.88        40\n",
            "   macro avg       0.82      0.92      0.85        40\n",
            "weighted avg       0.91      0.88      0.88        40\n",
            "\n"
          ]
        },
        {
          "data": {
            "text/html": [
              "<style>#sk-container-id-3 {color: black;background-color: white;}#sk-container-id-3 pre{padding: 0;}#sk-container-id-3 div.sk-toggleable {background-color: white;}#sk-container-id-3 label.sk-toggleable__label {cursor: pointer;display: block;width: 100%;margin-bottom: 0;padding: 0.3em;box-sizing: border-box;text-align: center;}#sk-container-id-3 label.sk-toggleable__label-arrow:before {content: \"▸\";float: left;margin-right: 0.25em;color: #696969;}#sk-container-id-3 label.sk-toggleable__label-arrow:hover:before {color: black;}#sk-container-id-3 div.sk-estimator:hover label.sk-toggleable__label-arrow:before {color: black;}#sk-container-id-3 div.sk-toggleable__content {max-height: 0;max-width: 0;overflow: hidden;text-align: left;background-color: #f0f8ff;}#sk-container-id-3 div.sk-toggleable__content pre {margin: 0.2em;color: black;border-radius: 0.25em;background-color: #f0f8ff;}#sk-container-id-3 input.sk-toggleable__control:checked~div.sk-toggleable__content {max-height: 200px;max-width: 100%;overflow: auto;}#sk-container-id-3 input.sk-toggleable__control:checked~label.sk-toggleable__label-arrow:before {content: \"▾\";}#sk-container-id-3 div.sk-estimator input.sk-toggleable__control:checked~label.sk-toggleable__label {background-color: #d4ebff;}#sk-container-id-3 div.sk-label input.sk-toggleable__control:checked~label.sk-toggleable__label {background-color: #d4ebff;}#sk-container-id-3 input.sk-hidden--visually {border: 0;clip: rect(1px 1px 1px 1px);clip: rect(1px, 1px, 1px, 1px);height: 1px;margin: -1px;overflow: hidden;padding: 0;position: absolute;width: 1px;}#sk-container-id-3 div.sk-estimator {font-family: monospace;background-color: #f0f8ff;border: 1px dotted black;border-radius: 0.25em;box-sizing: border-box;margin-bottom: 0.5em;}#sk-container-id-3 div.sk-estimator:hover {background-color: #d4ebff;}#sk-container-id-3 div.sk-parallel-item::after {content: \"\";width: 100%;border-bottom: 1px solid gray;flex-grow: 1;}#sk-container-id-3 div.sk-label:hover label.sk-toggleable__label {background-color: #d4ebff;}#sk-container-id-3 div.sk-serial::before {content: \"\";position: absolute;border-left: 1px solid gray;box-sizing: border-box;top: 0;bottom: 0;left: 50%;z-index: 0;}#sk-container-id-3 div.sk-serial {display: flex;flex-direction: column;align-items: center;background-color: white;padding-right: 0.2em;padding-left: 0.2em;position: relative;}#sk-container-id-3 div.sk-item {position: relative;z-index: 1;}#sk-container-id-3 div.sk-parallel {display: flex;align-items: stretch;justify-content: center;background-color: white;position: relative;}#sk-container-id-3 div.sk-item::before, #sk-container-id-3 div.sk-parallel-item::before {content: \"\";position: absolute;border-left: 1px solid gray;box-sizing: border-box;top: 0;bottom: 0;left: 50%;z-index: -1;}#sk-container-id-3 div.sk-parallel-item {display: flex;flex-direction: column;z-index: 1;position: relative;background-color: white;}#sk-container-id-3 div.sk-parallel-item:first-child::after {align-self: flex-end;width: 50%;}#sk-container-id-3 div.sk-parallel-item:last-child::after {align-self: flex-start;width: 50%;}#sk-container-id-3 div.sk-parallel-item:only-child::after {width: 0;}#sk-container-id-3 div.sk-dashed-wrapped {border: 1px dashed gray;margin: 0 0.4em 0.5em 0.4em;box-sizing: border-box;padding-bottom: 0.4em;background-color: white;}#sk-container-id-3 div.sk-label label {font-family: monospace;font-weight: bold;display: inline-block;line-height: 1.2em;}#sk-container-id-3 div.sk-label-container {text-align: center;}#sk-container-id-3 div.sk-container {/* jupyter's `normalize.less` sets `[hidden] { display: none; }` but bootstrap.min.css set `[hidden] { display: none !important; }` so we also need the `!important` here to be able to override the default hidden behavior on the sphinx rendered scikit-learn.org. See: https://github.com/scikit-learn/scikit-learn/issues/21755 */display: inline-block !important;position: relative;}#sk-container-id-3 div.sk-text-repr-fallback {display: none;}</style><div id=\"sk-container-id-3\" class=\"sk-top-container\"><div class=\"sk-text-repr-fallback\"><pre>GridSearchCV(cv=10, estimator=GaussianNB(),\n",
              "             param_grid={&#x27;var_smoothing&#x27;: array([1.00000000e+00, 8.11130831e-01, 6.57933225e-01, 5.33669923e-01,\n",
              "       4.32876128e-01, 3.51119173e-01, 2.84803587e-01, 2.31012970e-01,\n",
              "       1.87381742e-01, 1.51991108e-01, 1.23284674e-01, 1.00000000e-01,\n",
              "       8.11130831e-02, 6.57933225e-02, 5.33669923e-02, 4.32876128e-02,\n",
              "       3.51119173e-02, 2.84803587e-02, 2.3...\n",
              "       1.23284674e-07, 1.00000000e-07, 8.11130831e-08, 6.57933225e-08,\n",
              "       5.33669923e-08, 4.32876128e-08, 3.51119173e-08, 2.84803587e-08,\n",
              "       2.31012970e-08, 1.87381742e-08, 1.51991108e-08, 1.23284674e-08,\n",
              "       1.00000000e-08, 8.11130831e-09, 6.57933225e-09, 5.33669923e-09,\n",
              "       4.32876128e-09, 3.51119173e-09, 2.84803587e-09, 2.31012970e-09,\n",
              "       1.87381742e-09, 1.51991108e-09, 1.23284674e-09, 1.00000000e-09])},\n",
              "             scoring=&#x27;accuracy&#x27;)</pre><b>In a Jupyter environment, please rerun this cell to show the HTML representation or trust the notebook. <br />On GitHub, the HTML representation is unable to render, please try loading this page with nbviewer.org.</b></div><div class=\"sk-container\" hidden><div class=\"sk-item sk-dashed-wrapped\"><div class=\"sk-label-container\"><div class=\"sk-label sk-toggleable\"><input class=\"sk-toggleable__control sk-hidden--visually\" id=\"sk-estimator-id-3\" type=\"checkbox\" ><label for=\"sk-estimator-id-3\" class=\"sk-toggleable__label sk-toggleable__label-arrow\">GridSearchCV</label><div class=\"sk-toggleable__content\"><pre>GridSearchCV(cv=10, estimator=GaussianNB(),\n",
              "             param_grid={&#x27;var_smoothing&#x27;: array([1.00000000e+00, 8.11130831e-01, 6.57933225e-01, 5.33669923e-01,\n",
              "       4.32876128e-01, 3.51119173e-01, 2.84803587e-01, 2.31012970e-01,\n",
              "       1.87381742e-01, 1.51991108e-01, 1.23284674e-01, 1.00000000e-01,\n",
              "       8.11130831e-02, 6.57933225e-02, 5.33669923e-02, 4.32876128e-02,\n",
              "       3.51119173e-02, 2.84803587e-02, 2.3...\n",
              "       1.23284674e-07, 1.00000000e-07, 8.11130831e-08, 6.57933225e-08,\n",
              "       5.33669923e-08, 4.32876128e-08, 3.51119173e-08, 2.84803587e-08,\n",
              "       2.31012970e-08, 1.87381742e-08, 1.51991108e-08, 1.23284674e-08,\n",
              "       1.00000000e-08, 8.11130831e-09, 6.57933225e-09, 5.33669923e-09,\n",
              "       4.32876128e-09, 3.51119173e-09, 2.84803587e-09, 2.31012970e-09,\n",
              "       1.87381742e-09, 1.51991108e-09, 1.23284674e-09, 1.00000000e-09])},\n",
              "             scoring=&#x27;accuracy&#x27;)</pre></div></div></div><div class=\"sk-parallel\"><div class=\"sk-parallel-item\"><div class=\"sk-item\"><div class=\"sk-label-container\"><div class=\"sk-label sk-toggleable\"><input class=\"sk-toggleable__control sk-hidden--visually\" id=\"sk-estimator-id-4\" type=\"checkbox\" ><label for=\"sk-estimator-id-4\" class=\"sk-toggleable__label sk-toggleable__label-arrow\">estimator: GaussianNB</label><div class=\"sk-toggleable__content\"><pre>GaussianNB()</pre></div></div></div><div class=\"sk-serial\"><div class=\"sk-item\"><div class=\"sk-estimator sk-toggleable\"><input class=\"sk-toggleable__control sk-hidden--visually\" id=\"sk-estimator-id-5\" type=\"checkbox\" ><label for=\"sk-estimator-id-5\" class=\"sk-toggleable__label sk-toggleable__label-arrow\">GaussianNB</label><div class=\"sk-toggleable__content\"><pre>GaussianNB()</pre></div></div></div></div></div></div></div></div></div></div>"
            ],
            "text/plain": [
              "GridSearchCV(cv=10, estimator=GaussianNB(),\n",
              "             param_grid={'var_smoothing': array([1.00000000e+00, 8.11130831e-01, 6.57933225e-01, 5.33669923e-01,\n",
              "       4.32876128e-01, 3.51119173e-01, 2.84803587e-01, 2.31012970e-01,\n",
              "       1.87381742e-01, 1.51991108e-01, 1.23284674e-01, 1.00000000e-01,\n",
              "       8.11130831e-02, 6.57933225e-02, 5.33669923e-02, 4.32876128e-02,\n",
              "       3.51119173e-02, 2.84803587e-02, 2.3...\n",
              "       1.23284674e-07, 1.00000000e-07, 8.11130831e-08, 6.57933225e-08,\n",
              "       5.33669923e-08, 4.32876128e-08, 3.51119173e-08, 2.84803587e-08,\n",
              "       2.31012970e-08, 1.87381742e-08, 1.51991108e-08, 1.23284674e-08,\n",
              "       1.00000000e-08, 8.11130831e-09, 6.57933225e-09, 5.33669923e-09,\n",
              "       4.32876128e-09, 3.51119173e-09, 2.84803587e-09, 2.31012970e-09,\n",
              "       1.87381742e-09, 1.51991108e-09, 1.23284674e-09, 1.00000000e-09])},\n",
              "             scoring='accuracy')"
            ]
          },
          "execution_count": 37,
          "metadata": {},
          "output_type": "execute_result"
        }
      ],
      "source": [
        "modelt.GNB_t(X_train,y_train,y_test,X_test)"
      ]
    },
    {
      "cell_type": "markdown",
      "metadata": {
        "id": "3FVoUqaTIHsA"
      },
      "source": [
        "#Decision Tree"
      ]
    },
    {
      "cell_type": "code",
      "execution_count": null,
      "metadata": {
        "colab": {
          "base_uri": "https://localhost:8080/"
        },
        "id": "BvTuS1IZIHsA",
        "outputId": "b873d9e3-265c-4779-d01f-6381ffe5b9e0"
      },
      "outputs": [
        {
          "name": "stdout",
          "output_type": "stream",
          "text": [
            "Accuracy: 1.0\n",
            "Confusion Matrix:\n",
            " [[13  0  0  0]\n",
            " [ 0 19  0  0]\n",
            " [ 0  0  2  0]\n",
            " [ 0  0  0  6]]\n",
            "Classification Report:\n",
            "               precision    recall  f1-score   support\n",
            "\n",
            "           0       1.00      1.00      1.00        13\n",
            "           1       1.00      1.00      1.00        19\n",
            "           3       1.00      1.00      1.00         2\n",
            "           4       1.00      1.00      1.00         6\n",
            "\n",
            "    accuracy                           1.00        40\n",
            "   macro avg       1.00      1.00      1.00        40\n",
            "weighted avg       1.00      1.00      1.00        40\n",
            "\n"
          ]
        }
      ],
      "source": [
        "model.DT(X_train,y_train,y_test,X_test)"
      ]
    },
    {
      "cell_type": "markdown",
      "metadata": {
        "id": "Ll0PUk4OIHsB"
      },
      "source": [
        "tuning and fitting"
      ]
    },
    {
      "cell_type": "code",
      "execution_count": null,
      "metadata": {
        "colab": {
          "base_uri": "https://localhost:8080/",
          "height": 497
        },
        "id": "vBPnEnFBIHsB",
        "outputId": "9d6963c9-68ae-4396-ba2a-47ee7e462a2a"
      },
      "outputs": [
        {
          "name": "stdout",
          "output_type": "stream",
          "text": [
            "Best Parameters: {'max_depth': 3, 'min_samples_leaf': 1, 'min_samples_split': 2}\n",
            "Best Score: 0.9875\n",
            "Accuracy: 1.0\n",
            "Confusion Matrix:\n",
            " [[13  0  0  0]\n",
            " [ 0 19  0  0]\n",
            " [ 0  0  2  0]\n",
            " [ 0  0  0  6]]\n",
            "Classification Report:\n",
            "               precision    recall  f1-score   support\n",
            "\n",
            "           0       1.00      1.00      1.00        13\n",
            "           1       1.00      1.00      1.00        19\n",
            "           3       1.00      1.00      1.00         2\n",
            "           4       1.00      1.00      1.00         6\n",
            "\n",
            "    accuracy                           1.00        40\n",
            "   macro avg       1.00      1.00      1.00        40\n",
            "weighted avg       1.00      1.00      1.00        40\n",
            "\n"
          ]
        },
        {
          "data": {
            "text/html": [
              "<style>#sk-container-id-4 {color: black;background-color: white;}#sk-container-id-4 pre{padding: 0;}#sk-container-id-4 div.sk-toggleable {background-color: white;}#sk-container-id-4 label.sk-toggleable__label {cursor: pointer;display: block;width: 100%;margin-bottom: 0;padding: 0.3em;box-sizing: border-box;text-align: center;}#sk-container-id-4 label.sk-toggleable__label-arrow:before {content: \"▸\";float: left;margin-right: 0.25em;color: #696969;}#sk-container-id-4 label.sk-toggleable__label-arrow:hover:before {color: black;}#sk-container-id-4 div.sk-estimator:hover label.sk-toggleable__label-arrow:before {color: black;}#sk-container-id-4 div.sk-toggleable__content {max-height: 0;max-width: 0;overflow: hidden;text-align: left;background-color: #f0f8ff;}#sk-container-id-4 div.sk-toggleable__content pre {margin: 0.2em;color: black;border-radius: 0.25em;background-color: #f0f8ff;}#sk-container-id-4 input.sk-toggleable__control:checked~div.sk-toggleable__content {max-height: 200px;max-width: 100%;overflow: auto;}#sk-container-id-4 input.sk-toggleable__control:checked~label.sk-toggleable__label-arrow:before {content: \"▾\";}#sk-container-id-4 div.sk-estimator input.sk-toggleable__control:checked~label.sk-toggleable__label {background-color: #d4ebff;}#sk-container-id-4 div.sk-label input.sk-toggleable__control:checked~label.sk-toggleable__label {background-color: #d4ebff;}#sk-container-id-4 input.sk-hidden--visually {border: 0;clip: rect(1px 1px 1px 1px);clip: rect(1px, 1px, 1px, 1px);height: 1px;margin: -1px;overflow: hidden;padding: 0;position: absolute;width: 1px;}#sk-container-id-4 div.sk-estimator {font-family: monospace;background-color: #f0f8ff;border: 1px dotted black;border-radius: 0.25em;box-sizing: border-box;margin-bottom: 0.5em;}#sk-container-id-4 div.sk-estimator:hover {background-color: #d4ebff;}#sk-container-id-4 div.sk-parallel-item::after {content: \"\";width: 100%;border-bottom: 1px solid gray;flex-grow: 1;}#sk-container-id-4 div.sk-label:hover label.sk-toggleable__label {background-color: #d4ebff;}#sk-container-id-4 div.sk-serial::before {content: \"\";position: absolute;border-left: 1px solid gray;box-sizing: border-box;top: 0;bottom: 0;left: 50%;z-index: 0;}#sk-container-id-4 div.sk-serial {display: flex;flex-direction: column;align-items: center;background-color: white;padding-right: 0.2em;padding-left: 0.2em;position: relative;}#sk-container-id-4 div.sk-item {position: relative;z-index: 1;}#sk-container-id-4 div.sk-parallel {display: flex;align-items: stretch;justify-content: center;background-color: white;position: relative;}#sk-container-id-4 div.sk-item::before, #sk-container-id-4 div.sk-parallel-item::before {content: \"\";position: absolute;border-left: 1px solid gray;box-sizing: border-box;top: 0;bottom: 0;left: 50%;z-index: -1;}#sk-container-id-4 div.sk-parallel-item {display: flex;flex-direction: column;z-index: 1;position: relative;background-color: white;}#sk-container-id-4 div.sk-parallel-item:first-child::after {align-self: flex-end;width: 50%;}#sk-container-id-4 div.sk-parallel-item:last-child::after {align-self: flex-start;width: 50%;}#sk-container-id-4 div.sk-parallel-item:only-child::after {width: 0;}#sk-container-id-4 div.sk-dashed-wrapped {border: 1px dashed gray;margin: 0 0.4em 0.5em 0.4em;box-sizing: border-box;padding-bottom: 0.4em;background-color: white;}#sk-container-id-4 div.sk-label label {font-family: monospace;font-weight: bold;display: inline-block;line-height: 1.2em;}#sk-container-id-4 div.sk-label-container {text-align: center;}#sk-container-id-4 div.sk-container {/* jupyter's `normalize.less` sets `[hidden] { display: none; }` but bootstrap.min.css set `[hidden] { display: none !important; }` so we also need the `!important` here to be able to override the default hidden behavior on the sphinx rendered scikit-learn.org. See: https://github.com/scikit-learn/scikit-learn/issues/21755 */display: inline-block !important;position: relative;}#sk-container-id-4 div.sk-text-repr-fallback {display: none;}</style><div id=\"sk-container-id-4\" class=\"sk-top-container\"><div class=\"sk-text-repr-fallback\"><pre>GridSearchCV(cv=5, estimator=DecisionTreeClassifier(random_state=0),\n",
              "             param_grid={&#x27;max_depth&#x27;: [3, 5, 7, None],\n",
              "                         &#x27;min_samples_leaf&#x27;: [1, 2, 4],\n",
              "                         &#x27;min_samples_split&#x27;: [2, 5, 10]})</pre><b>In a Jupyter environment, please rerun this cell to show the HTML representation or trust the notebook. <br />On GitHub, the HTML representation is unable to render, please try loading this page with nbviewer.org.</b></div><div class=\"sk-container\" hidden><div class=\"sk-item sk-dashed-wrapped\"><div class=\"sk-label-container\"><div class=\"sk-label sk-toggleable\"><input class=\"sk-toggleable__control sk-hidden--visually\" id=\"sk-estimator-id-6\" type=\"checkbox\" ><label for=\"sk-estimator-id-6\" class=\"sk-toggleable__label sk-toggleable__label-arrow\">GridSearchCV</label><div class=\"sk-toggleable__content\"><pre>GridSearchCV(cv=5, estimator=DecisionTreeClassifier(random_state=0),\n",
              "             param_grid={&#x27;max_depth&#x27;: [3, 5, 7, None],\n",
              "                         &#x27;min_samples_leaf&#x27;: [1, 2, 4],\n",
              "                         &#x27;min_samples_split&#x27;: [2, 5, 10]})</pre></div></div></div><div class=\"sk-parallel\"><div class=\"sk-parallel-item\"><div class=\"sk-item\"><div class=\"sk-label-container\"><div class=\"sk-label sk-toggleable\"><input class=\"sk-toggleable__control sk-hidden--visually\" id=\"sk-estimator-id-7\" type=\"checkbox\" ><label for=\"sk-estimator-id-7\" class=\"sk-toggleable__label sk-toggleable__label-arrow\">estimator: DecisionTreeClassifier</label><div class=\"sk-toggleable__content\"><pre>DecisionTreeClassifier(random_state=0)</pre></div></div></div><div class=\"sk-serial\"><div class=\"sk-item\"><div class=\"sk-estimator sk-toggleable\"><input class=\"sk-toggleable__control sk-hidden--visually\" id=\"sk-estimator-id-8\" type=\"checkbox\" ><label for=\"sk-estimator-id-8\" class=\"sk-toggleable__label sk-toggleable__label-arrow\">DecisionTreeClassifier</label><div class=\"sk-toggleable__content\"><pre>DecisionTreeClassifier(random_state=0)</pre></div></div></div></div></div></div></div></div></div></div>"
            ],
            "text/plain": [
              "GridSearchCV(cv=5, estimator=DecisionTreeClassifier(random_state=0),\n",
              "             param_grid={'max_depth': [3, 5, 7, None],\n",
              "                         'min_samples_leaf': [1, 2, 4],\n",
              "                         'min_samples_split': [2, 5, 10]})"
            ]
          },
          "execution_count": 39,
          "metadata": {},
          "output_type": "execute_result"
        }
      ],
      "source": [
        "modelt.DT_t(X_train,y_train,y_test,X_test)"
      ]
    },
    {
      "cell_type": "markdown",
      "metadata": {
        "id": "qCGUPDQyIHsB"
      },
      "source": [
        "#Random Forest"
      ]
    },
    {
      "cell_type": "code",
      "execution_count": null,
      "metadata": {
        "colab": {
          "base_uri": "https://localhost:8080/"
        },
        "id": "I5WMZfLSIHsB",
        "outputId": "b08da020-a708-478d-8cdc-c271c8e7383d"
      },
      "outputs": [
        {
          "name": "stdout",
          "output_type": "stream",
          "text": [
            "Accuracy: 1.0\n",
            "Confusion Matrix:\n",
            " [[13  0  0  0]\n",
            " [ 0 19  0  0]\n",
            " [ 0  0  2  0]\n",
            " [ 0  0  0  6]]\n",
            "Classification Report:\n",
            "               precision    recall  f1-score   support\n",
            "\n",
            "           0       1.00      1.00      1.00        13\n",
            "           1       1.00      1.00      1.00        19\n",
            "           3       1.00      1.00      1.00         2\n",
            "           4       1.00      1.00      1.00         6\n",
            "\n",
            "    accuracy                           1.00        40\n",
            "   macro avg       1.00      1.00      1.00        40\n",
            "weighted avg       1.00      1.00      1.00        40\n",
            "\n"
          ]
        }
      ],
      "source": [
        "model.RF(X_train,y_train,y_test,X_test)"
      ]
    },
    {
      "cell_type": "markdown",
      "metadata": {
        "id": "Z89X-spOIHsB"
      },
      "source": [
        "Tuning and Fitting"
      ]
    },
    {
      "cell_type": "code",
      "execution_count": null,
      "metadata": {
        "id": "-pXTPac6IHsB"
      },
      "outputs": [],
      "source": [
        "modelt.RF_t(X_train,y_train,y_test,X_test)"
      ]
    },
    {
      "cell_type": "markdown",
      "metadata": {
        "id": "aoYfORIEIHsB"
      },
      "source": [
        "#Support Vector Classifier"
      ]
    },
    {
      "cell_type": "code",
      "execution_count": null,
      "metadata": {
        "id": "7zDubYL8IHsB"
      },
      "outputs": [],
      "source": [
        "model.SVC(X_train,y_train,y_test,X_test)"
      ]
    },
    {
      "cell_type": "markdown",
      "metadata": {
        "id": "XLuWYyBVIHsC"
      },
      "source": [
        "Tuning and fitting"
      ]
    },
    {
      "cell_type": "code",
      "execution_count": null,
      "metadata": {
        "id": "gvoX0KhJIHsC"
      },
      "outputs": [],
      "source": [
        "modelt.SVC_t(X_train,y_train,y_test,X_test)"
      ]
    },
    {
      "cell_type": "markdown",
      "metadata": {
        "id": "vsevlGShIHsC"
      },
      "source": [
        "#K - Nearrest Neighbours"
      ]
    },
    {
      "cell_type": "code",
      "execution_count": null,
      "metadata": {
        "id": "ez1Kx2KaIHsC"
      },
      "outputs": [],
      "source": [
        "model.KNN(X_train,y_train,y_test,X_test)"
      ]
    },
    {
      "cell_type": "markdown",
      "metadata": {
        "id": "kdU-44WaIHsC"
      },
      "source": [
        "Tuning and fitting"
      ]
    },
    {
      "cell_type": "code",
      "execution_count": null,
      "metadata": {
        "id": "NpO04K7_IHsC"
      },
      "outputs": [],
      "source": [
        "modelt.KNN_t(X_train,y_train,y_test,X_test)"
      ]
    },
    {
      "cell_type": "markdown",
      "metadata": {
        "id": "59FAdQLzIHsC"
      },
      "source": [
        "#Gradient Boosting"
      ]
    },
    {
      "cell_type": "code",
      "execution_count": null,
      "metadata": {
        "id": "OeRzT7OGIHsC"
      },
      "outputs": [],
      "source": [
        "model.GB(X_train,y_train,y_test,X_test)"
      ]
    },
    {
      "cell_type": "markdown",
      "metadata": {
        "id": "5JfgaBATIHsC"
      },
      "source": [
        "tuning and fitting"
      ]
    },
    {
      "cell_type": "code",
      "execution_count": null,
      "metadata": {
        "id": "ap9dC8B_IHsD"
      },
      "outputs": [],
      "source": [
        "modelt.GB_t(X_train,y_train,y_test,X_test)"
      ]
    },
    {
      "cell_type": "markdown",
      "metadata": {
        "id": "L9VIe2ivIHsD"
      },
      "source": [
        "#AdaBoost"
      ]
    },
    {
      "cell_type": "code",
      "execution_count": null,
      "metadata": {
        "id": "ygeHZU73IHsD"
      },
      "outputs": [],
      "source": [
        "model.ADAB(X_train,y_train,y_test,X_test)"
      ]
    },
    {
      "cell_type": "markdown",
      "metadata": {
        "id": "mKY4FMu_IHsD"
      },
      "source": [
        "tuning and fitting"
      ]
    },
    {
      "cell_type": "code",
      "execution_count": null,
      "metadata": {
        "id": "WN4DtNu5IHsD"
      },
      "outputs": [],
      "source": [
        "modelt.ADAB_t(X_train,y_train,y_test,X_test)"
      ]
    },
    {
      "cell_type": "markdown",
      "metadata": {
        "id": "AJgKFTfcIHsD"
      },
      "source": [
        "#Bagging"
      ]
    },
    {
      "cell_type": "code",
      "execution_count": null,
      "metadata": {
        "id": "zpNi6SYgIHsD"
      },
      "outputs": [],
      "source": [
        "model.BAG(X_train,y_train,y_test,X_test)"
      ]
    },
    {
      "cell_type": "markdown",
      "metadata": {
        "id": "UpidSv0yIHsD"
      },
      "source": [
        "tuning and fitting"
      ]
    },
    {
      "cell_type": "code",
      "execution_count": null,
      "metadata": {
        "id": "LcX1R6jxIHsD"
      },
      "outputs": [],
      "source": [
        "modelt.BAG_t(X_train,y_train,y_test,X_test)"
      ]
    },
    {
      "cell_type": "markdown",
      "metadata": {
        "id": "eVOlKSw-IHsE"
      },
      "source": [
        "#XGBoost"
      ]
    },
    {
      "cell_type": "code",
      "execution_count": null,
      "metadata": {
        "id": "IAscDNM9IHsE"
      },
      "outputs": [],
      "source": [
        "model.XGB(X_train,y_train,y_test,X_test)"
      ]
    },
    {
      "cell_type": "markdown",
      "metadata": {
        "id": "Ctydxp8rIHsE"
      },
      "source": [
        "tuning and fitting"
      ]
    },
    {
      "cell_type": "code",
      "execution_count": null,
      "metadata": {
        "id": "68GCukySIHsE"
      },
      "outputs": [],
      "source": [
        "modelt.XGB_t(X_train,y_train,y_test,X_test)"
      ]
    },
    {
      "cell_type": "markdown",
      "metadata": {
        "id": "R2Jr9YWPIHsE"
      },
      "source": [
        "#LightGBM"
      ]
    },
    {
      "cell_type": "code",
      "execution_count": null,
      "metadata": {
        "id": "JyH64sg5IHsE"
      },
      "outputs": [],
      "source": [
        "model.LGB(X_train,y_train,y_test,X_test)"
      ]
    },
    {
      "cell_type": "markdown",
      "metadata": {
        "id": "amiNkc5QIHsE"
      },
      "source": [
        "tuning and fitting"
      ]
    },
    {
      "cell_type": "code",
      "execution_count": null,
      "metadata": {
        "id": "lgJ0SuCxIHsE"
      },
      "outputs": [],
      "source": [
        "modelt.LGB_t(X_train,y_train,y_test,X_test)"
      ]
    },
    {
      "cell_type": "markdown",
      "metadata": {
        "id": "brYNw5S3IHsE"
      },
      "source": [
        "#CATBoost"
      ]
    },
    {
      "cell_type": "code",
      "execution_count": null,
      "metadata": {
        "id": "R6TqcIYdIHsF"
      },
      "outputs": [],
      "source": [
        "model.CB(X_train,y_train,y_test,X_test)"
      ]
    },
    {
      "cell_type": "markdown",
      "metadata": {
        "id": "cMmhfvnzIHsF"
      },
      "source": [
        "tuning and fitting"
      ]
    },
    {
      "cell_type": "code",
      "execution_count": null,
      "metadata": {
        "id": "yWlDcCRhIHsF"
      },
      "outputs": [],
      "source": [
        "modelt.CB_t(X_train,y_train,y_test,X_test)"
      ]
    },
    {
      "cell_type": "markdown",
      "metadata": {
        "id": "U3GT2EoBIHsF"
      },
      "source": [
        "#Linear Discriminant Analysis"
      ]
    },
    {
      "cell_type": "code",
      "execution_count": null,
      "metadata": {
        "id": "x0mqocqnIHsF"
      },
      "outputs": [],
      "source": [
        "model.LDA(X_train,y_train,y_test,X_test)"
      ]
    },
    {
      "cell_type": "markdown",
      "metadata": {
        "id": "Dbds9-mqIHsF"
      },
      "source": [
        "#Quadratic discriminant Analysis"
      ]
    },
    {
      "cell_type": "code",
      "execution_count": null,
      "metadata": {
        "id": "SI40NcX6IHsF"
      },
      "outputs": [],
      "source": [
        "model.QDA(X_train,y_train,y_test,X_test)"
      ]
    },
    {
      "cell_type": "markdown",
      "metadata": {
        "id": "lRl8U-WhIHsF"
      },
      "source": [
        "#========================================================"
      ]
    },
    {
      "cell_type": "code",
      "execution_count": null,
      "metadata": {
        "id": "TQ0lJPcNIga8"
      },
      "outputs": [],
      "source": []
    },
    {
      "cell_type": "markdown",
      "metadata": {
        "id": "KEjEF5l9Igv8"
      },
      "source": [
        "#Sem - 6 total\n"
      ]
    },
    {
      "cell_type": "code",
      "execution_count": null,
      "metadata": {
        "colab": {
          "base_uri": "https://localhost:8080/",
          "height": 314
        },
        "id": "9bNxnX-YIgv9",
        "outputId": "769b93c7-d5d7-4040-8b56-0da8bd0dcba7"
      },
      "outputs": [
        {
          "data": {
            "text/html": [
              "\n",
              "  <div id=\"df-55d14006-a711-4dbd-9cd6-468495dfa41e\">\n",
              "    <div class=\"colab-df-container\">\n",
              "      <div>\n",
              "<style scoped>\n",
              "    .dataframe tbody tr th:only-of-type {\n",
              "        vertical-align: middle;\n",
              "    }\n",
              "\n",
              "    .dataframe tbody tr th {\n",
              "        vertical-align: top;\n",
              "    }\n",
              "\n",
              "    .dataframe thead th {\n",
              "        text-align: right;\n",
              "    }\n",
              "</style>\n",
              "<table border=\"1\" class=\"dataframe\">\n",
              "  <thead>\n",
              "    <tr style=\"text-align: right;\">\n",
              "      <th></th>\n",
              "      <th>OSC(70443101) Theory Attempts</th>\n",
              "      <th>OSC(70443101) Practical Attempts</th>\n",
              "      <th>OSC(70443101) ESE (70) Final</th>\n",
              "      <th>OSC(70443101) ISE (30) Final</th>\n",
              "      <th>OSC(70443101) Theory Condol/ Grace Final</th>\n",
              "      <th>OSC(70443101) ICA (25) Final</th>\n",
              "      <th>OSC(70443101) POE (50) Final</th>\n",
              "      <th>OSC(70443101) Practical Condol/ Grace Final</th>\n",
              "      <th>OSC(70443101) Total (175) Final</th>\n",
              "      <th>OSC(70443101) Grade Final</th>\n",
              "      <th>...</th>\n",
              "      <th>SL-I Status Final</th>\n",
              "      <th>Sem V Fail in subjects (7)</th>\n",
              "      <th>Sem V Pass in subjects (7)</th>\n",
              "      <th>Sem V Total (850) Final</th>\n",
              "      <th>Sem V % Final</th>\n",
              "      <th>Sem V Condol/ Grace Final</th>\n",
              "      <th>Sem V EGP Final</th>\n",
              "      <th>Sem V SGPA (Credits = 27) Final</th>\n",
              "      <th>Sem V Status Final</th>\n",
              "      <th>Sem V Grade Final</th>\n",
              "    </tr>\n",
              "  </thead>\n",
              "  <tbody>\n",
              "    <tr>\n",
              "      <th>0</th>\n",
              "      <td>1</td>\n",
              "      <td>1</td>\n",
              "      <td>38</td>\n",
              "      <td>15</td>\n",
              "      <td>0</td>\n",
              "      <td>22</td>\n",
              "      <td>21</td>\n",
              "      <td>0</td>\n",
              "      <td>96</td>\n",
              "      <td>B</td>\n",
              "      <td>...</td>\n",
              "      <td>P</td>\n",
              "      <td>0</td>\n",
              "      <td>7</td>\n",
              "      <td>478</td>\n",
              "      <td>56.24</td>\n",
              "      <td>0</td>\n",
              "      <td>184</td>\n",
              "      <td>6.814815</td>\n",
              "      <td>Pass</td>\n",
              "      <td>B+</td>\n",
              "    </tr>\n",
              "    <tr>\n",
              "      <th>1</th>\n",
              "      <td>1</td>\n",
              "      <td>1</td>\n",
              "      <td>31</td>\n",
              "      <td>18</td>\n",
              "      <td>0</td>\n",
              "      <td>15</td>\n",
              "      <td>40</td>\n",
              "      <td>0</td>\n",
              "      <td>104</td>\n",
              "      <td>B+</td>\n",
              "      <td>...</td>\n",
              "      <td>P</td>\n",
              "      <td>0</td>\n",
              "      <td>7</td>\n",
              "      <td>499</td>\n",
              "      <td>58.71</td>\n",
              "      <td>0</td>\n",
              "      <td>191</td>\n",
              "      <td>7.074074</td>\n",
              "      <td>Pass</td>\n",
              "      <td>B+</td>\n",
              "    </tr>\n",
              "    <tr>\n",
              "      <th>2</th>\n",
              "      <td>1</td>\n",
              "      <td>1</td>\n",
              "      <td>50</td>\n",
              "      <td>18</td>\n",
              "      <td>0</td>\n",
              "      <td>16</td>\n",
              "      <td>44</td>\n",
              "      <td>0</td>\n",
              "      <td>128</td>\n",
              "      <td>A+</td>\n",
              "      <td>...</td>\n",
              "      <td>P</td>\n",
              "      <td>0</td>\n",
              "      <td>7</td>\n",
              "      <td>598</td>\n",
              "      <td>70.35</td>\n",
              "      <td>0</td>\n",
              "      <td>230</td>\n",
              "      <td>8.518519</td>\n",
              "      <td>Pass</td>\n",
              "      <td>A+</td>\n",
              "    </tr>\n",
              "    <tr>\n",
              "      <th>3</th>\n",
              "      <td>1</td>\n",
              "      <td>1</td>\n",
              "      <td>61</td>\n",
              "      <td>26</td>\n",
              "      <td>0</td>\n",
              "      <td>23</td>\n",
              "      <td>42</td>\n",
              "      <td>0</td>\n",
              "      <td>152</td>\n",
              "      <td>O</td>\n",
              "      <td>...</td>\n",
              "      <td>P</td>\n",
              "      <td>0</td>\n",
              "      <td>7</td>\n",
              "      <td>689</td>\n",
              "      <td>81.06</td>\n",
              "      <td>0</td>\n",
              "      <td>259</td>\n",
              "      <td>9.592593</td>\n",
              "      <td>Pass</td>\n",
              "      <td>O</td>\n",
              "    </tr>\n",
              "    <tr>\n",
              "      <th>4</th>\n",
              "      <td>1</td>\n",
              "      <td>1</td>\n",
              "      <td>54</td>\n",
              "      <td>26</td>\n",
              "      <td>0</td>\n",
              "      <td>24</td>\n",
              "      <td>45</td>\n",
              "      <td>0</td>\n",
              "      <td>149</td>\n",
              "      <td>O</td>\n",
              "      <td>...</td>\n",
              "      <td>P</td>\n",
              "      <td>0</td>\n",
              "      <td>7</td>\n",
              "      <td>695</td>\n",
              "      <td>81.76</td>\n",
              "      <td>0</td>\n",
              "      <td>257</td>\n",
              "      <td>9.518519</td>\n",
              "      <td>Pass</td>\n",
              "      <td>O</td>\n",
              "    </tr>\n",
              "  </tbody>\n",
              "</table>\n",
              "<p>5 rows × 82 columns</p>\n",
              "</div>\n",
              "      <button class=\"colab-df-convert\" onclick=\"convertToInteractive('df-55d14006-a711-4dbd-9cd6-468495dfa41e')\"\n",
              "              title=\"Convert this dataframe to an interactive table.\"\n",
              "              style=\"display:none;\">\n",
              "        \n",
              "  <svg xmlns=\"http://www.w3.org/2000/svg\" height=\"24px\"viewBox=\"0 0 24 24\"\n",
              "       width=\"24px\">\n",
              "    <path d=\"M0 0h24v24H0V0z\" fill=\"none\"/>\n",
              "    <path d=\"M18.56 5.44l.94 2.06.94-2.06 2.06-.94-2.06-.94-.94-2.06-.94 2.06-2.06.94zm-11 1L8.5 8.5l.94-2.06 2.06-.94-2.06-.94L8.5 2.5l-.94 2.06-2.06.94zm10 10l.94 2.06.94-2.06 2.06-.94-2.06-.94-.94-2.06-.94 2.06-2.06.94z\"/><path d=\"M17.41 7.96l-1.37-1.37c-.4-.4-.92-.59-1.43-.59-.52 0-1.04.2-1.43.59L10.3 9.45l-7.72 7.72c-.78.78-.78 2.05 0 2.83L4 21.41c.39.39.9.59 1.41.59.51 0 1.02-.2 1.41-.59l7.78-7.78 2.81-2.81c.8-.78.8-2.07 0-2.86zM5.41 20L4 18.59l7.72-7.72 1.47 1.35L5.41 20z\"/>\n",
              "  </svg>\n",
              "      </button>\n",
              "      \n",
              "  <style>\n",
              "    .colab-df-container {\n",
              "      display:flex;\n",
              "      flex-wrap:wrap;\n",
              "      gap: 12px;\n",
              "    }\n",
              "\n",
              "    .colab-df-convert {\n",
              "      background-color: #E8F0FE;\n",
              "      border: none;\n",
              "      border-radius: 50%;\n",
              "      cursor: pointer;\n",
              "      display: none;\n",
              "      fill: #1967D2;\n",
              "      height: 32px;\n",
              "      padding: 0 0 0 0;\n",
              "      width: 32px;\n",
              "    }\n",
              "\n",
              "    .colab-df-convert:hover {\n",
              "      background-color: #E2EBFA;\n",
              "      box-shadow: 0px 1px 2px rgba(60, 64, 67, 0.3), 0px 1px 3px 1px rgba(60, 64, 67, 0.15);\n",
              "      fill: #174EA6;\n",
              "    }\n",
              "\n",
              "    [theme=dark] .colab-df-convert {\n",
              "      background-color: #3B4455;\n",
              "      fill: #D2E3FC;\n",
              "    }\n",
              "\n",
              "    [theme=dark] .colab-df-convert:hover {\n",
              "      background-color: #434B5C;\n",
              "      box-shadow: 0px 1px 3px 1px rgba(0, 0, 0, 0.15);\n",
              "      filter: drop-shadow(0px 1px 2px rgba(0, 0, 0, 0.3));\n",
              "      fill: #FFFFFF;\n",
              "    }\n",
              "  </style>\n",
              "\n",
              "      <script>\n",
              "        const buttonEl =\n",
              "          document.querySelector('#df-55d14006-a711-4dbd-9cd6-468495dfa41e button.colab-df-convert');\n",
              "        buttonEl.style.display =\n",
              "          google.colab.kernel.accessAllowed ? 'block' : 'none';\n",
              "\n",
              "        async function convertToInteractive(key) {\n",
              "          const element = document.querySelector('#df-55d14006-a711-4dbd-9cd6-468495dfa41e');\n",
              "          const dataTable =\n",
              "            await google.colab.kernel.invokeFunction('convertToInteractive',\n",
              "                                                     [key], {});\n",
              "          if (!dataTable) return;\n",
              "\n",
              "          const docLinkHtml = 'Like what you see? Visit the ' +\n",
              "            '<a target=\"_blank\" href=https://colab.research.google.com/notebooks/data_table.ipynb>data table notebook</a>'\n",
              "            + ' to learn more about interactive tables.';\n",
              "          element.innerHTML = '';\n",
              "          dataTable['output_type'] = 'display_data';\n",
              "          await google.colab.output.renderOutput(dataTable, element);\n",
              "          const docLink = document.createElement('div');\n",
              "          docLink.innerHTML = docLinkHtml;\n",
              "          element.appendChild(docLink);\n",
              "        }\n",
              "      </script>\n",
              "    </div>\n",
              "  </div>\n",
              "  "
            ],
            "text/plain": [
              "   OSC(70443101) Theory Attempts  OSC(70443101) Practical Attempts  \\\n",
              "0                              1                                 1   \n",
              "1                              1                                 1   \n",
              "2                              1                                 1   \n",
              "3                              1                                 1   \n",
              "4                              1                                 1   \n",
              "\n",
              "   OSC(70443101) ESE (70) Final  OSC(70443101) ISE (30) Final  \\\n",
              "0                            38                            15   \n",
              "1                            31                            18   \n",
              "2                            50                            18   \n",
              "3                            61                            26   \n",
              "4                            54                            26   \n",
              "\n",
              "   OSC(70443101) Theory Condol/ Grace Final  OSC(70443101) ICA (25) Final  \\\n",
              "0                                         0                            22   \n",
              "1                                         0                            15   \n",
              "2                                         0                            16   \n",
              "3                                         0                            23   \n",
              "4                                         0                            24   \n",
              "\n",
              "   OSC(70443101) POE (50) Final  OSC(70443101) Practical Condol/ Grace Final  \\\n",
              "0                            21                                            0   \n",
              "1                            40                                            0   \n",
              "2                            44                                            0   \n",
              "3                            42                                            0   \n",
              "4                            45                                            0   \n",
              "\n",
              "   OSC(70443101) Total (175) Final OSC(70443101) Grade Final  ...  \\\n",
              "0                               96                         B  ...   \n",
              "1                              104                        B+  ...   \n",
              "2                              128                        A+  ...   \n",
              "3                              152                         O  ...   \n",
              "4                              149                         O  ...   \n",
              "\n",
              "   SL-I Status Final  Sem V Fail in subjects (7) Sem V Pass in subjects (7)  \\\n",
              "0                  P                           0                          7   \n",
              "1                  P                           0                          7   \n",
              "2                  P                           0                          7   \n",
              "3                  P                           0                          7   \n",
              "4                  P                           0                          7   \n",
              "\n",
              "   Sem V Total (850) Final  Sem V % Final  Sem V Condol/ Grace Final  \\\n",
              "0                      478          56.24                          0   \n",
              "1                      499          58.71                          0   \n",
              "2                      598          70.35                          0   \n",
              "3                      689          81.06                          0   \n",
              "4                      695          81.76                          0   \n",
              "\n",
              "   Sem V EGP Final   Sem V SGPA (Credits = 27) Final   Sem V Status Final   \\\n",
              "0               184                          6.814815                 Pass   \n",
              "1               191                          7.074074                 Pass   \n",
              "2               230                          8.518519                 Pass   \n",
              "3               259                          9.592593                 Pass   \n",
              "4               257                          9.518519                 Pass   \n",
              "\n",
              "   Sem V Grade Final  \n",
              "0                 B+  \n",
              "1                 B+  \n",
              "2                 A+  \n",
              "3                  O  \n",
              "4                  O  \n",
              "\n",
              "[5 rows x 82 columns]"
            ]
          },
          "execution_count": 10,
          "metadata": {},
          "output_type": "execute_result"
        }
      ],
      "source": [
        "sem_6.head()"
      ]
    },
    {
      "cell_type": "code",
      "execution_count": null,
      "metadata": {
        "colab": {
          "base_uri": "https://localhost:8080/"
        },
        "id": "bj1x3zOlIgv9",
        "outputId": "aa257f56-a6b0-426f-b127-ab12565da9da"
      },
      "outputs": [
        {
          "data": {
            "text/plain": [
              "(200, 82)"
            ]
          },
          "execution_count": 11,
          "metadata": {},
          "output_type": "execute_result"
        }
      ],
      "source": [
        "sem_6.shape"
      ]
    },
    {
      "cell_type": "code",
      "execution_count": null,
      "metadata": {
        "id": "7IOwvm7DIgv9"
      },
      "outputs": [],
      "source": [
        "target = 'Sem VI Grade Final'"
      ]
    },
    {
      "cell_type": "code",
      "execution_count": null,
      "metadata": {
        "colab": {
          "base_uri": "https://localhost:8080/"
        },
        "id": "ajdYrqSVIgv-",
        "outputId": "f4059d8c-3908-4def-c1d4-eebbf41766cc"
      },
      "outputs": [
        {
          "name": "stdout",
          "output_type": "stream",
          "text": [
            "['OSC(70443101) Grade Final', 'OSC(70443101) Status Final', 'CN(70443102) Grade Final', 'CN(70443102) Status Final', 'SP(70443103) Grade Final', 'SP(70443103) Status Final', 'DAA(70443104) Grade Final', 'DAA(70443104) Status Final', 'CO(70443105) Grade Final', 'CO(70443105) Status Final', 'JP(70443106) Grade Final', 'JP(70443106) Status Final', 'SL-I Grade Final', 'SL-I Status Final', 'Sem V Status Final ']\n",
            "Shape of training split:  (160, 119)\n",
            "Shape of test split:  (40, 119)\n"
          ]
        }
      ],
      "source": [
        "X_train, X_test, y_train, y_test = preprocess(sem_6,target)"
      ]
    },
    {
      "cell_type": "markdown",
      "metadata": {
        "id": "gAgqqeJJIgv-"
      },
      "source": [
        "#Logistic Regression"
      ]
    },
    {
      "cell_type": "code",
      "execution_count": null,
      "metadata": {
        "colab": {
          "base_uri": "https://localhost:8080/"
        },
        "id": "NEzDpXEAIgv-",
        "outputId": "9c3bc41c-36b9-4121-e502-e1f68140a37d"
      },
      "outputs": [
        {
          "name": "stdout",
          "output_type": "stream",
          "text": [
            "Accuracy: 0.7\n",
            "Confusion Matrix:\n",
            " [[ 6  6  0  1]\n",
            " [ 0 18  0  1]\n",
            " [ 1  1  0  0]\n",
            " [ 0  2  0  4]]\n",
            "Classification Report:\n",
            "               precision    recall  f1-score   support\n",
            "\n",
            "           0       0.86      0.46      0.60        13\n",
            "           1       0.67      0.95      0.78        19\n",
            "           3       0.00      0.00      0.00         2\n",
            "           4       0.67      0.67      0.67         6\n",
            "\n",
            "    accuracy                           0.70        40\n",
            "   macro avg       0.55      0.52      0.51        40\n",
            "weighted avg       0.70      0.70      0.67        40\n",
            "\n"
          ]
        }
      ],
      "source": [
        "model.LR(X_train,y_train,y_test,X_test)"
      ]
    },
    {
      "cell_type": "markdown",
      "metadata": {
        "id": "7vs7XuM5Igv-"
      },
      "source": [
        "Tuning and fitting"
      ]
    },
    {
      "cell_type": "code",
      "execution_count": null,
      "metadata": {
        "colab": {
          "base_uri": "https://localhost:8080/",
          "height": 452
        },
        "id": "y8orardPIgv-",
        "outputId": "11330c37-901a-4a7f-9933-bd86b1edee89"
      },
      "outputs": [
        {
          "name": "stdout",
          "output_type": "stream",
          "text": [
            "Accuracy: 0.7\n",
            "#######################################################################\n",
            "Confusion Matrix:\n",
            " [[ 6  6  0  1]\n",
            " [ 0 18  0  1]\n",
            " [ 1  1  0  0]\n",
            " [ 0  2  0  4]]\n",
            "#######################################################################\n",
            "Classification Report:\n",
            "               precision    recall  f1-score   support\n",
            "\n",
            "           0       0.86      0.46      0.60        13\n",
            "           1       0.67      0.95      0.78        19\n",
            "           3       0.00      0.00      0.00         2\n",
            "           4       0.67      0.67      0.67         6\n",
            "\n",
            "    accuracy                           0.70        40\n",
            "   macro avg       0.55      0.52      0.51        40\n",
            "weighted avg       0.70      0.70      0.67        40\n",
            "\n"
          ]
        },
        {
          "data": {
            "text/html": [
              "<style>#sk-container-id-1 {color: black;background-color: white;}#sk-container-id-1 pre{padding: 0;}#sk-container-id-1 div.sk-toggleable {background-color: white;}#sk-container-id-1 label.sk-toggleable__label {cursor: pointer;display: block;width: 100%;margin-bottom: 0;padding: 0.3em;box-sizing: border-box;text-align: center;}#sk-container-id-1 label.sk-toggleable__label-arrow:before {content: \"▸\";float: left;margin-right: 0.25em;color: #696969;}#sk-container-id-1 label.sk-toggleable__label-arrow:hover:before {color: black;}#sk-container-id-1 div.sk-estimator:hover label.sk-toggleable__label-arrow:before {color: black;}#sk-container-id-1 div.sk-toggleable__content {max-height: 0;max-width: 0;overflow: hidden;text-align: left;background-color: #f0f8ff;}#sk-container-id-1 div.sk-toggleable__content pre {margin: 0.2em;color: black;border-radius: 0.25em;background-color: #f0f8ff;}#sk-container-id-1 input.sk-toggleable__control:checked~div.sk-toggleable__content {max-height: 200px;max-width: 100%;overflow: auto;}#sk-container-id-1 input.sk-toggleable__control:checked~label.sk-toggleable__label-arrow:before {content: \"▾\";}#sk-container-id-1 div.sk-estimator input.sk-toggleable__control:checked~label.sk-toggleable__label {background-color: #d4ebff;}#sk-container-id-1 div.sk-label input.sk-toggleable__control:checked~label.sk-toggleable__label {background-color: #d4ebff;}#sk-container-id-1 input.sk-hidden--visually {border: 0;clip: rect(1px 1px 1px 1px);clip: rect(1px, 1px, 1px, 1px);height: 1px;margin: -1px;overflow: hidden;padding: 0;position: absolute;width: 1px;}#sk-container-id-1 div.sk-estimator {font-family: monospace;background-color: #f0f8ff;border: 1px dotted black;border-radius: 0.25em;box-sizing: border-box;margin-bottom: 0.5em;}#sk-container-id-1 div.sk-estimator:hover {background-color: #d4ebff;}#sk-container-id-1 div.sk-parallel-item::after {content: \"\";width: 100%;border-bottom: 1px solid gray;flex-grow: 1;}#sk-container-id-1 div.sk-label:hover label.sk-toggleable__label {background-color: #d4ebff;}#sk-container-id-1 div.sk-serial::before {content: \"\";position: absolute;border-left: 1px solid gray;box-sizing: border-box;top: 0;bottom: 0;left: 50%;z-index: 0;}#sk-container-id-1 div.sk-serial {display: flex;flex-direction: column;align-items: center;background-color: white;padding-right: 0.2em;padding-left: 0.2em;position: relative;}#sk-container-id-1 div.sk-item {position: relative;z-index: 1;}#sk-container-id-1 div.sk-parallel {display: flex;align-items: stretch;justify-content: center;background-color: white;position: relative;}#sk-container-id-1 div.sk-item::before, #sk-container-id-1 div.sk-parallel-item::before {content: \"\";position: absolute;border-left: 1px solid gray;box-sizing: border-box;top: 0;bottom: 0;left: 50%;z-index: -1;}#sk-container-id-1 div.sk-parallel-item {display: flex;flex-direction: column;z-index: 1;position: relative;background-color: white;}#sk-container-id-1 div.sk-parallel-item:first-child::after {align-self: flex-end;width: 50%;}#sk-container-id-1 div.sk-parallel-item:last-child::after {align-self: flex-start;width: 50%;}#sk-container-id-1 div.sk-parallel-item:only-child::after {width: 0;}#sk-container-id-1 div.sk-dashed-wrapped {border: 1px dashed gray;margin: 0 0.4em 0.5em 0.4em;box-sizing: border-box;padding-bottom: 0.4em;background-color: white;}#sk-container-id-1 div.sk-label label {font-family: monospace;font-weight: bold;display: inline-block;line-height: 1.2em;}#sk-container-id-1 div.sk-label-container {text-align: center;}#sk-container-id-1 div.sk-container {/* jupyter's `normalize.less` sets `[hidden] { display: none; }` but bootstrap.min.css set `[hidden] { display: none !important; }` so we also need the `!important` here to be able to override the default hidden behavior on the sphinx rendered scikit-learn.org. See: https://github.com/scikit-learn/scikit-learn/issues/21755 */display: inline-block !important;position: relative;}#sk-container-id-1 div.sk-text-repr-fallback {display: none;}</style><div id=\"sk-container-id-1\" class=\"sk-top-container\"><div class=\"sk-text-repr-fallback\"><pre>LogisticRegression(random_state=0)</pre><b>In a Jupyter environment, please rerun this cell to show the HTML representation or trust the notebook. <br />On GitHub, the HTML representation is unable to render, please try loading this page with nbviewer.org.</b></div><div class=\"sk-container\" hidden><div class=\"sk-item\"><div class=\"sk-estimator sk-toggleable\"><input class=\"sk-toggleable__control sk-hidden--visually\" id=\"sk-estimator-id-1\" type=\"checkbox\" checked><label for=\"sk-estimator-id-1\" class=\"sk-toggleable__label sk-toggleable__label-arrow\">LogisticRegression</label><div class=\"sk-toggleable__content\"><pre>LogisticRegression(random_state=0)</pre></div></div></div></div></div>"
            ],
            "text/plain": [
              "LogisticRegression(random_state=0)"
            ]
          },
          "execution_count": 31,
          "metadata": {},
          "output_type": "execute_result"
        }
      ],
      "source": [
        "modelt.LR_t(X_train,y_train,y_test,X_test)"
      ]
    },
    {
      "cell_type": "markdown",
      "metadata": {
        "id": "6SZlzb4bIgv-"
      },
      "source": [
        "#Gaussian Naive Bayes"
      ]
    },
    {
      "cell_type": "code",
      "execution_count": null,
      "metadata": {
        "colab": {
          "base_uri": "https://localhost:8080/",
          "height": 415
        },
        "id": "7RfoLRkjIgv-",
        "outputId": "329357ba-3610-4315-a441-5b364dc00ec0"
      },
      "outputs": [
        {
          "name": "stdout",
          "output_type": "stream",
          "text": [
            "Accuracy: 0.775\n",
            "Confusion Matrix:\n",
            " [[ 6  5  2  0]\n",
            " [ 0 17  0  2]\n",
            " [ 0  0  2  0]\n",
            " [ 0  0  0  6]]\n",
            "Classification Report:\n",
            "               precision    recall  f1-score   support\n",
            "\n",
            "           0       1.00      0.46      0.63        13\n",
            "           1       0.77      0.89      0.83        19\n",
            "           3       0.50      1.00      0.67         2\n",
            "           4       0.75      1.00      0.86         6\n",
            "\n",
            "    accuracy                           0.78        40\n",
            "   macro avg       0.76      0.84      0.75        40\n",
            "weighted avg       0.83      0.78      0.76        40\n",
            "\n"
          ]
        },
        {
          "data": {
            "text/html": [
              "<style>#sk-container-id-2 {color: black;background-color: white;}#sk-container-id-2 pre{padding: 0;}#sk-container-id-2 div.sk-toggleable {background-color: white;}#sk-container-id-2 label.sk-toggleable__label {cursor: pointer;display: block;width: 100%;margin-bottom: 0;padding: 0.3em;box-sizing: border-box;text-align: center;}#sk-container-id-2 label.sk-toggleable__label-arrow:before {content: \"▸\";float: left;margin-right: 0.25em;color: #696969;}#sk-container-id-2 label.sk-toggleable__label-arrow:hover:before {color: black;}#sk-container-id-2 div.sk-estimator:hover label.sk-toggleable__label-arrow:before {color: black;}#sk-container-id-2 div.sk-toggleable__content {max-height: 0;max-width: 0;overflow: hidden;text-align: left;background-color: #f0f8ff;}#sk-container-id-2 div.sk-toggleable__content pre {margin: 0.2em;color: black;border-radius: 0.25em;background-color: #f0f8ff;}#sk-container-id-2 input.sk-toggleable__control:checked~div.sk-toggleable__content {max-height: 200px;max-width: 100%;overflow: auto;}#sk-container-id-2 input.sk-toggleable__control:checked~label.sk-toggleable__label-arrow:before {content: \"▾\";}#sk-container-id-2 div.sk-estimator input.sk-toggleable__control:checked~label.sk-toggleable__label {background-color: #d4ebff;}#sk-container-id-2 div.sk-label input.sk-toggleable__control:checked~label.sk-toggleable__label {background-color: #d4ebff;}#sk-container-id-2 input.sk-hidden--visually {border: 0;clip: rect(1px 1px 1px 1px);clip: rect(1px, 1px, 1px, 1px);height: 1px;margin: -1px;overflow: hidden;padding: 0;position: absolute;width: 1px;}#sk-container-id-2 div.sk-estimator {font-family: monospace;background-color: #f0f8ff;border: 1px dotted black;border-radius: 0.25em;box-sizing: border-box;margin-bottom: 0.5em;}#sk-container-id-2 div.sk-estimator:hover {background-color: #d4ebff;}#sk-container-id-2 div.sk-parallel-item::after {content: \"\";width: 100%;border-bottom: 1px solid gray;flex-grow: 1;}#sk-container-id-2 div.sk-label:hover label.sk-toggleable__label {background-color: #d4ebff;}#sk-container-id-2 div.sk-serial::before {content: \"\";position: absolute;border-left: 1px solid gray;box-sizing: border-box;top: 0;bottom: 0;left: 50%;z-index: 0;}#sk-container-id-2 div.sk-serial {display: flex;flex-direction: column;align-items: center;background-color: white;padding-right: 0.2em;padding-left: 0.2em;position: relative;}#sk-container-id-2 div.sk-item {position: relative;z-index: 1;}#sk-container-id-2 div.sk-parallel {display: flex;align-items: stretch;justify-content: center;background-color: white;position: relative;}#sk-container-id-2 div.sk-item::before, #sk-container-id-2 div.sk-parallel-item::before {content: \"\";position: absolute;border-left: 1px solid gray;box-sizing: border-box;top: 0;bottom: 0;left: 50%;z-index: -1;}#sk-container-id-2 div.sk-parallel-item {display: flex;flex-direction: column;z-index: 1;position: relative;background-color: white;}#sk-container-id-2 div.sk-parallel-item:first-child::after {align-self: flex-end;width: 50%;}#sk-container-id-2 div.sk-parallel-item:last-child::after {align-self: flex-start;width: 50%;}#sk-container-id-2 div.sk-parallel-item:only-child::after {width: 0;}#sk-container-id-2 div.sk-dashed-wrapped {border: 1px dashed gray;margin: 0 0.4em 0.5em 0.4em;box-sizing: border-box;padding-bottom: 0.4em;background-color: white;}#sk-container-id-2 div.sk-label label {font-family: monospace;font-weight: bold;display: inline-block;line-height: 1.2em;}#sk-container-id-2 div.sk-label-container {text-align: center;}#sk-container-id-2 div.sk-container {/* jupyter's `normalize.less` sets `[hidden] { display: none; }` but bootstrap.min.css set `[hidden] { display: none !important; }` so we also need the `!important` here to be able to override the default hidden behavior on the sphinx rendered scikit-learn.org. See: https://github.com/scikit-learn/scikit-learn/issues/21755 */display: inline-block !important;position: relative;}#sk-container-id-2 div.sk-text-repr-fallback {display: none;}</style><div id=\"sk-container-id-2\" class=\"sk-top-container\"><div class=\"sk-text-repr-fallback\"><pre>GaussianNB()</pre><b>In a Jupyter environment, please rerun this cell to show the HTML representation or trust the notebook. <br />On GitHub, the HTML representation is unable to render, please try loading this page with nbviewer.org.</b></div><div class=\"sk-container\" hidden><div class=\"sk-item\"><div class=\"sk-estimator sk-toggleable\"><input class=\"sk-toggleable__control sk-hidden--visually\" id=\"sk-estimator-id-2\" type=\"checkbox\" checked><label for=\"sk-estimator-id-2\" class=\"sk-toggleable__label sk-toggleable__label-arrow\">GaussianNB</label><div class=\"sk-toggleable__content\"><pre>GaussianNB()</pre></div></div></div></div></div>"
            ],
            "text/plain": [
              "GaussianNB()"
            ]
          },
          "execution_count": 32,
          "metadata": {},
          "output_type": "execute_result"
        }
      ],
      "source": [
        "model.GNB(X_train,y_train,y_test,X_test)"
      ]
    },
    {
      "cell_type": "markdown",
      "metadata": {
        "id": "FkUcS0VGIgv_"
      },
      "source": [
        "Tuning and fitting"
      ]
    },
    {
      "cell_type": "code",
      "execution_count": null,
      "metadata": {
        "colab": {
          "base_uri": "https://localhost:8080/",
          "height": 459
        },
        "id": "INoY56stIgv_",
        "outputId": "adae49f7-4caf-4a40-ee0a-01bece8ff2f0"
      },
      "outputs": [
        {
          "name": "stdout",
          "output_type": "stream",
          "text": [
            "Accuracy: 0.875\n",
            "Confusion Matrix:\n",
            " [[11  1  1  0]\n",
            " [ 0 16  0  3]\n",
            " [ 0  0  2  0]\n",
            " [ 0  0  0  6]]\n",
            "Classification Report:\n",
            "               precision    recall  f1-score   support\n",
            "\n",
            "           0       1.00      0.85      0.92        13\n",
            "           1       0.94      0.84      0.89        19\n",
            "           3       0.67      1.00      0.80         2\n",
            "           4       0.67      1.00      0.80         6\n",
            "\n",
            "    accuracy                           0.88        40\n",
            "   macro avg       0.82      0.92      0.85        40\n",
            "weighted avg       0.91      0.88      0.88        40\n",
            "\n"
          ]
        },
        {
          "data": {
            "text/html": [
              "<style>#sk-container-id-3 {color: black;background-color: white;}#sk-container-id-3 pre{padding: 0;}#sk-container-id-3 div.sk-toggleable {background-color: white;}#sk-container-id-3 label.sk-toggleable__label {cursor: pointer;display: block;width: 100%;margin-bottom: 0;padding: 0.3em;box-sizing: border-box;text-align: center;}#sk-container-id-3 label.sk-toggleable__label-arrow:before {content: \"▸\";float: left;margin-right: 0.25em;color: #696969;}#sk-container-id-3 label.sk-toggleable__label-arrow:hover:before {color: black;}#sk-container-id-3 div.sk-estimator:hover label.sk-toggleable__label-arrow:before {color: black;}#sk-container-id-3 div.sk-toggleable__content {max-height: 0;max-width: 0;overflow: hidden;text-align: left;background-color: #f0f8ff;}#sk-container-id-3 div.sk-toggleable__content pre {margin: 0.2em;color: black;border-radius: 0.25em;background-color: #f0f8ff;}#sk-container-id-3 input.sk-toggleable__control:checked~div.sk-toggleable__content {max-height: 200px;max-width: 100%;overflow: auto;}#sk-container-id-3 input.sk-toggleable__control:checked~label.sk-toggleable__label-arrow:before {content: \"▾\";}#sk-container-id-3 div.sk-estimator input.sk-toggleable__control:checked~label.sk-toggleable__label {background-color: #d4ebff;}#sk-container-id-3 div.sk-label input.sk-toggleable__control:checked~label.sk-toggleable__label {background-color: #d4ebff;}#sk-container-id-3 input.sk-hidden--visually {border: 0;clip: rect(1px 1px 1px 1px);clip: rect(1px, 1px, 1px, 1px);height: 1px;margin: -1px;overflow: hidden;padding: 0;position: absolute;width: 1px;}#sk-container-id-3 div.sk-estimator {font-family: monospace;background-color: #f0f8ff;border: 1px dotted black;border-radius: 0.25em;box-sizing: border-box;margin-bottom: 0.5em;}#sk-container-id-3 div.sk-estimator:hover {background-color: #d4ebff;}#sk-container-id-3 div.sk-parallel-item::after {content: \"\";width: 100%;border-bottom: 1px solid gray;flex-grow: 1;}#sk-container-id-3 div.sk-label:hover label.sk-toggleable__label {background-color: #d4ebff;}#sk-container-id-3 div.sk-serial::before {content: \"\";position: absolute;border-left: 1px solid gray;box-sizing: border-box;top: 0;bottom: 0;left: 50%;z-index: 0;}#sk-container-id-3 div.sk-serial {display: flex;flex-direction: column;align-items: center;background-color: white;padding-right: 0.2em;padding-left: 0.2em;position: relative;}#sk-container-id-3 div.sk-item {position: relative;z-index: 1;}#sk-container-id-3 div.sk-parallel {display: flex;align-items: stretch;justify-content: center;background-color: white;position: relative;}#sk-container-id-3 div.sk-item::before, #sk-container-id-3 div.sk-parallel-item::before {content: \"\";position: absolute;border-left: 1px solid gray;box-sizing: border-box;top: 0;bottom: 0;left: 50%;z-index: -1;}#sk-container-id-3 div.sk-parallel-item {display: flex;flex-direction: column;z-index: 1;position: relative;background-color: white;}#sk-container-id-3 div.sk-parallel-item:first-child::after {align-self: flex-end;width: 50%;}#sk-container-id-3 div.sk-parallel-item:last-child::after {align-self: flex-start;width: 50%;}#sk-container-id-3 div.sk-parallel-item:only-child::after {width: 0;}#sk-container-id-3 div.sk-dashed-wrapped {border: 1px dashed gray;margin: 0 0.4em 0.5em 0.4em;box-sizing: border-box;padding-bottom: 0.4em;background-color: white;}#sk-container-id-3 div.sk-label label {font-family: monospace;font-weight: bold;display: inline-block;line-height: 1.2em;}#sk-container-id-3 div.sk-label-container {text-align: center;}#sk-container-id-3 div.sk-container {/* jupyter's `normalize.less` sets `[hidden] { display: none; }` but bootstrap.min.css set `[hidden] { display: none !important; }` so we also need the `!important` here to be able to override the default hidden behavior on the sphinx rendered scikit-learn.org. See: https://github.com/scikit-learn/scikit-learn/issues/21755 */display: inline-block !important;position: relative;}#sk-container-id-3 div.sk-text-repr-fallback {display: none;}</style><div id=\"sk-container-id-3\" class=\"sk-top-container\"><div class=\"sk-text-repr-fallback\"><pre>GridSearchCV(cv=10, estimator=GaussianNB(),\n",
              "             param_grid={&#x27;var_smoothing&#x27;: array([1.00000000e+00, 8.11130831e-01, 6.57933225e-01, 5.33669923e-01,\n",
              "       4.32876128e-01, 3.51119173e-01, 2.84803587e-01, 2.31012970e-01,\n",
              "       1.87381742e-01, 1.51991108e-01, 1.23284674e-01, 1.00000000e-01,\n",
              "       8.11130831e-02, 6.57933225e-02, 5.33669923e-02, 4.32876128e-02,\n",
              "       3.51119173e-02, 2.84803587e-02, 2.3...\n",
              "       1.23284674e-07, 1.00000000e-07, 8.11130831e-08, 6.57933225e-08,\n",
              "       5.33669923e-08, 4.32876128e-08, 3.51119173e-08, 2.84803587e-08,\n",
              "       2.31012970e-08, 1.87381742e-08, 1.51991108e-08, 1.23284674e-08,\n",
              "       1.00000000e-08, 8.11130831e-09, 6.57933225e-09, 5.33669923e-09,\n",
              "       4.32876128e-09, 3.51119173e-09, 2.84803587e-09, 2.31012970e-09,\n",
              "       1.87381742e-09, 1.51991108e-09, 1.23284674e-09, 1.00000000e-09])},\n",
              "             scoring=&#x27;accuracy&#x27;)</pre><b>In a Jupyter environment, please rerun this cell to show the HTML representation or trust the notebook. <br />On GitHub, the HTML representation is unable to render, please try loading this page with nbviewer.org.</b></div><div class=\"sk-container\" hidden><div class=\"sk-item sk-dashed-wrapped\"><div class=\"sk-label-container\"><div class=\"sk-label sk-toggleable\"><input class=\"sk-toggleable__control sk-hidden--visually\" id=\"sk-estimator-id-3\" type=\"checkbox\" ><label for=\"sk-estimator-id-3\" class=\"sk-toggleable__label sk-toggleable__label-arrow\">GridSearchCV</label><div class=\"sk-toggleable__content\"><pre>GridSearchCV(cv=10, estimator=GaussianNB(),\n",
              "             param_grid={&#x27;var_smoothing&#x27;: array([1.00000000e+00, 8.11130831e-01, 6.57933225e-01, 5.33669923e-01,\n",
              "       4.32876128e-01, 3.51119173e-01, 2.84803587e-01, 2.31012970e-01,\n",
              "       1.87381742e-01, 1.51991108e-01, 1.23284674e-01, 1.00000000e-01,\n",
              "       8.11130831e-02, 6.57933225e-02, 5.33669923e-02, 4.32876128e-02,\n",
              "       3.51119173e-02, 2.84803587e-02, 2.3...\n",
              "       1.23284674e-07, 1.00000000e-07, 8.11130831e-08, 6.57933225e-08,\n",
              "       5.33669923e-08, 4.32876128e-08, 3.51119173e-08, 2.84803587e-08,\n",
              "       2.31012970e-08, 1.87381742e-08, 1.51991108e-08, 1.23284674e-08,\n",
              "       1.00000000e-08, 8.11130831e-09, 6.57933225e-09, 5.33669923e-09,\n",
              "       4.32876128e-09, 3.51119173e-09, 2.84803587e-09, 2.31012970e-09,\n",
              "       1.87381742e-09, 1.51991108e-09, 1.23284674e-09, 1.00000000e-09])},\n",
              "             scoring=&#x27;accuracy&#x27;)</pre></div></div></div><div class=\"sk-parallel\"><div class=\"sk-parallel-item\"><div class=\"sk-item\"><div class=\"sk-label-container\"><div class=\"sk-label sk-toggleable\"><input class=\"sk-toggleable__control sk-hidden--visually\" id=\"sk-estimator-id-4\" type=\"checkbox\" ><label for=\"sk-estimator-id-4\" class=\"sk-toggleable__label sk-toggleable__label-arrow\">estimator: GaussianNB</label><div class=\"sk-toggleable__content\"><pre>GaussianNB()</pre></div></div></div><div class=\"sk-serial\"><div class=\"sk-item\"><div class=\"sk-estimator sk-toggleable\"><input class=\"sk-toggleable__control sk-hidden--visually\" id=\"sk-estimator-id-5\" type=\"checkbox\" ><label for=\"sk-estimator-id-5\" class=\"sk-toggleable__label sk-toggleable__label-arrow\">GaussianNB</label><div class=\"sk-toggleable__content\"><pre>GaussianNB()</pre></div></div></div></div></div></div></div></div></div></div>"
            ],
            "text/plain": [
              "GridSearchCV(cv=10, estimator=GaussianNB(),\n",
              "             param_grid={'var_smoothing': array([1.00000000e+00, 8.11130831e-01, 6.57933225e-01, 5.33669923e-01,\n",
              "       4.32876128e-01, 3.51119173e-01, 2.84803587e-01, 2.31012970e-01,\n",
              "       1.87381742e-01, 1.51991108e-01, 1.23284674e-01, 1.00000000e-01,\n",
              "       8.11130831e-02, 6.57933225e-02, 5.33669923e-02, 4.32876128e-02,\n",
              "       3.51119173e-02, 2.84803587e-02, 2.3...\n",
              "       1.23284674e-07, 1.00000000e-07, 8.11130831e-08, 6.57933225e-08,\n",
              "       5.33669923e-08, 4.32876128e-08, 3.51119173e-08, 2.84803587e-08,\n",
              "       2.31012970e-08, 1.87381742e-08, 1.51991108e-08, 1.23284674e-08,\n",
              "       1.00000000e-08, 8.11130831e-09, 6.57933225e-09, 5.33669923e-09,\n",
              "       4.32876128e-09, 3.51119173e-09, 2.84803587e-09, 2.31012970e-09,\n",
              "       1.87381742e-09, 1.51991108e-09, 1.23284674e-09, 1.00000000e-09])},\n",
              "             scoring='accuracy')"
            ]
          },
          "execution_count": 37,
          "metadata": {},
          "output_type": "execute_result"
        }
      ],
      "source": [
        "modelt.GNB_t(X_train,y_train,y_test,X_test)"
      ]
    },
    {
      "cell_type": "markdown",
      "metadata": {
        "id": "wQt14SR6Igv_"
      },
      "source": [
        "#Decision Tree"
      ]
    },
    {
      "cell_type": "code",
      "execution_count": null,
      "metadata": {
        "colab": {
          "base_uri": "https://localhost:8080/"
        },
        "id": "KxHs7sl5Igv_",
        "outputId": "b873d9e3-265c-4779-d01f-6381ffe5b9e0"
      },
      "outputs": [
        {
          "name": "stdout",
          "output_type": "stream",
          "text": [
            "Accuracy: 1.0\n",
            "Confusion Matrix:\n",
            " [[13  0  0  0]\n",
            " [ 0 19  0  0]\n",
            " [ 0  0  2  0]\n",
            " [ 0  0  0  6]]\n",
            "Classification Report:\n",
            "               precision    recall  f1-score   support\n",
            "\n",
            "           0       1.00      1.00      1.00        13\n",
            "           1       1.00      1.00      1.00        19\n",
            "           3       1.00      1.00      1.00         2\n",
            "           4       1.00      1.00      1.00         6\n",
            "\n",
            "    accuracy                           1.00        40\n",
            "   macro avg       1.00      1.00      1.00        40\n",
            "weighted avg       1.00      1.00      1.00        40\n",
            "\n"
          ]
        }
      ],
      "source": [
        "model.DT(X_train,y_train,y_test,X_test)"
      ]
    },
    {
      "cell_type": "markdown",
      "metadata": {
        "id": "aTcyiZSyIgv_"
      },
      "source": [
        "tuning and fitting"
      ]
    },
    {
      "cell_type": "code",
      "execution_count": null,
      "metadata": {
        "colab": {
          "base_uri": "https://localhost:8080/",
          "height": 497
        },
        "id": "vKAp9wcIIgv_",
        "outputId": "9d6963c9-68ae-4396-ba2a-47ee7e462a2a"
      },
      "outputs": [
        {
          "name": "stdout",
          "output_type": "stream",
          "text": [
            "Best Parameters: {'max_depth': 3, 'min_samples_leaf': 1, 'min_samples_split': 2}\n",
            "Best Score: 0.9875\n",
            "Accuracy: 1.0\n",
            "Confusion Matrix:\n",
            " [[13  0  0  0]\n",
            " [ 0 19  0  0]\n",
            " [ 0  0  2  0]\n",
            " [ 0  0  0  6]]\n",
            "Classification Report:\n",
            "               precision    recall  f1-score   support\n",
            "\n",
            "           0       1.00      1.00      1.00        13\n",
            "           1       1.00      1.00      1.00        19\n",
            "           3       1.00      1.00      1.00         2\n",
            "           4       1.00      1.00      1.00         6\n",
            "\n",
            "    accuracy                           1.00        40\n",
            "   macro avg       1.00      1.00      1.00        40\n",
            "weighted avg       1.00      1.00      1.00        40\n",
            "\n"
          ]
        },
        {
          "data": {
            "text/html": [
              "<style>#sk-container-id-4 {color: black;background-color: white;}#sk-container-id-4 pre{padding: 0;}#sk-container-id-4 div.sk-toggleable {background-color: white;}#sk-container-id-4 label.sk-toggleable__label {cursor: pointer;display: block;width: 100%;margin-bottom: 0;padding: 0.3em;box-sizing: border-box;text-align: center;}#sk-container-id-4 label.sk-toggleable__label-arrow:before {content: \"▸\";float: left;margin-right: 0.25em;color: #696969;}#sk-container-id-4 label.sk-toggleable__label-arrow:hover:before {color: black;}#sk-container-id-4 div.sk-estimator:hover label.sk-toggleable__label-arrow:before {color: black;}#sk-container-id-4 div.sk-toggleable__content {max-height: 0;max-width: 0;overflow: hidden;text-align: left;background-color: #f0f8ff;}#sk-container-id-4 div.sk-toggleable__content pre {margin: 0.2em;color: black;border-radius: 0.25em;background-color: #f0f8ff;}#sk-container-id-4 input.sk-toggleable__control:checked~div.sk-toggleable__content {max-height: 200px;max-width: 100%;overflow: auto;}#sk-container-id-4 input.sk-toggleable__control:checked~label.sk-toggleable__label-arrow:before {content: \"▾\";}#sk-container-id-4 div.sk-estimator input.sk-toggleable__control:checked~label.sk-toggleable__label {background-color: #d4ebff;}#sk-container-id-4 div.sk-label input.sk-toggleable__control:checked~label.sk-toggleable__label {background-color: #d4ebff;}#sk-container-id-4 input.sk-hidden--visually {border: 0;clip: rect(1px 1px 1px 1px);clip: rect(1px, 1px, 1px, 1px);height: 1px;margin: -1px;overflow: hidden;padding: 0;position: absolute;width: 1px;}#sk-container-id-4 div.sk-estimator {font-family: monospace;background-color: #f0f8ff;border: 1px dotted black;border-radius: 0.25em;box-sizing: border-box;margin-bottom: 0.5em;}#sk-container-id-4 div.sk-estimator:hover {background-color: #d4ebff;}#sk-container-id-4 div.sk-parallel-item::after {content: \"\";width: 100%;border-bottom: 1px solid gray;flex-grow: 1;}#sk-container-id-4 div.sk-label:hover label.sk-toggleable__label {background-color: #d4ebff;}#sk-container-id-4 div.sk-serial::before {content: \"\";position: absolute;border-left: 1px solid gray;box-sizing: border-box;top: 0;bottom: 0;left: 50%;z-index: 0;}#sk-container-id-4 div.sk-serial {display: flex;flex-direction: column;align-items: center;background-color: white;padding-right: 0.2em;padding-left: 0.2em;position: relative;}#sk-container-id-4 div.sk-item {position: relative;z-index: 1;}#sk-container-id-4 div.sk-parallel {display: flex;align-items: stretch;justify-content: center;background-color: white;position: relative;}#sk-container-id-4 div.sk-item::before, #sk-container-id-4 div.sk-parallel-item::before {content: \"\";position: absolute;border-left: 1px solid gray;box-sizing: border-box;top: 0;bottom: 0;left: 50%;z-index: -1;}#sk-container-id-4 div.sk-parallel-item {display: flex;flex-direction: column;z-index: 1;position: relative;background-color: white;}#sk-container-id-4 div.sk-parallel-item:first-child::after {align-self: flex-end;width: 50%;}#sk-container-id-4 div.sk-parallel-item:last-child::after {align-self: flex-start;width: 50%;}#sk-container-id-4 div.sk-parallel-item:only-child::after {width: 0;}#sk-container-id-4 div.sk-dashed-wrapped {border: 1px dashed gray;margin: 0 0.4em 0.5em 0.4em;box-sizing: border-box;padding-bottom: 0.4em;background-color: white;}#sk-container-id-4 div.sk-label label {font-family: monospace;font-weight: bold;display: inline-block;line-height: 1.2em;}#sk-container-id-4 div.sk-label-container {text-align: center;}#sk-container-id-4 div.sk-container {/* jupyter's `normalize.less` sets `[hidden] { display: none; }` but bootstrap.min.css set `[hidden] { display: none !important; }` so we also need the `!important` here to be able to override the default hidden behavior on the sphinx rendered scikit-learn.org. See: https://github.com/scikit-learn/scikit-learn/issues/21755 */display: inline-block !important;position: relative;}#sk-container-id-4 div.sk-text-repr-fallback {display: none;}</style><div id=\"sk-container-id-4\" class=\"sk-top-container\"><div class=\"sk-text-repr-fallback\"><pre>GridSearchCV(cv=5, estimator=DecisionTreeClassifier(random_state=0),\n",
              "             param_grid={&#x27;max_depth&#x27;: [3, 5, 7, None],\n",
              "                         &#x27;min_samples_leaf&#x27;: [1, 2, 4],\n",
              "                         &#x27;min_samples_split&#x27;: [2, 5, 10]})</pre><b>In a Jupyter environment, please rerun this cell to show the HTML representation or trust the notebook. <br />On GitHub, the HTML representation is unable to render, please try loading this page with nbviewer.org.</b></div><div class=\"sk-container\" hidden><div class=\"sk-item sk-dashed-wrapped\"><div class=\"sk-label-container\"><div class=\"sk-label sk-toggleable\"><input class=\"sk-toggleable__control sk-hidden--visually\" id=\"sk-estimator-id-6\" type=\"checkbox\" ><label for=\"sk-estimator-id-6\" class=\"sk-toggleable__label sk-toggleable__label-arrow\">GridSearchCV</label><div class=\"sk-toggleable__content\"><pre>GridSearchCV(cv=5, estimator=DecisionTreeClassifier(random_state=0),\n",
              "             param_grid={&#x27;max_depth&#x27;: [3, 5, 7, None],\n",
              "                         &#x27;min_samples_leaf&#x27;: [1, 2, 4],\n",
              "                         &#x27;min_samples_split&#x27;: [2, 5, 10]})</pre></div></div></div><div class=\"sk-parallel\"><div class=\"sk-parallel-item\"><div class=\"sk-item\"><div class=\"sk-label-container\"><div class=\"sk-label sk-toggleable\"><input class=\"sk-toggleable__control sk-hidden--visually\" id=\"sk-estimator-id-7\" type=\"checkbox\" ><label for=\"sk-estimator-id-7\" class=\"sk-toggleable__label sk-toggleable__label-arrow\">estimator: DecisionTreeClassifier</label><div class=\"sk-toggleable__content\"><pre>DecisionTreeClassifier(random_state=0)</pre></div></div></div><div class=\"sk-serial\"><div class=\"sk-item\"><div class=\"sk-estimator sk-toggleable\"><input class=\"sk-toggleable__control sk-hidden--visually\" id=\"sk-estimator-id-8\" type=\"checkbox\" ><label for=\"sk-estimator-id-8\" class=\"sk-toggleable__label sk-toggleable__label-arrow\">DecisionTreeClassifier</label><div class=\"sk-toggleable__content\"><pre>DecisionTreeClassifier(random_state=0)</pre></div></div></div></div></div></div></div></div></div></div>"
            ],
            "text/plain": [
              "GridSearchCV(cv=5, estimator=DecisionTreeClassifier(random_state=0),\n",
              "             param_grid={'max_depth': [3, 5, 7, None],\n",
              "                         'min_samples_leaf': [1, 2, 4],\n",
              "                         'min_samples_split': [2, 5, 10]})"
            ]
          },
          "execution_count": 39,
          "metadata": {},
          "output_type": "execute_result"
        }
      ],
      "source": [
        "modelt.DT_t(X_train,y_train,y_test,X_test)"
      ]
    },
    {
      "cell_type": "markdown",
      "metadata": {
        "id": "QVj3vGIyIgv_"
      },
      "source": [
        "#Random Forest"
      ]
    },
    {
      "cell_type": "code",
      "execution_count": null,
      "metadata": {
        "colab": {
          "base_uri": "https://localhost:8080/"
        },
        "id": "6A3iEEbcIgwA",
        "outputId": "b08da020-a708-478d-8cdc-c271c8e7383d"
      },
      "outputs": [
        {
          "name": "stdout",
          "output_type": "stream",
          "text": [
            "Accuracy: 1.0\n",
            "Confusion Matrix:\n",
            " [[13  0  0  0]\n",
            " [ 0 19  0  0]\n",
            " [ 0  0  2  0]\n",
            " [ 0  0  0  6]]\n",
            "Classification Report:\n",
            "               precision    recall  f1-score   support\n",
            "\n",
            "           0       1.00      1.00      1.00        13\n",
            "           1       1.00      1.00      1.00        19\n",
            "           3       1.00      1.00      1.00         2\n",
            "           4       1.00      1.00      1.00         6\n",
            "\n",
            "    accuracy                           1.00        40\n",
            "   macro avg       1.00      1.00      1.00        40\n",
            "weighted avg       1.00      1.00      1.00        40\n",
            "\n"
          ]
        }
      ],
      "source": [
        "model.RF(X_train,y_train,y_test,X_test)"
      ]
    },
    {
      "cell_type": "markdown",
      "metadata": {
        "id": "Mmk55Qb_IgwA"
      },
      "source": [
        "Tuning and Fitting"
      ]
    },
    {
      "cell_type": "code",
      "execution_count": null,
      "metadata": {
        "id": "vGHy78dGIgwA"
      },
      "outputs": [],
      "source": [
        "modelt.RF_t(X_train,y_train,y_test,X_test)"
      ]
    },
    {
      "cell_type": "markdown",
      "metadata": {
        "id": "bRCHvSV7IgwA"
      },
      "source": [
        "#Support Vector Classifier"
      ]
    },
    {
      "cell_type": "code",
      "execution_count": null,
      "metadata": {
        "id": "Bv8_KXY4IgwA"
      },
      "outputs": [],
      "source": [
        "model.SVC(X_train,y_train,y_test,X_test)"
      ]
    },
    {
      "cell_type": "markdown",
      "metadata": {
        "id": "w9QLAl-CIgwA"
      },
      "source": [
        "Tuning and fitting"
      ]
    },
    {
      "cell_type": "code",
      "execution_count": null,
      "metadata": {
        "id": "eJenKVaMIgwA"
      },
      "outputs": [],
      "source": [
        "modelt.SVC_t(X_train,y_train,y_test,X_test)"
      ]
    },
    {
      "cell_type": "markdown",
      "metadata": {
        "id": "oJ-Jnk6hIgwA"
      },
      "source": [
        "#K - Nearrest Neighbours"
      ]
    },
    {
      "cell_type": "code",
      "execution_count": null,
      "metadata": {
        "id": "9xLbvI3EIgwA"
      },
      "outputs": [],
      "source": [
        "model.KNN(X_train,y_train,y_test,X_test)"
      ]
    },
    {
      "cell_type": "markdown",
      "metadata": {
        "id": "6-Cnly7-IgwA"
      },
      "source": [
        "Tuning and fitting"
      ]
    },
    {
      "cell_type": "code",
      "execution_count": null,
      "metadata": {
        "id": "DKf8JMRXIgwB"
      },
      "outputs": [],
      "source": [
        "modelt.KNN_t(X_train,y_train,y_test,X_test)"
      ]
    },
    {
      "cell_type": "markdown",
      "metadata": {
        "id": "jRO1wGxHIgwB"
      },
      "source": [
        "#Gradient Boosting"
      ]
    },
    {
      "cell_type": "code",
      "execution_count": null,
      "metadata": {
        "id": "EYUh3LhBIgwB"
      },
      "outputs": [],
      "source": [
        "model.GB(X_train,y_train,y_test,X_test)"
      ]
    },
    {
      "cell_type": "markdown",
      "metadata": {
        "id": "qyyWzFXMIgwB"
      },
      "source": [
        "tuning and fitting"
      ]
    },
    {
      "cell_type": "code",
      "execution_count": null,
      "metadata": {
        "id": "VsPG87DbIgwB"
      },
      "outputs": [],
      "source": [
        "modelt.GB_t(X_train,y_train,y_test,X_test)"
      ]
    },
    {
      "cell_type": "markdown",
      "metadata": {
        "id": "ZuMKWFmbIgwB"
      },
      "source": [
        "#AdaBoost"
      ]
    },
    {
      "cell_type": "code",
      "execution_count": null,
      "metadata": {
        "id": "kNAtl3-lIgwB"
      },
      "outputs": [],
      "source": [
        "model.ADAB(X_train,y_train,y_test,X_test)"
      ]
    },
    {
      "cell_type": "markdown",
      "metadata": {
        "id": "7srv4ExPIgwB"
      },
      "source": [
        "tuning and fitting"
      ]
    },
    {
      "cell_type": "code",
      "execution_count": null,
      "metadata": {
        "id": "tyUZHzJGIgwB"
      },
      "outputs": [],
      "source": [
        "modelt.ADAB_t(X_train,y_train,y_test,X_test)"
      ]
    },
    {
      "cell_type": "markdown",
      "metadata": {
        "id": "-3kMR-BIIgwB"
      },
      "source": [
        "#Bagging"
      ]
    },
    {
      "cell_type": "code",
      "execution_count": null,
      "metadata": {
        "id": "_3hrdRO_IgwC"
      },
      "outputs": [],
      "source": [
        "model.BAG(X_train,y_train,y_test,X_test)"
      ]
    },
    {
      "cell_type": "markdown",
      "metadata": {
        "id": "2Zzgdz-EIgwC"
      },
      "source": [
        "tuning and fitting"
      ]
    },
    {
      "cell_type": "code",
      "execution_count": null,
      "metadata": {
        "id": "nARNYf3IIgwC"
      },
      "outputs": [],
      "source": [
        "modelt.BAG_t(X_train,y_train,y_test,X_test)"
      ]
    },
    {
      "cell_type": "markdown",
      "metadata": {
        "id": "KUEK28c8IgwC"
      },
      "source": [
        "#XGBoost"
      ]
    },
    {
      "cell_type": "code",
      "execution_count": null,
      "metadata": {
        "id": "MWToKO-oIgwC"
      },
      "outputs": [],
      "source": [
        "model.XGB(X_train,y_train,y_test,X_test)"
      ]
    },
    {
      "cell_type": "markdown",
      "metadata": {
        "id": "nkX8V8mQIgwC"
      },
      "source": [
        "tuning and fitting"
      ]
    },
    {
      "cell_type": "code",
      "execution_count": null,
      "metadata": {
        "id": "eZ93pCUTIgwC"
      },
      "outputs": [],
      "source": [
        "modelt.XGB_t(X_train,y_train,y_test,X_test)"
      ]
    },
    {
      "cell_type": "markdown",
      "metadata": {
        "id": "krMazVArIgwC"
      },
      "source": [
        "#LightGBM"
      ]
    },
    {
      "cell_type": "code",
      "execution_count": null,
      "metadata": {
        "id": "1_IOWZVIIgwC"
      },
      "outputs": [],
      "source": [
        "model.LGB(X_train,y_train,y_test,X_test)"
      ]
    },
    {
      "cell_type": "markdown",
      "metadata": {
        "id": "vPYw2oUnIgwD"
      },
      "source": [
        "tuning and fitting"
      ]
    },
    {
      "cell_type": "code",
      "execution_count": null,
      "metadata": {
        "id": "xw2Pz6hVIgwD"
      },
      "outputs": [],
      "source": [
        "modelt.LGB_t(X_train,y_train,y_test,X_test)"
      ]
    },
    {
      "cell_type": "markdown",
      "metadata": {
        "id": "S5Ewdy4bIgwD"
      },
      "source": [
        "#CATBoost"
      ]
    },
    {
      "cell_type": "code",
      "execution_count": null,
      "metadata": {
        "id": "OAxHf5AHIgwD"
      },
      "outputs": [],
      "source": [
        "model.CB(X_train,y_train,y_test,X_test)"
      ]
    },
    {
      "cell_type": "markdown",
      "metadata": {
        "id": "e7xkM544IgwD"
      },
      "source": [
        "tuning and fitting"
      ]
    },
    {
      "cell_type": "code",
      "execution_count": null,
      "metadata": {
        "id": "LR_H_ok_IgwD"
      },
      "outputs": [],
      "source": [
        "modelt.CB_t(X_train,y_train,y_test,X_test)"
      ]
    },
    {
      "cell_type": "markdown",
      "metadata": {
        "id": "o_ckrujJIgwD"
      },
      "source": [
        "#Linear Discriminant Analysis"
      ]
    },
    {
      "cell_type": "code",
      "execution_count": null,
      "metadata": {
        "id": "fiP5zZV2IgwE"
      },
      "outputs": [],
      "source": [
        "model.LDA(X_train,y_train,y_test,X_test)"
      ]
    },
    {
      "cell_type": "markdown",
      "metadata": {
        "id": "z97qdZZMIgwE"
      },
      "source": [
        "#Quadratic discriminant Analysis"
      ]
    },
    {
      "cell_type": "code",
      "execution_count": null,
      "metadata": {
        "id": "2N0kww0oIgwE"
      },
      "outputs": [],
      "source": [
        "model.QDA(X_train,y_train,y_test,X_test)"
      ]
    },
    {
      "cell_type": "markdown",
      "metadata": {
        "id": "ewEy9yZaIgwE"
      },
      "source": [
        "#========================================================"
      ]
    },
    {
      "cell_type": "markdown",
      "metadata": {
        "id": "qbV8h877Ir9o"
      },
      "source": [
        "#Sem - 5 and 6 Cummulative\n"
      ]
    },
    {
      "cell_type": "code",
      "execution_count": null,
      "metadata": {
        "colab": {
          "base_uri": "https://localhost:8080/",
          "height": 314
        },
        "id": "Gel2L2HJIr9o",
        "outputId": "769b93c7-d5d7-4040-8b56-0da8bd0dcba7"
      },
      "outputs": [
        {
          "data": {
            "text/html": [
              "\n",
              "  <div id=\"df-55d14006-a711-4dbd-9cd6-468495dfa41e\">\n",
              "    <div class=\"colab-df-container\">\n",
              "      <div>\n",
              "<style scoped>\n",
              "    .dataframe tbody tr th:only-of-type {\n",
              "        vertical-align: middle;\n",
              "    }\n",
              "\n",
              "    .dataframe tbody tr th {\n",
              "        vertical-align: top;\n",
              "    }\n",
              "\n",
              "    .dataframe thead th {\n",
              "        text-align: right;\n",
              "    }\n",
              "</style>\n",
              "<table border=\"1\" class=\"dataframe\">\n",
              "  <thead>\n",
              "    <tr style=\"text-align: right;\">\n",
              "      <th></th>\n",
              "      <th>OSC(70443101) Theory Attempts</th>\n",
              "      <th>OSC(70443101) Practical Attempts</th>\n",
              "      <th>OSC(70443101) ESE (70) Final</th>\n",
              "      <th>OSC(70443101) ISE (30) Final</th>\n",
              "      <th>OSC(70443101) Theory Condol/ Grace Final</th>\n",
              "      <th>OSC(70443101) ICA (25) Final</th>\n",
              "      <th>OSC(70443101) POE (50) Final</th>\n",
              "      <th>OSC(70443101) Practical Condol/ Grace Final</th>\n",
              "      <th>OSC(70443101) Total (175) Final</th>\n",
              "      <th>OSC(70443101) Grade Final</th>\n",
              "      <th>...</th>\n",
              "      <th>SL-I Status Final</th>\n",
              "      <th>Sem V Fail in subjects (7)</th>\n",
              "      <th>Sem V Pass in subjects (7)</th>\n",
              "      <th>Sem V Total (850) Final</th>\n",
              "      <th>Sem V % Final</th>\n",
              "      <th>Sem V Condol/ Grace Final</th>\n",
              "      <th>Sem V EGP Final</th>\n",
              "      <th>Sem V SGPA (Credits = 27) Final</th>\n",
              "      <th>Sem V Status Final</th>\n",
              "      <th>Sem V Grade Final</th>\n",
              "    </tr>\n",
              "  </thead>\n",
              "  <tbody>\n",
              "    <tr>\n",
              "      <th>0</th>\n",
              "      <td>1</td>\n",
              "      <td>1</td>\n",
              "      <td>38</td>\n",
              "      <td>15</td>\n",
              "      <td>0</td>\n",
              "      <td>22</td>\n",
              "      <td>21</td>\n",
              "      <td>0</td>\n",
              "      <td>96</td>\n",
              "      <td>B</td>\n",
              "      <td>...</td>\n",
              "      <td>P</td>\n",
              "      <td>0</td>\n",
              "      <td>7</td>\n",
              "      <td>478</td>\n",
              "      <td>56.24</td>\n",
              "      <td>0</td>\n",
              "      <td>184</td>\n",
              "      <td>6.814815</td>\n",
              "      <td>Pass</td>\n",
              "      <td>B+</td>\n",
              "    </tr>\n",
              "    <tr>\n",
              "      <th>1</th>\n",
              "      <td>1</td>\n",
              "      <td>1</td>\n",
              "      <td>31</td>\n",
              "      <td>18</td>\n",
              "      <td>0</td>\n",
              "      <td>15</td>\n",
              "      <td>40</td>\n",
              "      <td>0</td>\n",
              "      <td>104</td>\n",
              "      <td>B+</td>\n",
              "      <td>...</td>\n",
              "      <td>P</td>\n",
              "      <td>0</td>\n",
              "      <td>7</td>\n",
              "      <td>499</td>\n",
              "      <td>58.71</td>\n",
              "      <td>0</td>\n",
              "      <td>191</td>\n",
              "      <td>7.074074</td>\n",
              "      <td>Pass</td>\n",
              "      <td>B+</td>\n",
              "    </tr>\n",
              "    <tr>\n",
              "      <th>2</th>\n",
              "      <td>1</td>\n",
              "      <td>1</td>\n",
              "      <td>50</td>\n",
              "      <td>18</td>\n",
              "      <td>0</td>\n",
              "      <td>16</td>\n",
              "      <td>44</td>\n",
              "      <td>0</td>\n",
              "      <td>128</td>\n",
              "      <td>A+</td>\n",
              "      <td>...</td>\n",
              "      <td>P</td>\n",
              "      <td>0</td>\n",
              "      <td>7</td>\n",
              "      <td>598</td>\n",
              "      <td>70.35</td>\n",
              "      <td>0</td>\n",
              "      <td>230</td>\n",
              "      <td>8.518519</td>\n",
              "      <td>Pass</td>\n",
              "      <td>A+</td>\n",
              "    </tr>\n",
              "    <tr>\n",
              "      <th>3</th>\n",
              "      <td>1</td>\n",
              "      <td>1</td>\n",
              "      <td>61</td>\n",
              "      <td>26</td>\n",
              "      <td>0</td>\n",
              "      <td>23</td>\n",
              "      <td>42</td>\n",
              "      <td>0</td>\n",
              "      <td>152</td>\n",
              "      <td>O</td>\n",
              "      <td>...</td>\n",
              "      <td>P</td>\n",
              "      <td>0</td>\n",
              "      <td>7</td>\n",
              "      <td>689</td>\n",
              "      <td>81.06</td>\n",
              "      <td>0</td>\n",
              "      <td>259</td>\n",
              "      <td>9.592593</td>\n",
              "      <td>Pass</td>\n",
              "      <td>O</td>\n",
              "    </tr>\n",
              "    <tr>\n",
              "      <th>4</th>\n",
              "      <td>1</td>\n",
              "      <td>1</td>\n",
              "      <td>54</td>\n",
              "      <td>26</td>\n",
              "      <td>0</td>\n",
              "      <td>24</td>\n",
              "      <td>45</td>\n",
              "      <td>0</td>\n",
              "      <td>149</td>\n",
              "      <td>O</td>\n",
              "      <td>...</td>\n",
              "      <td>P</td>\n",
              "      <td>0</td>\n",
              "      <td>7</td>\n",
              "      <td>695</td>\n",
              "      <td>81.76</td>\n",
              "      <td>0</td>\n",
              "      <td>257</td>\n",
              "      <td>9.518519</td>\n",
              "      <td>Pass</td>\n",
              "      <td>O</td>\n",
              "    </tr>\n",
              "  </tbody>\n",
              "</table>\n",
              "<p>5 rows × 82 columns</p>\n",
              "</div>\n",
              "      <button class=\"colab-df-convert\" onclick=\"convertToInteractive('df-55d14006-a711-4dbd-9cd6-468495dfa41e')\"\n",
              "              title=\"Convert this dataframe to an interactive table.\"\n",
              "              style=\"display:none;\">\n",
              "        \n",
              "  <svg xmlns=\"http://www.w3.org/2000/svg\" height=\"24px\"viewBox=\"0 0 24 24\"\n",
              "       width=\"24px\">\n",
              "    <path d=\"M0 0h24v24H0V0z\" fill=\"none\"/>\n",
              "    <path d=\"M18.56 5.44l.94 2.06.94-2.06 2.06-.94-2.06-.94-.94-2.06-.94 2.06-2.06.94zm-11 1L8.5 8.5l.94-2.06 2.06-.94-2.06-.94L8.5 2.5l-.94 2.06-2.06.94zm10 10l.94 2.06.94-2.06 2.06-.94-2.06-.94-.94-2.06-.94 2.06-2.06.94z\"/><path d=\"M17.41 7.96l-1.37-1.37c-.4-.4-.92-.59-1.43-.59-.52 0-1.04.2-1.43.59L10.3 9.45l-7.72 7.72c-.78.78-.78 2.05 0 2.83L4 21.41c.39.39.9.59 1.41.59.51 0 1.02-.2 1.41-.59l7.78-7.78 2.81-2.81c.8-.78.8-2.07 0-2.86zM5.41 20L4 18.59l7.72-7.72 1.47 1.35L5.41 20z\"/>\n",
              "  </svg>\n",
              "      </button>\n",
              "      \n",
              "  <style>\n",
              "    .colab-df-container {\n",
              "      display:flex;\n",
              "      flex-wrap:wrap;\n",
              "      gap: 12px;\n",
              "    }\n",
              "\n",
              "    .colab-df-convert {\n",
              "      background-color: #E8F0FE;\n",
              "      border: none;\n",
              "      border-radius: 50%;\n",
              "      cursor: pointer;\n",
              "      display: none;\n",
              "      fill: #1967D2;\n",
              "      height: 32px;\n",
              "      padding: 0 0 0 0;\n",
              "      width: 32px;\n",
              "    }\n",
              "\n",
              "    .colab-df-convert:hover {\n",
              "      background-color: #E2EBFA;\n",
              "      box-shadow: 0px 1px 2px rgba(60, 64, 67, 0.3), 0px 1px 3px 1px rgba(60, 64, 67, 0.15);\n",
              "      fill: #174EA6;\n",
              "    }\n",
              "\n",
              "    [theme=dark] .colab-df-convert {\n",
              "      background-color: #3B4455;\n",
              "      fill: #D2E3FC;\n",
              "    }\n",
              "\n",
              "    [theme=dark] .colab-df-convert:hover {\n",
              "      background-color: #434B5C;\n",
              "      box-shadow: 0px 1px 3px 1px rgba(0, 0, 0, 0.15);\n",
              "      filter: drop-shadow(0px 1px 2px rgba(0, 0, 0, 0.3));\n",
              "      fill: #FFFFFF;\n",
              "    }\n",
              "  </style>\n",
              "\n",
              "      <script>\n",
              "        const buttonEl =\n",
              "          document.querySelector('#df-55d14006-a711-4dbd-9cd6-468495dfa41e button.colab-df-convert');\n",
              "        buttonEl.style.display =\n",
              "          google.colab.kernel.accessAllowed ? 'block' : 'none';\n",
              "\n",
              "        async function convertToInteractive(key) {\n",
              "          const element = document.querySelector('#df-55d14006-a711-4dbd-9cd6-468495dfa41e');\n",
              "          const dataTable =\n",
              "            await google.colab.kernel.invokeFunction('convertToInteractive',\n",
              "                                                     [key], {});\n",
              "          if (!dataTable) return;\n",
              "\n",
              "          const docLinkHtml = 'Like what you see? Visit the ' +\n",
              "            '<a target=\"_blank\" href=https://colab.research.google.com/notebooks/data_table.ipynb>data table notebook</a>'\n",
              "            + ' to learn more about interactive tables.';\n",
              "          element.innerHTML = '';\n",
              "          dataTable['output_type'] = 'display_data';\n",
              "          await google.colab.output.renderOutput(dataTable, element);\n",
              "          const docLink = document.createElement('div');\n",
              "          docLink.innerHTML = docLinkHtml;\n",
              "          element.appendChild(docLink);\n",
              "        }\n",
              "      </script>\n",
              "    </div>\n",
              "  </div>\n",
              "  "
            ],
            "text/plain": [
              "   OSC(70443101) Theory Attempts  OSC(70443101) Practical Attempts  \\\n",
              "0                              1                                 1   \n",
              "1                              1                                 1   \n",
              "2                              1                                 1   \n",
              "3                              1                                 1   \n",
              "4                              1                                 1   \n",
              "\n",
              "   OSC(70443101) ESE (70) Final  OSC(70443101) ISE (30) Final  \\\n",
              "0                            38                            15   \n",
              "1                            31                            18   \n",
              "2                            50                            18   \n",
              "3                            61                            26   \n",
              "4                            54                            26   \n",
              "\n",
              "   OSC(70443101) Theory Condol/ Grace Final  OSC(70443101) ICA (25) Final  \\\n",
              "0                                         0                            22   \n",
              "1                                         0                            15   \n",
              "2                                         0                            16   \n",
              "3                                         0                            23   \n",
              "4                                         0                            24   \n",
              "\n",
              "   OSC(70443101) POE (50) Final  OSC(70443101) Practical Condol/ Grace Final  \\\n",
              "0                            21                                            0   \n",
              "1                            40                                            0   \n",
              "2                            44                                            0   \n",
              "3                            42                                            0   \n",
              "4                            45                                            0   \n",
              "\n",
              "   OSC(70443101) Total (175) Final OSC(70443101) Grade Final  ...  \\\n",
              "0                               96                         B  ...   \n",
              "1                              104                        B+  ...   \n",
              "2                              128                        A+  ...   \n",
              "3                              152                         O  ...   \n",
              "4                              149                         O  ...   \n",
              "\n",
              "   SL-I Status Final  Sem V Fail in subjects (7) Sem V Pass in subjects (7)  \\\n",
              "0                  P                           0                          7   \n",
              "1                  P                           0                          7   \n",
              "2                  P                           0                          7   \n",
              "3                  P                           0                          7   \n",
              "4                  P                           0                          7   \n",
              "\n",
              "   Sem V Total (850) Final  Sem V % Final  Sem V Condol/ Grace Final  \\\n",
              "0                      478          56.24                          0   \n",
              "1                      499          58.71                          0   \n",
              "2                      598          70.35                          0   \n",
              "3                      689          81.06                          0   \n",
              "4                      695          81.76                          0   \n",
              "\n",
              "   Sem V EGP Final   Sem V SGPA (Credits = 27) Final   Sem V Status Final   \\\n",
              "0               184                          6.814815                 Pass   \n",
              "1               191                          7.074074                 Pass   \n",
              "2               230                          8.518519                 Pass   \n",
              "3               259                          9.592593                 Pass   \n",
              "4               257                          9.518519                 Pass   \n",
              "\n",
              "   Sem V Grade Final  \n",
              "0                 B+  \n",
              "1                 B+  \n",
              "2                 A+  \n",
              "3                  O  \n",
              "4                  O  \n",
              "\n",
              "[5 rows x 82 columns]"
            ]
          },
          "execution_count": 10,
          "metadata": {},
          "output_type": "execute_result"
        }
      ],
      "source": [
        "sem56.head()"
      ]
    },
    {
      "cell_type": "code",
      "execution_count": null,
      "metadata": {
        "colab": {
          "base_uri": "https://localhost:8080/"
        },
        "id": "Uo47zbSKIr9p",
        "outputId": "aa257f56-a6b0-426f-b127-ab12565da9da"
      },
      "outputs": [
        {
          "data": {
            "text/plain": [
              "(200, 82)"
            ]
          },
          "execution_count": 11,
          "metadata": {},
          "output_type": "execute_result"
        }
      ],
      "source": [
        "sem56.shape"
      ]
    },
    {
      "cell_type": "code",
      "execution_count": null,
      "metadata": {
        "id": "x9kjSneyIr9p"
      },
      "outputs": [],
      "source": [
        "target = 'Sem V & Sem VI SY Grade Final'"
      ]
    },
    {
      "cell_type": "code",
      "execution_count": null,
      "metadata": {
        "colab": {
          "base_uri": "https://localhost:8080/"
        },
        "id": "66RxYZwYIr9p",
        "outputId": "f4059d8c-3908-4def-c1d4-eebbf41766cc"
      },
      "outputs": [
        {
          "name": "stdout",
          "output_type": "stream",
          "text": [
            "['OSC(70443101) Grade Final', 'OSC(70443101) Status Final', 'CN(70443102) Grade Final', 'CN(70443102) Status Final', 'SP(70443103) Grade Final', 'SP(70443103) Status Final', 'DAA(70443104) Grade Final', 'DAA(70443104) Status Final', 'CO(70443105) Grade Final', 'CO(70443105) Status Final', 'JP(70443106) Grade Final', 'JP(70443106) Status Final', 'SL-I Grade Final', 'SL-I Status Final', 'Sem V Status Final ']\n",
            "Shape of training split:  (160, 119)\n",
            "Shape of test split:  (40, 119)\n"
          ]
        }
      ],
      "source": [
        "X_train, X_test, y_train, y_test = preprocess(sem56,target)"
      ]
    },
    {
      "cell_type": "markdown",
      "metadata": {
        "id": "JOTpAmjqIr9p"
      },
      "source": [
        "#Logistic Regression"
      ]
    },
    {
      "cell_type": "code",
      "execution_count": null,
      "metadata": {
        "colab": {
          "base_uri": "https://localhost:8080/"
        },
        "id": "VzPugngFIr9p",
        "outputId": "9c3bc41c-36b9-4121-e502-e1f68140a37d"
      },
      "outputs": [
        {
          "name": "stdout",
          "output_type": "stream",
          "text": [
            "Accuracy: 0.7\n",
            "Confusion Matrix:\n",
            " [[ 6  6  0  1]\n",
            " [ 0 18  0  1]\n",
            " [ 1  1  0  0]\n",
            " [ 0  2  0  4]]\n",
            "Classification Report:\n",
            "               precision    recall  f1-score   support\n",
            "\n",
            "           0       0.86      0.46      0.60        13\n",
            "           1       0.67      0.95      0.78        19\n",
            "           3       0.00      0.00      0.00         2\n",
            "           4       0.67      0.67      0.67         6\n",
            "\n",
            "    accuracy                           0.70        40\n",
            "   macro avg       0.55      0.52      0.51        40\n",
            "weighted avg       0.70      0.70      0.67        40\n",
            "\n"
          ]
        }
      ],
      "source": [
        "model.LR(X_train,y_train,y_test,X_test)"
      ]
    },
    {
      "cell_type": "markdown",
      "metadata": {
        "id": "hTGeE1xIIr9p"
      },
      "source": [
        "Tuning and fitting"
      ]
    },
    {
      "cell_type": "code",
      "execution_count": null,
      "metadata": {
        "colab": {
          "base_uri": "https://localhost:8080/",
          "height": 452
        },
        "id": "T-atIdZuIr9p",
        "outputId": "11330c37-901a-4a7f-9933-bd86b1edee89"
      },
      "outputs": [
        {
          "name": "stdout",
          "output_type": "stream",
          "text": [
            "Accuracy: 0.7\n",
            "#######################################################################\n",
            "Confusion Matrix:\n",
            " [[ 6  6  0  1]\n",
            " [ 0 18  0  1]\n",
            " [ 1  1  0  0]\n",
            " [ 0  2  0  4]]\n",
            "#######################################################################\n",
            "Classification Report:\n",
            "               precision    recall  f1-score   support\n",
            "\n",
            "           0       0.86      0.46      0.60        13\n",
            "           1       0.67      0.95      0.78        19\n",
            "           3       0.00      0.00      0.00         2\n",
            "           4       0.67      0.67      0.67         6\n",
            "\n",
            "    accuracy                           0.70        40\n",
            "   macro avg       0.55      0.52      0.51        40\n",
            "weighted avg       0.70      0.70      0.67        40\n",
            "\n"
          ]
        },
        {
          "data": {
            "text/html": [
              "<style>#sk-container-id-1 {color: black;background-color: white;}#sk-container-id-1 pre{padding: 0;}#sk-container-id-1 div.sk-toggleable {background-color: white;}#sk-container-id-1 label.sk-toggleable__label {cursor: pointer;display: block;width: 100%;margin-bottom: 0;padding: 0.3em;box-sizing: border-box;text-align: center;}#sk-container-id-1 label.sk-toggleable__label-arrow:before {content: \"▸\";float: left;margin-right: 0.25em;color: #696969;}#sk-container-id-1 label.sk-toggleable__label-arrow:hover:before {color: black;}#sk-container-id-1 div.sk-estimator:hover label.sk-toggleable__label-arrow:before {color: black;}#sk-container-id-1 div.sk-toggleable__content {max-height: 0;max-width: 0;overflow: hidden;text-align: left;background-color: #f0f8ff;}#sk-container-id-1 div.sk-toggleable__content pre {margin: 0.2em;color: black;border-radius: 0.25em;background-color: #f0f8ff;}#sk-container-id-1 input.sk-toggleable__control:checked~div.sk-toggleable__content {max-height: 200px;max-width: 100%;overflow: auto;}#sk-container-id-1 input.sk-toggleable__control:checked~label.sk-toggleable__label-arrow:before {content: \"▾\";}#sk-container-id-1 div.sk-estimator input.sk-toggleable__control:checked~label.sk-toggleable__label {background-color: #d4ebff;}#sk-container-id-1 div.sk-label input.sk-toggleable__control:checked~label.sk-toggleable__label {background-color: #d4ebff;}#sk-container-id-1 input.sk-hidden--visually {border: 0;clip: rect(1px 1px 1px 1px);clip: rect(1px, 1px, 1px, 1px);height: 1px;margin: -1px;overflow: hidden;padding: 0;position: absolute;width: 1px;}#sk-container-id-1 div.sk-estimator {font-family: monospace;background-color: #f0f8ff;border: 1px dotted black;border-radius: 0.25em;box-sizing: border-box;margin-bottom: 0.5em;}#sk-container-id-1 div.sk-estimator:hover {background-color: #d4ebff;}#sk-container-id-1 div.sk-parallel-item::after {content: \"\";width: 100%;border-bottom: 1px solid gray;flex-grow: 1;}#sk-container-id-1 div.sk-label:hover label.sk-toggleable__label {background-color: #d4ebff;}#sk-container-id-1 div.sk-serial::before {content: \"\";position: absolute;border-left: 1px solid gray;box-sizing: border-box;top: 0;bottom: 0;left: 50%;z-index: 0;}#sk-container-id-1 div.sk-serial {display: flex;flex-direction: column;align-items: center;background-color: white;padding-right: 0.2em;padding-left: 0.2em;position: relative;}#sk-container-id-1 div.sk-item {position: relative;z-index: 1;}#sk-container-id-1 div.sk-parallel {display: flex;align-items: stretch;justify-content: center;background-color: white;position: relative;}#sk-container-id-1 div.sk-item::before, #sk-container-id-1 div.sk-parallel-item::before {content: \"\";position: absolute;border-left: 1px solid gray;box-sizing: border-box;top: 0;bottom: 0;left: 50%;z-index: -1;}#sk-container-id-1 div.sk-parallel-item {display: flex;flex-direction: column;z-index: 1;position: relative;background-color: white;}#sk-container-id-1 div.sk-parallel-item:first-child::after {align-self: flex-end;width: 50%;}#sk-container-id-1 div.sk-parallel-item:last-child::after {align-self: flex-start;width: 50%;}#sk-container-id-1 div.sk-parallel-item:only-child::after {width: 0;}#sk-container-id-1 div.sk-dashed-wrapped {border: 1px dashed gray;margin: 0 0.4em 0.5em 0.4em;box-sizing: border-box;padding-bottom: 0.4em;background-color: white;}#sk-container-id-1 div.sk-label label {font-family: monospace;font-weight: bold;display: inline-block;line-height: 1.2em;}#sk-container-id-1 div.sk-label-container {text-align: center;}#sk-container-id-1 div.sk-container {/* jupyter's `normalize.less` sets `[hidden] { display: none; }` but bootstrap.min.css set `[hidden] { display: none !important; }` so we also need the `!important` here to be able to override the default hidden behavior on the sphinx rendered scikit-learn.org. See: https://github.com/scikit-learn/scikit-learn/issues/21755 */display: inline-block !important;position: relative;}#sk-container-id-1 div.sk-text-repr-fallback {display: none;}</style><div id=\"sk-container-id-1\" class=\"sk-top-container\"><div class=\"sk-text-repr-fallback\"><pre>LogisticRegression(random_state=0)</pre><b>In a Jupyter environment, please rerun this cell to show the HTML representation or trust the notebook. <br />On GitHub, the HTML representation is unable to render, please try loading this page with nbviewer.org.</b></div><div class=\"sk-container\" hidden><div class=\"sk-item\"><div class=\"sk-estimator sk-toggleable\"><input class=\"sk-toggleable__control sk-hidden--visually\" id=\"sk-estimator-id-1\" type=\"checkbox\" checked><label for=\"sk-estimator-id-1\" class=\"sk-toggleable__label sk-toggleable__label-arrow\">LogisticRegression</label><div class=\"sk-toggleable__content\"><pre>LogisticRegression(random_state=0)</pre></div></div></div></div></div>"
            ],
            "text/plain": [
              "LogisticRegression(random_state=0)"
            ]
          },
          "execution_count": 31,
          "metadata": {},
          "output_type": "execute_result"
        }
      ],
      "source": [
        "modelt.LR_t(X_train,y_train,y_test,X_test)"
      ]
    },
    {
      "cell_type": "markdown",
      "metadata": {
        "id": "v-vh9DjrIr9p"
      },
      "source": [
        "#Gaussian Naive Bayes"
      ]
    },
    {
      "cell_type": "code",
      "execution_count": null,
      "metadata": {
        "colab": {
          "base_uri": "https://localhost:8080/",
          "height": 415
        },
        "id": "rv1gHYHkIr9q",
        "outputId": "329357ba-3610-4315-a441-5b364dc00ec0"
      },
      "outputs": [
        {
          "name": "stdout",
          "output_type": "stream",
          "text": [
            "Accuracy: 0.775\n",
            "Confusion Matrix:\n",
            " [[ 6  5  2  0]\n",
            " [ 0 17  0  2]\n",
            " [ 0  0  2  0]\n",
            " [ 0  0  0  6]]\n",
            "Classification Report:\n",
            "               precision    recall  f1-score   support\n",
            "\n",
            "           0       1.00      0.46      0.63        13\n",
            "           1       0.77      0.89      0.83        19\n",
            "           3       0.50      1.00      0.67         2\n",
            "           4       0.75      1.00      0.86         6\n",
            "\n",
            "    accuracy                           0.78        40\n",
            "   macro avg       0.76      0.84      0.75        40\n",
            "weighted avg       0.83      0.78      0.76        40\n",
            "\n"
          ]
        },
        {
          "data": {
            "text/html": [
              "<style>#sk-container-id-2 {color: black;background-color: white;}#sk-container-id-2 pre{padding: 0;}#sk-container-id-2 div.sk-toggleable {background-color: white;}#sk-container-id-2 label.sk-toggleable__label {cursor: pointer;display: block;width: 100%;margin-bottom: 0;padding: 0.3em;box-sizing: border-box;text-align: center;}#sk-container-id-2 label.sk-toggleable__label-arrow:before {content: \"▸\";float: left;margin-right: 0.25em;color: #696969;}#sk-container-id-2 label.sk-toggleable__label-arrow:hover:before {color: black;}#sk-container-id-2 div.sk-estimator:hover label.sk-toggleable__label-arrow:before {color: black;}#sk-container-id-2 div.sk-toggleable__content {max-height: 0;max-width: 0;overflow: hidden;text-align: left;background-color: #f0f8ff;}#sk-container-id-2 div.sk-toggleable__content pre {margin: 0.2em;color: black;border-radius: 0.25em;background-color: #f0f8ff;}#sk-container-id-2 input.sk-toggleable__control:checked~div.sk-toggleable__content {max-height: 200px;max-width: 100%;overflow: auto;}#sk-container-id-2 input.sk-toggleable__control:checked~label.sk-toggleable__label-arrow:before {content: \"▾\";}#sk-container-id-2 div.sk-estimator input.sk-toggleable__control:checked~label.sk-toggleable__label {background-color: #d4ebff;}#sk-container-id-2 div.sk-label input.sk-toggleable__control:checked~label.sk-toggleable__label {background-color: #d4ebff;}#sk-container-id-2 input.sk-hidden--visually {border: 0;clip: rect(1px 1px 1px 1px);clip: rect(1px, 1px, 1px, 1px);height: 1px;margin: -1px;overflow: hidden;padding: 0;position: absolute;width: 1px;}#sk-container-id-2 div.sk-estimator {font-family: monospace;background-color: #f0f8ff;border: 1px dotted black;border-radius: 0.25em;box-sizing: border-box;margin-bottom: 0.5em;}#sk-container-id-2 div.sk-estimator:hover {background-color: #d4ebff;}#sk-container-id-2 div.sk-parallel-item::after {content: \"\";width: 100%;border-bottom: 1px solid gray;flex-grow: 1;}#sk-container-id-2 div.sk-label:hover label.sk-toggleable__label {background-color: #d4ebff;}#sk-container-id-2 div.sk-serial::before {content: \"\";position: absolute;border-left: 1px solid gray;box-sizing: border-box;top: 0;bottom: 0;left: 50%;z-index: 0;}#sk-container-id-2 div.sk-serial {display: flex;flex-direction: column;align-items: center;background-color: white;padding-right: 0.2em;padding-left: 0.2em;position: relative;}#sk-container-id-2 div.sk-item {position: relative;z-index: 1;}#sk-container-id-2 div.sk-parallel {display: flex;align-items: stretch;justify-content: center;background-color: white;position: relative;}#sk-container-id-2 div.sk-item::before, #sk-container-id-2 div.sk-parallel-item::before {content: \"\";position: absolute;border-left: 1px solid gray;box-sizing: border-box;top: 0;bottom: 0;left: 50%;z-index: -1;}#sk-container-id-2 div.sk-parallel-item {display: flex;flex-direction: column;z-index: 1;position: relative;background-color: white;}#sk-container-id-2 div.sk-parallel-item:first-child::after {align-self: flex-end;width: 50%;}#sk-container-id-2 div.sk-parallel-item:last-child::after {align-self: flex-start;width: 50%;}#sk-container-id-2 div.sk-parallel-item:only-child::after {width: 0;}#sk-container-id-2 div.sk-dashed-wrapped {border: 1px dashed gray;margin: 0 0.4em 0.5em 0.4em;box-sizing: border-box;padding-bottom: 0.4em;background-color: white;}#sk-container-id-2 div.sk-label label {font-family: monospace;font-weight: bold;display: inline-block;line-height: 1.2em;}#sk-container-id-2 div.sk-label-container {text-align: center;}#sk-container-id-2 div.sk-container {/* jupyter's `normalize.less` sets `[hidden] { display: none; }` but bootstrap.min.css set `[hidden] { display: none !important; }` so we also need the `!important` here to be able to override the default hidden behavior on the sphinx rendered scikit-learn.org. See: https://github.com/scikit-learn/scikit-learn/issues/21755 */display: inline-block !important;position: relative;}#sk-container-id-2 div.sk-text-repr-fallback {display: none;}</style><div id=\"sk-container-id-2\" class=\"sk-top-container\"><div class=\"sk-text-repr-fallback\"><pre>GaussianNB()</pre><b>In a Jupyter environment, please rerun this cell to show the HTML representation or trust the notebook. <br />On GitHub, the HTML representation is unable to render, please try loading this page with nbviewer.org.</b></div><div class=\"sk-container\" hidden><div class=\"sk-item\"><div class=\"sk-estimator sk-toggleable\"><input class=\"sk-toggleable__control sk-hidden--visually\" id=\"sk-estimator-id-2\" type=\"checkbox\" checked><label for=\"sk-estimator-id-2\" class=\"sk-toggleable__label sk-toggleable__label-arrow\">GaussianNB</label><div class=\"sk-toggleable__content\"><pre>GaussianNB()</pre></div></div></div></div></div>"
            ],
            "text/plain": [
              "GaussianNB()"
            ]
          },
          "execution_count": 32,
          "metadata": {},
          "output_type": "execute_result"
        }
      ],
      "source": [
        "model.GNB(X_train,y_train,y_test,X_test)"
      ]
    },
    {
      "cell_type": "markdown",
      "metadata": {
        "id": "g7fPDBUBIr9q"
      },
      "source": [
        "Tuning and fitting"
      ]
    },
    {
      "cell_type": "code",
      "execution_count": null,
      "metadata": {
        "colab": {
          "base_uri": "https://localhost:8080/",
          "height": 459
        },
        "id": "0ICra2UKIr9q",
        "outputId": "adae49f7-4caf-4a40-ee0a-01bece8ff2f0"
      },
      "outputs": [
        {
          "name": "stdout",
          "output_type": "stream",
          "text": [
            "Accuracy: 0.875\n",
            "Confusion Matrix:\n",
            " [[11  1  1  0]\n",
            " [ 0 16  0  3]\n",
            " [ 0  0  2  0]\n",
            " [ 0  0  0  6]]\n",
            "Classification Report:\n",
            "               precision    recall  f1-score   support\n",
            "\n",
            "           0       1.00      0.85      0.92        13\n",
            "           1       0.94      0.84      0.89        19\n",
            "           3       0.67      1.00      0.80         2\n",
            "           4       0.67      1.00      0.80         6\n",
            "\n",
            "    accuracy                           0.88        40\n",
            "   macro avg       0.82      0.92      0.85        40\n",
            "weighted avg       0.91      0.88      0.88        40\n",
            "\n"
          ]
        },
        {
          "data": {
            "text/html": [
              "<style>#sk-container-id-3 {color: black;background-color: white;}#sk-container-id-3 pre{padding: 0;}#sk-container-id-3 div.sk-toggleable {background-color: white;}#sk-container-id-3 label.sk-toggleable__label {cursor: pointer;display: block;width: 100%;margin-bottom: 0;padding: 0.3em;box-sizing: border-box;text-align: center;}#sk-container-id-3 label.sk-toggleable__label-arrow:before {content: \"▸\";float: left;margin-right: 0.25em;color: #696969;}#sk-container-id-3 label.sk-toggleable__label-arrow:hover:before {color: black;}#sk-container-id-3 div.sk-estimator:hover label.sk-toggleable__label-arrow:before {color: black;}#sk-container-id-3 div.sk-toggleable__content {max-height: 0;max-width: 0;overflow: hidden;text-align: left;background-color: #f0f8ff;}#sk-container-id-3 div.sk-toggleable__content pre {margin: 0.2em;color: black;border-radius: 0.25em;background-color: #f0f8ff;}#sk-container-id-3 input.sk-toggleable__control:checked~div.sk-toggleable__content {max-height: 200px;max-width: 100%;overflow: auto;}#sk-container-id-3 input.sk-toggleable__control:checked~label.sk-toggleable__label-arrow:before {content: \"▾\";}#sk-container-id-3 div.sk-estimator input.sk-toggleable__control:checked~label.sk-toggleable__label {background-color: #d4ebff;}#sk-container-id-3 div.sk-label input.sk-toggleable__control:checked~label.sk-toggleable__label {background-color: #d4ebff;}#sk-container-id-3 input.sk-hidden--visually {border: 0;clip: rect(1px 1px 1px 1px);clip: rect(1px, 1px, 1px, 1px);height: 1px;margin: -1px;overflow: hidden;padding: 0;position: absolute;width: 1px;}#sk-container-id-3 div.sk-estimator {font-family: monospace;background-color: #f0f8ff;border: 1px dotted black;border-radius: 0.25em;box-sizing: border-box;margin-bottom: 0.5em;}#sk-container-id-3 div.sk-estimator:hover {background-color: #d4ebff;}#sk-container-id-3 div.sk-parallel-item::after {content: \"\";width: 100%;border-bottom: 1px solid gray;flex-grow: 1;}#sk-container-id-3 div.sk-label:hover label.sk-toggleable__label {background-color: #d4ebff;}#sk-container-id-3 div.sk-serial::before {content: \"\";position: absolute;border-left: 1px solid gray;box-sizing: border-box;top: 0;bottom: 0;left: 50%;z-index: 0;}#sk-container-id-3 div.sk-serial {display: flex;flex-direction: column;align-items: center;background-color: white;padding-right: 0.2em;padding-left: 0.2em;position: relative;}#sk-container-id-3 div.sk-item {position: relative;z-index: 1;}#sk-container-id-3 div.sk-parallel {display: flex;align-items: stretch;justify-content: center;background-color: white;position: relative;}#sk-container-id-3 div.sk-item::before, #sk-container-id-3 div.sk-parallel-item::before {content: \"\";position: absolute;border-left: 1px solid gray;box-sizing: border-box;top: 0;bottom: 0;left: 50%;z-index: -1;}#sk-container-id-3 div.sk-parallel-item {display: flex;flex-direction: column;z-index: 1;position: relative;background-color: white;}#sk-container-id-3 div.sk-parallel-item:first-child::after {align-self: flex-end;width: 50%;}#sk-container-id-3 div.sk-parallel-item:last-child::after {align-self: flex-start;width: 50%;}#sk-container-id-3 div.sk-parallel-item:only-child::after {width: 0;}#sk-container-id-3 div.sk-dashed-wrapped {border: 1px dashed gray;margin: 0 0.4em 0.5em 0.4em;box-sizing: border-box;padding-bottom: 0.4em;background-color: white;}#sk-container-id-3 div.sk-label label {font-family: monospace;font-weight: bold;display: inline-block;line-height: 1.2em;}#sk-container-id-3 div.sk-label-container {text-align: center;}#sk-container-id-3 div.sk-container {/* jupyter's `normalize.less` sets `[hidden] { display: none; }` but bootstrap.min.css set `[hidden] { display: none !important; }` so we also need the `!important` here to be able to override the default hidden behavior on the sphinx rendered scikit-learn.org. See: https://github.com/scikit-learn/scikit-learn/issues/21755 */display: inline-block !important;position: relative;}#sk-container-id-3 div.sk-text-repr-fallback {display: none;}</style><div id=\"sk-container-id-3\" class=\"sk-top-container\"><div class=\"sk-text-repr-fallback\"><pre>GridSearchCV(cv=10, estimator=GaussianNB(),\n",
              "             param_grid={&#x27;var_smoothing&#x27;: array([1.00000000e+00, 8.11130831e-01, 6.57933225e-01, 5.33669923e-01,\n",
              "       4.32876128e-01, 3.51119173e-01, 2.84803587e-01, 2.31012970e-01,\n",
              "       1.87381742e-01, 1.51991108e-01, 1.23284674e-01, 1.00000000e-01,\n",
              "       8.11130831e-02, 6.57933225e-02, 5.33669923e-02, 4.32876128e-02,\n",
              "       3.51119173e-02, 2.84803587e-02, 2.3...\n",
              "       1.23284674e-07, 1.00000000e-07, 8.11130831e-08, 6.57933225e-08,\n",
              "       5.33669923e-08, 4.32876128e-08, 3.51119173e-08, 2.84803587e-08,\n",
              "       2.31012970e-08, 1.87381742e-08, 1.51991108e-08, 1.23284674e-08,\n",
              "       1.00000000e-08, 8.11130831e-09, 6.57933225e-09, 5.33669923e-09,\n",
              "       4.32876128e-09, 3.51119173e-09, 2.84803587e-09, 2.31012970e-09,\n",
              "       1.87381742e-09, 1.51991108e-09, 1.23284674e-09, 1.00000000e-09])},\n",
              "             scoring=&#x27;accuracy&#x27;)</pre><b>In a Jupyter environment, please rerun this cell to show the HTML representation or trust the notebook. <br />On GitHub, the HTML representation is unable to render, please try loading this page with nbviewer.org.</b></div><div class=\"sk-container\" hidden><div class=\"sk-item sk-dashed-wrapped\"><div class=\"sk-label-container\"><div class=\"sk-label sk-toggleable\"><input class=\"sk-toggleable__control sk-hidden--visually\" id=\"sk-estimator-id-3\" type=\"checkbox\" ><label for=\"sk-estimator-id-3\" class=\"sk-toggleable__label sk-toggleable__label-arrow\">GridSearchCV</label><div class=\"sk-toggleable__content\"><pre>GridSearchCV(cv=10, estimator=GaussianNB(),\n",
              "             param_grid={&#x27;var_smoothing&#x27;: array([1.00000000e+00, 8.11130831e-01, 6.57933225e-01, 5.33669923e-01,\n",
              "       4.32876128e-01, 3.51119173e-01, 2.84803587e-01, 2.31012970e-01,\n",
              "       1.87381742e-01, 1.51991108e-01, 1.23284674e-01, 1.00000000e-01,\n",
              "       8.11130831e-02, 6.57933225e-02, 5.33669923e-02, 4.32876128e-02,\n",
              "       3.51119173e-02, 2.84803587e-02, 2.3...\n",
              "       1.23284674e-07, 1.00000000e-07, 8.11130831e-08, 6.57933225e-08,\n",
              "       5.33669923e-08, 4.32876128e-08, 3.51119173e-08, 2.84803587e-08,\n",
              "       2.31012970e-08, 1.87381742e-08, 1.51991108e-08, 1.23284674e-08,\n",
              "       1.00000000e-08, 8.11130831e-09, 6.57933225e-09, 5.33669923e-09,\n",
              "       4.32876128e-09, 3.51119173e-09, 2.84803587e-09, 2.31012970e-09,\n",
              "       1.87381742e-09, 1.51991108e-09, 1.23284674e-09, 1.00000000e-09])},\n",
              "             scoring=&#x27;accuracy&#x27;)</pre></div></div></div><div class=\"sk-parallel\"><div class=\"sk-parallel-item\"><div class=\"sk-item\"><div class=\"sk-label-container\"><div class=\"sk-label sk-toggleable\"><input class=\"sk-toggleable__control sk-hidden--visually\" id=\"sk-estimator-id-4\" type=\"checkbox\" ><label for=\"sk-estimator-id-4\" class=\"sk-toggleable__label sk-toggleable__label-arrow\">estimator: GaussianNB</label><div class=\"sk-toggleable__content\"><pre>GaussianNB()</pre></div></div></div><div class=\"sk-serial\"><div class=\"sk-item\"><div class=\"sk-estimator sk-toggleable\"><input class=\"sk-toggleable__control sk-hidden--visually\" id=\"sk-estimator-id-5\" type=\"checkbox\" ><label for=\"sk-estimator-id-5\" class=\"sk-toggleable__label sk-toggleable__label-arrow\">GaussianNB</label><div class=\"sk-toggleable__content\"><pre>GaussianNB()</pre></div></div></div></div></div></div></div></div></div></div>"
            ],
            "text/plain": [
              "GridSearchCV(cv=10, estimator=GaussianNB(),\n",
              "             param_grid={'var_smoothing': array([1.00000000e+00, 8.11130831e-01, 6.57933225e-01, 5.33669923e-01,\n",
              "       4.32876128e-01, 3.51119173e-01, 2.84803587e-01, 2.31012970e-01,\n",
              "       1.87381742e-01, 1.51991108e-01, 1.23284674e-01, 1.00000000e-01,\n",
              "       8.11130831e-02, 6.57933225e-02, 5.33669923e-02, 4.32876128e-02,\n",
              "       3.51119173e-02, 2.84803587e-02, 2.3...\n",
              "       1.23284674e-07, 1.00000000e-07, 8.11130831e-08, 6.57933225e-08,\n",
              "       5.33669923e-08, 4.32876128e-08, 3.51119173e-08, 2.84803587e-08,\n",
              "       2.31012970e-08, 1.87381742e-08, 1.51991108e-08, 1.23284674e-08,\n",
              "       1.00000000e-08, 8.11130831e-09, 6.57933225e-09, 5.33669923e-09,\n",
              "       4.32876128e-09, 3.51119173e-09, 2.84803587e-09, 2.31012970e-09,\n",
              "       1.87381742e-09, 1.51991108e-09, 1.23284674e-09, 1.00000000e-09])},\n",
              "             scoring='accuracy')"
            ]
          },
          "execution_count": 37,
          "metadata": {},
          "output_type": "execute_result"
        }
      ],
      "source": [
        "modelt.GNB_t(X_train,y_train,y_test,X_test)"
      ]
    },
    {
      "cell_type": "markdown",
      "metadata": {
        "id": "IZQf8sTMIr9q"
      },
      "source": [
        "#Decision Tree"
      ]
    },
    {
      "cell_type": "code",
      "execution_count": null,
      "metadata": {
        "colab": {
          "base_uri": "https://localhost:8080/"
        },
        "id": "pbEXrPRoIr9q",
        "outputId": "b873d9e3-265c-4779-d01f-6381ffe5b9e0"
      },
      "outputs": [
        {
          "name": "stdout",
          "output_type": "stream",
          "text": [
            "Accuracy: 1.0\n",
            "Confusion Matrix:\n",
            " [[13  0  0  0]\n",
            " [ 0 19  0  0]\n",
            " [ 0  0  2  0]\n",
            " [ 0  0  0  6]]\n",
            "Classification Report:\n",
            "               precision    recall  f1-score   support\n",
            "\n",
            "           0       1.00      1.00      1.00        13\n",
            "           1       1.00      1.00      1.00        19\n",
            "           3       1.00      1.00      1.00         2\n",
            "           4       1.00      1.00      1.00         6\n",
            "\n",
            "    accuracy                           1.00        40\n",
            "   macro avg       1.00      1.00      1.00        40\n",
            "weighted avg       1.00      1.00      1.00        40\n",
            "\n"
          ]
        }
      ],
      "source": [
        "model.DT(X_train,y_train,y_test,X_test)"
      ]
    },
    {
      "cell_type": "markdown",
      "metadata": {
        "id": "bGmCnIfOIr9q"
      },
      "source": [
        "tuning and fitting"
      ]
    },
    {
      "cell_type": "code",
      "execution_count": null,
      "metadata": {
        "colab": {
          "base_uri": "https://localhost:8080/",
          "height": 497
        },
        "id": "voullHhjIr9q",
        "outputId": "9d6963c9-68ae-4396-ba2a-47ee7e462a2a"
      },
      "outputs": [
        {
          "name": "stdout",
          "output_type": "stream",
          "text": [
            "Best Parameters: {'max_depth': 3, 'min_samples_leaf': 1, 'min_samples_split': 2}\n",
            "Best Score: 0.9875\n",
            "Accuracy: 1.0\n",
            "Confusion Matrix:\n",
            " [[13  0  0  0]\n",
            " [ 0 19  0  0]\n",
            " [ 0  0  2  0]\n",
            " [ 0  0  0  6]]\n",
            "Classification Report:\n",
            "               precision    recall  f1-score   support\n",
            "\n",
            "           0       1.00      1.00      1.00        13\n",
            "           1       1.00      1.00      1.00        19\n",
            "           3       1.00      1.00      1.00         2\n",
            "           4       1.00      1.00      1.00         6\n",
            "\n",
            "    accuracy                           1.00        40\n",
            "   macro avg       1.00      1.00      1.00        40\n",
            "weighted avg       1.00      1.00      1.00        40\n",
            "\n"
          ]
        },
        {
          "data": {
            "text/html": [
              "<style>#sk-container-id-4 {color: black;background-color: white;}#sk-container-id-4 pre{padding: 0;}#sk-container-id-4 div.sk-toggleable {background-color: white;}#sk-container-id-4 label.sk-toggleable__label {cursor: pointer;display: block;width: 100%;margin-bottom: 0;padding: 0.3em;box-sizing: border-box;text-align: center;}#sk-container-id-4 label.sk-toggleable__label-arrow:before {content: \"▸\";float: left;margin-right: 0.25em;color: #696969;}#sk-container-id-4 label.sk-toggleable__label-arrow:hover:before {color: black;}#sk-container-id-4 div.sk-estimator:hover label.sk-toggleable__label-arrow:before {color: black;}#sk-container-id-4 div.sk-toggleable__content {max-height: 0;max-width: 0;overflow: hidden;text-align: left;background-color: #f0f8ff;}#sk-container-id-4 div.sk-toggleable__content pre {margin: 0.2em;color: black;border-radius: 0.25em;background-color: #f0f8ff;}#sk-container-id-4 input.sk-toggleable__control:checked~div.sk-toggleable__content {max-height: 200px;max-width: 100%;overflow: auto;}#sk-container-id-4 input.sk-toggleable__control:checked~label.sk-toggleable__label-arrow:before {content: \"▾\";}#sk-container-id-4 div.sk-estimator input.sk-toggleable__control:checked~label.sk-toggleable__label {background-color: #d4ebff;}#sk-container-id-4 div.sk-label input.sk-toggleable__control:checked~label.sk-toggleable__label {background-color: #d4ebff;}#sk-container-id-4 input.sk-hidden--visually {border: 0;clip: rect(1px 1px 1px 1px);clip: rect(1px, 1px, 1px, 1px);height: 1px;margin: -1px;overflow: hidden;padding: 0;position: absolute;width: 1px;}#sk-container-id-4 div.sk-estimator {font-family: monospace;background-color: #f0f8ff;border: 1px dotted black;border-radius: 0.25em;box-sizing: border-box;margin-bottom: 0.5em;}#sk-container-id-4 div.sk-estimator:hover {background-color: #d4ebff;}#sk-container-id-4 div.sk-parallel-item::after {content: \"\";width: 100%;border-bottom: 1px solid gray;flex-grow: 1;}#sk-container-id-4 div.sk-label:hover label.sk-toggleable__label {background-color: #d4ebff;}#sk-container-id-4 div.sk-serial::before {content: \"\";position: absolute;border-left: 1px solid gray;box-sizing: border-box;top: 0;bottom: 0;left: 50%;z-index: 0;}#sk-container-id-4 div.sk-serial {display: flex;flex-direction: column;align-items: center;background-color: white;padding-right: 0.2em;padding-left: 0.2em;position: relative;}#sk-container-id-4 div.sk-item {position: relative;z-index: 1;}#sk-container-id-4 div.sk-parallel {display: flex;align-items: stretch;justify-content: center;background-color: white;position: relative;}#sk-container-id-4 div.sk-item::before, #sk-container-id-4 div.sk-parallel-item::before {content: \"\";position: absolute;border-left: 1px solid gray;box-sizing: border-box;top: 0;bottom: 0;left: 50%;z-index: -1;}#sk-container-id-4 div.sk-parallel-item {display: flex;flex-direction: column;z-index: 1;position: relative;background-color: white;}#sk-container-id-4 div.sk-parallel-item:first-child::after {align-self: flex-end;width: 50%;}#sk-container-id-4 div.sk-parallel-item:last-child::after {align-self: flex-start;width: 50%;}#sk-container-id-4 div.sk-parallel-item:only-child::after {width: 0;}#sk-container-id-4 div.sk-dashed-wrapped {border: 1px dashed gray;margin: 0 0.4em 0.5em 0.4em;box-sizing: border-box;padding-bottom: 0.4em;background-color: white;}#sk-container-id-4 div.sk-label label {font-family: monospace;font-weight: bold;display: inline-block;line-height: 1.2em;}#sk-container-id-4 div.sk-label-container {text-align: center;}#sk-container-id-4 div.sk-container {/* jupyter's `normalize.less` sets `[hidden] { display: none; }` but bootstrap.min.css set `[hidden] { display: none !important; }` so we also need the `!important` here to be able to override the default hidden behavior on the sphinx rendered scikit-learn.org. See: https://github.com/scikit-learn/scikit-learn/issues/21755 */display: inline-block !important;position: relative;}#sk-container-id-4 div.sk-text-repr-fallback {display: none;}</style><div id=\"sk-container-id-4\" class=\"sk-top-container\"><div class=\"sk-text-repr-fallback\"><pre>GridSearchCV(cv=5, estimator=DecisionTreeClassifier(random_state=0),\n",
              "             param_grid={&#x27;max_depth&#x27;: [3, 5, 7, None],\n",
              "                         &#x27;min_samples_leaf&#x27;: [1, 2, 4],\n",
              "                         &#x27;min_samples_split&#x27;: [2, 5, 10]})</pre><b>In a Jupyter environment, please rerun this cell to show the HTML representation or trust the notebook. <br />On GitHub, the HTML representation is unable to render, please try loading this page with nbviewer.org.</b></div><div class=\"sk-container\" hidden><div class=\"sk-item sk-dashed-wrapped\"><div class=\"sk-label-container\"><div class=\"sk-label sk-toggleable\"><input class=\"sk-toggleable__control sk-hidden--visually\" id=\"sk-estimator-id-6\" type=\"checkbox\" ><label for=\"sk-estimator-id-6\" class=\"sk-toggleable__label sk-toggleable__label-arrow\">GridSearchCV</label><div class=\"sk-toggleable__content\"><pre>GridSearchCV(cv=5, estimator=DecisionTreeClassifier(random_state=0),\n",
              "             param_grid={&#x27;max_depth&#x27;: [3, 5, 7, None],\n",
              "                         &#x27;min_samples_leaf&#x27;: [1, 2, 4],\n",
              "                         &#x27;min_samples_split&#x27;: [2, 5, 10]})</pre></div></div></div><div class=\"sk-parallel\"><div class=\"sk-parallel-item\"><div class=\"sk-item\"><div class=\"sk-label-container\"><div class=\"sk-label sk-toggleable\"><input class=\"sk-toggleable__control sk-hidden--visually\" id=\"sk-estimator-id-7\" type=\"checkbox\" ><label for=\"sk-estimator-id-7\" class=\"sk-toggleable__label sk-toggleable__label-arrow\">estimator: DecisionTreeClassifier</label><div class=\"sk-toggleable__content\"><pre>DecisionTreeClassifier(random_state=0)</pre></div></div></div><div class=\"sk-serial\"><div class=\"sk-item\"><div class=\"sk-estimator sk-toggleable\"><input class=\"sk-toggleable__control sk-hidden--visually\" id=\"sk-estimator-id-8\" type=\"checkbox\" ><label for=\"sk-estimator-id-8\" class=\"sk-toggleable__label sk-toggleable__label-arrow\">DecisionTreeClassifier</label><div class=\"sk-toggleable__content\"><pre>DecisionTreeClassifier(random_state=0)</pre></div></div></div></div></div></div></div></div></div></div>"
            ],
            "text/plain": [
              "GridSearchCV(cv=5, estimator=DecisionTreeClassifier(random_state=0),\n",
              "             param_grid={'max_depth': [3, 5, 7, None],\n",
              "                         'min_samples_leaf': [1, 2, 4],\n",
              "                         'min_samples_split': [2, 5, 10]})"
            ]
          },
          "execution_count": 39,
          "metadata": {},
          "output_type": "execute_result"
        }
      ],
      "source": [
        "modelt.DT_t(X_train,y_train,y_test,X_test)"
      ]
    },
    {
      "cell_type": "markdown",
      "metadata": {
        "id": "rx_TnvPnIr9r"
      },
      "source": [
        "#Random Forest"
      ]
    },
    {
      "cell_type": "code",
      "execution_count": null,
      "metadata": {
        "colab": {
          "base_uri": "https://localhost:8080/"
        },
        "id": "R-ZMxph-Ir9r",
        "outputId": "b08da020-a708-478d-8cdc-c271c8e7383d"
      },
      "outputs": [
        {
          "name": "stdout",
          "output_type": "stream",
          "text": [
            "Accuracy: 1.0\n",
            "Confusion Matrix:\n",
            " [[13  0  0  0]\n",
            " [ 0 19  0  0]\n",
            " [ 0  0  2  0]\n",
            " [ 0  0  0  6]]\n",
            "Classification Report:\n",
            "               precision    recall  f1-score   support\n",
            "\n",
            "           0       1.00      1.00      1.00        13\n",
            "           1       1.00      1.00      1.00        19\n",
            "           3       1.00      1.00      1.00         2\n",
            "           4       1.00      1.00      1.00         6\n",
            "\n",
            "    accuracy                           1.00        40\n",
            "   macro avg       1.00      1.00      1.00        40\n",
            "weighted avg       1.00      1.00      1.00        40\n",
            "\n"
          ]
        }
      ],
      "source": [
        "model.RF(X_train,y_train,y_test,X_test)"
      ]
    },
    {
      "cell_type": "markdown",
      "metadata": {
        "id": "h4_VvOZtIr9r"
      },
      "source": [
        "Tuning and Fitting"
      ]
    },
    {
      "cell_type": "code",
      "execution_count": null,
      "metadata": {
        "id": "jUMQUtbXIr9r"
      },
      "outputs": [],
      "source": [
        "modelt.RF_t(X_train,y_train,y_test,X_test)"
      ]
    },
    {
      "cell_type": "markdown",
      "metadata": {
        "id": "_HjKSIrUIr9r"
      },
      "source": [
        "#Support Vector Classifier"
      ]
    },
    {
      "cell_type": "code",
      "execution_count": null,
      "metadata": {
        "id": "Ha1paidlIr9r"
      },
      "outputs": [],
      "source": [
        "model.SVC(X_train,y_train,y_test,X_test)"
      ]
    },
    {
      "cell_type": "markdown",
      "metadata": {
        "id": "SCNJmAbIIr9r"
      },
      "source": [
        "Tuning and fitting"
      ]
    },
    {
      "cell_type": "code",
      "execution_count": null,
      "metadata": {
        "id": "0omik75mIr9r"
      },
      "outputs": [],
      "source": [
        "modelt.SVC_t(X_train,y_train,y_test,X_test)"
      ]
    },
    {
      "cell_type": "markdown",
      "metadata": {
        "id": "-W0R4sBIIr9r"
      },
      "source": [
        "#K - Nearrest Neighbours"
      ]
    },
    {
      "cell_type": "code",
      "execution_count": null,
      "metadata": {
        "id": "qfs6NeIMIr9s"
      },
      "outputs": [],
      "source": [
        "model.KNN(X_train,y_train,y_test,X_test)"
      ]
    },
    {
      "cell_type": "markdown",
      "metadata": {
        "id": "t0nVG1RnIr9s"
      },
      "source": [
        "Tuning and fitting"
      ]
    },
    {
      "cell_type": "code",
      "execution_count": null,
      "metadata": {
        "id": "5Q8ASwggIr9s"
      },
      "outputs": [],
      "source": [
        "modelt.KNN_t(X_train,y_train,y_test,X_test)"
      ]
    },
    {
      "cell_type": "markdown",
      "metadata": {
        "id": "2lI3kmklIr9s"
      },
      "source": [
        "#Gradient Boosting"
      ]
    },
    {
      "cell_type": "code",
      "execution_count": null,
      "metadata": {
        "id": "XOVqyOsrIr9s"
      },
      "outputs": [],
      "source": [
        "model.GB(X_train,y_train,y_test,X_test)"
      ]
    },
    {
      "cell_type": "markdown",
      "metadata": {
        "id": "Bh6x_PzLIr9s"
      },
      "source": [
        "tuning and fitting"
      ]
    },
    {
      "cell_type": "code",
      "execution_count": null,
      "metadata": {
        "id": "HLXdS7C4Ir9s"
      },
      "outputs": [],
      "source": [
        "modelt.GB_t(X_train,y_train,y_test,X_test)"
      ]
    },
    {
      "cell_type": "markdown",
      "metadata": {
        "id": "1xzHtl59Ir9s"
      },
      "source": [
        "#AdaBoost"
      ]
    },
    {
      "cell_type": "code",
      "execution_count": null,
      "metadata": {
        "id": "MWHjxJidIr9s"
      },
      "outputs": [],
      "source": [
        "model.ADAB(X_train,y_train,y_test,X_test)"
      ]
    },
    {
      "cell_type": "markdown",
      "metadata": {
        "id": "oWkrI2IlIr9s"
      },
      "source": [
        "tuning and fitting"
      ]
    },
    {
      "cell_type": "code",
      "execution_count": null,
      "metadata": {
        "id": "ZxfTZsTnIr9t"
      },
      "outputs": [],
      "source": [
        "modelt.ADAB_t(X_train,y_train,y_test,X_test)"
      ]
    },
    {
      "cell_type": "markdown",
      "metadata": {
        "id": "g1G2Qsj7Ir9t"
      },
      "source": [
        "#Bagging"
      ]
    },
    {
      "cell_type": "code",
      "execution_count": null,
      "metadata": {
        "id": "WfxJwMxSIr9t"
      },
      "outputs": [],
      "source": [
        "model.BAG(X_train,y_train,y_test,X_test)"
      ]
    },
    {
      "cell_type": "markdown",
      "metadata": {
        "id": "p-YtvI2_Ir9t"
      },
      "source": [
        "tuning and fitting"
      ]
    },
    {
      "cell_type": "code",
      "execution_count": null,
      "metadata": {
        "id": "1v_URnXpIr9t"
      },
      "outputs": [],
      "source": [
        "modelt.BAG_t(X_train,y_train,y_test,X_test)"
      ]
    },
    {
      "cell_type": "markdown",
      "metadata": {
        "id": "mvvSoZWcIr9t"
      },
      "source": [
        "#XGBoost"
      ]
    },
    {
      "cell_type": "code",
      "execution_count": null,
      "metadata": {
        "id": "_2LQnUQGIr9t"
      },
      "outputs": [],
      "source": [
        "model.XGB(X_train,y_train,y_test,X_test)"
      ]
    },
    {
      "cell_type": "markdown",
      "metadata": {
        "id": "OOLfir92Ir9t"
      },
      "source": [
        "tuning and fitting"
      ]
    },
    {
      "cell_type": "code",
      "execution_count": null,
      "metadata": {
        "id": "2kZ3ECxWIr9t"
      },
      "outputs": [],
      "source": [
        "modelt.XGB_t(X_train,y_train,y_test,X_test)"
      ]
    },
    {
      "cell_type": "markdown",
      "metadata": {
        "id": "vlasYPoUIr9t"
      },
      "source": [
        "#LightGBM"
      ]
    },
    {
      "cell_type": "code",
      "execution_count": null,
      "metadata": {
        "id": "JZsY2q_pIr9t"
      },
      "outputs": [],
      "source": [
        "model.LGB(X_train,y_train,y_test,X_test)"
      ]
    },
    {
      "cell_type": "markdown",
      "metadata": {
        "id": "2aFooIuVIr9u"
      },
      "source": [
        "tuning and fitting"
      ]
    },
    {
      "cell_type": "code",
      "execution_count": null,
      "metadata": {
        "id": "cimQ5VP-Ir9u"
      },
      "outputs": [],
      "source": [
        "modelt.LGB_t(X_train,y_train,y_test,X_test)"
      ]
    },
    {
      "cell_type": "markdown",
      "metadata": {
        "id": "2KW9XdzkIr9u"
      },
      "source": [
        "#CATBoost"
      ]
    },
    {
      "cell_type": "code",
      "execution_count": null,
      "metadata": {
        "id": "bVVfug89Ir9u"
      },
      "outputs": [],
      "source": [
        "model.CB(X_train,y_train,y_test,X_test)"
      ]
    },
    {
      "cell_type": "markdown",
      "metadata": {
        "id": "eKe0kv-tIr9u"
      },
      "source": [
        "tuning and fitting"
      ]
    },
    {
      "cell_type": "code",
      "execution_count": null,
      "metadata": {
        "id": "rsgZreQtIr9u"
      },
      "outputs": [],
      "source": [
        "modelt.CB_t(X_train,y_train,y_test,X_test)"
      ]
    },
    {
      "cell_type": "markdown",
      "metadata": {
        "id": "3djJHBXzIr9u"
      },
      "source": [
        "#Linear Discriminant Analysis"
      ]
    },
    {
      "cell_type": "code",
      "execution_count": null,
      "metadata": {
        "id": "EMyh4Q41Ir9u"
      },
      "outputs": [],
      "source": [
        "model.LDA(X_train,y_train,y_test,X_test)"
      ]
    },
    {
      "cell_type": "markdown",
      "metadata": {
        "id": "6dB0nhCpIr9u"
      },
      "source": [
        "#Quadratic discriminant Analysis"
      ]
    },
    {
      "cell_type": "code",
      "execution_count": null,
      "metadata": {
        "id": "jwA1UYosIr9u"
      },
      "outputs": [],
      "source": [
        "model.QDA(X_train,y_train,y_test,X_test)"
      ]
    },
    {
      "cell_type": "markdown",
      "metadata": {
        "id": "JFXbZvFcIr9u"
      },
      "source": [
        "#========================================================"
      ]
    }
  ],
  "metadata": {
    "colab": {
      "provenance": []
    },
    "kernelspec": {
      "display_name": "Python 3",
      "name": "python3"
    },
    "language_info": {
      "name": "python"
    }
  },
  "nbformat": 4,
  "nbformat_minor": 0
}
